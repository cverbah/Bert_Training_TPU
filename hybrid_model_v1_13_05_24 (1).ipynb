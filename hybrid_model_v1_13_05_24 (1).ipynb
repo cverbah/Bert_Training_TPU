{
  "cells": [
    {
      "cell_type": "markdown",
      "metadata": {
        "id": "4Gx4Z7jyKsYI"
      },
      "source": [
        "# Training: Hybrid Model v1:\n",
        "- Pets + Supermarket skus\n",
        "- Bert Multi Model Base\n"
      ]
    },
    {
      "cell_type": "code",
      "execution_count": null,
      "metadata": {
        "colab": {
          "base_uri": "https://localhost:8080/"
        },
        "id": "vTpzKUk7J6UY",
        "outputId": "ab164e34-05b0-4482-8956-ce0b571ec6b4"
      },
      "outputs": [
        {
          "output_type": "stream",
          "name": "stdout",
          "text": [
            "Collecting unidecode\n",
            "  Downloading Unidecode-1.3.8-py3-none-any.whl (235 kB)\n",
            "\u001b[2K     \u001b[90m━━━━━━━━━━━━━━━━━━━━━━━━━━━━━━━━━━━━━━━━\u001b[0m \u001b[32m235.5/235.5 kB\u001b[0m \u001b[31m1.3 MB/s\u001b[0m eta \u001b[36m0:00:00\u001b[0m\n",
            "\u001b[?25hCollecting python-dotenv\n",
            "  Downloading python_dotenv-1.0.1-py3-none-any.whl (19 kB)\n",
            "Collecting unidecode\n",
            "  Downloading Unidecode-1.3.6-py3-none-any.whl (235 kB)\n",
            "\u001b[2K     \u001b[90m━━━━━━━━━━━━━━━━━━━━━━━━━━━━━━━━━━━━━━━━\u001b[0m \u001b[32m235.9/235.9 kB\u001b[0m \u001b[31m13.2 MB/s\u001b[0m eta \u001b[36m0:00:00\u001b[0m\n",
            "\u001b[?25hRequirement already satisfied: google-cloud-aiplatform in /usr/local/lib/python3.10/dist-packages (1.52.0)\n",
            "Collecting transformers==4.40.0\n",
            "  Downloading transformers-4.40.0-py3-none-any.whl (9.0 MB)\n",
            "\u001b[2K     \u001b[90m━━━━━━━━━━━━━━━━━━━━━━━━━━━━━━━━━━━━━━━━\u001b[0m \u001b[32m9.0/9.0 MB\u001b[0m \u001b[31m16.2 MB/s\u001b[0m eta \u001b[36m0:00:00\u001b[0m\n",
            "\u001b[?25hRequirement already satisfied: filelock in /usr/local/lib/python3.10/dist-packages (from transformers==4.40.0) (3.14.0)\n",
            "Requirement already satisfied: huggingface-hub<1.0,>=0.19.3 in /usr/local/lib/python3.10/dist-packages (from transformers==4.40.0) (0.23.1)\n",
            "Requirement already satisfied: numpy>=1.17 in /usr/local/lib/python3.10/dist-packages (from transformers==4.40.0) (1.23.5)\n",
            "Requirement already satisfied: packaging>=20.0 in /usr/local/lib/python3.10/dist-packages (from transformers==4.40.0) (24.0)\n",
            "Requirement already satisfied: pyyaml>=5.1 in /usr/local/lib/python3.10/dist-packages (from transformers==4.40.0) (6.0.1)\n",
            "Requirement already satisfied: regex!=2019.12.17 in /usr/local/lib/python3.10/dist-packages (from transformers==4.40.0) (2023.12.25)\n",
            "Requirement already satisfied: requests in /usr/local/lib/python3.10/dist-packages (from transformers==4.40.0) (2.31.0)\n",
            "Requirement already satisfied: tokenizers<0.20,>=0.19 in /usr/local/lib/python3.10/dist-packages (from transformers==4.40.0) (0.19.1)\n",
            "Requirement already satisfied: safetensors>=0.4.1 in /usr/local/lib/python3.10/dist-packages (from transformers==4.40.0) (0.4.3)\n",
            "Requirement already satisfied: tqdm>=4.27 in /usr/local/lib/python3.10/dist-packages (from transformers==4.40.0) (4.66.4)\n",
            "Requirement already satisfied: google-api-core[grpc]!=2.0.*,!=2.1.*,!=2.2.*,!=2.3.*,!=2.4.*,!=2.5.*,!=2.6.*,!=2.7.*,<3.0.0dev,>=1.34.1 in /usr/local/lib/python3.10/dist-packages (from google-cloud-aiplatform) (2.11.1)\n",
            "Requirement already satisfied: google-auth<3.0.0dev,>=2.14.1 in /usr/local/lib/python3.10/dist-packages (from google-cloud-aiplatform) (2.27.0)\n",
            "Requirement already satisfied: proto-plus<2.0.0dev,>=1.22.0 in /usr/local/lib/python3.10/dist-packages (from google-cloud-aiplatform) (1.23.0)\n",
            "Requirement already satisfied: protobuf!=3.20.0,!=3.20.1,!=4.21.0,!=4.21.1,!=4.21.2,!=4.21.3,!=4.21.4,!=4.21.5,<5.0.0dev,>=3.19.5 in /usr/local/lib/python3.10/dist-packages (from google-cloud-aiplatform) (3.20.3)\n",
            "Requirement already satisfied: google-cloud-storage<3.0.0dev,>=1.32.0 in /usr/local/lib/python3.10/dist-packages (from google-cloud-aiplatform) (2.8.0)\n",
            "Requirement already satisfied: google-cloud-bigquery!=3.20.0,<4.0.0dev,>=1.15.0 in /usr/local/lib/python3.10/dist-packages (from google-cloud-aiplatform) (3.21.0)\n",
            "Requirement already satisfied: google-cloud-resource-manager<3.0.0dev,>=1.3.3 in /usr/local/lib/python3.10/dist-packages (from google-cloud-aiplatform) (1.12.3)\n",
            "Requirement already satisfied: shapely<3.0.0dev in /usr/local/lib/python3.10/dist-packages (from google-cloud-aiplatform) (2.0.4)\n",
            "Requirement already satisfied: pydantic<3 in /usr/local/lib/python3.10/dist-packages (from google-cloud-aiplatform) (2.7.1)\n",
            "Requirement already satisfied: docstring-parser<1 in /usr/local/lib/python3.10/dist-packages (from google-cloud-aiplatform) (0.16)\n",
            "Requirement already satisfied: googleapis-common-protos<2.0.dev0,>=1.56.2 in /usr/local/lib/python3.10/dist-packages (from google-api-core[grpc]!=2.0.*,!=2.1.*,!=2.2.*,!=2.3.*,!=2.4.*,!=2.5.*,!=2.6.*,!=2.7.*,<3.0.0dev,>=1.34.1->google-cloud-aiplatform) (1.63.0)\n",
            "Requirement already satisfied: grpcio<2.0dev,>=1.33.2 in /usr/local/lib/python3.10/dist-packages (from google-api-core[grpc]!=2.0.*,!=2.1.*,!=2.2.*,!=2.3.*,!=2.4.*,!=2.5.*,!=2.6.*,!=2.7.*,<3.0.0dev,>=1.34.1->google-cloud-aiplatform) (1.64.0)\n",
            "Requirement already satisfied: grpcio-status<2.0.dev0,>=1.33.2 in /usr/local/lib/python3.10/dist-packages (from google-api-core[grpc]!=2.0.*,!=2.1.*,!=2.2.*,!=2.3.*,!=2.4.*,!=2.5.*,!=2.6.*,!=2.7.*,<3.0.0dev,>=1.34.1->google-cloud-aiplatform) (1.48.2)\n",
            "Requirement already satisfied: cachetools<6.0,>=2.0.0 in /usr/local/lib/python3.10/dist-packages (from google-auth<3.0.0dev,>=2.14.1->google-cloud-aiplatform) (5.3.3)\n",
            "Requirement already satisfied: pyasn1-modules>=0.2.1 in /usr/local/lib/python3.10/dist-packages (from google-auth<3.0.0dev,>=2.14.1->google-cloud-aiplatform) (0.4.0)\n",
            "Requirement already satisfied: rsa<5,>=3.1.4 in /usr/local/lib/python3.10/dist-packages (from google-auth<3.0.0dev,>=2.14.1->google-cloud-aiplatform) (4.9)\n",
            "Requirement already satisfied: google-cloud-core<3.0.0dev,>=1.6.0 in /usr/local/lib/python3.10/dist-packages (from google-cloud-bigquery!=3.20.0,<4.0.0dev,>=1.15.0->google-cloud-aiplatform) (2.3.3)\n",
            "Requirement already satisfied: google-resumable-media<3.0dev,>=0.6.0 in /usr/local/lib/python3.10/dist-packages (from google-cloud-bigquery!=3.20.0,<4.0.0dev,>=1.15.0->google-cloud-aiplatform) (2.7.0)\n",
            "Requirement already satisfied: python-dateutil<3.0dev,>=2.7.2 in /usr/local/lib/python3.10/dist-packages (from google-cloud-bigquery!=3.20.0,<4.0.0dev,>=1.15.0->google-cloud-aiplatform) (2.8.2)\n",
            "Requirement already satisfied: grpc-google-iam-v1<1.0.0dev,>=0.12.4 in /usr/local/lib/python3.10/dist-packages (from google-cloud-resource-manager<3.0.0dev,>=1.3.3->google-cloud-aiplatform) (0.13.0)\n",
            "Requirement already satisfied: fsspec>=2023.5.0 in /usr/local/lib/python3.10/dist-packages (from huggingface-hub<1.0,>=0.19.3->transformers==4.40.0) (2023.6.0)\n",
            "Requirement already satisfied: typing-extensions>=3.7.4.3 in /usr/local/lib/python3.10/dist-packages (from huggingface-hub<1.0,>=0.19.3->transformers==4.40.0) (4.11.0)\n",
            "Requirement already satisfied: annotated-types>=0.4.0 in /usr/local/lib/python3.10/dist-packages (from pydantic<3->google-cloud-aiplatform) (0.7.0)\n",
            "Requirement already satisfied: pydantic-core==2.18.2 in /usr/local/lib/python3.10/dist-packages (from pydantic<3->google-cloud-aiplatform) (2.18.2)\n",
            "Requirement already satisfied: charset-normalizer<4,>=2 in /usr/local/lib/python3.10/dist-packages (from requests->transformers==4.40.0) (3.3.2)\n",
            "Requirement already satisfied: idna<4,>=2.5 in /usr/local/lib/python3.10/dist-packages (from requests->transformers==4.40.0) (3.7)\n",
            "Requirement already satisfied: urllib3<3,>=1.21.1 in /usr/local/lib/python3.10/dist-packages (from requests->transformers==4.40.0) (2.0.7)\n",
            "Requirement already satisfied: certifi>=2017.4.17 in /usr/local/lib/python3.10/dist-packages (from requests->transformers==4.40.0) (2024.2.2)\n",
            "Requirement already satisfied: google-crc32c<2.0dev,>=1.0 in /usr/local/lib/python3.10/dist-packages (from google-resumable-media<3.0dev,>=0.6.0->google-cloud-bigquery!=3.20.0,<4.0.0dev,>=1.15.0->google-cloud-aiplatform) (1.5.0)\n",
            "Requirement already satisfied: pyasn1<0.7.0,>=0.4.6 in /usr/local/lib/python3.10/dist-packages (from pyasn1-modules>=0.2.1->google-auth<3.0.0dev,>=2.14.1->google-cloud-aiplatform) (0.6.0)\n",
            "Requirement already satisfied: six>=1.5 in /usr/local/lib/python3.10/dist-packages (from python-dateutil<3.0dev,>=2.7.2->google-cloud-bigquery!=3.20.0,<4.0.0dev,>=1.15.0->google-cloud-aiplatform) (1.16.0)\n",
            "Installing collected packages: unidecode, python-dotenv, transformers\n",
            "  Attempting uninstall: transformers\n",
            "    Found existing installation: transformers 4.41.0\n",
            "    Uninstalling transformers-4.41.0:\n",
            "      Successfully uninstalled transformers-4.41.0\n",
            "Successfully installed python-dotenv-1.0.1 transformers-4.40.0 unidecode-1.3.6\n"
          ]
        }
      ],
      "source": [
        "!pip install unidecode python-dotenv Unidecode==1.3.6 google-cloud-aiplatform transformers==4.40.0"
      ]
    },
    {
      "cell_type": "markdown",
      "metadata": {
        "id": "KtNRTotlNfSD"
      },
      "source": [
        "## libs"
      ]
    },
    {
      "cell_type": "code",
      "execution_count": null,
      "metadata": {
        "id": "xUlYXr1PNcLE"
      },
      "outputs": [],
      "source": [
        "import os\n",
        "os.environ['TF_CPP_MIN_LOG_LEVEL'] = '3'\n",
        "import pandas as pd\n",
        "import numpy as np\n",
        "import requests\n",
        "from collections import Counter\n",
        "import re\n",
        "import unidecode\n",
        "import matplotlib.pyplot as plt\n",
        "import seaborn as sns\n",
        "import time\n",
        "\n",
        "import glob\n",
        "from ast import literal_eval\n",
        "\n",
        "import io\n",
        "import math\n",
        "\n",
        "import warnings\n",
        "warnings.filterwarnings(\"ignore\")\n",
        "\n",
        "from numpy.linalg import norm\n",
        "from matplotlib import colors\n",
        "\n",
        "import pickle\n",
        "from dotenv import load_dotenv\n",
        "import json\n",
        "\n",
        "\n",
        "#from password import *\n",
        "\n",
        "from vertexai.preview.language_models import TextEmbeddingModel\n",
        "#os.environ['GOOGLE_APPLICATION_CREDENTIALS'] = 'automatch-309218-5f83b019f742.json'\n",
        "\n",
        "import tensorflow as tf\n",
        "from tensorflow.keras import backend as K\n",
        "from tensorflow.keras.callbacks import EarlyStopping\n",
        "from tensorflow.keras.callbacks import ModelCheckpoint\n",
        "\n",
        "from transformers import BertTokenizer, TFBertModel\n",
        "from transformers import AdamW, AdamWeightDecay, WarmUp\n",
        "#import tensorflow_text as text\n",
        "\n",
        "import warnings\n",
        "warnings.filterwarnings(\"ignore\")\n",
        "#tf.debugging.set_log_device_placement(True)"
      ]
    },
    {
      "cell_type": "markdown",
      "metadata": {
        "id": "kXI7fkWNOOJD"
      },
      "source": [
        "## TPU"
      ]
    },
    {
      "cell_type": "code",
      "execution_count": null,
      "metadata": {
        "colab": {
          "base_uri": "https://localhost:8080/"
        },
        "id": "NTNHucopOPTM",
        "outputId": "4b459b4f-472d-4bfe-eedf-9132e5a7a505"
      },
      "outputs": [
        {
          "output_type": "stream",
          "name": "stdout",
          "text": [
            "Using TPU\n"
          ]
        }
      ],
      "source": [
        "##para configuracion TPU\n",
        "\n",
        "if os.environ['COLAB_TPU_ADDR']:\n",
        "  cluster_resolver = tf.distribute.cluster_resolver.TPUClusterResolver(tpu='')\n",
        "  tf.config.experimental_connect_to_cluster(cluster_resolver)\n",
        "  tf.tpu.experimental.initialize_tpu_system(cluster_resolver)\n",
        "  strategy = tf.distribute.TPUStrategy(cluster_resolver)\n",
        "  print('Using TPU')\n",
        "#if tf.config.list_physical_devices('GPU'):\n",
        "#  strategy = tf.distribute.MirroredStrategy()\n",
        "#  print('Using GPU')\n",
        "else:\n",
        "  raise ValueError('Running on CPU is not recommended.')"
      ]
    },
    {
      "cell_type": "markdown",
      "metadata": {
        "id": "7Oe2dZ_2OVNy"
      },
      "source": [
        "## GCP Credentials"
      ]
    },
    {
      "cell_type": "code",
      "execution_count": null,
      "metadata": {
        "colab": {
          "base_uri": "https://localhost:8080/"
        },
        "id": "TxgrFyoxOXLh",
        "outputId": "7abbb24f-5e61-4ab7-a12b-97065fc771b5"
      },
      "outputs": [
        {
          "output_type": "stream",
          "name": "stdout",
          "text": [
            "Updated property [core/project].\n",
            "Go to the following link in your browser, and complete the sign-in prompts:\n",
            "\n",
            "    https://accounts.google.com/o/oauth2/auth?response_type=code&client_id=32555940559.apps.googleusercontent.com&redirect_uri=https%3A%2F%2Fsdk.cloud.google.com%2Fauthcode.html&scope=openid+https%3A%2F%2Fwww.googleapis.com%2Fauth%2Fuserinfo.email+https%3A%2F%2Fwww.googleapis.com%2Fauth%2Fcloud-platform+https%3A%2F%2Fwww.googleapis.com%2Fauth%2Fappengine.admin+https%3A%2F%2Fwww.googleapis.com%2Fauth%2Fsqlservice.login+https%3A%2F%2Fwww.googleapis.com%2Fauth%2Fcompute+https%3A%2F%2Fwww.googleapis.com%2Fauth%2Faccounts.reauth&state=tOv3Q3oVczG3ryj57SkYJ9zVlL1Ru6&prompt=consent&token_usage=remote&access_type=offline&code_challenge=auwXNkoLapsSNVQIqxvhw_X0oGiLeZBKTb1NxskVPOI&code_challenge_method=S256\n",
            "\n",
            "Once finished, enter the verification code provided in your browser: 4/0AdLIrYdD1LQXQfRVqNoBA6f22dDzIzKqPIETABRuy2zjhH1eZTOniWrZbPXznm1HLTGNJw\n",
            "\n",
            "You are now logged in as [ia@geti.cl].\n",
            "Your current project is [automatch-309218].  You can change this setting by running:\n",
            "  $ gcloud config set project PROJECT_ID\n",
            "Go to the following link in your browser, and complete the sign-in prompts:\n",
            "\n",
            "    https://accounts.google.com/o/oauth2/auth?response_type=code&client_id=764086051850-6qr4p6gpi6hn506pt8ejuq83di341hur.apps.googleusercontent.com&redirect_uri=https%3A%2F%2Fsdk.cloud.google.com%2Fapplicationdefaultauthcode.html&scope=openid+https%3A%2F%2Fwww.googleapis.com%2Fauth%2Fuserinfo.email+https%3A%2F%2Fwww.googleapis.com%2Fauth%2Fcloud-platform+https%3A%2F%2Fwww.googleapis.com%2Fauth%2Fsqlservice.login&state=VVNc3FdwncM2dIDi6MQGqtWiT7j5Fg&prompt=consent&token_usage=remote&access_type=offline&code_challenge=xhFhk3Dc9sH3NbrIzvRhJY7U5MC8QjVu3FGzqjTAeYM&code_challenge_method=S256\n",
            "\n",
            "Once finished, enter the verification code provided in your browser: 4/0AdLIrYf2-debNdAQvf0R4XTObdNXj60vFWefNAOI62gHF7xwdFFKYbZkjbRenbcr88X39w\n",
            "\n",
            "Credentials saved to file: [/content/.config/application_default_credentials.json]\n",
            "\n",
            "These credentials will be used by any library that requests Application Default Credentials (ADC).\n",
            "\n",
            "Quota project \"automatch-309218\" was added to ADC which can be used by Google client libraries for billing and quota. Note that some services may still bill the project owning the resource.\n"
          ]
        }
      ],
      "source": [
        "project_id = 'automatch-309218'\n",
        "!gcloud config set project {project_id}\n",
        "\n",
        "!gcloud auth login\n",
        "!gcloud auth application-default login\n",
        "\n",
        "REGION = \"us-central1\"\n",
        "BUCKET_URI = 'gs://pets-match-v2-21-12-23'"
      ]
    },
    {
      "cell_type": "code",
      "execution_count": null,
      "metadata": {
        "id": "rEIU9L2vOXvN"
      },
      "outputs": [],
      "source": []
    },
    {
      "cell_type": "markdown",
      "metadata": {
        "id": "tUM2WyY9Oncv"
      },
      "source": [
        "## GCP Txt embedding model"
      ]
    },
    {
      "cell_type": "code",
      "execution_count": null,
      "metadata": {
        "id": "nJ3HScMmOpht"
      },
      "outputs": [],
      "source": [
        "embedding_model_gcp = TextEmbeddingModel.from_pretrained(\"textembedding-gecko@001\")\n",
        "\n",
        "def get_embedding_txt_gcp(text, model=embedding_model_gcp):\n",
        "    \"\"\"returns the embedding for a string using gcp embedding model\"\"\"\n",
        "    text = text.replace(\"\\n\", \" \")\n",
        "    embedding = model.get_embeddings([text])\n",
        "    embedding = embedding[0].values\n",
        "    return embedding"
      ]
    },
    {
      "cell_type": "markdown",
      "metadata": {
        "id": "I1KXZKAQU12P"
      },
      "source": [
        "## Bert Modal & tokenizer"
      ]
    },
    {
      "cell_type": "code",
      "execution_count": null,
      "metadata": {
        "id": "O65IchjhU1ko",
        "colab": {
          "base_uri": "https://localhost:8080/",
          "height": 145,
          "referenced_widgets": [
            "d56531c2d86945f1be0dbe8f8c5cc305",
            "63975d86e9d64376909c120e1c5ceca0",
            "98b0154211d341dd982b6b48f99f7fc8",
            "ab681f59359f4a22b7d2111aad82aa69",
            "db3bb35f322c43a0ab1e027a121e23fe",
            "0ed85c30dc3d4fd3a0aef9ac896dca4c",
            "abbac906165a44ba8a3e7eed68ae20fd",
            "86b70b6a336a4344b46ab5400f5085d5",
            "f6300580ae7a4346b6e8554fa0ce040a",
            "4a190773562e443ea41641db70addd11",
            "03e20518fe694edfaa95df76a71fb989",
            "6bb9c6477541415b9749519bc9bd321b",
            "e404d7b51b9549f9b70caccc66bdeb2d",
            "1f0f031bfb8449dd825dc5b2397749ed",
            "7f0441f614b545fc876d7d4f785488ea",
            "a903ff401dd14057aded788d49da2084",
            "9ef12f96ec054a28976ea72ce839799a",
            "167ca51c1c5f46e8932a15c86699a8a3",
            "25e04ec39bab4831bd1dfda64604d422",
            "4d859c2b89ab41599caa37ee190724e2",
            "5c0fb10b7ebe44508876881881a502a3",
            "eba8e4b47d644c0f9164b8b3f2dd7b66",
            "68323feed46a4013aadd53e099a2df9e",
            "45dcca72cfcd4185ad510067acab2abc",
            "2a10bbbecbd040fa9d2626437bf5b16a",
            "5e0bec58f62342ff87a4a4685e050951",
            "a0f45a3b1b974364a9304cf3b22a8ee0",
            "4c16e723e6aa44158064fd84e1044a4f",
            "cd776c57869e49a4b546fbd32c249504",
            "9c9d534ff4f6497594854ef3f4e71d1e",
            "34deafa2271f49478254f15c9a303a87",
            "b877296807564e4f990e04a86729fd34",
            "fde7300f8072475f8fa2407e719d2f75",
            "843455bd1a6b40d4ab6a22b49df6bd99",
            "9a1ad57ee76a412c8004fd70a0ad6832",
            "7738f9b178064408a5eba32de78350f9",
            "b8e95ee7106b4e7da3fd4f3113cec43a",
            "77e9d6449e6c49f197c46282b58758e6",
            "68124f56d06646e49024fdc2db57b9e5",
            "a0a6b70dd422433c91b3b07799ff95f0",
            "fbe828178f024d0e9f7b176840404586",
            "0f91284ad4a1420b960846b7520a3a0f",
            "51180903b6f64198a2c9cb6f08d216a7",
            "8002137c6c424057bd9eb50359667d6f"
          ]
        },
        "outputId": "4246debc-4279-4655-87ad-2197ef780911"
      },
      "outputs": [
        {
          "output_type": "display_data",
          "data": {
            "text/plain": [
              "tokenizer_config.json:   0%|          | 0.00/48.0 [00:00<?, ?B/s]"
            ],
            "application/vnd.jupyter.widget-view+json": {
              "version_major": 2,
              "version_minor": 0,
              "model_id": "d56531c2d86945f1be0dbe8f8c5cc305"
            }
          },
          "metadata": {}
        },
        {
          "output_type": "display_data",
          "data": {
            "text/plain": [
              "vocab.txt:   0%|          | 0.00/872k [00:00<?, ?B/s]"
            ],
            "application/vnd.jupyter.widget-view+json": {
              "version_major": 2,
              "version_minor": 0,
              "model_id": "6bb9c6477541415b9749519bc9bd321b"
            }
          },
          "metadata": {}
        },
        {
          "output_type": "display_data",
          "data": {
            "text/plain": [
              "tokenizer.json:   0%|          | 0.00/1.72M [00:00<?, ?B/s]"
            ],
            "application/vnd.jupyter.widget-view+json": {
              "version_major": 2,
              "version_minor": 0,
              "model_id": "68323feed46a4013aadd53e099a2df9e"
            }
          },
          "metadata": {}
        },
        {
          "output_type": "display_data",
          "data": {
            "text/plain": [
              "config.json:   0%|          | 0.00/625 [00:00<?, ?B/s]"
            ],
            "application/vnd.jupyter.widget-view+json": {
              "version_major": 2,
              "version_minor": 0,
              "model_id": "843455bd1a6b40d4ab6a22b49df6bd99"
            }
          },
          "metadata": {}
        }
      ],
      "source": [
        "#BERT multi\n",
        "\n",
        "bert_multi = 'bert-base-multilingual-uncased'\n",
        "#Loading tokenizer\n",
        "tokenizer= BertTokenizer.from_pretrained(bert_multi)\n",
        "\n",
        "MAX_LENGTH = 35"
      ]
    },
    {
      "cell_type": "code",
      "execution_count": null,
      "metadata": {
        "id": "Wrzpm5QrU7j8"
      },
      "outputs": [],
      "source": [
        "def join_products(product_1, product_2):\n",
        "  join = [f'{p1} [SEP] {p2}' for p1,p2 in zip(product_1,product_2)]\n",
        "  return join"
      ]
    },
    {
      "cell_type": "markdown",
      "metadata": {
        "id": "zZDgABNgPV-b"
      },
      "source": [
        "## Dataset en TF Records"
      ]
    },
    {
      "cell_type": "code",
      "execution_count": null,
      "metadata": {
        "colab": {
          "base_uri": "https://localhost:8080/"
        },
        "id": "iU2YxIAbOqGU",
        "outputId": "63448fb9-ecdd-4b5d-f37c-841a8862c154"
      },
      "outputs": [
        {
          "output_type": "stream",
          "name": "stdout",
          "text": [
            "Copying gs://pets-match-v2-21-12-23/ds_train_hybrid_10-05-24.csv...\n",
            "- [1 files][ 50.8 MiB/ 50.8 MiB]                                                \n",
            "Operation completed over 1 objects/50.8 MiB.                                     \n",
            "Copying gs://pets-match-v2-21-12-23/ds_eval_hybrid_10-05-24.csv...\n",
            "/ [1 files][  6.3 MiB/  6.3 MiB]                                                \n",
            "Operation completed over 1 objects/6.3 MiB.                                      \n",
            "Copying gs://pets-match-v2-21-12-23/ds_test_hybrid_10-05-24.csv...\n",
            "/ [1 files][  6.3 MiB/  6.3 MiB]                                                \n",
            "Operation completed over 1 objects/6.3 MiB.                                      \n"
          ]
        }
      ],
      "source": [
        "!gsutil cp gs://pets-match-v2-21-12-23/ds_train_hybrid_10-05-24.csv .\n",
        "!gsutil cp gs://pets-match-v2-21-12-23/ds_eval_hybrid_10-05-24.csv .\n",
        "!gsutil cp gs://pets-match-v2-21-12-23/ds_test_hybrid_10-05-24.csv .\n"
      ]
    },
    {
      "cell_type": "code",
      "execution_count": null,
      "metadata": {
        "id": "UrEmhADuPzUh"
      },
      "outputs": [],
      "source": [
        "ds_train = pd.read_csv('ds_train_hybrid_10-05-24.csv', index_col=0)\n",
        "ds_eval = pd.read_csv('ds_eval_hybrid_10-05-24.csv', index_col=0)\n",
        "ds_test = pd.read_csv('ds_test_hybrid_10-05-24.csv', index_col=0)"
      ]
    },
    {
      "cell_type": "code",
      "execution_count": null,
      "metadata": {
        "id": "ByiN6B4WVCOc"
      },
      "outputs": [],
      "source": [
        "def decode_fn2(sample, max_length=MAX_LENGTH):\n",
        "    features = {\n",
        "        \"input_ids\": tf.io.FixedLenFeature((max_length,), dtype=tf.int64),\n",
        "        \"attention_mask\": tf.io.FixedLenFeature((max_length,), dtype=tf.int64),\n",
        "        #\"token_type_ids\": tf.io.FixedLenFeature((max_length,), dtype=tf.int64),\n",
        "    }\n",
        "    labels = {\n",
        "        \"labels\": tf.io.FixedLenFeature((1,), dtype=tf.int64)\n",
        "    }\n",
        "    x = tf.io.parse_example(sample, features)\n",
        "    y = tf.io.parse_example(sample, labels)\n",
        "\n",
        "    return ((x),y)\n",
        "\n",
        "def generate_tfrecords_data(chunk_ds, chunk_labels, file_name, max_length=MAX_LENGTH ):\n",
        "  #chunk:\n",
        "  tokenized_data = tokenizer(\n",
        "      list(chunk_ds),\n",
        "      padding=\"max_length\",\n",
        "      truncation=True,\n",
        "      max_length=max_length,\n",
        "      return_tensors=\"np\",\n",
        "  )\n",
        "\n",
        "  labels = chunk_labels #already in numpy array\n",
        "\n",
        "  with tf.io.TFRecordWriter(f\"{file_name}.tfrecords\") as file_writer:\n",
        "    for i in range(len(labels)):\n",
        "        features = {\n",
        "            \"input_ids\": tf.train.Feature(\n",
        "                int64_list=tf.train.Int64List(value=tokenized_data[\"input_ids\"][i])\n",
        "            ),\n",
        "            \"attention_mask\": tf.train.Feature(\n",
        "                int64_list=tf.train.Int64List(value=tokenized_data[\"attention_mask\"][i])\n",
        "            ),\n",
        "            #\"token_type_ids\": tf.train.Feature(\n",
        "            #    int64_list=tf.train.Int64List(value=tokenized_data[\"token_type_ids\"][i])\n",
        "            #),\n",
        "            \"labels\": tf.train.Feature(\n",
        "                int64_list=tf.train.Int64List(value=[labels[i]])\n",
        "            ),\n",
        "        }\n",
        "        features = tf.train.Features(feature=features)\n",
        "        example = tf.train.Example(features=features)\n",
        "        record_bytes = example.SerializeToString()\n",
        "        file_writer.write(record_bytes)"
      ]
    },
    {
      "cell_type": "code",
      "execution_count": null,
      "metadata": {
        "colab": {
          "base_uri": "https://localhost:8080/"
        },
        "id": "BbZFg0yuVrCA",
        "outputId": "a073b82f-75cb-4c16-a06e-786d890f4376"
      },
      "outputs": [
        {
          "output_type": "execute_result",
          "data": {
            "text/plain": [
              "(470416, 58802, 58800)"
            ]
          },
          "metadata": {},
          "execution_count": 11
        }
      ],
      "source": [
        "len(ds_train), len(ds_eval), len(ds_test)"
      ]
    },
    {
      "cell_type": "code",
      "execution_count": null,
      "metadata": {
        "id": "PL6J3YYyQBDo"
      },
      "outputs": [],
      "source": [
        "#TFRecordDataset can handle gs:// paths!\n",
        "\n",
        "BATCH_SIZE = 64\n",
        "tf_records_folder = 'tf_records_ds/hybrid_model_ds'\n",
        "\n",
        "ds_training = tf.data.TFRecordDataset([f\"{BUCKET_URI}/{tf_records_folder}/ds_train_hybrid_p1.tfrecords\",\n",
        "                                       f\"{BUCKET_URI}/{tf_records_folder}/ds_train_hybrid_p2.tfrecords\",\n",
        "                                       f\"{BUCKET_URI}/{tf_records_folder}/ds_train_hybrid_p3.tfrecords\"])\n",
        "\n",
        "ds_training = ds_training.map(decode_fn2)\n",
        "ds_training = ds_training.batch(BATCH_SIZE, drop_remainder=True)\n",
        "ds_training = ds_training.apply(\n",
        "    tf.data.experimental.assert_cardinality(470416 // BATCH_SIZE) #len(y_train) = 470416 ..para no cargar el set de nuevo!\n",
        ")\n",
        "\n",
        "\n",
        "ds_validating = tf.data.TFRecordDataset([f\"{BUCKET_URI}/{tf_records_folder}/ds_eval_hybrid_p1.tfrecords\",\n",
        "                                       f\"{BUCKET_URI}/{tf_records_folder}/ds_eval_hybrid_p2.tfrecords\",\n",
        "                                       f\"{BUCKET_URI}/{tf_records_folder}/ds_eval_hybrid_p3.tfrecords\"])\n",
        "\n",
        "ds_validating = ds_validating.map(decode_fn2)\n",
        "ds_validating = ds_validating.batch(BATCH_SIZE, drop_remainder=True)\n",
        "ds_validating = ds_validating.apply(\n",
        "    tf.data.experimental.assert_cardinality(58802 // BATCH_SIZE) #len(y_valid) = 58802.\n",
        ")\n",
        "\n",
        "\n",
        "ds_testing = tf.data.TFRecordDataset([f\"{BUCKET_URI}/{tf_records_folder}/ds_test_hybrid_p1.tfrecords\",\n",
        "                                       f\"{BUCKET_URI}/{tf_records_folder}/ds_test_p2.tfrecords\",\n",
        "                                       f\"{BUCKET_URI}/{tf_records_folder}/ds_test_p3.tfrecords\"])\n",
        "\n",
        "ds_testing = ds_testing.map(decode_fn2)\n",
        "ds_testing = ds_testing.batch(BATCH_SIZE, drop_remainder=True)\n",
        "#ds_testing = ds_testing.apply(\n",
        "#    tf.data.experimental.assert_cardinality(58800 // BATCH_SIZE) #len(y_testing) = 58800.\n",
        "#)"
      ]
    },
    {
      "cell_type": "markdown",
      "metadata": {
        "id": "uTilfo37e-ZN"
      },
      "source": [
        "# Model v1- AdamW\n"
      ]
    },
    {
      "cell_type": "markdown",
      "metadata": {
        "id": "o3xN_2Cte-ZY"
      },
      "source": [
        "## Training"
      ]
    },
    {
      "cell_type": "code",
      "execution_count": null,
      "metadata": {
        "id": "SmVgB4nbe-ZZ"
      },
      "outputs": [],
      "source": [
        "#model architecture\n",
        "\n",
        "def model_v1(model, seq_length=MAX_LENGTH):\n",
        "\n",
        "    input_ids = tf.keras.layers.Input(shape=(seq_length,), dtype=tf.int64, name=\"input_ids\")\n",
        "    attention_mask = tf.keras.layers.Input(shape=(seq_length,), dtype=tf.int64, name=\"attention_mask\")\n",
        "\n",
        "    embedding_layer = model(input_ids=input_ids, attention_mask=attention_mask)[0]\n",
        "\n",
        "    max_pool_txt = tf.keras.layers.GlobalMaxPool1D(name = 'max_pooling_txt')(embedding_layer)\n",
        "    avg_pool_txt = tf.keras.layers.GlobalAveragePooling1D(name = 'avg_pooling_txt')(embedding_layer)\n",
        "    concat_txt = tf.keras.layers.concatenate([max_pool_txt, avg_pool_txt])\n",
        "\n",
        "    batch_norm_1_txt = tf.keras.layers.BatchNormalization(name='batch_norm1_txt')(concat_txt)\n",
        "    dense_1_txt = tf.keras.layers.Dense(256, activation='relu', name='dense_1_txt')(batch_norm_1_txt)\n",
        "    batch_norm_2_txt = tf.keras.layers.BatchNormalization(name='batch_norm2_txt')(dense_1_txt)\n",
        "    dropout_1_txt = tf.keras.layers.Dropout(0.25, name='dropout_1_txt')(batch_norm_2_txt) #changed from 0.4 to 0.25\n",
        "\n",
        "    #fully connected layer\n",
        "    dense_fc = tf.keras.layers.Dense(128, activation='relu', name='dense_fc')(dropout_1_txt)\n",
        "    batch_norm_fc = tf.keras.layers.BatchNormalization(name='batch_norm_fc')(dense_fc)\n",
        "    dropout_fc = tf.keras.layers.Dropout(0.3, name='dropout_fc')(batch_norm_fc)\n",
        "\n",
        "    output = tf.keras.layers.Dense(1, activation='sigmoid', name='labels')(dropout_fc) #sigmoid instead of softmax, classes=1 :{0..1}\n",
        "\n",
        "    classif_model = tf.keras.Model(inputs=[input_ids, attention_mask], outputs=output)\n",
        "\n",
        "    return classif_model"
      ]
    },
    {
      "cell_type": "code",
      "execution_count": null,
      "metadata": {
        "colab": {
          "base_uri": "https://localhost:8080/",
          "height": 158,
          "referenced_widgets": [
            "cf9aaee75dfa4917b6799370886d0102",
            "4738850509c44405862cb5e09e4c3935",
            "bb074b59a33646ecb0e59c27edfc72bb",
            "aef0defb8b3346b79c51346dc87f664e",
            "8d8464a65ed54ac6ad006b92363780ba",
            "b7f3c5399f8444a790534c59003f2115",
            "4aa0f312a5f34f0098278b27eaa449e8",
            "7511a96a50114f9582104c504f877f7a",
            "920d52f0a2e149db82f65506be46c787",
            "f9a191935d6e4bcbb18d9b7711043b05",
            "73e78969d34d4bb098af37c24fd3550b"
          ]
        },
        "id": "Kvltp7oLe-ZZ",
        "outputId": "b22ccfcb-e85d-4595-f081-eb157ff31388"
      },
      "outputs": [
        {
          "output_type": "display_data",
          "data": {
            "text/plain": [
              "model.safetensors:   0%|          | 0.00/672M [00:00<?, ?B/s]"
            ],
            "application/vnd.jupyter.widget-view+json": {
              "version_major": 2,
              "version_minor": 0,
              "model_id": "cf9aaee75dfa4917b6799370886d0102"
            }
          },
          "metadata": {}
        },
        {
          "output_type": "stream",
          "name": "stderr",
          "text": [
            "Some weights of the PyTorch model were not used when initializing the TF 2.0 model TFBertModel: ['cls.seq_relationship.bias', 'cls.predictions.transform.dense.bias', 'cls.predictions.transform.LayerNorm.bias', 'cls.predictions.bias', 'cls.seq_relationship.weight', 'cls.predictions.transform.dense.weight', 'cls.predictions.transform.LayerNorm.weight']\n",
            "- This IS expected if you are initializing TFBertModel from a PyTorch model trained on another task or with another architecture (e.g. initializing a TFBertForSequenceClassification model from a BertForPreTraining model).\n",
            "- This IS NOT expected if you are initializing TFBertModel from a PyTorch model that you expect to be exactly identical (e.g. initializing a TFBertForSequenceClassification model from a BertForSequenceClassification model).\n",
            "All the weights of TFBertModel were initialized from the PyTorch model.\n",
            "If your task is similar to the task the model of the checkpoint was trained on, you can already use TFBertModel for predictions without further training.\n"
          ]
        }
      ],
      "source": [
        "NUM_EPOCHS = 10\n",
        "\n",
        "with strategy.scope(): # creating the model in the TPU strategy scope\n",
        "    bert_multi_model = TFBertModel.from_pretrained(bert_multi)\n",
        "    model_txt_1_adamw = model_v1(bert_multi_model, seq_length=MAX_LENGTH)\n",
        "\n",
        "    filepath1 = 'hybrid_model_txt_v1_adamw_loss.h5'\n",
        "    filepath2 = 'hybrid_model_txt_v1_adamw_acc.h5'\n",
        "\n",
        "    #chekpoints\n",
        "    checkpoint1 = ModelCheckpoint(filepath1, monitor='val_loss', verbose=1, \\\n",
        "                                  save_best_only=True, save_weights_only=True, \\\n",
        "                                  mode='auto', save_frequency=1)\n",
        "\n",
        "    checkpoint2 = ModelCheckpoint(filepath2, monitor='val_accuracy', verbose=1, \\\n",
        "                                  save_best_only=True, save_weights_only=True, \\\n",
        "                                  mode='auto', save_frequency=1)\n",
        "\n",
        "    #early_stop = EarlyStopping(monitor='val_loss', patience=15)\n",
        "    train_data_size = len(ds_train)\n",
        "    steps_per_epoch = int(train_data_size / BATCH_SIZE)\n",
        "    num_train_steps = steps_per_epoch * NUM_EPOCHS\n",
        "    warmup_steps = int(0.1 * num_train_steps)\n",
        "    lr = 2e-6\n",
        "\n",
        "    # decay schedule\n",
        "    linear_decay = tf.keras.optimizers.schedules.PolynomialDecay(\n",
        "        initial_learning_rate=lr,\n",
        "        decay_steps=num_train_steps,\n",
        "        end_learning_rate=0.0)\n",
        "\n",
        "    # warm-up schedule\n",
        "    learning_rate_fn = WarmUp(\n",
        "        initial_learning_rate=lr,\n",
        "        decay_schedule_fn=linear_decay,\n",
        "        warmup_steps=warmup_steps\n",
        "    )\n",
        "\n",
        "    optimizer = tf.keras.optimizers.experimental.Adam(learning_rate=learning_rate_fn)\n",
        "\n",
        "\n",
        "    #compile model\n",
        "    model_txt_1_adamw.compile(loss = 'binary_crossentropy', optimizer= optimizer ,\n",
        "                        metrics=[\"accuracy\",\n",
        "                                 tf.keras.metrics.AUC(),\n",
        "                                 tf.keras.metrics.Precision(),\n",
        "                                 tf.keras.metrics.Recall()])"
      ]
    },
    {
      "cell_type": "code",
      "execution_count": null,
      "metadata": {
        "colab": {
          "base_uri": "https://localhost:8080/"
        },
        "id": "mtJL6E3ue-ZZ",
        "outputId": "96842fa8-7c40-4eb5-d330-1757f578cd64"
      },
      "outputs": [
        {
          "output_type": "stream",
          "name": "stdout",
          "text": [
            "0 <keras.engine.input_layer.InputLayer object at 0x7802908cad40> False\n",
            "1 <keras.engine.input_layer.InputLayer object at 0x78028f95e170> False\n",
            "2 <transformers.models.bert.modeling_tf_bert.TFBertModel object at 0x780381a44130> False\n",
            "3 <keras.layers.pooling.global_max_pooling1d.GlobalMaxPooling1D object at 0x7803d604c070> True\n",
            "4 <keras.layers.pooling.global_average_pooling1d.GlobalAveragePooling1D object at 0x78028f5210c0> True\n",
            "5 <keras.layers.merging.concatenate.Concatenate object at 0x7802905ed3f0> True\n",
            "6 <keras.layers.normalization.batch_normalization.BatchNormalization object at 0x78028f5ec5b0> True\n",
            "7 <keras.layers.core.dense.Dense object at 0x78028f751fc0> True\n",
            "8 <keras.layers.normalization.batch_normalization.BatchNormalization object at 0x78028f7dc310> True\n",
            "9 <keras.layers.regularization.dropout.Dropout object at 0x78028f508dc0> True\n",
            "10 <keras.layers.core.dense.Dense object at 0x78028f58cf70> True\n",
            "11 <keras.layers.normalization.batch_normalization.BatchNormalization object at 0x7802908a95a0> True\n",
            "12 <keras.layers.regularization.dropout.Dropout object at 0x78028f58f640> True\n",
            "13 <keras.layers.core.dense.Dense object at 0x78028f8e8f40> True\n"
          ]
        }
      ],
      "source": [
        "for index,layer in enumerate(model_txt_1_adamw.layers):\n",
        "\n",
        "  if index < 3: #freeze bert layer (dont want to tune the bert weights)\n",
        "    layer.trainable = False\n",
        "\n",
        "\n",
        "  print(index, layer, layer.trainable)"
      ]
    },
    {
      "cell_type": "code",
      "execution_count": null,
      "metadata": {
        "colab": {
          "base_uri": "https://localhost:8080/"
        },
        "id": "b-I8ca6Ve-ZZ",
        "outputId": "f1ca58a0-ca65-45d1-bf21-517243f3cbe1"
      },
      "outputs": [
        {
          "output_type": "stream",
          "name": "stdout",
          "text": [
            "Epoch 1/10\n"
          ]
        },
        {
          "output_type": "stream",
          "name": "stderr",
          "text": [
            "WARNING:tensorflow:Gradients do not exist for variables ['tf_bert_model/bert/pooler/dense/kernel:0', 'tf_bert_model/bert/pooler/dense/bias:0'] when minimizing the loss. If you're using `model.compile()`, did you forget to provide a `loss` argument?\n",
            "WARNING:tensorflow:Gradients do not exist for variables ['tf_bert_model/bert/pooler/dense/kernel:0', 'tf_bert_model/bert/pooler/dense/bias:0'] when minimizing the loss. If you're using `model.compile()`, did you forget to provide a `loss` argument?\n",
            "WARNING:tensorflow:Gradients do not exist for variables ['tf_bert_model/bert/pooler/dense/kernel:0', 'tf_bert_model/bert/pooler/dense/bias:0'] when minimizing the loss. If you're using `model.compile()`, did you forget to provide a `loss` argument?\n",
            "WARNING:tensorflow:Gradients do not exist for variables ['tf_bert_model/bert/pooler/dense/kernel:0', 'tf_bert_model/bert/pooler/dense/bias:0'] when minimizing the loss. If you're using `model.compile()`, did you forget to provide a `loss` argument?\n"
          ]
        },
        {
          "output_type": "stream",
          "name": "stdout",
          "text": [
            "7350/7350 [==============================] - ETA: 0s - loss: 0.6400 - accuracy: 0.6922 - auc: 0.7705 - precision: 0.6952 - recall: 0.6843\n",
            "Epoch 1: val_loss improved from inf to 0.30555, saving model to hybrid_model_txt_v1_adamw_loss.h5\n",
            "\n",
            "Epoch 1: val_accuracy improved from -inf to 0.87250, saving model to hybrid_model_txt_v1_adamw_acc.h5\n",
            "7350/7350 [==============================] - 755s 93ms/step - loss: 0.6400 - accuracy: 0.6922 - auc: 0.7705 - precision: 0.6952 - recall: 0.6843 - val_loss: 0.3055 - val_accuracy: 0.8725 - val_auc: 0.9460 - val_precision: 0.8918 - val_recall: 0.8480\n",
            "Epoch 2/10\n",
            "7350/7350 [==============================] - ETA: 0s - loss: 0.3585 - accuracy: 0.8589 - auc: 0.9271 - precision: 0.8663 - recall: 0.8487\n",
            "Epoch 2: val_loss improved from 0.30555 to 0.19997, saving model to hybrid_model_txt_v1_adamw_loss.h5\n",
            "\n",
            "Epoch 2: val_accuracy improved from 0.87250 to 0.92405, saving model to hybrid_model_txt_v1_adamw_acc.h5\n",
            "7350/7350 [==============================] - 673s 92ms/step - loss: 0.3585 - accuracy: 0.8589 - auc: 0.9271 - precision: 0.8663 - recall: 0.8487 - val_loss: 0.2000 - val_accuracy: 0.9241 - val_auc: 0.9779 - val_precision: 0.9553 - val_recall: 0.8898\n",
            "Epoch 3/10\n",
            "7350/7350 [==============================] - ETA: 0s - loss: 0.2594 - accuracy: 0.9067 - auc: 0.9599 - precision: 0.9097 - recall: 0.9030\n",
            "Epoch 3: val_loss improved from 0.19997 to 0.15042, saving model to hybrid_model_txt_v1_adamw_loss.h5\n",
            "\n",
            "Epoch 3: val_accuracy improved from 0.92405 to 0.94669, saving model to hybrid_model_txt_v1_adamw_acc.h5\n",
            "7350/7350 [==============================] - 673s 92ms/step - loss: 0.2594 - accuracy: 0.9067 - auc: 0.9599 - precision: 0.9097 - recall: 0.9030 - val_loss: 0.1504 - val_accuracy: 0.9467 - val_auc: 0.9854 - val_precision: 0.9572 - val_recall: 0.9352\n",
            "Epoch 4/10\n",
            "7350/7350 [==============================] - ETA: 0s - loss: 0.2144 - accuracy: 0.9255 - auc: 0.9716 - precision: 0.9261 - recall: 0.9248\n",
            "Epoch 4: val_loss improved from 0.15042 to 0.13103, saving model to hybrid_model_txt_v1_adamw_loss.h5\n",
            "\n",
            "Epoch 4: val_accuracy improved from 0.94669 to 0.95455, saving model to hybrid_model_txt_v1_adamw_acc.h5\n",
            "7350/7350 [==============================] - 677s 92ms/step - loss: 0.2144 - accuracy: 0.9255 - auc: 0.9716 - precision: 0.9261 - recall: 0.9248 - val_loss: 0.1310 - val_accuracy: 0.9546 - val_auc: 0.9886 - val_precision: 0.9627 - val_recall: 0.9458\n",
            "Epoch 5/10\n",
            "7350/7350 [==============================] - ETA: 0s - loss: 0.1877 - accuracy: 0.9370 - auc: 0.9775 - precision: 0.9370 - recall: 0.9369\n",
            "Epoch 5: val_loss improved from 0.13103 to 0.12189, saving model to hybrid_model_txt_v1_adamw_loss.h5\n",
            "\n",
            "Epoch 5: val_accuracy improved from 0.95455 to 0.95891, saving model to hybrid_model_txt_v1_adamw_acc.h5\n",
            "7350/7350 [==============================] - 689s 94ms/step - loss: 0.1877 - accuracy: 0.9370 - auc: 0.9775 - precision: 0.9370 - recall: 0.9369 - val_loss: 0.1219 - val_accuracy: 0.9589 - val_auc: 0.9900 - val_precision: 0.9690 - val_recall: 0.9482\n",
            "Epoch 6/10\n",
            "7350/7350 [==============================] - ETA: 0s - loss: 0.1694 - accuracy: 0.9437 - auc: 0.9812 - precision: 0.9434 - recall: 0.9439\n",
            "Epoch 6: val_loss improved from 0.12189 to 0.10901, saving model to hybrid_model_txt_v1_adamw_loss.h5\n",
            "\n",
            "Epoch 6: val_accuracy improved from 0.95891 to 0.96358, saving model to hybrid_model_txt_v1_adamw_acc.h5\n",
            "7350/7350 [==============================] - 678s 92ms/step - loss: 0.1694 - accuracy: 0.9437 - auc: 0.9812 - precision: 0.9434 - recall: 0.9439 - val_loss: 0.1090 - val_accuracy: 0.9636 - val_auc: 0.9914 - val_precision: 0.9655 - val_recall: 0.9615\n",
            "Epoch 7/10\n",
            "7350/7350 [==============================] - ETA: 0s - loss: 0.1577 - accuracy: 0.9482 - auc: 0.9834 - precision: 0.9476 - recall: 0.9488\n",
            "Epoch 7: val_loss improved from 0.10901 to 0.10286, saving model to hybrid_model_txt_v1_adamw_loss.h5\n",
            "\n",
            "Epoch 7: val_accuracy improved from 0.96358 to 0.96582, saving model to hybrid_model_txt_v1_adamw_acc.h5\n",
            "7350/7350 [==============================] - 684s 93ms/step - loss: 0.1577 - accuracy: 0.9482 - auc: 0.9834 - precision: 0.9476 - recall: 0.9488 - val_loss: 0.1029 - val_accuracy: 0.9658 - val_auc: 0.9923 - val_precision: 0.9694 - val_recall: 0.9620\n",
            "Epoch 8/10\n",
            "7350/7350 [==============================] - ETA: 0s - loss: 0.1469 - accuracy: 0.9521 - auc: 0.9854 - precision: 0.9513 - recall: 0.9531\n",
            "Epoch 8: val_loss improved from 0.10286 to 0.09810, saving model to hybrid_model_txt_v1_adamw_loss.h5\n",
            "\n",
            "Epoch 8: val_accuracy improved from 0.96582 to 0.96775, saving model to hybrid_model_txt_v1_adamw_acc.h5\n",
            "7350/7350 [==============================] - 685s 93ms/step - loss: 0.1469 - accuracy: 0.9521 - auc: 0.9854 - precision: 0.9513 - recall: 0.9531 - val_loss: 0.0981 - val_accuracy: 0.9677 - val_auc: 0.9927 - val_precision: 0.9700 - val_recall: 0.9654\n",
            "Epoch 9/10\n",
            "7350/7350 [==============================] - ETA: 0s - loss: 0.1401 - accuracy: 0.9544 - auc: 0.9866 - precision: 0.9532 - recall: 0.9557\n",
            "Epoch 9: val_loss improved from 0.09810 to 0.09691, saving model to hybrid_model_txt_v1_adamw_loss.h5\n",
            "\n",
            "Epoch 9: val_accuracy improved from 0.96775 to 0.96815, saving model to hybrid_model_txt_v1_adamw_acc.h5\n",
            "7350/7350 [==============================] - 683s 93ms/step - loss: 0.1401 - accuracy: 0.9544 - auc: 0.9866 - precision: 0.9532 - recall: 0.9557 - val_loss: 0.0969 - val_accuracy: 0.9682 - val_auc: 0.9928 - val_precision: 0.9718 - val_recall: 0.9643\n",
            "Epoch 10/10\n",
            "7350/7350 [==============================] - ETA: 0s - loss: 0.1337 - accuracy: 0.9563 - auc: 0.9876 - precision: 0.9551 - recall: 0.9576\n",
            "Epoch 10: val_loss improved from 0.09691 to 0.09659, saving model to hybrid_model_txt_v1_adamw_loss.h5\n",
            "\n",
            "Epoch 10: val_accuracy improved from 0.96815 to 0.96958, saving model to hybrid_model_txt_v1_adamw_acc.h5\n",
            "7350/7350 [==============================] - 685s 93ms/step - loss: 0.1337 - accuracy: 0.9563 - auc: 0.9876 - precision: 0.9551 - recall: 0.9576 - val_loss: 0.0966 - val_accuracy: 0.9696 - val_auc: 0.9928 - val_precision: 0.9703 - val_recall: 0.9688\n",
            "time taken to train model (10 epochs): 6892.362581253052 secs\n"
          ]
        }
      ],
      "source": [
        "start = time.time()\n",
        "\n",
        "\n",
        "history_1 = model_txt_1_adamw.fit(ds_training,validation_data=ds_validating, epochs=NUM_EPOCHS, callbacks=[checkpoint1, checkpoint2])\n",
        "\n",
        "end = time.time()\n",
        "total_time = end-start\n",
        "print(f'time taken to train model ({NUM_EPOCHS} epochs): {total_time} secs')"
      ]
    },
    {
      "cell_type": "code",
      "execution_count": null,
      "metadata": {
        "colab": {
          "base_uri": "https://localhost:8080/"
        },
        "id": "5rFVr5yue-ZZ",
        "outputId": "00f8afda-9a3c-4e57-9005-88bd44f51623"
      },
      "outputs": [
        {
          "output_type": "execute_result",
          "data": {
            "text/plain": [
              "1.9144444444444444"
            ]
          },
          "metadata": {},
          "execution_count": 17
        }
      ],
      "source": [
        "6892/3600"
      ]
    },
    {
      "cell_type": "markdown",
      "metadata": {
        "id": "VuDeak9Ze-ZZ"
      },
      "source": [
        "## Evaluating"
      ]
    },
    {
      "cell_type": "code",
      "execution_count": null,
      "metadata": {
        "colab": {
          "base_uri": "https://localhost:8080/",
          "height": 451
        },
        "id": "hTi_TIu0e-Za",
        "outputId": "0a27493d-a46a-4332-e78a-a88ba1625c9b"
      },
      "outputs": [
        {
          "output_type": "display_data",
          "data": {
            "text/plain": [
              "<Figure size 800x500 with 1 Axes>"
            ],
            "image/png": "[encoded data removed]"
          },
          "metadata": {}
        }
      ],
      "source": [
        "loss_and_acc = {}\n",
        "loss_and_acc['loss'] = history_1.history['loss']\n",
        "loss_and_acc['val_loss'] = history_1.history['val_loss']\n",
        "loss_and_acc['accuracy'] = history_1.history['accuracy']\n",
        "loss_and_acc['val_accuracy'] = history_1.history['val_accuracy']\n",
        "\n",
        "df_metrics_1 = pd.DataFrame(loss_and_acc)\n",
        "df_metrics_1.plot(figsize=(8,5))\n",
        "plt.grid(True)\n",
        "plt.gca().set_ylim(0,1)\n",
        "plt.show()"
      ]
    },
    {
      "cell_type": "code",
      "execution_count": null,
      "metadata": {
        "colab": {
          "base_uri": "https://localhost:8080/",
          "height": 451
        },
        "id": "dhUttGWoe-Za",
        "outputId": "96fb9a44-96d5-4aa3-f3b7-44bfe429d803"
      },
      "outputs": [
        {
          "output_type": "display_data",
          "data": {
            "text/plain": [
              "<Figure size 800x500 with 1 Axes>"
            ],
            "image/png": "[encoded data removed]"
          },
          "metadata": {}
        }
      ],
      "source": [
        "precision_recall = {}\n",
        "precision_recall['auc'] = history_1.history['auc']\n",
        "precision_recall['val_auc'] = history_1.history['val_auc']\n",
        "precision_recall['precision'] = history_1.history['precision']\n",
        "precision_recall['val_precision'] = history_1.history['val_precision']\n",
        "precision_recall['recall'] = history_1.history['recall']\n",
        "precision_recall['val_recall'] = history_1.history['val_recall']\n",
        "\n",
        "df_metrics_2 = pd.DataFrame(precision_recall)\n",
        "df_metrics_2.plot(figsize=(8,5))\n",
        "plt.grid(True)\n",
        "plt.gca().set_ylim(0.8,1)\n",
        "plt.show()"
      ]
    },
    {
      "cell_type": "code",
      "execution_count": null,
      "metadata": {
        "colab": {
          "base_uri": "https://localhost:8080/"
        },
        "id": "SJLRhaEXe-Za",
        "outputId": "e7a8109e-4f2d-45ad-e438-d6b44cfc54fb"
      },
      "outputs": [
        {
          "output_type": "stream",
          "name": "stdout",
          "text": [
            "306/306 [==============================] - 17s 40ms/step - loss: 0.0941 - accuracy: 0.9693 - auc: 0.9934 - precision: 0.9710 - recall: 0.9673\n"
          ]
        },
        {
          "output_type": "execute_result",
          "data": {
            "text/plain": [
              "[0.09411083906888962,\n",
              " 0.9692606329917908,\n",
              " 0.9934302568435669,\n",
              " 0.9710442423820496,\n",
              " 0.9672701358795166]"
            ]
          },
          "metadata": {},
          "execution_count": 20
        }
      ],
      "source": [
        "#evaluate\n",
        "model_txt_1_adamw.evaluate(ds_testing)"
      ]
    },
    {
      "cell_type": "code",
      "execution_count": null,
      "metadata": {
        "colab": {
          "base_uri": "https://localhost:8080/"
        },
        "id": "o3mhD4tFe-Za",
        "outputId": "2c82dd93-d149-40ab-c6a1-6436fb318c43"
      },
      "outputs": [
        {
          "output_type": "stream",
          "name": "stdout",
          "text": [
            "Copying file:///content/hybrid_model_txt_v1_adamw_acc.h5 [Content-Type=application/x-hdf5]...\n",
            "/ [0 files][    0.0 B/640.4 MiB]                                                \r==> NOTE: You are uploading one or more large file(s), which would run\n",
            "significantly faster if you enable parallel composite uploads. This\n",
            "feature can be enabled by editing the\n",
            "\"parallel_composite_upload_threshold\" value in your .boto\n",
            "configuration file. However, note that if you do this large files will\n",
            "be uploaded as `composite objects\n",
            "<https://cloud.google.com/storage/docs/composite-objects>`_,which\n",
            "means that any user who downloads such objects will need to have a\n",
            "compiled crcmod installed (see \"gsutil help crcmod\"). This is because\n",
            "without a compiled crcmod, computing checksums on composite objects is\n",
            "so slow that gsutil disables downloads of composite objects.\n",
            "\n",
            "\\ [1 files][640.4 MiB/640.4 MiB]                                                \n",
            "Operation completed over 1 objects/640.4 MiB.                                    \n",
            "Copying file:///content/hybrid_model_txt_v1_adamw_loss.h5 [Content-Type=application/x-hdf5]...\n",
            "==> NOTE: You are uploading one or more large file(s), which would run\n",
            "significantly faster if you enable parallel composite uploads. This\n",
            "feature can be enabled by editing the\n",
            "\"parallel_composite_upload_threshold\" value in your .boto\n",
            "configuration file. However, note that if you do this large files will\n",
            "be uploaded as `composite objects\n",
            "<https://cloud.google.com/storage/docs/composite-objects>`_,which\n",
            "means that any user who downloads such objects will need to have a\n",
            "compiled crcmod installed (see \"gsutil help crcmod\"). This is because\n",
            "without a compiled crcmod, computing checksums on composite objects is\n",
            "so slow that gsutil disables downloads of composite objects.\n",
            "\n",
            "\\ [1 files][640.4 MiB/640.4 MiB]                                                \n",
            "Operation completed over 1 objects/640.4 MiB.                                    \n"
          ]
        }
      ],
      "source": [
        "models_folder = 'models_checkpoints'\n",
        "!gsutil cp /content/hybrid_model_txt_v1_adamw_acc.h5 {BUCKET_URI}/{models_folder}\n",
        "!gsutil cp /content/hybrid_model_txt_v1_adamw_loss.h5 {BUCKET_URI}/{models_folder}"
      ]
    },
    {
      "cell_type": "code",
      "execution_count": null,
      "metadata": {
        "id": "lxm0eqlte-Za"
      },
      "outputs": [],
      "source": []
    },
    {
      "cell_type": "code",
      "execution_count": null,
      "metadata": {
        "colab": {
          "base_uri": "https://localhost:8080/"
        },
        "id": "U519zATge-Zb",
        "outputId": "be52eeae-d48d-4923-d0f2-a2fd7fcbf955"
      },
      "outputs": [
        {
          "data": {
            "text/plain": [
              "5.762105555555556"
            ]
          },
          "execution_count": 20,
          "metadata": {},
          "output_type": "execute_result"
        }
      ],
      "source": [
        "20743.58/3600"
      ]
    },
    {
      "cell_type": "code",
      "execution_count": null,
      "metadata": {
        "id": "uvS48Na1e-Zb"
      },
      "outputs": [],
      "source": []
    },
    {
      "cell_type": "markdown",
      "metadata": {
        "id": "qf6pQOI722ah"
      },
      "source": [
        "# Model v1"
      ]
    },
    {
      "cell_type": "markdown",
      "metadata": {
        "id": "V7b4nYysXhwP"
      },
      "source": [
        "## Training"
      ]
    },
    {
      "cell_type": "code",
      "execution_count": null,
      "metadata": {
        "id": "BL3cA3APWljm"
      },
      "outputs": [],
      "source": [
        "#model architecture\n",
        "\n",
        "def model_v1(model, seq_length=MAX_LENGTH):\n",
        "\n",
        "    input_ids = tf.keras.layers.Input(shape=(seq_length,), dtype=tf.int64, name=\"input_ids\")\n",
        "    attention_mask = tf.keras.layers.Input(shape=(seq_length,), dtype=tf.int64, name=\"attention_mask\")\n",
        "\n",
        "    embedding_layer = model(input_ids=input_ids, attention_mask=attention_mask)[0]\n",
        "\n",
        "    max_pool_txt = tf.keras.layers.GlobalMaxPool1D(name = 'max_pooling_txt')(embedding_layer)\n",
        "    avg_pool_txt = tf.keras.layers.GlobalAveragePooling1D(name = 'avg_pooling_txt')(embedding_layer)\n",
        "    concat_txt = tf.keras.layers.concatenate([max_pool_txt, avg_pool_txt])\n",
        "\n",
        "    batch_norm_1_txt = tf.keras.layers.BatchNormalization(name='batch_norm1_txt')(concat_txt)\n",
        "    dense_1_txt = tf.keras.layers.Dense(256, activation='relu', name='dense_1_txt')(batch_norm_1_txt)\n",
        "    batch_norm_2_txt = tf.keras.layers.BatchNormalization(name='batch_norm2_txt')(dense_1_txt)\n",
        "    dropout_1_txt = tf.keras.layers.Dropout(0.25, name='dropout_1_txt')(batch_norm_2_txt) #changed from 0.4 to 0.25\n",
        "\n",
        "    #fully connected layer\n",
        "    dense_fc = tf.keras.layers.Dense(128, activation='relu', name='dense_fc')(dropout_1_txt)\n",
        "    batch_norm_fc = tf.keras.layers.BatchNormalization(name='batch_norm_fc')(dense_fc)\n",
        "    dropout_fc = tf.keras.layers.Dropout(0.3, name='dropout_fc')(batch_norm_fc)\n",
        "\n",
        "    output = tf.keras.layers.Dense(1, activation='sigmoid', name='labels')(dropout_fc) #sigmoid instead of softmax, classes=1 :{0..1}\n",
        "\n",
        "    classif_model = tf.keras.Model(inputs=[input_ids, attention_mask], outputs=output)\n",
        "\n",
        "    return classif_model"
      ]
    },
    {
      "cell_type": "code",
      "execution_count": null,
      "metadata": {
        "colab": {
          "base_uri": "https://localhost:8080/",
          "height": 158,
          "referenced_widgets": [
            "bf6c3d657f534e1885c613d5ee99ff51",
            "cc85e4becec048bf824db17370b46e56",
            "0dd22d21431143898daec05c735396e6",
            "2da9627247e54e2ebb84ef60eae92b5c",
            "0bc79789208946a7821dbc16e59b241a",
            "708f890a828249a0b08a67d0d85c5df9",
            "bea9625f633044d3b90003d3d2fdf3bd",
            "43fb417c42b3476e8ab5a0bc07c94926",
            "1d1d9211d1c64c7aade0a0d89fe5b742",
            "16b80538857a4b84b5176787f0aaa2d7",
            "64ff4db9370948c98656241a52643c4c"
          ]
        },
        "id": "cqH2KhGbXq2O",
        "outputId": "b53e7f44-ddfa-446e-e6c1-62c03cf23d77"
      },
      "outputs": [
        {
          "data": {
            "application/vnd.jupyter.widget-view+json": {
              "model_id": "bf6c3d657f534e1885c613d5ee99ff51",
              "version_major": 2,
              "version_minor": 0
            },
            "text/plain": [
              "model.safetensors:   0%|          | 0.00/672M [00:00<?, ?B/s]"
            ]
          },
          "metadata": {},
          "output_type": "display_data"
        },
        {
          "name": "stderr",
          "output_type": "stream",
          "text": [
            "Some weights of the PyTorch model were not used when initializing the TF 2.0 model TFBertModel: ['cls.predictions.transform.dense.weight', 'cls.seq_relationship.bias', 'cls.predictions.bias', 'cls.predictions.transform.LayerNorm.weight', 'cls.seq_relationship.weight', 'cls.predictions.transform.LayerNorm.bias', 'cls.predictions.transform.dense.bias']\n",
            "- This IS expected if you are initializing TFBertModel from a PyTorch model trained on another task or with another architecture (e.g. initializing a TFBertForSequenceClassification model from a BertForPreTraining model).\n",
            "- This IS NOT expected if you are initializing TFBertModel from a PyTorch model that you expect to be exactly identical (e.g. initializing a TFBertForSequenceClassification model from a BertForSequenceClassification model).\n",
            "All the weights of TFBertModel were initialized from the PyTorch model.\n",
            "If your task is similar to the task the model of the checkpoint was trained on, you can already use TFBertModel for predictions without further training.\n"
          ]
        }
      ],
      "source": [
        "with strategy.scope(): # creating the model in the TPU strategy scope\n",
        "    bert_multi_model = TFBertModel.from_pretrained(bert_multi)\n",
        "    model_txt_1 = model_v1(bert_multi_model, seq_length=MAX_LENGTH)\n",
        "\n",
        "    filepath1 = 'hybrid_model_txt_v1_loss.h5'\n",
        "    filepath2 = 'hybrid_model_txt_v1_acc.h5'\n",
        "\n",
        "    #chekpoints\n",
        "    checkpoint1 = ModelCheckpoint(filepath1, monitor='val_loss', verbose=1, \\\n",
        "                                  save_best_only=True, save_weights_only=True, \\\n",
        "                                  mode='auto', save_frequency=1)\n",
        "\n",
        "    checkpoint2 = ModelCheckpoint(filepath2, monitor='val_accuracy', verbose=1, \\\n",
        "                                  save_best_only=True, save_weights_only=True, \\\n",
        "                                  mode='auto', save_frequency=1)\n",
        "\n",
        "    #checkpoint3 = ModelCheckpoint(filepath3, monitor='val_recall', verbose=1, \\\n",
        "    #                              save_best_only=True, save_weights_only=True, \\\n",
        "    #                              mode='auto', save_frequency=1)\n",
        "\n",
        "    early_stop = EarlyStopping(monitor='val_loss', patience=15)\n",
        "\n",
        "\n",
        "    #initial learning rate & optimizer\n",
        "    lr = 2e-6\n",
        "    optimizer = tf.keras.optimizers.Adam(lr)\n",
        "\n",
        "    #learning rate schedule --> for exploring the plateu when stuck in locals minimals\n",
        "    reduce_lr = tf.keras.callbacks.ReduceLROnPlateau(\n",
        "        monitor='val_loss',\n",
        "        learning_rate=lr,\n",
        "        factor=0.1,\n",
        "        patience=5,\n",
        "        verbose=1,\n",
        "        min_delta=1e-4,\n",
        "        mode='auto'\n",
        "    )\n",
        "\n",
        "    #compile model\n",
        "    model_txt_1.compile(loss = 'binary_crossentropy', optimizer= optimizer ,\n",
        "                        metrics=[\"accuracy\",\n",
        "                                 tf.keras.metrics.AUC(),\n",
        "                                 tf.keras.metrics.Precision(),\n",
        "                                 tf.keras.metrics.Recall()])"
      ]
    },
    {
      "cell_type": "code",
      "execution_count": null,
      "metadata": {
        "colab": {
          "base_uri": "https://localhost:8080/"
        },
        "id": "WFfGxnxrXqzF",
        "outputId": "d9efdc42-8542-4d26-af2e-84f80cb058b3"
      },
      "outputs": [
        {
          "name": "stdout",
          "output_type": "stream",
          "text": [
            "0 <keras.engine.input_layer.InputLayer object at 0x7e7c56d51d80> False\n",
            "1 <keras.engine.input_layer.InputLayer object at 0x7e7c165c3fd0> False\n",
            "2 <transformers.models.bert.modeling_tf_bert.TFBertModel object at 0x7e7da2067f10> False\n",
            "3 <keras.layers.pooling.GlobalMaxPooling1D object at 0x7e7c16a90e50> True\n",
            "4 <keras.layers.pooling.GlobalAveragePooling1D object at 0x7e7c16adbbe0> True\n",
            "5 <keras.layers.merge.Concatenate object at 0x7e7c166ff610> True\n",
            "6 <keras.layers.normalization.batch_normalization.BatchNormalization object at 0x7e7c13e71450> True\n",
            "7 <keras.layers.core.dense.Dense object at 0x7e7c13b64040> True\n",
            "8 <keras.layers.normalization.batch_normalization.BatchNormalization object at 0x7e7c16a82fe0> True\n",
            "9 <keras.layers.core.dropout.Dropout object at 0x7e7c13f69420> True\n",
            "10 <keras.layers.core.dense.Dense object at 0x7e7c13b67850> True\n",
            "11 <keras.layers.normalization.batch_normalization.BatchNormalization object at 0x7e7c13f6bf10> True\n",
            "12 <keras.layers.core.dropout.Dropout object at 0x7e7c13b81fc0> True\n",
            "13 <keras.layers.core.dense.Dense object at 0x7e7c13b83700> True\n"
          ]
        }
      ],
      "source": [
        "for index,layer in enumerate(model_txt_1.layers):\n",
        "\n",
        "  if index < 3: #freeze bert layer (dont want to tune the bert weights)\n",
        "    layer.trainable = False\n",
        "\n",
        "\n",
        "  print(index, layer, layer.trainable)"
      ]
    },
    {
      "cell_type": "code",
      "execution_count": null,
      "metadata": {
        "colab": {
          "base_uri": "https://localhost:8080/"
        },
        "id": "dytkGQCmZNK2",
        "outputId": "7b5f5e5a-32f7-46d9-d289-888432cd8eca"
      },
      "outputs": [
        {
          "name": "stdout",
          "output_type": "stream",
          "text": [
            "Epoch 1/30\n"
          ]
        },
        {
          "name": "stderr",
          "output_type": "stream",
          "text": [
            "WARNING:tensorflow:Gradients do not exist for variables ['tf_bert_model/bert/pooler/dense/kernel:0', 'tf_bert_model/bert/pooler/dense/bias:0'] when minimizing the loss. If you're using `model.compile()`, did you forget to provide a `loss`argument?\n",
            "WARNING:tensorflow:Gradients do not exist for variables ['tf_bert_model/bert/pooler/dense/kernel:0', 'tf_bert_model/bert/pooler/dense/bias:0'] when minimizing the loss. If you're using `model.compile()`, did you forget to provide a `loss`argument?\n"
          ]
        },
        {
          "name": "stdout",
          "output_type": "stream",
          "text": [
            "7350/7350 [==============================] - ETA: 0s - loss: 0.4956 - accuracy: 0.7889 - auc: 0.8692 - precision: 0.7894 - recall: 0.7880\n",
            "Epoch 1: val_loss improved from inf to 0.24322, saving model to hybrid_model_txt_v1_loss.h5\n",
            "\n",
            "Epoch 1: val_accuracy improved from -inf to 0.90734, saving model to hybrid_model_txt_v1_acc.h5\n",
            "7350/7350 [==============================] - 750s 92ms/step - loss: 0.4956 - accuracy: 0.7889 - auc: 0.8692 - precision: 0.7894 - recall: 0.7880 - val_loss: 0.2432 - val_accuracy: 0.9073 - val_auc: 0.9665 - val_precision: 0.9345 - val_recall: 0.8761 - lr: 2.0000e-06\n",
            "Epoch 2/30\n",
            "7350/7350 [==============================] - ETA: 0s - loss: 0.3040 - accuracy: 0.8879 - auc: 0.9468 - precision: 0.8885 - recall: 0.8870\n",
            "Epoch 2: val_loss improved from 0.24322 to 0.16976, saving model to hybrid_model_txt_v1_loss.h5\n",
            "\n",
            "Epoch 2: val_accuracy improved from 0.90734 to 0.93990, saving model to hybrid_model_txt_v1_acc.h5\n",
            "7350/7350 [==============================] - 685s 93ms/step - loss: 0.3040 - accuracy: 0.8879 - auc: 0.9468 - precision: 0.8885 - recall: 0.8870 - val_loss: 0.1698 - val_accuracy: 0.9399 - val_auc: 0.9828 - val_precision: 0.9508 - val_recall: 0.9278 - lr: 2.0000e-06\n",
            "Epoch 3/30\n",
            "7350/7350 [==============================] - ETA: 0s - loss: 0.2316 - accuracy: 0.9199 - auc: 0.9673 - precision: 0.9189 - recall: 0.9211\n",
            "Epoch 3: val_loss improved from 0.16976 to 0.13781, saving model to hybrid_model_txt_v1_loss.h5\n",
            "\n",
            "Epoch 3: val_accuracy improved from 0.93990 to 0.95411, saving model to hybrid_model_txt_v1_acc.h5\n",
            "7350/7350 [==============================] - 680s 92ms/step - loss: 0.2316 - accuracy: 0.9199 - auc: 0.9673 - precision: 0.9189 - recall: 0.9211 - val_loss: 0.1378 - val_accuracy: 0.9541 - val_auc: 0.9876 - val_precision: 0.9593 - val_recall: 0.9485 - lr: 2.0000e-06\n",
            "Epoch 4/30\n",
            "7350/7350 [==============================] - ETA: 0s - loss: 0.1940 - accuracy: 0.9350 - auc: 0.9761 - precision: 0.9334 - recall: 0.9369\n",
            "Epoch 4: val_loss improved from 0.13781 to 0.11989, saving model to hybrid_model_txt_v1_loss.h5\n",
            "\n",
            "Epoch 4: val_accuracy improved from 0.95411 to 0.96087, saving model to hybrid_model_txt_v1_acc.h5\n",
            "7350/7350 [==============================] - 688s 94ms/step - loss: 0.1940 - accuracy: 0.9350 - auc: 0.9761 - precision: 0.9334 - recall: 0.9369 - val_loss: 0.1199 - val_accuracy: 0.9609 - val_auc: 0.9900 - val_precision: 0.9638 - val_recall: 0.9578 - lr: 2.0000e-06\n",
            "Epoch 5/30\n",
            "7350/7350 [==============================] - ETA: 0s - loss: 0.1680 - accuracy: 0.9442 - auc: 0.9815 - precision: 0.9425 - recall: 0.9462\n",
            "Epoch 5: val_loss improved from 0.11989 to 0.11680, saving model to hybrid_model_txt_v1_loss.h5\n",
            "\n",
            "Epoch 5: val_accuracy improved from 0.96087 to 0.96213, saving model to hybrid_model_txt_v1_acc.h5\n",
            "7350/7350 [==============================] - 686s 93ms/step - loss: 0.1680 - accuracy: 0.9442 - auc: 0.9815 - precision: 0.9425 - recall: 0.9462 - val_loss: 0.1168 - val_accuracy: 0.9621 - val_auc: 0.9910 - val_precision: 0.9744 - val_recall: 0.9492 - lr: 2.0000e-06\n",
            "Epoch 6/30\n",
            "7350/7350 [==============================] - ETA: 0s - loss: 0.1479 - accuracy: 0.9515 - auc: 0.9852 - precision: 0.9496 - recall: 0.9537\n",
            "Epoch 6: val_loss improved from 0.11680 to 0.09556, saving model to hybrid_model_txt_v1_loss.h5\n",
            "\n",
            "Epoch 6: val_accuracy improved from 0.96213 to 0.96870, saving model to hybrid_model_txt_v1_acc.h5\n",
            "7350/7350 [==============================] - 688s 94ms/step - loss: 0.1479 - accuracy: 0.9515 - auc: 0.9852 - precision: 0.9496 - recall: 0.9537 - val_loss: 0.0956 - val_accuracy: 0.9687 - val_auc: 0.9933 - val_precision: 0.9697 - val_recall: 0.9676 - lr: 2.0000e-06\n",
            "Epoch 7/30\n",
            "7350/7350 [==============================] - ETA: 0s - loss: 0.1318 - accuracy: 0.9567 - auc: 0.9881 - precision: 0.9543 - recall: 0.9593\n",
            "Epoch 7: val_loss improved from 0.09556 to 0.08658, saving model to hybrid_model_txt_v1_loss.h5\n",
            "\n",
            "Epoch 7: val_accuracy improved from 0.96870 to 0.97178, saving model to hybrid_model_txt_v1_acc.h5\n",
            "7350/7350 [==============================] - 676s 92ms/step - loss: 0.1318 - accuracy: 0.9567 - auc: 0.9881 - precision: 0.9543 - recall: 0.9593 - val_loss: 0.0866 - val_accuracy: 0.9718 - val_auc: 0.9941 - val_precision: 0.9726 - val_recall: 0.9709 - lr: 2.0000e-06\n",
            "Epoch 8/30\n",
            "7350/7350 [==============================] - ETA: 0s - loss: 0.1183 - accuracy: 0.9608 - auc: 0.9902 - precision: 0.9581 - recall: 0.9637\n",
            "Epoch 8: val_loss improved from 0.08658 to 0.08077, saving model to hybrid_model_txt_v1_loss.h5\n",
            "\n",
            "Epoch 8: val_accuracy improved from 0.97178 to 0.97457, saving model to hybrid_model_txt_v1_acc.h5\n",
            "7350/7350 [==============================] - 688s 94ms/step - loss: 0.1183 - accuracy: 0.9608 - auc: 0.9902 - precision: 0.9581 - recall: 0.9637 - val_loss: 0.0808 - val_accuracy: 0.9746 - val_auc: 0.9945 - val_precision: 0.9758 - val_recall: 0.9733 - lr: 2.0000e-06\n",
            "Epoch 9/30\n",
            "7350/7350 [==============================] - ETA: 0s - loss: 0.1066 - accuracy: 0.9650 - auc: 0.9918 - precision: 0.9623 - recall: 0.9680\n",
            "Epoch 9: val_loss improved from 0.08077 to 0.07353, saving model to hybrid_model_txt_v1_loss.h5\n",
            "\n",
            "Epoch 9: val_accuracy improved from 0.97457 to 0.97656, saving model to hybrid_model_txt_v1_acc.h5\n",
            "7350/7350 [==============================] - 683s 93ms/step - loss: 0.1066 - accuracy: 0.9650 - auc: 0.9918 - precision: 0.9623 - recall: 0.9680 - val_loss: 0.0735 - val_accuracy: 0.9766 - val_auc: 0.9950 - val_precision: 0.9756 - val_recall: 0.9775 - lr: 2.0000e-06\n",
            "Epoch 10/30\n",
            "7350/7350 [==============================] - ETA: 0s - loss: 0.0981 - accuracy: 0.9676 - auc: 0.9929 - precision: 0.9648 - recall: 0.9706\n",
            "Epoch 10: val_loss improved from 0.07353 to 0.07053, saving model to hybrid_model_txt_v1_loss.h5\n",
            "\n",
            "Epoch 10: val_accuracy improved from 0.97656 to 0.97774, saving model to hybrid_model_txt_v1_acc.h5\n",
            "7350/7350 [==============================] - 734s 100ms/step - loss: 0.0981 - accuracy: 0.9676 - auc: 0.9929 - precision: 0.9648 - recall: 0.9706 - val_loss: 0.0705 - val_accuracy: 0.9777 - val_auc: 0.9953 - val_precision: 0.9733 - val_recall: 0.9824 - lr: 2.0000e-06\n",
            "Epoch 11/30\n",
            "7350/7350 [==============================] - ETA: 0s - loss: 0.0896 - accuracy: 0.9707 - auc: 0.9939 - precision: 0.9677 - recall: 0.9739\n",
            "Epoch 11: val_loss improved from 0.07053 to 0.06888, saving model to hybrid_model_txt_v1_loss.h5\n",
            "\n",
            "Epoch 11: val_accuracy improved from 0.97774 to 0.97821, saving model to hybrid_model_txt_v1_acc.h5\n",
            "7350/7350 [==============================] - 677s 92ms/step - loss: 0.0896 - accuracy: 0.9707 - auc: 0.9939 - precision: 0.9677 - recall: 0.9739 - val_loss: 0.0689 - val_accuracy: 0.9782 - val_auc: 0.9956 - val_precision: 0.9802 - val_recall: 0.9762 - lr: 2.0000e-06\n",
            "Epoch 12/30\n",
            "7350/7350 [==============================] - ETA: 0s - loss: 0.0832 - accuracy: 0.9728 - auc: 0.9947 - precision: 0.9699 - recall: 0.9760\n",
            "Epoch 12: val_loss improved from 0.06888 to 0.06352, saving model to hybrid_model_txt_v1_loss.h5\n",
            "\n",
            "Epoch 12: val_accuracy improved from 0.97821 to 0.98029, saving model to hybrid_model_txt_v1_acc.h5\n",
            "7350/7350 [==============================] - 705s 96ms/step - loss: 0.0832 - accuracy: 0.9728 - auc: 0.9947 - precision: 0.9699 - recall: 0.9760 - val_loss: 0.0635 - val_accuracy: 0.9803 - val_auc: 0.9959 - val_precision: 0.9800 - val_recall: 0.9806 - lr: 2.0000e-06\n",
            "Epoch 13/30\n",
            "7350/7350 [==============================] - ETA: 0s - loss: 0.0775 - accuracy: 0.9742 - auc: 0.9953 - precision: 0.9713 - recall: 0.9773\n",
            "Epoch 13: val_loss improved from 0.06352 to 0.06305, saving model to hybrid_model_txt_v1_loss.h5\n",
            "\n",
            "Epoch 13: val_accuracy improved from 0.98029 to 0.98060, saving model to hybrid_model_txt_v1_acc.h5\n",
            "7350/7350 [==============================] - 722s 98ms/step - loss: 0.0775 - accuracy: 0.9742 - auc: 0.9953 - precision: 0.9713 - recall: 0.9773 - val_loss: 0.0630 - val_accuracy: 0.9806 - val_auc: 0.9960 - val_precision: 0.9841 - val_recall: 0.9770 - lr: 2.0000e-06\n",
            "Epoch 14/30\n",
            "7350/7350 [==============================] - ETA: 0s - loss: 0.0719 - accuracy: 0.9764 - auc: 0.9958 - precision: 0.9736 - recall: 0.9793\n",
            "Epoch 14: val_loss improved from 0.06305 to 0.06256, saving model to hybrid_model_txt_v1_loss.h5\n",
            "\n",
            "Epoch 14: val_accuracy improved from 0.98060 to 0.98172, saving model to hybrid_model_txt_v1_acc.h5\n",
            "7350/7350 [==============================] - 704s 96ms/step - loss: 0.0719 - accuracy: 0.9764 - auc: 0.9958 - precision: 0.9736 - recall: 0.9793 - val_loss: 0.0626 - val_accuracy: 0.9817 - val_auc: 0.9958 - val_precision: 0.9781 - val_recall: 0.9855 - lr: 2.0000e-06\n",
            "Epoch 15/30\n",
            "7350/7350 [==============================] - ETA: 0s - loss: 0.0673 - accuracy: 0.9780 - auc: 0.9963 - precision: 0.9751 - recall: 0.9810\n",
            "Epoch 15: val_loss improved from 0.06256 to 0.05914, saving model to hybrid_model_txt_v1_loss.h5\n",
            "\n",
            "Epoch 15: val_accuracy improved from 0.98172 to 0.98289, saving model to hybrid_model_txt_v1_acc.h5\n",
            "7350/7350 [==============================] - 689s 94ms/step - loss: 0.0673 - accuracy: 0.9780 - auc: 0.9963 - precision: 0.9751 - recall: 0.9810 - val_loss: 0.0591 - val_accuracy: 0.9829 - val_auc: 0.9961 - val_precision: 0.9844 - val_recall: 0.9814 - lr: 2.0000e-06\n",
            "Epoch 16/30\n",
            "7350/7350 [==============================] - ETA: 0s - loss: 0.0633 - accuracy: 0.9793 - auc: 0.9967 - precision: 0.9767 - recall: 0.9821\n",
            "Epoch 16: val_loss improved from 0.05914 to 0.05480, saving model to hybrid_model_txt_v1_loss.h5\n",
            "\n",
            "Epoch 16: val_accuracy improved from 0.98289 to 0.98409, saving model to hybrid_model_txt_v1_acc.h5\n",
            "7350/7350 [==============================] - 692s 94ms/step - loss: 0.0633 - accuracy: 0.9793 - auc: 0.9967 - precision: 0.9767 - recall: 0.9821 - val_loss: 0.0548 - val_accuracy: 0.9841 - val_auc: 0.9966 - val_precision: 0.9837 - val_recall: 0.9845 - lr: 2.0000e-06\n",
            "Epoch 17/30\n",
            "7350/7350 [==============================] - ETA: 0s - loss: 0.0603 - accuracy: 0.9802 - auc: 0.9970 - precision: 0.9780 - recall: 0.9826\n",
            "Epoch 17: val_loss improved from 0.05480 to 0.05461, saving model to hybrid_model_txt_v1_loss.h5\n",
            "\n",
            "Epoch 17: val_accuracy improved from 0.98409 to 0.98489, saving model to hybrid_model_txt_v1_acc.h5\n",
            "7350/7350 [==============================] - 706s 96ms/step - loss: 0.0603 - accuracy: 0.9802 - auc: 0.9970 - precision: 0.9780 - recall: 0.9826 - val_loss: 0.0546 - val_accuracy: 0.9849 - val_auc: 0.9962 - val_precision: 0.9820 - val_recall: 0.9878 - lr: 2.0000e-06\n",
            "Epoch 18/30\n",
            "7350/7350 [==============================] - ETA: 0s - loss: 0.0565 - accuracy: 0.9816 - auc: 0.9973 - precision: 0.9793 - recall: 0.9840\n",
            "Epoch 18: val_loss improved from 0.05461 to 0.05194, saving model to hybrid_model_txt_v1_loss.h5\n",
            "\n",
            "Epoch 18: val_accuracy improved from 0.98489 to 0.98558, saving model to hybrid_model_txt_v1_acc.h5\n",
            "7350/7350 [==============================] - 680s 92ms/step - loss: 0.0565 - accuracy: 0.9816 - auc: 0.9973 - precision: 0.9793 - recall: 0.9840 - val_loss: 0.0519 - val_accuracy: 0.9856 - val_auc: 0.9967 - val_precision: 0.9814 - val_recall: 0.9900 - lr: 2.0000e-06\n",
            "Epoch 19/30\n",
            "7350/7350 [==============================] - ETA: 0s - loss: 0.0543 - accuracy: 0.9822 - auc: 0.9974 - precision: 0.9801 - recall: 0.9845\n",
            "Epoch 19: val_loss improved from 0.05194 to 0.04899, saving model to hybrid_model_txt_v1_loss.h5\n",
            "\n",
            "Epoch 19: val_accuracy improved from 0.98558 to 0.98572, saving model to hybrid_model_txt_v1_acc.h5\n",
            "7350/7350 [==============================] - 698s 95ms/step - loss: 0.0543 - accuracy: 0.9822 - auc: 0.9974 - precision: 0.9801 - recall: 0.9845 - val_loss: 0.0490 - val_accuracy: 0.9857 - val_auc: 0.9970 - val_precision: 0.9825 - val_recall: 0.9891 - lr: 2.0000e-06\n",
            "Epoch 20/30\n",
            "7350/7350 [==============================] - ETA: 0s - loss: 0.0510 - accuracy: 0.9831 - auc: 0.9977 - precision: 0.9809 - recall: 0.9855\n",
            "Epoch 20: val_loss did not improve from 0.04899\n",
            "\n",
            "Epoch 20: val_accuracy improved from 0.98572 to 0.98623, saving model to hybrid_model_txt_v1_acc.h5\n",
            "7350/7350 [==============================] - 684s 93ms/step - loss: 0.0510 - accuracy: 0.9831 - auc: 0.9977 - precision: 0.9809 - recall: 0.9855 - val_loss: 0.0520 - val_accuracy: 0.9862 - val_auc: 0.9966 - val_precision: 0.9859 - val_recall: 0.9866 - lr: 2.0000e-06\n",
            "Epoch 21/30\n",
            "7350/7350 [==============================] - ETA: 0s - loss: 0.0487 - accuracy: 0.9839 - auc: 0.9979 - precision: 0.9818 - recall: 0.9862\n",
            "Epoch 21: val_loss did not improve from 0.04899\n",
            "\n",
            "Epoch 21: val_accuracy did not improve from 0.98623\n",
            "7350/7350 [==============================] - 666s 91ms/step - loss: 0.0487 - accuracy: 0.9839 - auc: 0.9979 - precision: 0.9818 - recall: 0.9862 - val_loss: 0.0546 - val_accuracy: 0.9850 - val_auc: 0.9968 - val_precision: 0.9846 - val_recall: 0.9854 - lr: 2.0000e-06\n",
            "Epoch 22/30\n",
            "7350/7350 [==============================] - ETA: 0s - loss: 0.0469 - accuracy: 0.9845 - auc: 0.9980 - precision: 0.9825 - recall: 0.9866\n",
            "Epoch 22: val_loss did not improve from 0.04899\n",
            "\n",
            "Epoch 22: val_accuracy did not improve from 0.98623\n",
            "7350/7350 [==============================] - 661s 90ms/step - loss: 0.0469 - accuracy: 0.9845 - auc: 0.9980 - precision: 0.9825 - recall: 0.9866 - val_loss: 0.0495 - val_accuracy: 0.9861 - val_auc: 0.9968 - val_precision: 0.9834 - val_recall: 0.9888 - lr: 2.0000e-06\n",
            "Epoch 23/30\n",
            "7350/7350 [==============================] - ETA: 0s - loss: 0.0448 - accuracy: 0.9850 - auc: 0.9981 - precision: 0.9831 - recall: 0.9871\n",
            "Epoch 23: val_loss improved from 0.04899 to 0.04768, saving model to hybrid_model_txt_v1_loss.h5\n",
            "\n",
            "Epoch 23: val_accuracy improved from 0.98623 to 0.98730, saving model to hybrid_model_txt_v1_acc.h5\n",
            "7350/7350 [==============================] - 706s 96ms/step - loss: 0.0448 - accuracy: 0.9850 - auc: 0.9981 - precision: 0.9831 - recall: 0.9871 - val_loss: 0.0477 - val_accuracy: 0.9873 - val_auc: 0.9968 - val_precision: 0.9854 - val_recall: 0.9893 - lr: 2.0000e-06\n",
            "Epoch 24/30\n",
            "7350/7350 [==============================] - ETA: 0s - loss: 0.0429 - accuracy: 0.9857 - auc: 0.9983 - precision: 0.9842 - recall: 0.9872\n",
            "Epoch 24: val_loss did not improve from 0.04768\n",
            "\n",
            "Epoch 24: val_accuracy did not improve from 0.98730\n",
            "7350/7350 [==============================] - 667s 91ms/step - loss: 0.0429 - accuracy: 0.9857 - auc: 0.9983 - precision: 0.9842 - recall: 0.9872 - val_loss: 0.0480 - val_accuracy: 0.9871 - val_auc: 0.9970 - val_precision: 0.9859 - val_recall: 0.9884 - lr: 2.0000e-06\n",
            "Epoch 25/30\n",
            "7350/7350 [==============================] - ETA: 0s - loss: 0.0423 - accuracy: 0.9857 - auc: 0.9983 - precision: 0.9842 - recall: 0.9874\n",
            "Epoch 25: val_loss improved from 0.04768 to 0.04686, saving model to hybrid_model_txt_v1_loss.h5\n",
            "\n",
            "Epoch 25: val_accuracy did not improve from 0.98730\n",
            "7350/7350 [==============================] - 677s 92ms/step - loss: 0.0423 - accuracy: 0.9857 - auc: 0.9983 - precision: 0.9842 - recall: 0.9874 - val_loss: 0.0469 - val_accuracy: 0.9864 - val_auc: 0.9974 - val_precision: 0.9863 - val_recall: 0.9864 - lr: 2.0000e-06\n",
            "Epoch 26/30\n",
            "7350/7350 [==============================] - ETA: 0s - loss: 0.0404 - accuracy: 0.9865 - auc: 0.9985 - precision: 0.9851 - recall: 0.9879\n",
            "Epoch 26: val_loss improved from 0.04686 to 0.04530, saving model to hybrid_model_txt_v1_loss.h5\n",
            "\n",
            "Epoch 26: val_accuracy improved from 0.98730 to 0.98744, saving model to hybrid_model_txt_v1_acc.h5\n",
            "7350/7350 [==============================] - 691s 94ms/step - loss: 0.0404 - accuracy: 0.9865 - auc: 0.9985 - precision: 0.9851 - recall: 0.9879 - val_loss: 0.0453 - val_accuracy: 0.9874 - val_auc: 0.9972 - val_precision: 0.9869 - val_recall: 0.9880 - lr: 2.0000e-06\n",
            "Epoch 27/30\n",
            "7350/7350 [==============================] - ETA: 0s - loss: 0.0388 - accuracy: 0.9868 - auc: 0.9986 - precision: 0.9854 - recall: 0.9882\n",
            "Epoch 27: val_loss did not improve from 0.04530\n",
            "\n",
            "Epoch 27: val_accuracy did not improve from 0.98744\n",
            "7350/7350 [==============================] - 671s 91ms/step - loss: 0.0388 - accuracy: 0.9868 - auc: 0.9986 - precision: 0.9854 - recall: 0.9882 - val_loss: 0.0470 - val_accuracy: 0.9863 - val_auc: 0.9971 - val_precision: 0.9867 - val_recall: 0.9859 - lr: 2.0000e-06\n",
            "Epoch 28/30\n",
            "7350/7350 [==============================] - ETA: 0s - loss: 0.0378 - accuracy: 0.9870 - auc: 0.9987 - precision: 0.9857 - recall: 0.9884\n",
            "Epoch 28: val_loss did not improve from 0.04530\n",
            "\n",
            "Epoch 28: val_accuracy improved from 0.98744 to 0.98849, saving model to hybrid_model_txt_v1_acc.h5\n",
            "7350/7350 [==============================] - 703s 96ms/step - loss: 0.0378 - accuracy: 0.9870 - auc: 0.9987 - precision: 0.9857 - recall: 0.9884 - val_loss: 0.0465 - val_accuracy: 0.9885 - val_auc: 0.9971 - val_precision: 0.9853 - val_recall: 0.9918 - lr: 2.0000e-06\n",
            "Epoch 29/30\n",
            "7350/7350 [==============================] - ETA: 0s - loss: 0.0364 - accuracy: 0.9875 - auc: 0.9987 - precision: 0.9861 - recall: 0.9888\n",
            "Epoch 29: val_loss improved from 0.04530 to 0.04508, saving model to hybrid_model_txt_v1_loss.h5\n",
            "\n",
            "Epoch 29: val_accuracy did not improve from 0.98849\n",
            "7350/7350 [==============================] - 689s 94ms/step - loss: 0.0364 - accuracy: 0.9875 - auc: 0.9987 - precision: 0.9861 - recall: 0.9888 - val_loss: 0.0451 - val_accuracy: 0.9876 - val_auc: 0.9972 - val_precision: 0.9862 - val_recall: 0.9890 - lr: 2.0000e-06\n",
            "Epoch 30/30\n",
            "7350/7350 [==============================] - ETA: 0s - loss: 0.0350 - accuracy: 0.9879 - auc: 0.9988 - precision: 0.9867 - recall: 0.9891\n",
            "Epoch 30: val_loss did not improve from 0.04508\n",
            "\n",
            "Epoch 30: val_accuracy did not improve from 0.98849\n",
            "7350/7350 [==============================] - 669s 91ms/step - loss: 0.0350 - accuracy: 0.9879 - auc: 0.9988 - precision: 0.9867 - recall: 0.9891 - val_loss: 0.0532 - val_accuracy: 0.9869 - val_auc: 0.9966 - val_precision: 0.9882 - val_recall: 0.9855 - lr: 2.0000e-06\n",
            "time taken to train model (30 epochs): 20743.582286834717 secs\n"
          ]
        }
      ],
      "source": [
        "start = time.time()\n",
        "epochs = 30\n",
        "\n",
        "\n",
        "history_1 = model_txt_1.fit(ds_training,validation_data=ds_validating, epochs=epochs, callbacks=[reduce_lr,checkpoint1, checkpoint2, early_stop])\n",
        "\n",
        "end = time.time()\n",
        "total_time = end-start\n",
        "print(f'time taken to train model ({epochs} epochs): {total_time} secs')"
      ]
    },
    {
      "cell_type": "code",
      "execution_count": null,
      "metadata": {
        "colab": {
          "base_uri": "https://localhost:8080/"
        },
        "id": "2N-amzkda_T5",
        "outputId": "be52eeae-d48d-4923-d0f2-a2fd7fcbf955"
      },
      "outputs": [
        {
          "data": {
            "text/plain": [
              "5.762105555555556"
            ]
          },
          "execution_count": 20,
          "metadata": {},
          "output_type": "execute_result"
        }
      ],
      "source": [
        "20743.58/3600"
      ]
    },
    {
      "cell_type": "markdown",
      "metadata": {
        "id": "_CckDXxNZt3v"
      },
      "source": [
        "## Evaluating"
      ]
    },
    {
      "cell_type": "code",
      "execution_count": null,
      "metadata": {
        "colab": {
          "base_uri": "https://localhost:8080/",
          "height": 451
        },
        "id": "xckqMLPEZqGV",
        "outputId": "4a5b1e9d-9235-4abf-c2c5-337f35609a31"
      },
      "outputs": [
        {
          "data": {
            "image/png": "[encoded data removed]",
            "text/plain": [
              "<Figure size 800x500 with 1 Axes>"
            ]
          },
          "metadata": {},
          "output_type": "display_data"
        }
      ],
      "source": [
        "loss_and_acc = {}\n",
        "loss_and_acc['loss'] = history_1.history['loss']\n",
        "loss_and_acc['val_loss'] = history_1.history['val_loss']\n",
        "loss_and_acc['accuracy'] = history_1.history['accuracy']\n",
        "loss_and_acc['val_accuracy'] = history_1.history['val_accuracy']\n",
        "\n",
        "df_metrics_1 = pd.DataFrame(loss_and_acc)\n",
        "df_metrics_1.plot(figsize=(8,5))\n",
        "plt.grid(True)\n",
        "plt.gca().set_ylim(0,1)\n",
        "plt.show()"
      ]
    },
    {
      "cell_type": "code",
      "execution_count": null,
      "metadata": {
        "colab": {
          "base_uri": "https://localhost:8080/",
          "height": 451
        },
        "id": "MCguQj5AZ0Nf",
        "outputId": "970b092b-f856-4c3c-ea9e-e4dbf6a6090d"
      },
      "outputs": [
        {
          "data": {
            "image/png": "[encoded data removed]",
            "text/plain": [
              "<Figure size 800x500 with 1 Axes>"
            ]
          },
          "metadata": {},
          "output_type": "display_data"
        }
      ],
      "source": [
        "precision_recall = {}\n",
        "precision_recall['auc'] = history_1.history['auc']\n",
        "precision_recall['val_auc'] = history_1.history['val_auc']\n",
        "precision_recall['precision'] = history_1.history['precision']\n",
        "precision_recall['val_precision'] = history_1.history['val_precision']\n",
        "precision_recall['recall'] = history_1.history['recall']\n",
        "precision_recall['val_recall'] = history_1.history['val_recall']\n",
        "\n",
        "df_metrics_2 = pd.DataFrame(precision_recall)\n",
        "df_metrics_2.plot(figsize=(8,5))\n",
        "plt.grid(True)\n",
        "plt.gca().set_ylim(0.8,1)\n",
        "plt.show()"
      ]
    },
    {
      "cell_type": "code",
      "execution_count": null,
      "metadata": {
        "colab": {
          "base_uri": "https://localhost:8080/"
        },
        "id": "zWADX3awaFnc",
        "outputId": "07cec099-b27b-4e5c-a182-f99b38a6e3b3"
      },
      "outputs": [
        {
          "name": "stdout",
          "output_type": "stream",
          "text": [
            "306/306 [==============================] - 14s 31ms/step - loss: 0.0589 - accuracy: 0.9865 - auc: 0.9960 - precision: 0.9876 - recall: 0.9853\n"
          ]
        },
        {
          "data": {
            "text/plain": [
              "[0.058868732303380966,\n",
              " 0.9864685535430908,\n",
              " 0.9959835410118103,\n",
              " 0.9875948429107666,\n",
              " 0.9852715730667114]"
            ]
          },
          "execution_count": 18,
          "metadata": {},
          "output_type": "execute_result"
        }
      ],
      "source": [
        "#evaluate\n",
        "model_txt_1.evaluate(ds_testing)"
      ]
    },
    {
      "cell_type": "code",
      "execution_count": null,
      "metadata": {
        "colab": {
          "base_uri": "https://localhost:8080/"
        },
        "id": "v-ZHMJvUaH_k",
        "outputId": "069ad9a2-ae68-438f-9483-92777df818ba"
      },
      "outputs": [
        {
          "name": "stdout",
          "output_type": "stream",
          "text": [
            "Copying file:///content/hybrid_model_txt_v1_acc.h5 [Content-Type=application/x-hdf5]...\n",
            "/ [0 files][    0.0 B/640.4 MiB]                                                \r==> NOTE: You are uploading one or more large file(s), which would run\n",
            "significantly faster if you enable parallel composite uploads. This\n",
            "feature can be enabled by editing the\n",
            "\"parallel_composite_upload_threshold\" value in your .boto\n",
            "configuration file. However, note that if you do this large files will\n",
            "be uploaded as `composite objects\n",
            "<https://cloud.google.com/storage/docs/composite-objects>`_,which\n",
            "means that any user who downloads such objects will need to have a\n",
            "compiled crcmod installed (see \"gsutil help crcmod\"). This is because\n",
            "without a compiled crcmod, computing checksums on composite objects is\n",
            "so slow that gsutil disables downloads of composite objects.\n",
            "\n",
            "/\n",
            "Operation completed over 1 objects/640.4 MiB.                                    \n",
            "Copying file:///content/hybrid_model_txt_v1_loss.h5 [Content-Type=application/x-hdf5]...\n",
            "==> NOTE: You are uploading one or more large file(s), which would run\n",
            "significantly faster if you enable parallel composite uploads. This\n",
            "feature can be enabled by editing the\n",
            "\"parallel_composite_upload_threshold\" value in your .boto\n",
            "configuration file. However, note that if you do this large files will\n",
            "be uploaded as `composite objects\n",
            "<https://cloud.google.com/storage/docs/composite-objects>`_,which\n",
            "means that any user who downloads such objects will need to have a\n",
            "compiled crcmod installed (see \"gsutil help crcmod\"). This is because\n",
            "without a compiled crcmod, computing checksums on composite objects is\n",
            "so slow that gsutil disables downloads of composite objects.\n",
            "\n",
            "- [1 files][640.4 MiB/640.4 MiB]                                                \n",
            "Operation completed over 1 objects/640.4 MiB.                                    \n"
          ]
        }
      ],
      "source": [
        "models_folder = 'models_checkpoints'\n",
        "!gsutil cp /content/hybrid_model_txt_v1_acc.h5 {BUCKET_URI}/{models_folder}\n",
        "!gsutil cp /content/hybrid_model_txt_v1_loss.h5 {BUCKET_URI}/{models_folder}"
      ]
    },
    {
      "cell_type": "code",
      "execution_count": null,
      "metadata": {
        "id": "_CiLeZmtaicI"
      },
      "outputs": [],
      "source": []
    },
    {
      "cell_type": "markdown",
      "metadata": {
        "id": "1TvEQ0gWeTbq"
      },
      "source": [
        "## Training"
      ]
    },
    {
      "cell_type": "code",
      "execution_count": null,
      "metadata": {
        "id": "oWeZfI0yej-B"
      },
      "outputs": [],
      "source": [
        "from transformers import TFBertForSequenceClassification"
      ]
    },
    {
      "cell_type": "code",
      "execution_count": null,
      "metadata": {
        "colab": {
          "base_uri": "https://localhost:8080/"
        },
        "id": "1px8H_r2eTbq",
        "outputId": "42d318a8-2d7f-4344-fc54-9ab6a9f2ee27"
      },
      "outputs": [
        {
          "name": "stderr",
          "output_type": "stream",
          "text": [
            "All PyTorch model weights were used when initializing TFBertForSequenceClassification.\n",
            "\n",
            "Some weights or buffers of the TF 2.0 model TFBertForSequenceClassification were not initialized from the PyTorch model and are newly initialized: ['classifier.weight', 'classifier.bias']\n",
            "You should probably TRAIN this model on a down-stream task to be able to use it for predictions and inference.\n"
          ]
        }
      ],
      "source": [
        "with strategy.scope(): # creating the model in the TPU strategy scope\n",
        "\n",
        "    model_txt_3 = TFBertForSequenceClassification.from_pretrained(bert_multi, num_labels=2)\n",
        "\n",
        "\n",
        "    filepath1 = 'hybrid_model_txt_v3_loss.h5'\n",
        "    filepath2 = 'hybrid_model_txt_v3_acc.h5'\n",
        "\n",
        "    #chekpoints\n",
        "    checkpoint1 = ModelCheckpoint(filepath1, monitor='val_loss', verbose=1, \\\n",
        "                                  save_best_only=True, save_weights_only=True, \\\n",
        "                                  mode='auto', save_frequency=1)\n",
        "\n",
        "    checkpoint2 = ModelCheckpoint(filepath2, monitor='val_accuracy', verbose=1, \\\n",
        "                                  save_best_only=True, save_weights_only=True, \\\n",
        "                                  mode='auto', save_frequency=1)\n",
        "\n",
        "    #checkpoint3 = ModelCheckpoint(filepath3, monitor='val_recall', verbose=1, \\\n",
        "    #                              save_best_only=True, save_weights_only=True, \\\n",
        "    #                              mode='auto', save_frequency=1)\n",
        "\n",
        "    early_stop = EarlyStopping(monitor='val_loss', patience=15)\n",
        "\n",
        "\n",
        "    #initial learning rate & optimizer\n",
        "    lr = 2e-6\n",
        "    optimizer = tf.keras.optimizers.Adam(lr)\n",
        "\n",
        "    #learning rate schedule --> for exploring the plateu when stuck in locals minimals\n",
        "    reduce_lr = tf.keras.callbacks.ReduceLROnPlateau(\n",
        "        monitor='val_loss',\n",
        "        learning_rate=lr,\n",
        "        factor=0.1,\n",
        "        patience=5,\n",
        "        verbose=1,\n",
        "        min_delta=1e-4,\n",
        "        mode='auto'\n",
        "    )\n",
        "\n",
        "    #compile model\n",
        "    model_txt_3.compile(loss ='binary_crossentropy', optimizer= optimizer ,\n",
        "                        metrics=[\"accuracy\",\n",
        "                                 tf.keras.metrics.AUC(),\n",
        "                                 tf.keras.metrics.Precision(),\n",
        "                                 tf.keras.metrics.Recall()])"
      ]
    },
    {
      "cell_type": "code",
      "execution_count": null,
      "metadata": {
        "colab": {
          "base_uri": "https://localhost:8080/"
        },
        "id": "wUFhFB_qeTbr",
        "outputId": "f4f42c66-9e29-4201-c7ad-3b5bbca7e8f3"
      },
      "outputs": [
        {
          "name": "stdout",
          "output_type": "stream",
          "text": [
            "0 <transformers.models.bert.modeling_tf_bert.TFBertMainLayer object at 0x7ff3b7742b30> False\n",
            "1 <keras.layers.core.dropout.Dropout object at 0x7ff3b6db81f0> True\n",
            "2 <keras.layers.core.dense.Dense object at 0x7ff3b6db8820> True\n"
          ]
        }
      ],
      "source": [
        "for index,layer in enumerate(model_txt_3.layers):\n",
        "\n",
        "  if index < 1: #freeze bert layer (dont want to tune the bert weights)\n",
        "    layer.trainable = False\n",
        "\n",
        "\n",
        "  print(index, layer, layer.trainable)"
      ]
    },
    {
      "cell_type": "code",
      "execution_count": null,
      "metadata": {
        "colab": {
          "base_uri": "https://localhost:8080/"
        },
        "id": "Oxee5XIyeTbr",
        "outputId": "6f3a6528-5d1b-440e-c87c-5848b3934222"
      },
      "outputs": [
        {
          "name": "stdout",
          "output_type": "stream",
          "text": [
            "Epoch 1/30\n"
          ]
        },
        {
          "ename": "ValueError",
          "evalue": "in user code:\n\n    File \"/usr/local/lib/python3.10/dist-packages/keras/engine/training.py\", line 1021, in train_function  *\n        return step_function(self, iterator)\n    File \"/usr/local/lib/python3.10/dist-packages/keras/engine/training.py\", line 1010, in step_function  **\n        outputs = model.distribute_strategy.run(run_step, args=(data,))\n    File \"/usr/local/lib/python3.10/dist-packages/keras/engine/training.py\", line 1000, in run_step\n        outputs = model.train_step(data)\n    File \"/usr/local/lib/python3.10/dist-packages/transformers/modeling_tf_utils.py\", line 1573, in train_step\n        self.compiled_metrics.update_state(y, y_pred, sample_weight)\n    File \"/usr/local/lib/python3.10/dist-packages/keras/engine/compile_utils.py\", line 459, in update_state\n        metric_obj.update_state(y_t, y_p, sample_weight=mask)\n    File \"/usr/local/lib/python3.10/dist-packages/keras/utils/metrics_utils.py\", line 70, in decorated\n        update_op = update_state_fn(*args, **kwargs)\n    File \"/usr/local/lib/python3.10/dist-packages/keras/metrics.py\", line 178, in update_state_fn\n        return ag_update_state(*args, **kwargs)\n    File \"/usr/local/lib/python3.10/dist-packages/keras/metrics.py\", line 2347, in update_state\n        return metrics_utils.update_confusion_matrix_variables(\n    File \"/usr/local/lib/python3.10/dist-packages/keras/utils/metrics_utils.py\", line 619, in update_confusion_matrix_variables\n        y_pred.shape.assert_is_compatible_with(y_true.shape)\n\n    ValueError: Shapes (8, 2) and (8, 1) are incompatible\n",
          "output_type": "error",
          "traceback": [
            "\u001b[0;31m---------------------------------------------------------------------------\u001b[0m",
            "\u001b[0;31mValueError\u001b[0m                                Traceback (most recent call last)",
            "\u001b[0;32m<ipython-input-17-54ec64a8333d>\u001b[0m in \u001b[0;36m<cell line: 5>\u001b[0;34m()\u001b[0m\n\u001b[1;32m      3\u001b[0m \u001b[0;34m\u001b[0m\u001b[0m\n\u001b[1;32m      4\u001b[0m \u001b[0;34m\u001b[0m\u001b[0m\n\u001b[0;32m----> 5\u001b[0;31m \u001b[0mhistory_1\u001b[0m \u001b[0;34m=\u001b[0m \u001b[0mmodel_txt_3\u001b[0m\u001b[0;34m.\u001b[0m\u001b[0mfit\u001b[0m\u001b[0;34m(\u001b[0m\u001b[0mds_training\u001b[0m\u001b[0;34m,\u001b[0m\u001b[0mvalidation_data\u001b[0m\u001b[0;34m=\u001b[0m\u001b[0mds_validating\u001b[0m\u001b[0;34m,\u001b[0m \u001b[0mepochs\u001b[0m\u001b[0;34m=\u001b[0m\u001b[0mepochs\u001b[0m\u001b[0;34m,\u001b[0m \u001b[0mcallbacks\u001b[0m\u001b[0;34m=\u001b[0m\u001b[0;34m[\u001b[0m\u001b[0mreduce_lr\u001b[0m\u001b[0;34m,\u001b[0m\u001b[0mcheckpoint1\u001b[0m\u001b[0;34m,\u001b[0m \u001b[0mcheckpoint2\u001b[0m\u001b[0;34m,\u001b[0m \u001b[0mearly_stop\u001b[0m\u001b[0;34m]\u001b[0m\u001b[0;34m)\u001b[0m\u001b[0;34m\u001b[0m\u001b[0;34m\u001b[0m\u001b[0m\n\u001b[0m\u001b[1;32m      6\u001b[0m \u001b[0;34m\u001b[0m\u001b[0m\n\u001b[1;32m      7\u001b[0m \u001b[0mend\u001b[0m \u001b[0;34m=\u001b[0m \u001b[0mtime\u001b[0m\u001b[0;34m.\u001b[0m\u001b[0mtime\u001b[0m\u001b[0;34m(\u001b[0m\u001b[0;34m)\u001b[0m\u001b[0;34m\u001b[0m\u001b[0;34m\u001b[0m\u001b[0m\n",
            "\u001b[0;32m/usr/local/lib/python3.10/dist-packages/keras/utils/traceback_utils.py\u001b[0m in \u001b[0;36merror_handler\u001b[0;34m(*args, **kwargs)\u001b[0m\n\u001b[1;32m     65\u001b[0m     \u001b[0;32mexcept\u001b[0m \u001b[0mException\u001b[0m \u001b[0;32mas\u001b[0m \u001b[0me\u001b[0m\u001b[0;34m:\u001b[0m  \u001b[0;31m# pylint: disable=broad-except\u001b[0m\u001b[0;34m\u001b[0m\u001b[0;34m\u001b[0m\u001b[0m\n\u001b[1;32m     66\u001b[0m       \u001b[0mfiltered_tb\u001b[0m \u001b[0;34m=\u001b[0m \u001b[0m_process_traceback_frames\u001b[0m\u001b[0;34m(\u001b[0m\u001b[0me\u001b[0m\u001b[0;34m.\u001b[0m\u001b[0m__traceback__\u001b[0m\u001b[0;34m)\u001b[0m\u001b[0;34m\u001b[0m\u001b[0;34m\u001b[0m\u001b[0m\n\u001b[0;32m---> 67\u001b[0;31m       \u001b[0;32mraise\u001b[0m \u001b[0me\u001b[0m\u001b[0;34m.\u001b[0m\u001b[0mwith_traceback\u001b[0m\u001b[0;34m(\u001b[0m\u001b[0mfiltered_tb\u001b[0m\u001b[0;34m)\u001b[0m \u001b[0;32mfrom\u001b[0m \u001b[0;32mNone\u001b[0m\u001b[0;34m\u001b[0m\u001b[0;34m\u001b[0m\u001b[0m\n\u001b[0m\u001b[1;32m     68\u001b[0m     \u001b[0;32mfinally\u001b[0m\u001b[0;34m:\u001b[0m\u001b[0;34m\u001b[0m\u001b[0;34m\u001b[0m\u001b[0m\n\u001b[1;32m     69\u001b[0m       \u001b[0;32mdel\u001b[0m \u001b[0mfiltered_tb\u001b[0m\u001b[0;34m\u001b[0m\u001b[0;34m\u001b[0m\u001b[0m\n",
            "\u001b[0;32m/usr/local/lib/python3.10/dist-packages/tensorflow/python/framework/func_graph.py\u001b[0m in \u001b[0;36mautograph_handler\u001b[0;34m(*args, **kwargs)\u001b[0m\n\u001b[1;32m   1145\u001b[0m           \u001b[0;32mexcept\u001b[0m \u001b[0mException\u001b[0m \u001b[0;32mas\u001b[0m \u001b[0me\u001b[0m\u001b[0;34m:\u001b[0m  \u001b[0;31m# pylint:disable=broad-except\u001b[0m\u001b[0;34m\u001b[0m\u001b[0;34m\u001b[0m\u001b[0m\n\u001b[1;32m   1146\u001b[0m             \u001b[0;32mif\u001b[0m \u001b[0mhasattr\u001b[0m\u001b[0;34m(\u001b[0m\u001b[0me\u001b[0m\u001b[0;34m,\u001b[0m \u001b[0;34m\"ag_error_metadata\"\u001b[0m\u001b[0;34m)\u001b[0m\u001b[0;34m:\u001b[0m\u001b[0;34m\u001b[0m\u001b[0;34m\u001b[0m\u001b[0m\n\u001b[0;32m-> 1147\u001b[0;31m               \u001b[0;32mraise\u001b[0m \u001b[0me\u001b[0m\u001b[0;34m.\u001b[0m\u001b[0mag_error_metadata\u001b[0m\u001b[0;34m.\u001b[0m\u001b[0mto_exception\u001b[0m\u001b[0;34m(\u001b[0m\u001b[0me\u001b[0m\u001b[0;34m)\u001b[0m\u001b[0;34m\u001b[0m\u001b[0;34m\u001b[0m\u001b[0m\n\u001b[0m\u001b[1;32m   1148\u001b[0m             \u001b[0;32melse\u001b[0m\u001b[0;34m:\u001b[0m\u001b[0;34m\u001b[0m\u001b[0;34m\u001b[0m\u001b[0m\n\u001b[1;32m   1149\u001b[0m               \u001b[0;32mraise\u001b[0m\u001b[0;34m\u001b[0m\u001b[0;34m\u001b[0m\u001b[0m\n",
            "\u001b[0;31mValueError\u001b[0m: in user code:\n\n    File \"/usr/local/lib/python3.10/dist-packages/keras/engine/training.py\", line 1021, in train_function  *\n        return step_function(self, iterator)\n    File \"/usr/local/lib/python3.10/dist-packages/keras/engine/training.py\", line 1010, in step_function  **\n        outputs = model.distribute_strategy.run(run_step, args=(data,))\n    File \"/usr/local/lib/python3.10/dist-packages/keras/engine/training.py\", line 1000, in run_step\n        outputs = model.train_step(data)\n    File \"/usr/local/lib/python3.10/dist-packages/transformers/modeling_tf_utils.py\", line 1573, in train_step\n        self.compiled_metrics.update_state(y, y_pred, sample_weight)\n    File \"/usr/local/lib/python3.10/dist-packages/keras/engine/compile_utils.py\", line 459, in update_state\n        metric_obj.update_state(y_t, y_p, sample_weight=mask)\n    File \"/usr/local/lib/python3.10/dist-packages/keras/utils/metrics_utils.py\", line 70, in decorated\n        update_op = update_state_fn(*args, **kwargs)\n    File \"/usr/local/lib/python3.10/dist-packages/keras/metrics.py\", line 178, in update_state_fn\n        return ag_update_state(*args, **kwargs)\n    File \"/usr/local/lib/python3.10/dist-packages/keras/metrics.py\", line 2347, in update_state\n        return metrics_utils.update_confusion_matrix_variables(\n    File \"/usr/local/lib/python3.10/dist-packages/keras/utils/metrics_utils.py\", line 619, in update_confusion_matrix_variables\n        y_pred.shape.assert_is_compatible_with(y_true.shape)\n\n    ValueError: Shapes (8, 2) and (8, 1) are incompatible\n"
          ]
        }
      ],
      "source": [
        "start = time.time()\n",
        "epochs = 30\n",
        "\n",
        "\n",
        "history_1 = model_txt_3.fit(ds_training,validation_data=ds_validating, epochs=epochs, callbacks=[reduce_lr,checkpoint1, checkpoint2, early_stop])\n",
        "\n",
        "end = time.time()\n",
        "total_time = end-start\n",
        "print(f'time taken to train model ({epochs} epochs): {total_time} secs')"
      ]
    },
    {
      "cell_type": "code",
      "execution_count": null,
      "metadata": {
        "colab": {
          "base_uri": "https://localhost:8080/"
        },
        "id": "0e9WQ-74eTbr",
        "outputId": "be52eeae-d48d-4923-d0f2-a2fd7fcbf955"
      },
      "outputs": [
        {
          "data": {
            "text/plain": [
              "5.762105555555556"
            ]
          },
          "execution_count": 20,
          "metadata": {},
          "output_type": "execute_result"
        }
      ],
      "source": [
        "20743.58/3600"
      ]
    },
    {
      "cell_type": "markdown",
      "metadata": {
        "id": "apA66sTLeTbr"
      },
      "source": [
        "## Evaluating"
      ]
    },
    {
      "cell_type": "code",
      "execution_count": null,
      "metadata": {
        "colab": {
          "base_uri": "https://localhost:8080/",
          "height": 451
        },
        "id": "ZiJ-vzkJeTbr",
        "outputId": "4a5b1e9d-9235-4abf-c2c5-337f35609a31"
      },
      "outputs": [
        {
          "data": {
            "image/png": "[encoded data removed]",
            "text/plain": [
              "<Figure size 800x500 with 1 Axes>"
            ]
          },
          "metadata": {},
          "output_type": "display_data"
        }
      ],
      "source": [
        "loss_and_acc = {}\n",
        "loss_and_acc['loss'] = history_1.history['loss']\n",
        "loss_and_acc['val_loss'] = history_1.history['val_loss']\n",
        "loss_and_acc['accuracy'] = history_1.history['accuracy']\n",
        "loss_and_acc['val_accuracy'] = history_1.history['val_accuracy']\n",
        "\n",
        "df_metrics_1 = pd.DataFrame(loss_and_acc)\n",
        "df_metrics_1.plot(figsize=(8,5))\n",
        "plt.grid(True)\n",
        "plt.gca().set_ylim(0,1)\n",
        "plt.show()"
      ]
    },
    {
      "cell_type": "code",
      "execution_count": null,
      "metadata": {
        "colab": {
          "base_uri": "https://localhost:8080/",
          "height": 451
        },
        "id": "7lfqnbmveTbr",
        "outputId": "970b092b-f856-4c3c-ea9e-e4dbf6a6090d"
      },
      "outputs": [
        {
          "data": {
            "image/png": "[encoded data removed]",
            "text/plain": [
              "<Figure size 800x500 with 1 Axes>"
            ]
          },
          "metadata": {},
          "output_type": "display_data"
        }
      ],
      "source": [
        "precision_recall = {}\n",
        "precision_recall['auc'] = history_1.history['auc']\n",
        "precision_recall['val_auc'] = history_1.history['val_auc']\n",
        "precision_recall['precision'] = history_1.history['precision']\n",
        "precision_recall['val_precision'] = history_1.history['val_precision']\n",
        "precision_recall['recall'] = history_1.history['recall']\n",
        "precision_recall['val_recall'] = history_1.history['val_recall']\n",
        "\n",
        "df_metrics_2 = pd.DataFrame(precision_recall)\n",
        "df_metrics_2.plot(figsize=(8,5))\n",
        "plt.grid(True)\n",
        "plt.gca().set_ylim(0.8,1)\n",
        "plt.show()"
      ]
    },
    {
      "cell_type": "code",
      "execution_count": null,
      "metadata": {
        "colab": {
          "base_uri": "https://localhost:8080/"
        },
        "id": "AmC5LUC3eTbs",
        "outputId": "07cec099-b27b-4e5c-a182-f99b38a6e3b3"
      },
      "outputs": [
        {
          "name": "stdout",
          "output_type": "stream",
          "text": [
            "306/306 [==============================] - 14s 31ms/step - loss: 0.0589 - accuracy: 0.9865 - auc: 0.9960 - precision: 0.9876 - recall: 0.9853\n"
          ]
        },
        {
          "data": {
            "text/plain": [
              "[0.058868732303380966,\n",
              " 0.9864685535430908,\n",
              " 0.9959835410118103,\n",
              " 0.9875948429107666,\n",
              " 0.9852715730667114]"
            ]
          },
          "execution_count": 18,
          "metadata": {},
          "output_type": "execute_result"
        }
      ],
      "source": [
        "#evaluate\n",
        "model_txt_1.evaluate(ds_testing)"
      ]
    },
    {
      "cell_type": "code",
      "execution_count": null,
      "metadata": {
        "colab": {
          "base_uri": "https://localhost:8080/"
        },
        "id": "V7-UcBMkeTbs",
        "outputId": "069ad9a2-ae68-438f-9483-92777df818ba"
      },
      "outputs": [
        {
          "name": "stdout",
          "output_type": "stream",
          "text": [
            "Copying file:///content/hybrid_model_txt_v1_acc.h5 [Content-Type=application/x-hdf5]...\n",
            "/ [0 files][    0.0 B/640.4 MiB]                                                \r==> NOTE: You are uploading one or more large file(s), which would run\n",
            "significantly faster if you enable parallel composite uploads. This\n",
            "feature can be enabled by editing the\n",
            "\"parallel_composite_upload_threshold\" value in your .boto\n",
            "configuration file. However, note that if you do this large files will\n",
            "be uploaded as `composite objects\n",
            "<https://cloud.google.com/storage/docs/composite-objects>`_,which\n",
            "means that any user who downloads such objects will need to have a\n",
            "compiled crcmod installed (see \"gsutil help crcmod\"). This is because\n",
            "without a compiled crcmod, computing checksums on composite objects is\n",
            "so slow that gsutil disables downloads of composite objects.\n",
            "\n",
            "/\n",
            "Operation completed over 1 objects/640.4 MiB.                                    \n",
            "Copying file:///content/hybrid_model_txt_v1_loss.h5 [Content-Type=application/x-hdf5]...\n",
            "==> NOTE: You are uploading one or more large file(s), which would run\n",
            "significantly faster if you enable parallel composite uploads. This\n",
            "feature can be enabled by editing the\n",
            "\"parallel_composite_upload_threshold\" value in your .boto\n",
            "configuration file. However, note that if you do this large files will\n",
            "be uploaded as `composite objects\n",
            "<https://cloud.google.com/storage/docs/composite-objects>`_,which\n",
            "means that any user who downloads such objects will need to have a\n",
            "compiled crcmod installed (see \"gsutil help crcmod\"). This is because\n",
            "without a compiled crcmod, computing checksums on composite objects is\n",
            "so slow that gsutil disables downloads of composite objects.\n",
            "\n",
            "- [1 files][640.4 MiB/640.4 MiB]                                                \n",
            "Operation completed over 1 objects/640.4 MiB.                                    \n"
          ]
        }
      ],
      "source": [
        "models_folder = 'models_checkpoints'\n",
        "!gsutil cp /content/hybrid_model_txt_v1_acc.h5 {BUCKET_URI}/{models_folder}\n",
        "!gsutil cp /content/hybrid_model_txt_v1_loss.h5 {BUCKET_URI}/{models_folder}"
      ]
    },
    {
      "cell_type": "code",
      "execution_count": null,
      "metadata": {
        "id": "t42UtOibeTbs"
      },
      "outputs": [],
      "source": []
    },
    {
      "cell_type": "markdown",
      "metadata": {
        "id": "-jvRsjJ_26ru"
      },
      "source": [
        "# Model v2\n",
        "dense_1_txt : 256 -> 128\n",
        "dense_fc : 128 -> 64"
      ]
    },
    {
      "cell_type": "markdown",
      "metadata": {
        "id": "LL3sP_6F26rv"
      },
      "source": [
        "## Training"
      ]
    },
    {
      "cell_type": "code",
      "execution_count": null,
      "metadata": {
        "id": "v8hu9hR026rv"
      },
      "outputs": [],
      "source": [
        "#model architecture\n",
        "\n",
        "def model_v2(model, seq_length=MAX_LENGTH):\n",
        "\n",
        "    input_ids = tf.keras.layers.Input(shape=(seq_length,), dtype=tf.int64, name=\"input_ids\")\n",
        "    attention_mask = tf.keras.layers.Input(shape=(seq_length,), dtype=tf.int64, name=\"attention_mask\")\n",
        "\n",
        "    embedding_layer = model(input_ids=input_ids, attention_mask=attention_mask)[0]\n",
        "\n",
        "    max_pool_txt = tf.keras.layers.GlobalMaxPool1D(name = 'max_pooling_txt')(embedding_layer)\n",
        "    avg_pool_txt = tf.keras.layers.GlobalAveragePooling1D(name = 'avg_pooling_txt')(embedding_layer)\n",
        "    concat_txt = tf.keras.layers.concatenate([max_pool_txt, avg_pool_txt])\n",
        "\n",
        "    batch_norm_1_txt = tf.keras.layers.BatchNormalization(name='batch_norm1_txt')(concat_txt)\n",
        "    dense_1_txt = tf.keras.layers.Dense(128, activation='relu', name='dense_1_txt')(batch_norm_1_txt)\n",
        "    batch_norm_2_txt = tf.keras.layers.BatchNormalization(name='batch_norm2_txt')(dense_1_txt)\n",
        "    dropout_1_txt = tf.keras.layers.Dropout(0.25, name='dropout_1_txt')(batch_norm_2_txt) #changed from 0.4 to 0.25\n",
        "\n",
        "    #fully connected layer\n",
        "    dense_fc = tf.keras.layers.Dense(64, activation='relu', name='dense_fc')(dropout_1_txt)\n",
        "    batch_norm_fc = tf.keras.layers.BatchNormalization(name='batch_norm_fc')(dense_fc)\n",
        "    dropout_fc = tf.keras.layers.Dropout(0.3, name='dropout_fc')(batch_norm_fc)\n",
        "\n",
        "    output = tf.keras.layers.Dense(1, activation='sigmoid', name='labels')(dropout_fc) #sigmoid instead of softmax, classes=1 :{0..1}\n",
        "\n",
        "    classif_model = tf.keras.Model(inputs=[input_ids, attention_mask], outputs=output)\n",
        "\n",
        "    return classif_model"
      ]
    },
    {
      "cell_type": "code",
      "execution_count": null,
      "metadata": {
        "colab": {
          "base_uri": "https://localhost:8080/",
          "height": 158,
          "referenced_widgets": [
            "23154f27133f4befa455f4d47de0adbe"
          ]
        },
        "id": "l5hqsRkM26rv",
        "outputId": "c947dc6a-5962-41d5-9a79-5d4d5d31232a"
      },
      "outputs": [
        {
          "data": {
            "application/vnd.jupyter.widget-view+json": {
              "model_id": "23154f27133f4befa455f4d47de0adbe",
              "version_major": 2,
              "version_minor": 0
            },
            "text/plain": [
              "model.safetensors:   0%|          | 0.00/672M [00:00<?, ?B/s]"
            ]
          },
          "metadata": {},
          "output_type": "display_data"
        },
        {
          "name": "stderr",
          "output_type": "stream",
          "text": [
            "Some weights of the PyTorch model were not used when initializing the TF 2.0 model TFBertModel: ['cls.predictions.transform.dense.weight', 'cls.predictions.bias', 'cls.predictions.transform.LayerNorm.weight', 'cls.seq_relationship.weight', 'cls.seq_relationship.bias', 'cls.predictions.transform.dense.bias', 'cls.predictions.transform.LayerNorm.bias']\n",
            "- This IS expected if you are initializing TFBertModel from a PyTorch model trained on another task or with another architecture (e.g. initializing a TFBertForSequenceClassification model from a BertForPreTraining model).\n",
            "- This IS NOT expected if you are initializing TFBertModel from a PyTorch model that you expect to be exactly identical (e.g. initializing a TFBertForSequenceClassification model from a BertForSequenceClassification model).\n",
            "All the weights of TFBertModel were initialized from the PyTorch model.\n",
            "If your task is similar to the task the model of the checkpoint was trained on, you can already use TFBertModel for predictions without further training.\n"
          ]
        }
      ],
      "source": [
        "with strategy.scope(): # creating the model in the TPU strategy scope\n",
        "    bert_multi_model = TFBertModel.from_pretrained(bert_multi)\n",
        "    model_txt_2 = model_v2(bert_multi_model, seq_length=MAX_LENGTH)\n",
        "\n",
        "    filepath1 = 'hybrid_model_txt_v2_loss.h5'\n",
        "    filepath2 = 'hybrid_model_txt_v2_acc.h5'\n",
        "\n",
        "    #chekpoints\n",
        "    checkpoint1 = ModelCheckpoint(filepath1, monitor='val_loss', verbose=1, \\\n",
        "                                  save_best_only=True, save_weights_only=True, \\\n",
        "                                  mode='auto', save_frequency=1)\n",
        "\n",
        "    checkpoint2 = ModelCheckpoint(filepath2, monitor='val_accuracy', verbose=1, \\\n",
        "                                  save_best_only=True, save_weights_only=True, \\\n",
        "                                  mode='auto', save_frequency=1)\n",
        "\n",
        "    #checkpoint3 = ModelCheckpoint(filepath3, monitor='val_recall', verbose=1, \\\n",
        "    #                              save_best_only=True, save_weights_only=True, \\\n",
        "    #                              mode='auto', save_frequency=1)\n",
        "\n",
        "    early_stop = EarlyStopping(monitor='val_loss', patience=15)\n",
        "\n",
        "\n",
        "    #initial learning rate & optimizer\n",
        "    lr = 2e-6\n",
        "    optimizer = tf.keras.optimizers.Adam(lr)\n",
        "\n",
        "    #learning rate schedule --> for exploring the plateu when stuck in locals minimals\n",
        "    reduce_lr = tf.keras.callbacks.ReduceLROnPlateau(\n",
        "        monitor='val_loss',\n",
        "        learning_rate=lr,\n",
        "        factor=0.1,\n",
        "        patience=5,\n",
        "        verbose=1,\n",
        "        min_delta=1e-4,\n",
        "        mode='auto'\n",
        "    )\n",
        "\n",
        "    #compile model\n",
        "    model_txt_2.compile(loss = 'binary_crossentropy', optimizer= optimizer ,\n",
        "                        metrics=[\"accuracy\",\n",
        "                                 tf.keras.metrics.AUC(),\n",
        "                                 tf.keras.metrics.Precision(),\n",
        "                                 tf.keras.metrics.Recall()])"
      ]
    },
    {
      "cell_type": "code",
      "execution_count": null,
      "metadata": {
        "colab": {
          "base_uri": "https://localhost:8080/"
        },
        "id": "0WkxqAEx26rw",
        "outputId": "d2cd5e29-4cdd-43d7-d012-64006b293b69"
      },
      "outputs": [
        {
          "name": "stdout",
          "output_type": "stream",
          "text": [
            "0 <keras.engine.input_layer.InputLayer object at 0x7c073f3eb7c0> False\n",
            "1 <keras.engine.input_layer.InputLayer object at 0x7c073f552e60> False\n",
            "2 <transformers.models.bert.modeling_tf_bert.TFBertModel object at 0x7c07803a7c10> False\n",
            "3 <keras.layers.pooling.GlobalMaxPooling1D object at 0x7c073f273b50> True\n",
            "4 <keras.layers.pooling.GlobalAveragePooling1D object at 0x7c073f5f15a0> True\n",
            "5 <keras.layers.merge.Concatenate object at 0x7c073f3e9db0> True\n",
            "6 <keras.layers.normalization.batch_normalization.BatchNormalization object at 0x7c073f2d2fb0> True\n",
            "7 <keras.layers.core.dense.Dense object at 0x7c073a45ba60> True\n",
            "8 <keras.layers.normalization.batch_normalization.BatchNormalization object at 0x7c073a458d60> True\n",
            "9 <keras.layers.core.dropout.Dropout object at 0x7c073a413a60> True\n",
            "10 <keras.layers.core.dense.Dense object at 0x7c073ae86050> True\n",
            "11 <keras.layers.normalization.batch_normalization.BatchNormalization object at 0x7c073f18ed70> True\n",
            "12 <keras.layers.core.dropout.Dropout object at 0x7c073a56d750> True\n",
            "13 <keras.layers.core.dense.Dense object at 0x7c073a3ab010> True\n"
          ]
        }
      ],
      "source": [
        "for index,layer in enumerate(model_txt_2.layers):\n",
        "\n",
        "  if index < 3: #freeze bert layer (dont want to tune the bert weights)\n",
        "    layer.trainable = False\n",
        "\n",
        "\n",
        "  print(index, layer, layer.trainable)"
      ]
    },
    {
      "cell_type": "code",
      "execution_count": null,
      "metadata": {
        "colab": {
          "base_uri": "https://localhost:8080/"
        },
        "id": "7dCQEOsD26rw",
        "outputId": "459e748a-b0d4-4847-c450-28a0effe2217"
      },
      "outputs": [
        {
          "name": "stdout",
          "output_type": "stream",
          "text": [
            "Epoch 1/15\n"
          ]
        },
        {
          "name": "stderr",
          "output_type": "stream",
          "text": [
            "WARNING:tensorflow:Gradients do not exist for variables ['tf_bert_model/bert/pooler/dense/kernel:0', 'tf_bert_model/bert/pooler/dense/bias:0'] when minimizing the loss. If you're using `model.compile()`, did you forget to provide a `loss`argument?\n",
            "WARNING:tensorflow:Gradients do not exist for variables ['tf_bert_model/bert/pooler/dense/kernel:0', 'tf_bert_model/bert/pooler/dense/bias:0'] when minimizing the loss. If you're using `model.compile()`, did you forget to provide a `loss`argument?\n"
          ]
        },
        {
          "name": "stdout",
          "output_type": "stream",
          "text": [
            "7350/7350 [==============================] - ETA: 0s - loss: 0.4580 - accuracy: 0.8054 - auc: 0.8839 - precision: 0.8101 - recall: 0.7977\n",
            "Epoch 1: val_loss improved from inf to 0.24723, saving model to hybrid_model_txt_v2_loss.h5\n",
            "\n",
            "Epoch 1: val_accuracy improved from -inf to 0.90598, saving model to hybrid_model_txt_v2_acc.h5\n",
            "7350/7350 [==============================] - 740s 91ms/step - loss: 0.4580 - accuracy: 0.8054 - auc: 0.8839 - precision: 0.8101 - recall: 0.7977 - val_loss: 0.2472 - val_accuracy: 0.9060 - val_auc: 0.9697 - val_precision: 0.9515 - val_recall: 0.8555 - lr: 2.0000e-06\n",
            "Epoch 2/15\n",
            "7350/7350 [==============================] - ETA: 0s - loss: 0.2767 - accuracy: 0.8988 - auc: 0.9544 - precision: 0.9007 - recall: 0.8964\n",
            "Epoch 2: val_loss improved from 0.24723 to 0.16324, saving model to hybrid_model_txt_v2_loss.h5\n",
            "\n",
            "Epoch 2: val_accuracy improved from 0.90598 to 0.94187, saving model to hybrid_model_txt_v2_acc.h5\n",
            "7350/7350 [==============================] - 668s 91ms/step - loss: 0.2767 - accuracy: 0.8988 - auc: 0.9544 - precision: 0.9007 - recall: 0.8964 - val_loss: 0.1632 - val_accuracy: 0.9419 - val_auc: 0.9844 - val_precision: 0.9614 - val_recall: 0.9207 - lr: 2.0000e-06\n",
            "Epoch 3/15\n",
            "7350/7350 [==============================] - ETA: 0s - loss: 0.2168 - accuracy: 0.9260 - auc: 0.9705 - precision: 0.9259 - recall: 0.9262\n",
            "Epoch 3: val_loss improved from 0.16324 to 0.13137, saving model to hybrid_model_txt_v2_loss.h5\n",
            "\n",
            "Epoch 3: val_accuracy improved from 0.94187 to 0.95614, saving model to hybrid_model_txt_v2_acc.h5\n",
            "7350/7350 [==============================] - 675s 92ms/step - loss: 0.2168 - accuracy: 0.9260 - auc: 0.9705 - precision: 0.9259 - recall: 0.9262 - val_loss: 0.1314 - val_accuracy: 0.9561 - val_auc: 0.9883 - val_precision: 0.9531 - val_recall: 0.9595 - lr: 2.0000e-06\n",
            "Epoch 4/15\n",
            "7350/7350 [==============================] - ETA: 0s - loss: 0.1848 - accuracy: 0.9386 - auc: 0.9777 - precision: 0.9386 - recall: 0.9385\n",
            "Epoch 4: val_loss improved from 0.13137 to 0.11723, saving model to hybrid_model_txt_v2_loss.h5\n",
            "\n",
            "Epoch 4: val_accuracy improved from 0.95614 to 0.96175, saving model to hybrid_model_txt_v2_acc.h5\n",
            "7350/7350 [==============================] - 676s 92ms/step - loss: 0.1848 - accuracy: 0.9386 - auc: 0.9777 - precision: 0.9386 - recall: 0.9385 - val_loss: 0.1172 - val_accuracy: 0.9618 - val_auc: 0.9900 - val_precision: 0.9666 - val_recall: 0.9566 - lr: 2.0000e-06\n",
            "Epoch 5/15\n",
            "7350/7350 [==============================] - ETA: 0s - loss: 0.1637 - accuracy: 0.9469 - auc: 0.9820 - precision: 0.9457 - recall: 0.9483\n",
            "Epoch 5: val_loss improved from 0.11723 to 0.11232, saving model to hybrid_model_txt_v2_loss.h5\n",
            "\n",
            "Epoch 5: val_accuracy improved from 0.96175 to 0.96441, saving model to hybrid_model_txt_v2_acc.h5\n",
            "7350/7350 [==============================] - 689s 94ms/step - loss: 0.1637 - accuracy: 0.9469 - auc: 0.9820 - precision: 0.9457 - recall: 0.9483 - val_loss: 0.1123 - val_accuracy: 0.9644 - val_auc: 0.9909 - val_precision: 0.9755 - val_recall: 0.9528 - lr: 2.0000e-06\n",
            "Epoch 6/15\n",
            "7350/7350 [==============================] - ETA: 0s - loss: 0.1466 - accuracy: 0.9532 - auc: 0.9852 - precision: 0.9521 - recall: 0.9545\n",
            "Epoch 6: val_loss improved from 0.11232 to 0.10104, saving model to hybrid_model_txt_v2_loss.h5\n",
            "\n",
            "Epoch 6: val_accuracy improved from 0.96441 to 0.96802, saving model to hybrid_model_txt_v2_acc.h5\n",
            "7350/7350 [==============================] - 680s 92ms/step - loss: 0.1466 - accuracy: 0.9532 - auc: 0.9852 - precision: 0.9521 - recall: 0.9545 - val_loss: 0.1010 - val_accuracy: 0.9680 - val_auc: 0.9924 - val_precision: 0.9755 - val_recall: 0.9601 - lr: 2.0000e-06\n",
            "Epoch 7/15\n",
            "7350/7350 [==============================] - ETA: 0s - loss: 0.1337 - accuracy: 0.9574 - auc: 0.9874 - precision: 0.9563 - recall: 0.9586\n",
            "Epoch 7: val_loss improved from 0.10104 to 0.08827, saving model to hybrid_model_txt_v2_loss.h5\n",
            "\n",
            "Epoch 7: val_accuracy improved from 0.96802 to 0.97248, saving model to hybrid_model_txt_v2_acc.h5\n",
            "7350/7350 [==============================] - 687s 93ms/step - loss: 0.1337 - accuracy: 0.9574 - auc: 0.9874 - precision: 0.9563 - recall: 0.9586 - val_loss: 0.0883 - val_accuracy: 0.9725 - val_auc: 0.9933 - val_precision: 0.9756 - val_recall: 0.9692 - lr: 2.0000e-06\n",
            "Epoch 8/15\n",
            "7350/7350 [==============================] - ETA: 0s - loss: 0.1229 - accuracy: 0.9615 - auc: 0.9892 - precision: 0.9599 - recall: 0.9632\n",
            "Epoch 8: val_loss did not improve from 0.08827\n",
            "\n",
            "Epoch 8: val_accuracy did not improve from 0.97248\n",
            "7350/7350 [==============================] - 664s 90ms/step - loss: 0.1229 - accuracy: 0.9615 - auc: 0.9892 - precision: 0.9599 - recall: 0.9632 - val_loss: 0.0945 - val_accuracy: 0.9705 - val_auc: 0.9935 - val_precision: 0.9822 - val_recall: 0.9584 - lr: 2.0000e-06\n",
            "Epoch 9/15\n",
            "7350/7350 [==============================] - ETA: 0s - loss: 0.1130 - accuracy: 0.9643 - auc: 0.9907 - precision: 0.9624 - recall: 0.9663\n",
            "Epoch 9: val_loss improved from 0.08827 to 0.08498, saving model to hybrid_model_txt_v2_loss.h5\n",
            "\n",
            "Epoch 9: val_accuracy improved from 0.97248 to 0.97416, saving model to hybrid_model_txt_v2_acc.h5\n",
            "7350/7350 [==============================] - 680s 92ms/step - loss: 0.1130 - accuracy: 0.9643 - auc: 0.9907 - precision: 0.9624 - recall: 0.9663 - val_loss: 0.0850 - val_accuracy: 0.9742 - val_auc: 0.9940 - val_precision: 0.9815 - val_recall: 0.9666 - lr: 2.0000e-06\n",
            "Epoch 10/15\n",
            "7350/7350 [==============================] - ETA: 0s - loss: 0.1044 - accuracy: 0.9671 - auc: 0.9919 - precision: 0.9650 - recall: 0.9694\n",
            "Epoch 10: val_loss improved from 0.08498 to 0.07429, saving model to hybrid_model_txt_v2_loss.h5\n",
            "\n",
            "Epoch 10: val_accuracy improved from 0.97416 to 0.97702, saving model to hybrid_model_txt_v2_acc.h5\n",
            "7350/7350 [==============================] - 672s 91ms/step - loss: 0.1044 - accuracy: 0.9671 - auc: 0.9919 - precision: 0.9650 - recall: 0.9694 - val_loss: 0.0743 - val_accuracy: 0.9770 - val_auc: 0.9949 - val_precision: 0.9790 - val_recall: 0.9749 - lr: 2.0000e-06\n",
            "Epoch 11/15\n",
            "7350/7350 [==============================] - ETA: 0s - loss: 0.0963 - accuracy: 0.9697 - auc: 0.9930 - precision: 0.9670 - recall: 0.9725\n",
            "Epoch 11: val_loss improved from 0.07429 to 0.06799, saving model to hybrid_model_txt_v2_loss.h5\n",
            "\n",
            "Epoch 11: val_accuracy improved from 0.97702 to 0.97966, saving model to hybrid_model_txt_v2_acc.h5\n",
            "7350/7350 [==============================] - 683s 93ms/step - loss: 0.0963 - accuracy: 0.9697 - auc: 0.9930 - precision: 0.9670 - recall: 0.9725 - val_loss: 0.0680 - val_accuracy: 0.9797 - val_auc: 0.9952 - val_precision: 0.9799 - val_recall: 0.9794 - lr: 2.0000e-06\n",
            "Epoch 12/15\n",
            "7350/7350 [==============================] - ETA: 0s - loss: 0.0903 - accuracy: 0.9717 - auc: 0.9937 - precision: 0.9692 - recall: 0.9744\n",
            "Epoch 12: val_loss improved from 0.06799 to 0.06745, saving model to hybrid_model_txt_v2_loss.h5\n",
            "\n",
            "Epoch 12: val_accuracy did not improve from 0.97966\n",
            "7350/7350 [==============================] - 668s 91ms/step - loss: 0.0903 - accuracy: 0.9717 - auc: 0.9937 - precision: 0.9692 - recall: 0.9744 - val_loss: 0.0674 - val_accuracy: 0.9794 - val_auc: 0.9954 - val_precision: 0.9803 - val_recall: 0.9785 - lr: 2.0000e-06\n",
            "Epoch 13/15\n",
            "7350/7350 [==============================] - ETA: 0s - loss: 0.0841 - accuracy: 0.9737 - auc: 0.9945 - precision: 0.9712 - recall: 0.9765\n",
            "Epoch 13: val_loss improved from 0.06745 to 0.06492, saving model to hybrid_model_txt_v2_loss.h5\n",
            "\n",
            "Epoch 13: val_accuracy improved from 0.97966 to 0.98051, saving model to hybrid_model_txt_v2_acc.h5\n",
            "7350/7350 [==============================] - 725s 99ms/step - loss: 0.0841 - accuracy: 0.9737 - auc: 0.9945 - precision: 0.9712 - recall: 0.9765 - val_loss: 0.0649 - val_accuracy: 0.9805 - val_auc: 0.9954 - val_precision: 0.9831 - val_recall: 0.9779 - lr: 2.0000e-06\n",
            "Epoch 14/15\n",
            "7350/7350 [==============================] - ETA: 0s - loss: 0.0790 - accuracy: 0.9750 - auc: 0.9950 - precision: 0.9728 - recall: 0.9774\n",
            "Epoch 14: val_loss improved from 0.06492 to 0.06221, saving model to hybrid_model_txt_v2_loss.h5\n",
            "\n",
            "Epoch 14: val_accuracy improved from 0.98051 to 0.98201, saving model to hybrid_model_txt_v2_acc.h5\n",
            "7350/7350 [==============================] - 713s 97ms/step - loss: 0.0790 - accuracy: 0.9750 - auc: 0.9950 - precision: 0.9728 - recall: 0.9774 - val_loss: 0.0622 - val_accuracy: 0.9820 - val_auc: 0.9956 - val_precision: 0.9822 - val_recall: 0.9818 - lr: 2.0000e-06\n",
            "Epoch 15/15\n",
            "7350/7350 [==============================] - ETA: 0s - loss: 0.0756 - accuracy: 0.9764 - auc: 0.9954 - precision: 0.9742 - recall: 0.9787\n",
            "Epoch 15: val_loss improved from 0.06221 to 0.06170, saving model to hybrid_model_txt_v2_loss.h5\n",
            "\n",
            "Epoch 15: val_accuracy did not improve from 0.98201\n",
            "7350/7350 [==============================] - 676s 92ms/step - loss: 0.0756 - accuracy: 0.9764 - auc: 0.9954 - precision: 0.9742 - recall: 0.9787 - val_loss: 0.0617 - val_accuracy: 0.9805 - val_auc: 0.9961 - val_precision: 0.9847 - val_recall: 0.9761 - lr: 2.0000e-06\n",
            "time taken to train model (15 epochs): 10303.835966587067 secs\n"
          ]
        }
      ],
      "source": [
        "start = time.time()\n",
        "epochs = 15\n",
        "\n",
        "\n",
        "history_1 = model_txt_2.fit(ds_training,validation_data=ds_validating, epochs=epochs, callbacks=[reduce_lr,checkpoint1, checkpoint2, early_stop])\n",
        "\n",
        "end = time.time()\n",
        "total_time = end-start\n",
        "print(f'time taken to train model ({epochs} epochs): {total_time} secs')"
      ]
    },
    {
      "cell_type": "code",
      "execution_count": null,
      "metadata": {
        "colab": {
          "base_uri": "https://localhost:8080/"
        },
        "id": "l0q-fZzL26rx",
        "outputId": "ca122844-ae88-4944-e138-2ae2bd9887b5"
      },
      "outputs": [
        {
          "data": {
            "text/plain": [
              "2.8619444444444446"
            ]
          },
          "execution_count": 15,
          "metadata": {},
          "output_type": "execute_result"
        }
      ],
      "source": [
        "10303/3600"
      ]
    },
    {
      "cell_type": "markdown",
      "metadata": {
        "id": "sBnx6ctG26rx"
      },
      "source": [
        "## Evaluating"
      ]
    },
    {
      "cell_type": "code",
      "execution_count": null,
      "metadata": {
        "colab": {
          "base_uri": "https://localhost:8080/",
          "height": 439
        },
        "id": "BYfXmbTH26rx",
        "outputId": "795f132e-f6ed-4fd2-b8f2-71e7946a4f6c"
      },
      "outputs": [
        {
          "data": {
            "image/png": "[encoded data removed]",
            "text/plain": [
              "<Figure size 800x500 with 1 Axes>"
            ]
          },
          "metadata": {},
          "output_type": "display_data"
        }
      ],
      "source": [
        "loss_and_acc = {}\n",
        "loss_and_acc['loss'] = history_1.history['loss']\n",
        "loss_and_acc['val_loss'] = history_1.history['val_loss']\n",
        "loss_and_acc['accuracy'] = history_1.history['accuracy']\n",
        "loss_and_acc['val_accuracy'] = history_1.history['val_accuracy']\n",
        "\n",
        "df_metrics_1 = pd.DataFrame(loss_and_acc)\n",
        "df_metrics_1.plot(figsize=(8,5))\n",
        "plt.grid(True)\n",
        "plt.gca().set_ylim(0,1)\n",
        "plt.show()"
      ]
    },
    {
      "cell_type": "code",
      "execution_count": null,
      "metadata": {
        "colab": {
          "base_uri": "https://localhost:8080/",
          "height": 428
        },
        "id": "XPqZD74_26rx",
        "outputId": "1883427a-296d-4f8f-e54e-589b40b99c13"
      },
      "outputs": [
        {
          "data": {
            "image/png": "[encoded data removed]",
            "text/plain": [
              "<Figure size 800x500 with 1 Axes>"
            ]
          },
          "metadata": {},
          "output_type": "display_data"
        }
      ],
      "source": [
        "precision_recall = {}\n",
        "precision_recall['auc'] = history_1.history['auc']\n",
        "precision_recall['val_auc'] = history_1.history['val_auc']\n",
        "precision_recall['precision'] = history_1.history['precision']\n",
        "precision_recall['val_precision'] = history_1.history['val_precision']\n",
        "precision_recall['recall'] = history_1.history['recall']\n",
        "precision_recall['val_recall'] = history_1.history['val_recall']\n",
        "\n",
        "df_metrics_2 = pd.DataFrame(precision_recall)\n",
        "df_metrics_2.plot(figsize=(8,5))\n",
        "plt.grid(True)\n",
        "plt.gca().set_ylim(0.8,1)\n",
        "plt.show()"
      ]
    },
    {
      "cell_type": "code",
      "execution_count": null,
      "metadata": {
        "colab": {
          "base_uri": "https://localhost:8080/"
        },
        "id": "SHvUr9-o26rx",
        "outputId": "835ff131-5b5a-49b7-c71d-4124af871c6a"
      },
      "outputs": [
        {
          "name": "stdout",
          "output_type": "stream",
          "text": [
            "306/306 [==============================] - 16s 43ms/step - loss: 0.0635 - accuracy: 0.9800 - auc: 0.9960 - precision: 0.9834 - recall: 0.9764\n"
          ]
        },
        {
          "data": {
            "text/plain": [
              "[0.06354787200689316,\n",
              " 0.9799836874008179,\n",
              " 0.9960137009620667,\n",
              " 0.9834140539169312,\n",
              " 0.9763731360435486]"
            ]
          },
          "execution_count": 19,
          "metadata": {},
          "output_type": "execute_result"
        }
      ],
      "source": [
        "#evaluate\n",
        "model_txt_2.evaluate(ds_testing)"
      ]
    },
    {
      "cell_type": "code",
      "execution_count": null,
      "metadata": {
        "colab": {
          "base_uri": "https://localhost:8080/"
        },
        "id": "I2WcaNeZ26rx",
        "outputId": "a46c872d-c2e0-4861-937b-a2869ed7df94"
      },
      "outputs": [
        {
          "name": "stdout",
          "output_type": "stream",
          "text": [
            "Copying file:///content/hybrid_model_txt_v2_acc.h5 [Content-Type=application/x-hdf5]...\n",
            "/ [0 files][    0.0 B/639.5 MiB]                                                \r==> NOTE: You are uploading one or more large file(s), which would run\n",
            "significantly faster if you enable parallel composite uploads. This\n",
            "feature can be enabled by editing the\n",
            "\"parallel_composite_upload_threshold\" value in your .boto\n",
            "configuration file. However, note that if you do this large files will\n",
            "be uploaded as `composite objects\n",
            "<https://cloud.google.com/storage/docs/composite-objects>`_,which\n",
            "means that any user who downloads such objects will need to have a\n",
            "compiled crcmod installed (see \"gsutil help crcmod\"). This is because\n",
            "without a compiled crcmod, computing checksums on composite objects is\n",
            "so slow that gsutil disables downloads of composite objects.\n",
            "\n",
            "/ [1 files][639.5 MiB/639.5 MiB]                                                \n",
            "Operation completed over 1 objects/639.5 MiB.                                    \n",
            "Copying file:///content/hybrid_model_txt_v2_loss.h5 [Content-Type=application/x-hdf5]...\n",
            "==> NOTE: You are uploading one or more large file(s), which would run\n",
            "significantly faster if you enable parallel composite uploads. This\n",
            "feature can be enabled by editing the\n",
            "\"parallel_composite_upload_threshold\" value in your .boto\n",
            "configuration file. However, note that if you do this large files will\n",
            "be uploaded as `composite objects\n",
            "<https://cloud.google.com/storage/docs/composite-objects>`_,which\n",
            "means that any user who downloads such objects will need to have a\n",
            "compiled crcmod installed (see \"gsutil help crcmod\"). This is because\n",
            "without a compiled crcmod, computing checksums on composite objects is\n",
            "so slow that gsutil disables downloads of composite objects.\n",
            "\n",
            "\\\n",
            "Operation completed over 1 objects/639.5 MiB.                                    \n"
          ]
        }
      ],
      "source": [
        "models_folder = 'models_checkpoints'\n",
        "!gsutil cp /content/hybrid_model_txt_v2_acc.h5 {BUCKET_URI}/{models_folder}\n",
        "!gsutil cp /content/hybrid_model_txt_v2_loss.h5 {BUCKET_URI}/{models_folder}"
      ]
    },
    {
      "cell_type": "code",
      "execution_count": null,
      "metadata": {
        "id": "u8GoncTI26ry"
      },
      "outputs": [],
      "source": []
    },
    {
      "cell_type": "markdown",
      "metadata": {
        "id": "1WYft30Xh91q"
      },
      "source": [
        "# Model v3\n",
        "- dense layer1 : +64 neurons\n",
        "- dense fc: +64 neurons\n",
        "- dropout1 : 0.3\n",
        "- dropout2 : 0.5"
      ]
    },
    {
      "cell_type": "markdown",
      "metadata": {
        "id": "XNQEVSxbh910"
      },
      "source": [
        "## Training"
      ]
    },
    {
      "cell_type": "code",
      "execution_count": null,
      "metadata": {
        "id": "mpFDxqzvh911"
      },
      "outputs": [],
      "source": [
        "#model architecture\n",
        "\n",
        "def model_v3(model, seq_length=MAX_LENGTH):\n",
        "\n",
        "    input_ids = tf.keras.layers.Input(shape=(seq_length,), dtype=tf.int64, name=\"input_ids\")\n",
        "    attention_mask = tf.keras.layers.Input(shape=(seq_length,), dtype=tf.int64, name=\"attention_mask\")\n",
        "\n",
        "    embedding_layer = model(input_ids=input_ids, attention_mask=attention_mask)[0]\n",
        "\n",
        "    max_pool_txt = tf.keras.layers.GlobalMaxPool1D(name = 'max_pooling_txt')(embedding_layer)\n",
        "    avg_pool_txt = tf.keras.layers.GlobalAveragePooling1D(name = 'avg_pooling_txt')(embedding_layer)\n",
        "    concat_txt = tf.keras.layers.concatenate([max_pool_txt, avg_pool_txt])\n",
        "\n",
        "    batch_norm_1_txt = tf.keras.layers.BatchNormalization(name='batch_norm1_txt')(concat_txt)\n",
        "    dense_1_txt = tf.keras.layers.Dense(320, activation='relu', name='dense_1_txt')(batch_norm_1_txt)\n",
        "    batch_norm_2_txt = tf.keras.layers.BatchNormalization(name='batch_norm2_txt')(dense_1_txt)\n",
        "    dropout_1_txt = tf.keras.layers.Dropout(0.3, name='dropout_1_txt')(batch_norm_2_txt) #changed from 0.25 to 0.3\n",
        "\n",
        "    #fully connected layer\n",
        "    dense_fc = tf.keras.layers.Dense(192, activation='relu', name='dense_fc')(dropout_1_txt)\n",
        "    batch_norm_fc = tf.keras.layers.BatchNormalization(name='batch_norm_fc')(dense_fc)\n",
        "    dropout_fc = tf.keras.layers.Dropout(0.5, name='dropout_fc')(batch_norm_fc) #from 0.3 to 0.5\n",
        "\n",
        "    output = tf.keras.layers.Dense(1, activation='sigmoid', name='labels')(dropout_fc) #sigmoid instead of softmax, classes=1 :{0..1}\n",
        "\n",
        "    classif_model = tf.keras.Model(inputs=[input_ids, attention_mask], outputs=output)\n",
        "\n",
        "    return classif_model"
      ]
    },
    {
      "cell_type": "code",
      "execution_count": null,
      "metadata": {
        "colab": {
          "base_uri": "https://localhost:8080/"
        },
        "id": "TY3XmRzOh911",
        "outputId": "bfa150c7-78f7-4faa-bb7f-2c27d7ed6dd1"
      },
      "outputs": [
        {
          "name": "stderr",
          "output_type": "stream",
          "text": [
            "Some weights of the PyTorch model were not used when initializing the TF 2.0 model TFBertModel: ['cls.predictions.transform.dense.bias', 'cls.seq_relationship.bias', 'cls.predictions.bias', 'cls.seq_relationship.weight', 'cls.predictions.transform.LayerNorm.bias', 'cls.predictions.transform.LayerNorm.weight', 'cls.predictions.transform.dense.weight']\n",
            "- This IS expected if you are initializing TFBertModel from a PyTorch model trained on another task or with another architecture (e.g. initializing a TFBertForSequenceClassification model from a BertForPreTraining model).\n",
            "- This IS NOT expected if you are initializing TFBertModel from a PyTorch model that you expect to be exactly identical (e.g. initializing a TFBertForSequenceClassification model from a BertForSequenceClassification model).\n",
            "All the weights of TFBertModel were initialized from the PyTorch model.\n",
            "If your task is similar to the task the model of the checkpoint was trained on, you can already use TFBertModel for predictions without further training.\n"
          ]
        }
      ],
      "source": [
        "with strategy.scope(): # creating the model in the TPU strategy scope\n",
        "    bert_multi_model = TFBertModel.from_pretrained(bert_multi)\n",
        "    model_txt_3 = model_v3(bert_multi_model, seq_length=MAX_LENGTH)\n",
        "\n",
        "    filepath1 = 'hybrid_model_txt_v3_loss.h5'\n",
        "    filepath2 = 'hybrid_model_txt_v3_acc.h5'\n",
        "\n",
        "    #chekpoints\n",
        "    checkpoint1 = ModelCheckpoint(filepath1, monitor='val_loss', verbose=1, \\\n",
        "                                  save_best_only=True, save_weights_only=True, \\\n",
        "                                  mode='auto', save_frequency=1)\n",
        "\n",
        "    checkpoint2 = ModelCheckpoint(filepath2, monitor='val_accuracy', verbose=1, \\\n",
        "                                  save_best_only=True, save_weights_only=True, \\\n",
        "                                  mode='auto', save_frequency=1)\n",
        "\n",
        "    #checkpoint3 = ModelCheckpoint(filepath3, monitor='val_recall', verbose=1, \\\n",
        "    #                              save_best_only=True, save_weights_only=True, \\\n",
        "    #                              mode='auto', save_frequency=1)\n",
        "\n",
        "    early_stop = EarlyStopping(monitor='val_loss', patience=15)\n",
        "\n",
        "\n",
        "    #initial learning rate & optimizer\n",
        "    lr = 2e-6\n",
        "    optimizer = tf.keras.optimizers.Adam(lr)\n",
        "\n",
        "    #learning rate schedule --> for exploring the plateu when stuck in locals minimals\n",
        "    reduce_lr = tf.keras.callbacks.ReduceLROnPlateau(\n",
        "        monitor='val_loss',\n",
        "        learning_rate=lr,\n",
        "        factor=0.1,\n",
        "        patience=5,\n",
        "        verbose=1,\n",
        "        min_delta=1e-4,\n",
        "        mode='auto'\n",
        "    )\n",
        "\n",
        "    #compile model\n",
        "    model_txt_3.compile(loss = 'binary_crossentropy', optimizer= optimizer ,\n",
        "                        metrics=[\"accuracy\",\n",
        "                                 tf.keras.metrics.AUC(),\n",
        "                                 tf.keras.metrics.Precision(),\n",
        "                                 tf.keras.metrics.Recall()])"
      ]
    },
    {
      "cell_type": "code",
      "execution_count": null,
      "metadata": {
        "colab": {
          "base_uri": "https://localhost:8080/"
        },
        "id": "vKT6NSJnh911",
        "outputId": "63d9408a-adb6-45b8-f53f-03aca2375935"
      },
      "outputs": [
        {
          "name": "stdout",
          "output_type": "stream",
          "text": [
            "0 <keras.engine.input_layer.InputLayer object at 0x7ff3b54cfbb0> False\n",
            "1 <keras.engine.input_layer.InputLayer object at 0x7ff3b6a5ded0> False\n",
            "2 <transformers.models.bert.modeling_tf_bert.TFBertModel object at 0x7ff3b514f070> False\n",
            "3 <keras.layers.pooling.GlobalMaxPooling1D object at 0x7ff3b7765c00> True\n",
            "4 <keras.layers.pooling.GlobalAveragePooling1D object at 0x7ff3b514ce20> True\n",
            "5 <keras.layers.merge.Concatenate object at 0x7ff3b6a5e710> True\n",
            "6 <keras.layers.normalization.batch_normalization.BatchNormalization object at 0x7ff50087dc00> True\n",
            "7 <keras.layers.core.dense.Dense object at 0x7ff5008a5de0> True\n",
            "8 <keras.layers.normalization.batch_normalization.BatchNormalization object at 0x7ff3b5b45ed0> True\n",
            "9 <keras.layers.core.dropout.Dropout object at 0x7ff3b5e651b0> True\n",
            "10 <keras.layers.core.dense.Dense object at 0x7ff3b6a46800> True\n",
            "11 <keras.layers.normalization.batch_normalization.BatchNormalization object at 0x7ff3b67d8d00> True\n",
            "12 <keras.layers.core.dropout.Dropout object at 0x7ff3b67d8610> True\n",
            "13 <keras.layers.core.dense.Dense object at 0x7ff3b67d9b70> True\n"
          ]
        }
      ],
      "source": [
        "for index,layer in enumerate(model_txt_3.layers):\n",
        "\n",
        "  if index < 3: #freeze bert layer (dont want to tune the bert weights)\n",
        "    layer.trainable = False\n",
        "\n",
        "\n",
        "  print(index, layer, layer.trainable)"
      ]
    },
    {
      "cell_type": "code",
      "execution_count": null,
      "metadata": {
        "colab": {
          "base_uri": "https://localhost:8080/"
        },
        "id": "numfP9iQh911",
        "outputId": "71012602-bb4b-4cf2-b492-d8cef947ec85"
      },
      "outputs": [
        {
          "name": "stdout",
          "output_type": "stream",
          "text": [
            "Epoch 1/30\n"
          ]
        },
        {
          "name": "stderr",
          "output_type": "stream",
          "text": [
            "WARNING:tensorflow:Gradients do not exist for variables ['tf_bert_model_1/bert/pooler/dense/kernel:0', 'tf_bert_model_1/bert/pooler/dense/bias:0'] when minimizing the loss. If you're using `model.compile()`, did you forget to provide a `loss`argument?\n",
            "WARNING:tensorflow:Gradients do not exist for variables ['tf_bert_model_1/bert/pooler/dense/kernel:0', 'tf_bert_model_1/bert/pooler/dense/bias:0'] when minimizing the loss. If you're using `model.compile()`, did you forget to provide a `loss`argument?\n"
          ]
        },
        {
          "name": "stdout",
          "output_type": "stream",
          "text": [
            "7350/7350 [==============================] - ETA: 0s - loss: 0.5618 - accuracy: 0.7702 - auc_1: 0.8500 - precision_1: 0.7734 - recall_1: 0.7644\n",
            "Epoch 1: val_loss improved from inf to 0.28336, saving model to hybrid_model_txt_v3_loss.h5\n",
            "\n",
            "Epoch 1: val_accuracy improved from -inf to 0.88896, saving model to hybrid_model_txt_v3_acc.h5\n",
            "7350/7350 [==============================] - 770s 96ms/step - loss: 0.5618 - accuracy: 0.7702 - auc_1: 0.8500 - precision_1: 0.7734 - recall_1: 0.7644 - val_loss: 0.2834 - val_accuracy: 0.8890 - val_auc_1: 0.9596 - val_precision_1: 0.9348 - val_recall_1: 0.8363 - lr: 2.0000e-06\n",
            "Epoch 2/30\n",
            "7350/7350 [==============================] - ETA: 0s - loss: 0.3564 - accuracy: 0.8677 - auc_1: 0.9336 - precision_1: 0.8717 - recall_1: 0.8622\n",
            "Epoch 2: val_loss improved from 0.28336 to 0.19456, saving model to hybrid_model_txt_v3_loss.h5\n",
            "\n",
            "Epoch 2: val_accuracy improved from 0.88896 to 0.93440, saving model to hybrid_model_txt_v3_acc.h5\n",
            "7350/7350 [==============================] - 688s 94ms/step - loss: 0.3564 - accuracy: 0.8677 - auc_1: 0.9336 - precision_1: 0.8717 - recall_1: 0.8622 - val_loss: 0.1946 - val_accuracy: 0.9344 - val_auc_1: 0.9789 - val_precision_1: 0.9486 - val_recall_1: 0.9186 - lr: 2.0000e-06\n",
            "Epoch 3/30\n",
            "7350/7350 [==============================] - ETA: 0s - loss: 0.2635 - accuracy: 0.9075 - auc_1: 0.9608 - precision_1: 0.9092 - recall_1: 0.9055\n",
            "Epoch 3: val_loss improved from 0.19456 to 0.15821, saving model to hybrid_model_txt_v3_loss.h5\n",
            "\n",
            "Epoch 3: val_accuracy improved from 0.93440 to 0.94935, saving model to hybrid_model_txt_v3_acc.h5\n",
            "7350/7350 [==============================] - 686s 93ms/step - loss: 0.2635 - accuracy: 0.9075 - auc_1: 0.9608 - precision_1: 0.9092 - recall_1: 0.9055 - val_loss: 0.1582 - val_accuracy: 0.9493 - val_auc_1: 0.9844 - val_precision_1: 0.9566 - val_recall_1: 0.9414 - lr: 2.0000e-06\n",
            "Epoch 4/30\n",
            "7350/7350 [==============================] - ETA: 0s - loss: 0.2195 - accuracy: 0.9250 - auc_1: 0.9715 - precision_1: 0.9256 - recall_1: 0.9243\n",
            "Epoch 4: val_loss improved from 0.15821 to 0.13600, saving model to hybrid_model_txt_v3_loss.h5\n",
            "\n",
            "Epoch 4: val_accuracy improved from 0.94935 to 0.95699, saving model to hybrid_model_txt_v3_acc.h5\n",
            "7350/7350 [==============================] - 728s 99ms/step - loss: 0.2195 - accuracy: 0.9250 - auc_1: 0.9715 - precision_1: 0.9256 - recall_1: 0.9243 - val_loss: 0.1360 - val_accuracy: 0.9570 - val_auc_1: 0.9881 - val_precision_1: 0.9604 - val_recall_1: 0.9533 - lr: 2.0000e-06\n",
            "Epoch 5/30\n",
            "7350/7350 [==============================] - ETA: 0s - loss: 0.1896 - accuracy: 0.9366 - auc_1: 0.9779 - precision_1: 0.9364 - recall_1: 0.9369\n",
            "Epoch 5: val_loss improved from 0.13600 to 0.12082, saving model to hybrid_model_txt_v3_loss.h5\n",
            "\n",
            "Epoch 5: val_accuracy improved from 0.95699 to 0.96136, saving model to hybrid_model_txt_v3_acc.h5\n",
            "7350/7350 [==============================] - 723s 98ms/step - loss: 0.1896 - accuracy: 0.9366 - auc_1: 0.9779 - precision_1: 0.9364 - recall_1: 0.9369 - val_loss: 0.1208 - val_accuracy: 0.9614 - val_auc_1: 0.9902 - val_precision_1: 0.9688 - val_recall_1: 0.9534 - lr: 2.0000e-06\n",
            "Epoch 6/30\n",
            "7350/7350 [==============================] - ETA: 0s - loss: 0.1676 - accuracy: 0.9451 - auc_1: 0.9820 - precision_1: 0.9449 - recall_1: 0.9453\n",
            "Epoch 6: val_loss improved from 0.12082 to 0.10722, saving model to hybrid_model_txt_v3_loss.h5\n",
            "\n",
            "Epoch 6: val_accuracy improved from 0.96136 to 0.96594, saving model to hybrid_model_txt_v3_acc.h5\n",
            "7350/7350 [==============================] - 735s 100ms/step - loss: 0.1676 - accuracy: 0.9451 - auc_1: 0.9820 - precision_1: 0.9449 - recall_1: 0.9453 - val_loss: 0.1072 - val_accuracy: 0.9659 - val_auc_1: 0.9920 - val_precision_1: 0.9707 - val_recall_1: 0.9609 - lr: 2.0000e-06\n",
            "Epoch 7/30\n",
            "7350/7350 [==============================] - ETA: 0s - loss: 0.1495 - accuracy: 0.9513 - auc_1: 0.9851 - precision_1: 0.9504 - recall_1: 0.9522\n",
            "Epoch 7: val_loss improved from 0.10722 to 0.10445, saving model to hybrid_model_txt_v3_loss.h5\n",
            "\n",
            "Epoch 7: val_accuracy improved from 0.96594 to 0.96596, saving model to hybrid_model_txt_v3_acc.h5\n",
            "7350/7350 [==============================] - 747s 102ms/step - loss: 0.1495 - accuracy: 0.9513 - auc_1: 0.9851 - precision_1: 0.9504 - recall_1: 0.9522 - val_loss: 0.1045 - val_accuracy: 0.9660 - val_auc_1: 0.9927 - val_precision_1: 0.9786 - val_recall_1: 0.9528 - lr: 2.0000e-06\n",
            "Epoch 8/30\n",
            "7350/7350 [==============================] - ETA: 0s - loss: 0.1361 - accuracy: 0.9554 - auc_1: 0.9875 - precision_1: 0.9545 - recall_1: 0.9564\n",
            "Epoch 8: val_loss improved from 0.10445 to 0.08883, saving model to hybrid_model_txt_v3_loss.h5\n",
            "\n",
            "Epoch 8: val_accuracy improved from 0.96596 to 0.97249, saving model to hybrid_model_txt_v3_acc.h5\n",
            "7350/7350 [==============================] - 735s 100ms/step - loss: 0.1361 - accuracy: 0.9554 - auc_1: 0.9875 - precision_1: 0.9545 - recall_1: 0.9564 - val_loss: 0.0888 - val_accuracy: 0.9725 - val_auc_1: 0.9937 - val_precision_1: 0.9703 - val_recall_1: 0.9749 - lr: 2.0000e-06\n",
            "Epoch 9/30\n",
            "7350/7350 [==============================] - ETA: 0s - loss: 0.1232 - accuracy: 0.9597 - auc_1: 0.9895 - precision_1: 0.9580 - recall_1: 0.9616\n",
            "Epoch 9: val_loss improved from 0.08883 to 0.08316, saving model to hybrid_model_txt_v3_loss.h5\n",
            "\n",
            "Epoch 9: val_accuracy improved from 0.97249 to 0.97454, saving model to hybrid_model_txt_v3_acc.h5\n",
            "7350/7350 [==============================] - 724s 99ms/step - loss: 0.1232 - accuracy: 0.9597 - auc_1: 0.9895 - precision_1: 0.9580 - recall_1: 0.9616 - val_loss: 0.0832 - val_accuracy: 0.9745 - val_auc_1: 0.9943 - val_precision_1: 0.9743 - val_recall_1: 0.9747 - lr: 2.0000e-06\n",
            "Epoch 10/30\n",
            "7350/7350 [==============================] - ETA: 0s - loss: 0.1127 - accuracy: 0.9633 - auc_1: 0.9910 - precision_1: 0.9617 - recall_1: 0.9650\n",
            "Epoch 10: val_loss improved from 0.08316 to 0.07837, saving model to hybrid_model_txt_v3_loss.h5\n",
            "\n",
            "Epoch 10: val_accuracy improved from 0.97454 to 0.97643, saving model to hybrid_model_txt_v3_acc.h5\n",
            "7350/7350 [==============================] - 729s 99ms/step - loss: 0.1127 - accuracy: 0.9633 - auc_1: 0.9910 - precision_1: 0.9617 - recall_1: 0.9650 - val_loss: 0.0784 - val_accuracy: 0.9764 - val_auc_1: 0.9947 - val_precision_1: 0.9739 - val_recall_1: 0.9791 - lr: 2.0000e-06\n",
            "Epoch 11/30\n",
            "7350/7350 [==============================] - ETA: 0s - loss: 0.1033 - accuracy: 0.9663 - auc_1: 0.9922 - precision_1: 0.9642 - recall_1: 0.9684\n",
            "Epoch 11: val_loss improved from 0.07837 to 0.07181, saving model to hybrid_model_txt_v3_loss.h5\n",
            "\n",
            "Epoch 11: val_accuracy improved from 0.97643 to 0.97818, saving model to hybrid_model_txt_v3_acc.h5\n",
            "7350/7350 [==============================] - 707s 96ms/step - loss: 0.1033 - accuracy: 0.9663 - auc_1: 0.9922 - precision_1: 0.9642 - recall_1: 0.9684 - val_loss: 0.0718 - val_accuracy: 0.9782 - val_auc_1: 0.9954 - val_precision_1: 0.9743 - val_recall_1: 0.9823 - lr: 2.0000e-06\n",
            "Epoch 12/30\n",
            "7350/7350 [==============================] - ETA: 0s - loss: 0.0954 - accuracy: 0.9687 - auc_1: 0.9932 - precision_1: 0.9664 - recall_1: 0.9713\n",
            "Epoch 12: val_loss improved from 0.07181 to 0.06790, saving model to hybrid_model_txt_v3_loss.h5\n",
            "\n",
            "Epoch 12: val_accuracy improved from 0.97818 to 0.97935, saving model to hybrid_model_txt_v3_acc.h5\n",
            "7350/7350 [==============================] - 750s 102ms/step - loss: 0.0954 - accuracy: 0.9687 - auc_1: 0.9932 - precision_1: 0.9664 - recall_1: 0.9713 - val_loss: 0.0679 - val_accuracy: 0.9794 - val_auc_1: 0.9958 - val_precision_1: 0.9756 - val_recall_1: 0.9833 - lr: 2.0000e-06\n",
            "Epoch 13/30\n",
            "7350/7350 [==============================] - ETA: 0s - loss: 0.0889 - accuracy: 0.9711 - auc_1: 0.9940 - precision_1: 0.9686 - recall_1: 0.9739\n",
            "Epoch 13: val_loss improved from 0.06790 to 0.06443, saving model to hybrid_model_txt_v3_loss.h5\n",
            "\n",
            "Epoch 13: val_accuracy improved from 0.97935 to 0.98039, saving model to hybrid_model_txt_v3_acc.h5\n",
            "7350/7350 [==============================] - 740s 101ms/step - loss: 0.0889 - accuracy: 0.9711 - auc_1: 0.9940 - precision_1: 0.9686 - recall_1: 0.9739 - val_loss: 0.0644 - val_accuracy: 0.9804 - val_auc_1: 0.9959 - val_precision_1: 0.9769 - val_recall_1: 0.9840 - lr: 2.0000e-06\n",
            "Epoch 14/30\n",
            "7350/7350 [==============================] - ETA: 0s - loss: 0.0828 - accuracy: 0.9733 - auc_1: 0.9946 - precision_1: 0.9709 - recall_1: 0.9760\n",
            "Epoch 14: val_loss improved from 0.06443 to 0.06304, saving model to hybrid_model_txt_v3_loss.h5\n",
            "\n",
            "Epoch 14: val_accuracy improved from 0.98039 to 0.98087, saving model to hybrid_model_txt_v3_acc.h5\n",
            "7350/7350 [==============================] - 755s 103ms/step - loss: 0.0828 - accuracy: 0.9733 - auc_1: 0.9946 - precision_1: 0.9709 - recall_1: 0.9760 - val_loss: 0.0630 - val_accuracy: 0.9809 - val_auc_1: 0.9962 - val_precision_1: 0.9801 - val_recall_1: 0.9817 - lr: 2.0000e-06\n",
            "Epoch 15/30\n",
            "7350/7350 [==============================] - ETA: 0s - loss: 0.0775 - accuracy: 0.9750 - auc_1: 0.9953 - precision_1: 0.9727 - recall_1: 0.9774\n",
            "Epoch 15: val_loss improved from 0.06304 to 0.06142, saving model to hybrid_model_txt_v3_loss.h5\n",
            "\n",
            "Epoch 15: val_accuracy improved from 0.98087 to 0.98286, saving model to hybrid_model_txt_v3_acc.h5\n",
            "7350/7350 [==============================] - 738s 100ms/step - loss: 0.0775 - accuracy: 0.9750 - auc_1: 0.9953 - precision_1: 0.9727 - recall_1: 0.9774 - val_loss: 0.0614 - val_accuracy: 0.9829 - val_auc_1: 0.9960 - val_precision_1: 0.9802 - val_recall_1: 0.9856 - lr: 2.0000e-06\n",
            "Epoch 16/30\n",
            "7350/7350 [==============================] - ETA: 0s - loss: 0.0725 - accuracy: 0.9761 - auc_1: 0.9958 - precision_1: 0.9735 - recall_1: 0.9788\n",
            "Epoch 16: val_loss improved from 0.06142 to 0.06099, saving model to hybrid_model_txt_v3_loss.h5\n",
            "\n",
            "Epoch 16: val_accuracy improved from 0.98286 to 0.98305, saving model to hybrid_model_txt_v3_acc.h5\n",
            "7350/7350 [==============================] - 728s 99ms/step - loss: 0.0725 - accuracy: 0.9761 - auc_1: 0.9958 - precision_1: 0.9735 - recall_1: 0.9788 - val_loss: 0.0610 - val_accuracy: 0.9830 - val_auc_1: 0.9960 - val_precision_1: 0.9817 - val_recall_1: 0.9845 - lr: 2.0000e-06\n",
            "Epoch 17/30\n",
            "7350/7350 [==============================] - ETA: 0s - loss: 0.0690 - accuracy: 0.9775 - auc_1: 0.9961 - precision_1: 0.9754 - recall_1: 0.9797\n",
            "Epoch 17: val_loss improved from 0.06099 to 0.05439, saving model to hybrid_model_txt_v3_loss.h5\n",
            "\n",
            "Epoch 17: val_accuracy improved from 0.98305 to 0.98398, saving model to hybrid_model_txt_v3_acc.h5\n",
            "7350/7350 [==============================] - 733s 100ms/step - loss: 0.0690 - accuracy: 0.9775 - auc_1: 0.9961 - precision_1: 0.9754 - recall_1: 0.9797 - val_loss: 0.0544 - val_accuracy: 0.9840 - val_auc_1: 0.9968 - val_precision_1: 0.9788 - val_recall_1: 0.9894 - lr: 2.0000e-06\n",
            "Epoch 18/30\n",
            "7350/7350 [==============================] - ETA: 0s - loss: 0.0649 - accuracy: 0.9791 - auc_1: 0.9964 - precision_1: 0.9765 - recall_1: 0.9818\n",
            "Epoch 18: val_loss improved from 0.05439 to 0.05391, saving model to hybrid_model_txt_v3_loss.h5\n",
            "\n",
            "Epoch 18: val_accuracy improved from 0.98398 to 0.98415, saving model to hybrid_model_txt_v3_acc.h5\n",
            "7350/7350 [==============================] - 737s 100ms/step - loss: 0.0649 - accuracy: 0.9791 - auc_1: 0.9964 - precision_1: 0.9765 - recall_1: 0.9818 - val_loss: 0.0539 - val_accuracy: 0.9842 - val_auc_1: 0.9969 - val_precision_1: 0.9830 - val_recall_1: 0.9854 - lr: 2.0000e-06\n",
            "Epoch 19/30\n",
            "7350/7350 [==============================] - ETA: 0s - loss: 0.0610 - accuracy: 0.9804 - auc_1: 0.9968 - precision_1: 0.9781 - recall_1: 0.9828\n",
            "Epoch 19: val_loss improved from 0.05391 to 0.05184, saving model to hybrid_model_txt_v3_loss.h5\n",
            "\n",
            "Epoch 19: val_accuracy improved from 0.98415 to 0.98480, saving model to hybrid_model_txt_v3_acc.h5\n",
            "7350/7350 [==============================] - 722s 98ms/step - loss: 0.0610 - accuracy: 0.9804 - auc_1: 0.9968 - precision_1: 0.9781 - recall_1: 0.9828 - val_loss: 0.0518 - val_accuracy: 0.9848 - val_auc_1: 0.9969 - val_precision_1: 0.9822 - val_recall_1: 0.9875 - lr: 2.0000e-06\n",
            "Epoch 20/30\n",
            "7350/7350 [==============================] - ETA: 0s - loss: 0.0584 - accuracy: 0.9809 - auc_1: 0.9971 - precision_1: 0.9788 - recall_1: 0.9832\n",
            "Epoch 20: val_loss improved from 0.05184 to 0.05125, saving model to hybrid_model_txt_v3_loss.h5\n",
            "\n",
            "Epoch 20: val_accuracy improved from 0.98480 to 0.98519, saving model to hybrid_model_txt_v3_acc.h5\n",
            "7350/7350 [==============================] - 712s 97ms/step - loss: 0.0584 - accuracy: 0.9809 - auc_1: 0.9971 - precision_1: 0.9788 - recall_1: 0.9832 - val_loss: 0.0512 - val_accuracy: 0.9852 - val_auc_1: 0.9969 - val_precision_1: 0.9845 - val_recall_1: 0.9859 - lr: 2.0000e-06\n",
            "Epoch 21/30\n",
            "7350/7350 [==============================] - ETA: 0s - loss: 0.0554 - accuracy: 0.9822 - auc_1: 0.9973 - precision_1: 0.9803 - recall_1: 0.9843\n",
            "Epoch 21: val_loss improved from 0.05125 to 0.05072, saving model to hybrid_model_txt_v3_loss.h5\n",
            "\n",
            "Epoch 21: val_accuracy improved from 0.98519 to 0.98553, saving model to hybrid_model_txt_v3_acc.h5\n",
            "7350/7350 [==============================] - 712s 97ms/step - loss: 0.0554 - accuracy: 0.9822 - auc_1: 0.9973 - precision_1: 0.9803 - recall_1: 0.9843 - val_loss: 0.0507 - val_accuracy: 0.9855 - val_auc_1: 0.9966 - val_precision_1: 0.9806 - val_recall_1: 0.9907 - lr: 2.0000e-06\n",
            "Epoch 22/30\n",
            "7350/7350 [==============================] - ETA: 0s - loss: 0.0538 - accuracy: 0.9827 - auc_1: 0.9974 - precision_1: 0.9806 - recall_1: 0.9848\n",
            "Epoch 22: val_loss did not improve from 0.05072\n",
            "\n",
            "Epoch 22: val_accuracy improved from 0.98553 to 0.98592, saving model to hybrid_model_txt_v3_acc.h5\n",
            "7350/7350 [==============================] - 690s 94ms/step - loss: 0.0538 - accuracy: 0.9827 - auc_1: 0.9974 - precision_1: 0.9806 - recall_1: 0.9848 - val_loss: 0.0515 - val_accuracy: 0.9859 - val_auc_1: 0.9967 - val_precision_1: 0.9841 - val_recall_1: 0.9878 - lr: 2.0000e-06\n",
            "Epoch 23/30\n",
            "7350/7350 [==============================] - ETA: 0s - loss: 0.0511 - accuracy: 0.9833 - auc_1: 0.9977 - precision_1: 0.9813 - recall_1: 0.9853\n",
            "Epoch 23: val_loss did not improve from 0.05072\n",
            "\n",
            "Epoch 23: val_accuracy improved from 0.98592 to 0.98626, saving model to hybrid_model_txt_v3_acc.h5\n",
            "7350/7350 [==============================] - 679s 92ms/step - loss: 0.0511 - accuracy: 0.9833 - auc_1: 0.9977 - precision_1: 0.9813 - recall_1: 0.9853 - val_loss: 0.0527 - val_accuracy: 0.9863 - val_auc_1: 0.9966 - val_precision_1: 0.9846 - val_recall_1: 0.9880 - lr: 2.0000e-06\n",
            "Epoch 24/30\n",
            "7350/7350 [==============================] - ETA: 0s - loss: 0.0496 - accuracy: 0.9839 - auc_1: 0.9977 - precision_1: 0.9819 - recall_1: 0.9861\n",
            "Epoch 24: val_loss improved from 0.05072 to 0.04830, saving model to hybrid_model_txt_v3_loss.h5\n",
            "\n",
            "Epoch 24: val_accuracy improved from 0.98626 to 0.98693, saving model to hybrid_model_txt_v3_acc.h5\n",
            "7350/7350 [==============================] - 681s 93ms/step - loss: 0.0496 - accuracy: 0.9839 - auc_1: 0.9977 - precision_1: 0.9819 - recall_1: 0.9861 - val_loss: 0.0483 - val_accuracy: 0.9869 - val_auc_1: 0.9969 - val_precision_1: 0.9855 - val_recall_1: 0.9884 - lr: 2.0000e-06\n",
            "Epoch 25/30\n",
            "7350/7350 [==============================] - ETA: 0s - loss: 0.0483 - accuracy: 0.9839 - auc_1: 0.9979 - precision_1: 0.9821 - recall_1: 0.9857\n",
            "Epoch 25: val_loss improved from 0.04830 to 0.04769, saving model to hybrid_model_txt_v3_loss.h5\n",
            "\n",
            "Epoch 25: val_accuracy did not improve from 0.98693\n",
            "7350/7350 [==============================] - 676s 92ms/step - loss: 0.0483 - accuracy: 0.9839 - auc_1: 0.9979 - precision_1: 0.9821 - recall_1: 0.9857 - val_loss: 0.0477 - val_accuracy: 0.9869 - val_auc_1: 0.9970 - val_precision_1: 0.9796 - val_recall_1: 0.9945 - lr: 2.0000e-06\n",
            "Epoch 26/30\n",
            "7350/7350 [==============================] - ETA: 0s - loss: 0.0456 - accuracy: 0.9850 - auc_1: 0.9981 - precision_1: 0.9832 - recall_1: 0.9868\n",
            "Epoch 26: val_loss did not improve from 0.04769\n",
            "\n",
            "Epoch 26: val_accuracy improved from 0.98693 to 0.98766, saving model to hybrid_model_txt_v3_acc.h5\n",
            "7350/7350 [==============================] - 672s 91ms/step - loss: 0.0456 - accuracy: 0.9850 - auc_1: 0.9981 - precision_1: 0.9832 - recall_1: 0.9868 - val_loss: 0.0506 - val_accuracy: 0.9877 - val_auc_1: 0.9967 - val_precision_1: 0.9832 - val_recall_1: 0.9923 - lr: 2.0000e-06\n",
            "Epoch 27/30\n",
            "7350/7350 [==============================] - ETA: 0s - loss: 0.0437 - accuracy: 0.9855 - auc_1: 0.9982 - precision_1: 0.9839 - recall_1: 0.9871\n",
            "Epoch 27: val_loss did not improve from 0.04769\n",
            "\n",
            "Epoch 27: val_accuracy did not improve from 0.98766\n",
            "7350/7350 [==============================] - 659s 90ms/step - loss: 0.0437 - accuracy: 0.9855 - auc_1: 0.9982 - precision_1: 0.9839 - recall_1: 0.9871 - val_loss: 0.0490 - val_accuracy: 0.9867 - val_auc_1: 0.9970 - val_precision_1: 0.9811 - val_recall_1: 0.9926 - lr: 2.0000e-06\n",
            "Epoch 28/30\n",
            "7350/7350 [==============================] - ETA: 0s - loss: 0.0420 - accuracy: 0.9861 - auc_1: 0.9983 - precision_1: 0.9845 - recall_1: 0.9878\n",
            "Epoch 28: val_loss did not improve from 0.04769\n",
            "\n",
            "Epoch 28: val_accuracy improved from 0.98766 to 0.98790, saving model to hybrid_model_txt_v3_acc.h5\n",
            "7350/7350 [==============================] - 691s 94ms/step - loss: 0.0420 - accuracy: 0.9861 - auc_1: 0.9983 - precision_1: 0.9845 - recall_1: 0.9878 - val_loss: 0.0495 - val_accuracy: 0.9879 - val_auc_1: 0.9967 - val_precision_1: 0.9838 - val_recall_1: 0.9921 - lr: 2.0000e-06\n",
            "Epoch 29/30\n",
            "7350/7350 [==============================] - ETA: 0s - loss: 0.0416 - accuracy: 0.9862 - auc_1: 0.9983 - precision_1: 0.9849 - recall_1: 0.9876\n",
            "Epoch 29: val_loss did not improve from 0.04769\n",
            "\n",
            "Epoch 29: val_accuracy improved from 0.98790 to 0.98803, saving model to hybrid_model_txt_v3_acc.h5\n",
            "7350/7350 [==============================] - 694s 94ms/step - loss: 0.0416 - accuracy: 0.9862 - auc_1: 0.9983 - precision_1: 0.9849 - recall_1: 0.9876 - val_loss: 0.0521 - val_accuracy: 0.9880 - val_auc_1: 0.9963 - val_precision_1: 0.9845 - val_recall_1: 0.9917 - lr: 2.0000e-06\n",
            "Epoch 30/30\n",
            "7350/7350 [==============================] - ETA: 0s - loss: 0.0405 - accuracy: 0.9866 - auc_1: 0.9984 - precision_1: 0.9852 - recall_1: 0.9881\n",
            "Epoch 30: ReduceLROnPlateau reducing learning rate to 1.9999999949504855e-07.\n",
            "\n",
            "Epoch 30: val_loss did not improve from 0.04769\n",
            "\n",
            "Epoch 30: val_accuracy did not improve from 0.98803\n",
            "7350/7350 [==============================] - 658s 90ms/step - loss: 0.0405 - accuracy: 0.9866 - auc_1: 0.9984 - precision_1: 0.9852 - recall_1: 0.9881 - val_loss: 0.0478 - val_accuracy: 0.9873 - val_auc_1: 0.9971 - val_precision_1: 0.9864 - val_recall_1: 0.9881 - lr: 2.0000e-06\n",
            "time taken to train model (30 epochs): 21420.478249549866 secs\n"
          ]
        }
      ],
      "source": [
        "start = time.time()\n",
        "epochs = 30\n",
        "\n",
        "\n",
        "history_1 = model_txt_3.fit(ds_training,validation_data=ds_validating, epochs=epochs, callbacks=[reduce_lr,checkpoint1, checkpoint2, early_stop])\n",
        "\n",
        "end = time.time()\n",
        "total_time = end-start\n",
        "print(f'time taken to train model ({epochs} epochs): {total_time} secs')"
      ]
    },
    {
      "cell_type": "code",
      "execution_count": null,
      "metadata": {
        "colab": {
          "base_uri": "https://localhost:8080/"
        },
        "id": "Dic-b7oRh911",
        "outputId": "055d0905-05e1-4570-ca9a-2325a28fad82"
      },
      "outputs": [
        {
          "data": {
            "text/plain": [
              "5.95"
            ]
          },
          "execution_count": 33,
          "metadata": {},
          "output_type": "execute_result"
        }
      ],
      "source": [
        "21420/3600"
      ]
    },
    {
      "cell_type": "markdown",
      "metadata": {
        "id": "bbLbK-gXh911"
      },
      "source": [
        "## Evaluating"
      ]
    },
    {
      "cell_type": "code",
      "execution_count": null,
      "metadata": {
        "colab": {
          "base_uri": "https://localhost:8080/",
          "height": 451
        },
        "id": "aSXaFWaJh911",
        "outputId": "030ad9ef-845c-402a-b479-96775ee82eed"
      },
      "outputs": [
        {
          "data": {
            "image/png": "[encoded data removed]",
            "text/plain": [
              "<Figure size 800x500 with 1 Axes>"
            ]
          },
          "metadata": {},
          "output_type": "display_data"
        }
      ],
      "source": [
        "loss_and_acc = {}\n",
        "loss_and_acc['loss'] = history_1.history['loss']\n",
        "loss_and_acc['val_loss'] = history_1.history['val_loss']\n",
        "loss_and_acc['accuracy'] = history_1.history['accuracy']\n",
        "loss_and_acc['val_accuracy'] = history_1.history['val_accuracy']\n",
        "\n",
        "df_metrics_1 = pd.DataFrame(loss_and_acc)\n",
        "df_metrics_1.plot(figsize=(8,5))\n",
        "plt.grid(True)\n",
        "plt.gca().set_ylim(0,1)\n",
        "plt.show()"
      ]
    },
    {
      "cell_type": "code",
      "execution_count": null,
      "metadata": {
        "id": "aMUG4so_2NSF"
      },
      "outputs": [],
      "source": [
        "#pd.DataFrame(history_1.history)"
      ]
    },
    {
      "cell_type": "code",
      "execution_count": null,
      "metadata": {
        "colab": {
          "base_uri": "https://localhost:8080/",
          "height": 451
        },
        "id": "6tyXaVf-h912",
        "outputId": "f75f357f-2a7d-4de3-ed14-4768a01833c6"
      },
      "outputs": [
        {
          "data": {
            "image/png": "[encoded data removed]",
            "text/plain": [
              "<Figure size 800x500 with 1 Axes>"
            ]
          },
          "metadata": {},
          "output_type": "display_data"
        }
      ],
      "source": [
        "precision_recall = {}\n",
        "precision_recall['auc'] = history_1.history['auc_1']\n",
        "precision_recall['val_auc'] = history_1.history['val_auc_1']\n",
        "precision_recall['precision'] = history_1.history['precision_1']\n",
        "precision_recall['val_precision'] = history_1.history['val_precision_1']\n",
        "precision_recall['recall'] = history_1.history['recall_1']\n",
        "precision_recall['val_recall'] = history_1.history['val_recall_1']\n",
        "\n",
        "df_metrics_2 = pd.DataFrame(precision_recall)\n",
        "df_metrics_2.plot(figsize=(8,5))\n",
        "plt.grid(True)\n",
        "plt.gca().set_ylim(0.8,1)\n",
        "plt.show()"
      ]
    },
    {
      "cell_type": "code",
      "execution_count": null,
      "metadata": {
        "colab": {
          "base_uri": "https://localhost:8080/"
        },
        "id": "cOLM41bg2gez",
        "outputId": "a3fb4e3f-b6ee-48f4-8258-4a3397bc82a1"
      },
      "outputs": [
        {
          "name": "stdout",
          "output_type": "stream",
          "text": [
            "306/306 [==============================] - 13s 33ms/step - loss: 0.0507 - accuracy: 0.9877 - auc_1: 0.9968 - precision_1: 0.9858 - recall_1: 0.9896\n"
          ]
        },
        {
          "data": {
            "text/plain": [
              "[0.050666484981775284,\n",
              " 0.9876940250396729,\n",
              " 0.9967901110649109,\n",
              " 0.9858366250991821,\n",
              " 0.9895673394203186]"
            ]
          },
          "execution_count": 40,
          "metadata": {},
          "output_type": "execute_result"
        }
      ],
      "source": [
        "#evaluate\n",
        "model_txt_3.evaluate(ds_testing)"
      ]
    },
    {
      "cell_type": "code",
      "execution_count": null,
      "metadata": {
        "colab": {
          "base_uri": "https://localhost:8080/"
        },
        "id": "SPa8c58Ch912",
        "outputId": "599b443b-d907-4d3f-aea9-8a25f6d5e5e0"
      },
      "outputs": [
        {
          "name": "stdout",
          "output_type": "stream",
          "text": [
            "Copying file:///content/hybrid_model_txt_v3_acc.h5 [Content-Type=application/x-hdf5]...\n",
            "/ [0 files][    0.0 B/640.8 MiB]                                                \r==> NOTE: You are uploading one or more large file(s), which would run\n",
            "significantly faster if you enable parallel composite uploads. This\n",
            "feature can be enabled by editing the\n",
            "\"parallel_composite_upload_threshold\" value in your .boto\n",
            "configuration file. However, note that if you do this large files will\n",
            "be uploaded as `composite objects\n",
            "<https://cloud.google.com/storage/docs/composite-objects>`_,which\n",
            "means that any user who downloads such objects will need to have a\n",
            "compiled crcmod installed (see \"gsutil help crcmod\"). This is because\n",
            "without a compiled crcmod, computing checksums on composite objects is\n",
            "so slow that gsutil disables downloads of composite objects.\n",
            "\n",
            "| [1 files][640.8 MiB/640.8 MiB]                                                \n",
            "Operation completed over 1 objects/640.8 MiB.                                    \n",
            "Copying file:///content/hybrid_model_txt_v3_loss.h5 [Content-Type=application/x-hdf5]...\n",
            "==> NOTE: You are uploading one or more large file(s), which would run\n",
            "significantly faster if you enable parallel composite uploads. This\n",
            "feature can be enabled by editing the\n",
            "\"parallel_composite_upload_threshold\" value in your .boto\n",
            "configuration file. However, note that if you do this large files will\n",
            "be uploaded as `composite objects\n",
            "<https://cloud.google.com/storage/docs/composite-objects>`_,which\n",
            "means that any user who downloads such objects will need to have a\n",
            "compiled crcmod installed (see \"gsutil help crcmod\"). This is because\n",
            "without a compiled crcmod, computing checksums on composite objects is\n",
            "so slow that gsutil disables downloads of composite objects.\n",
            "\n",
            "/ [1 files][640.8 MiB/640.8 MiB]                                                \n",
            "Operation completed over 1 objects/640.8 MiB.                                    \n"
          ]
        }
      ],
      "source": [
        "models_folder = 'models_checkpoints'\n",
        "!gsutil cp /content/hybrid_model_txt_v3_acc.h5 {BUCKET_URI}/{models_folder}\n",
        "!gsutil cp /content/hybrid_model_txt_v3_loss.h5 {BUCKET_URI}/{models_folder}"
      ]
    },
    {
      "cell_type": "code",
      "execution_count": null,
      "metadata": {
        "id": "h0wWrQioh912"
      },
      "outputs": [],
      "source": []
    },
    {
      "cell_type": "markdown",
      "metadata": {
        "id": "bvPTBnePh912"
      },
      "source": [
        "## Training"
      ]
    },
    {
      "cell_type": "code",
      "execution_count": null,
      "metadata": {
        "id": "f74ADr3ph912"
      },
      "outputs": [],
      "source": [
        "from transformers import TFBertForSequenceClassification"
      ]
    },
    {
      "cell_type": "code",
      "execution_count": null,
      "metadata": {
        "colab": {
          "base_uri": "https://localhost:8080/"
        },
        "id": "j_olb0pRh912",
        "outputId": "42d318a8-2d7f-4344-fc54-9ab6a9f2ee27"
      },
      "outputs": [
        {
          "name": "stderr",
          "output_type": "stream",
          "text": [
            "All PyTorch model weights were used when initializing TFBertForSequenceClassification.\n",
            "\n",
            "Some weights or buffers of the TF 2.0 model TFBertForSequenceClassification were not initialized from the PyTorch model and are newly initialized: ['classifier.weight', 'classifier.bias']\n",
            "You should probably TRAIN this model on a down-stream task to be able to use it for predictions and inference.\n"
          ]
        }
      ],
      "source": [
        "with strategy.scope(): # creating the model in the TPU strategy scope\n",
        "\n",
        "    model_txt_3 = TFBertForSequenceClassification.from_pretrained(bert_multi, num_labels=2)\n",
        "\n",
        "\n",
        "    filepath1 = 'hybrid_model_txt_v3_loss.h5'\n",
        "    filepath2 = 'hybrid_model_txt_v3_acc.h5'\n",
        "\n",
        "    #chekpoints\n",
        "    checkpoint1 = ModelCheckpoint(filepath1, monitor='val_loss', verbose=1, \\\n",
        "                                  save_best_only=True, save_weights_only=True, \\\n",
        "                                  mode='auto', save_frequency=1)\n",
        "\n",
        "    checkpoint2 = ModelCheckpoint(filepath2, monitor='val_accuracy', verbose=1, \\\n",
        "                                  save_best_only=True, save_weights_only=True, \\\n",
        "                                  mode='auto', save_frequency=1)\n",
        "\n",
        "    #checkpoint3 = ModelCheckpoint(filepath3, monitor='val_recall', verbose=1, \\\n",
        "    #                              save_best_only=True, save_weights_only=True, \\\n",
        "    #                              mode='auto', save_frequency=1)\n",
        "\n",
        "    early_stop = EarlyStopping(monitor='val_loss', patience=15)\n",
        "\n",
        "\n",
        "    #initial learning rate & optimizer\n",
        "    lr = 2e-6\n",
        "    optimizer = tf.keras.optimizers.Adam(lr)\n",
        "\n",
        "    #learning rate schedule --> for exploring the plateu when stuck in locals minimals\n",
        "    reduce_lr = tf.keras.callbacks.ReduceLROnPlateau(\n",
        "        monitor='val_loss',\n",
        "        learning_rate=lr,\n",
        "        factor=0.1,\n",
        "        patience=5,\n",
        "        verbose=1,\n",
        "        min_delta=1e-4,\n",
        "        mode='auto'\n",
        "    )\n",
        "\n",
        "    #compile model\n",
        "    model_txt_3.compile(loss ='binary_crossentropy', optimizer= optimizer ,\n",
        "                        metrics=[\"accuracy\",\n",
        "                                 tf.keras.metrics.AUC(),\n",
        "                                 tf.keras.metrics.Precision(),\n",
        "                                 tf.keras.metrics.Recall()])"
      ]
    },
    {
      "cell_type": "code",
      "execution_count": null,
      "metadata": {
        "colab": {
          "base_uri": "https://localhost:8080/"
        },
        "id": "WAI2LMWzh912",
        "outputId": "f4f42c66-9e29-4201-c7ad-3b5bbca7e8f3"
      },
      "outputs": [
        {
          "name": "stdout",
          "output_type": "stream",
          "text": [
            "0 <transformers.models.bert.modeling_tf_bert.TFBertMainLayer object at 0x7ff3b7742b30> False\n",
            "1 <keras.layers.core.dropout.Dropout object at 0x7ff3b6db81f0> True\n",
            "2 <keras.layers.core.dense.Dense object at 0x7ff3b6db8820> True\n"
          ]
        }
      ],
      "source": [
        "for index,layer in enumerate(model_txt_3.layers):\n",
        "\n",
        "  if index < 1: #freeze bert layer (dont want to tune the bert weights)\n",
        "    layer.trainable = False\n",
        "\n",
        "\n",
        "  print(index, layer, layer.trainable)"
      ]
    },
    {
      "cell_type": "code",
      "execution_count": null,
      "metadata": {
        "colab": {
          "base_uri": "https://localhost:8080/",
          "height": 738
        },
        "id": "pTvVfwgYh912",
        "outputId": "6f3a6528-5d1b-440e-c87c-5848b3934222"
      },
      "outputs": [
        {
          "name": "stdout",
          "output_type": "stream",
          "text": [
            "Epoch 1/30\n"
          ]
        },
        {
          "ename": "ValueError",
          "evalue": "in user code:\n\n    File \"/usr/local/lib/python3.10/dist-packages/keras/engine/training.py\", line 1021, in train_function  *\n        return step_function(self, iterator)\n    File \"/usr/local/lib/python3.10/dist-packages/keras/engine/training.py\", line 1010, in step_function  **\n        outputs = model.distribute_strategy.run(run_step, args=(data,))\n    File \"/usr/local/lib/python3.10/dist-packages/keras/engine/training.py\", line 1000, in run_step\n        outputs = model.train_step(data)\n    File \"/usr/local/lib/python3.10/dist-packages/transformers/modeling_tf_utils.py\", line 1573, in train_step\n        self.compiled_metrics.update_state(y, y_pred, sample_weight)\n    File \"/usr/local/lib/python3.10/dist-packages/keras/engine/compile_utils.py\", line 459, in update_state\n        metric_obj.update_state(y_t, y_p, sample_weight=mask)\n    File \"/usr/local/lib/python3.10/dist-packages/keras/utils/metrics_utils.py\", line 70, in decorated\n        update_op = update_state_fn(*args, **kwargs)\n    File \"/usr/local/lib/python3.10/dist-packages/keras/metrics.py\", line 178, in update_state_fn\n        return ag_update_state(*args, **kwargs)\n    File \"/usr/local/lib/python3.10/dist-packages/keras/metrics.py\", line 2347, in update_state\n        return metrics_utils.update_confusion_matrix_variables(\n    File \"/usr/local/lib/python3.10/dist-packages/keras/utils/metrics_utils.py\", line 619, in update_confusion_matrix_variables\n        y_pred.shape.assert_is_compatible_with(y_true.shape)\n\n    ValueError: Shapes (8, 2) and (8, 1) are incompatible\n",
          "output_type": "error",
          "traceback": [
            "\u001b[0;31m---------------------------------------------------------------------------\u001b[0m",
            "\u001b[0;31mValueError\u001b[0m                                Traceback (most recent call last)",
            "\u001b[0;32m<ipython-input-17-54ec64a8333d>\u001b[0m in \u001b[0;36m<cell line: 5>\u001b[0;34m()\u001b[0m\n\u001b[1;32m      3\u001b[0m \u001b[0;34m\u001b[0m\u001b[0m\n\u001b[1;32m      4\u001b[0m \u001b[0;34m\u001b[0m\u001b[0m\n\u001b[0;32m----> 5\u001b[0;31m \u001b[0mhistory_1\u001b[0m \u001b[0;34m=\u001b[0m \u001b[0mmodel_txt_3\u001b[0m\u001b[0;34m.\u001b[0m\u001b[0mfit\u001b[0m\u001b[0;34m(\u001b[0m\u001b[0mds_training\u001b[0m\u001b[0;34m,\u001b[0m\u001b[0mvalidation_data\u001b[0m\u001b[0;34m=\u001b[0m\u001b[0mds_validating\u001b[0m\u001b[0;34m,\u001b[0m \u001b[0mepochs\u001b[0m\u001b[0;34m=\u001b[0m\u001b[0mepochs\u001b[0m\u001b[0;34m,\u001b[0m \u001b[0mcallbacks\u001b[0m\u001b[0;34m=\u001b[0m\u001b[0;34m[\u001b[0m\u001b[0mreduce_lr\u001b[0m\u001b[0;34m,\u001b[0m\u001b[0mcheckpoint1\u001b[0m\u001b[0;34m,\u001b[0m \u001b[0mcheckpoint2\u001b[0m\u001b[0;34m,\u001b[0m \u001b[0mearly_stop\u001b[0m\u001b[0;34m]\u001b[0m\u001b[0;34m)\u001b[0m\u001b[0;34m\u001b[0m\u001b[0;34m\u001b[0m\u001b[0m\n\u001b[0m\u001b[1;32m      6\u001b[0m \u001b[0;34m\u001b[0m\u001b[0m\n\u001b[1;32m      7\u001b[0m \u001b[0mend\u001b[0m \u001b[0;34m=\u001b[0m \u001b[0mtime\u001b[0m\u001b[0;34m.\u001b[0m\u001b[0mtime\u001b[0m\u001b[0;34m(\u001b[0m\u001b[0;34m)\u001b[0m\u001b[0;34m\u001b[0m\u001b[0;34m\u001b[0m\u001b[0m\n",
            "\u001b[0;32m/usr/local/lib/python3.10/dist-packages/keras/utils/traceback_utils.py\u001b[0m in \u001b[0;36merror_handler\u001b[0;34m(*args, **kwargs)\u001b[0m\n\u001b[1;32m     65\u001b[0m     \u001b[0;32mexcept\u001b[0m \u001b[0mException\u001b[0m \u001b[0;32mas\u001b[0m \u001b[0me\u001b[0m\u001b[0;34m:\u001b[0m  \u001b[0;31m# pylint: disable=broad-except\u001b[0m\u001b[0;34m\u001b[0m\u001b[0;34m\u001b[0m\u001b[0m\n\u001b[1;32m     66\u001b[0m       \u001b[0mfiltered_tb\u001b[0m \u001b[0;34m=\u001b[0m \u001b[0m_process_traceback_frames\u001b[0m\u001b[0;34m(\u001b[0m\u001b[0me\u001b[0m\u001b[0;34m.\u001b[0m\u001b[0m__traceback__\u001b[0m\u001b[0;34m)\u001b[0m\u001b[0;34m\u001b[0m\u001b[0;34m\u001b[0m\u001b[0m\n\u001b[0;32m---> 67\u001b[0;31m       \u001b[0;32mraise\u001b[0m \u001b[0me\u001b[0m\u001b[0;34m.\u001b[0m\u001b[0mwith_traceback\u001b[0m\u001b[0;34m(\u001b[0m\u001b[0mfiltered_tb\u001b[0m\u001b[0;34m)\u001b[0m \u001b[0;32mfrom\u001b[0m \u001b[0;32mNone\u001b[0m\u001b[0;34m\u001b[0m\u001b[0;34m\u001b[0m\u001b[0m\n\u001b[0m\u001b[1;32m     68\u001b[0m     \u001b[0;32mfinally\u001b[0m\u001b[0;34m:\u001b[0m\u001b[0;34m\u001b[0m\u001b[0;34m\u001b[0m\u001b[0m\n\u001b[1;32m     69\u001b[0m       \u001b[0;32mdel\u001b[0m \u001b[0mfiltered_tb\u001b[0m\u001b[0;34m\u001b[0m\u001b[0;34m\u001b[0m\u001b[0m\n",
            "\u001b[0;32m/usr/local/lib/python3.10/dist-packages/tensorflow/python/framework/func_graph.py\u001b[0m in \u001b[0;36mautograph_handler\u001b[0;34m(*args, **kwargs)\u001b[0m\n\u001b[1;32m   1145\u001b[0m           \u001b[0;32mexcept\u001b[0m \u001b[0mException\u001b[0m \u001b[0;32mas\u001b[0m \u001b[0me\u001b[0m\u001b[0;34m:\u001b[0m  \u001b[0;31m# pylint:disable=broad-except\u001b[0m\u001b[0;34m\u001b[0m\u001b[0;34m\u001b[0m\u001b[0m\n\u001b[1;32m   1146\u001b[0m             \u001b[0;32mif\u001b[0m \u001b[0mhasattr\u001b[0m\u001b[0;34m(\u001b[0m\u001b[0me\u001b[0m\u001b[0;34m,\u001b[0m \u001b[0;34m\"ag_error_metadata\"\u001b[0m\u001b[0;34m)\u001b[0m\u001b[0;34m:\u001b[0m\u001b[0;34m\u001b[0m\u001b[0;34m\u001b[0m\u001b[0m\n\u001b[0;32m-> 1147\u001b[0;31m               \u001b[0;32mraise\u001b[0m \u001b[0me\u001b[0m\u001b[0;34m.\u001b[0m\u001b[0mag_error_metadata\u001b[0m\u001b[0;34m.\u001b[0m\u001b[0mto_exception\u001b[0m\u001b[0;34m(\u001b[0m\u001b[0me\u001b[0m\u001b[0;34m)\u001b[0m\u001b[0;34m\u001b[0m\u001b[0;34m\u001b[0m\u001b[0m\n\u001b[0m\u001b[1;32m   1148\u001b[0m             \u001b[0;32melse\u001b[0m\u001b[0;34m:\u001b[0m\u001b[0;34m\u001b[0m\u001b[0;34m\u001b[0m\u001b[0m\n\u001b[1;32m   1149\u001b[0m               \u001b[0;32mraise\u001b[0m\u001b[0;34m\u001b[0m\u001b[0;34m\u001b[0m\u001b[0m\n",
            "\u001b[0;31mValueError\u001b[0m: in user code:\n\n    File \"/usr/local/lib/python3.10/dist-packages/keras/engine/training.py\", line 1021, in train_function  *\n        return step_function(self, iterator)\n    File \"/usr/local/lib/python3.10/dist-packages/keras/engine/training.py\", line 1010, in step_function  **\n        outputs = model.distribute_strategy.run(run_step, args=(data,))\n    File \"/usr/local/lib/python3.10/dist-packages/keras/engine/training.py\", line 1000, in run_step\n        outputs = model.train_step(data)\n    File \"/usr/local/lib/python3.10/dist-packages/transformers/modeling_tf_utils.py\", line 1573, in train_step\n        self.compiled_metrics.update_state(y, y_pred, sample_weight)\n    File \"/usr/local/lib/python3.10/dist-packages/keras/engine/compile_utils.py\", line 459, in update_state\n        metric_obj.update_state(y_t, y_p, sample_weight=mask)\n    File \"/usr/local/lib/python3.10/dist-packages/keras/utils/metrics_utils.py\", line 70, in decorated\n        update_op = update_state_fn(*args, **kwargs)\n    File \"/usr/local/lib/python3.10/dist-packages/keras/metrics.py\", line 178, in update_state_fn\n        return ag_update_state(*args, **kwargs)\n    File \"/usr/local/lib/python3.10/dist-packages/keras/metrics.py\", line 2347, in update_state\n        return metrics_utils.update_confusion_matrix_variables(\n    File \"/usr/local/lib/python3.10/dist-packages/keras/utils/metrics_utils.py\", line 619, in update_confusion_matrix_variables\n        y_pred.shape.assert_is_compatible_with(y_true.shape)\n\n    ValueError: Shapes (8, 2) and (8, 1) are incompatible\n"
          ]
        }
      ],
      "source": [
        "start = time.time()\n",
        "epochs = 30\n",
        "\n",
        "\n",
        "history_1 = model_txt_3.fit(ds_training,validation_data=ds_validating, epochs=epochs, callbacks=[reduce_lr,checkpoint1, checkpoint2, early_stop])\n",
        "\n",
        "end = time.time()\n",
        "total_time = end-start\n",
        "print(f'time taken to train model ({epochs} epochs): {total_time} secs')"
      ]
    },
    {
      "cell_type": "code",
      "execution_count": null,
      "metadata": {
        "colab": {
          "base_uri": "https://localhost:8080/"
        },
        "id": "mDzvu34Bh912",
        "outputId": "be52eeae-d48d-4923-d0f2-a2fd7fcbf955"
      },
      "outputs": [
        {
          "data": {
            "text/plain": [
              "5.762105555555556"
            ]
          },
          "execution_count": 20,
          "metadata": {},
          "output_type": "execute_result"
        }
      ],
      "source": [
        "20743.58/3600"
      ]
    },
    {
      "cell_type": "markdown",
      "metadata": {
        "id": "18ig9JUWh912"
      },
      "source": [
        "## Evaluating"
      ]
    },
    {
      "cell_type": "code",
      "execution_count": null,
      "metadata": {
        "colab": {
          "base_uri": "https://localhost:8080/",
          "height": 451
        },
        "id": "NIF2uXBGh912",
        "outputId": "4a5b1e9d-9235-4abf-c2c5-337f35609a31"
      },
      "outputs": [
        {
          "data": {
            "image/png": "[encoded data removed]",
            "text/plain": [
              "<Figure size 800x500 with 1 Axes>"
            ]
          },
          "metadata": {},
          "output_type": "display_data"
        }
      ],
      "source": [
        "loss_and_acc = {}\n",
        "loss_and_acc['loss'] = history_1.history['loss']\n",
        "loss_and_acc['val_loss'] = history_1.history['val_loss']\n",
        "loss_and_acc['accuracy'] = history_1.history['accuracy']\n",
        "loss_and_acc['val_accuracy'] = history_1.history['val_accuracy']\n",
        "\n",
        "df_metrics_1 = pd.DataFrame(loss_and_acc)\n",
        "df_metrics_1.plot(figsize=(8,5))\n",
        "plt.grid(True)\n",
        "plt.gca().set_ylim(0,1)\n",
        "plt.show()"
      ]
    },
    {
      "cell_type": "code",
      "execution_count": null,
      "metadata": {
        "colab": {
          "base_uri": "https://localhost:8080/",
          "height": 451
        },
        "id": "t1ZiZf--h912",
        "outputId": "970b092b-f856-4c3c-ea9e-e4dbf6a6090d"
      },
      "outputs": [
        {
          "data": {
            "image/png": "[encoded data removed]",
            "text/plain": [
              "<Figure size 800x500 with 1 Axes>"
            ]
          },
          "metadata": {},
          "output_type": "display_data"
        }
      ],
      "source": [
        "precision_recall = {}\n",
        "precision_recall['auc'] = history_1.history['auc']\n",
        "precision_recall['val_auc'] = history_1.history['val_auc']\n",
        "precision_recall['precision'] = history_1.history['precision']\n",
        "precision_recall['val_precision'] = history_1.history['val_precision']\n",
        "precision_recall['recall'] = history_1.history['recall']\n",
        "precision_recall['val_recall'] = history_1.history['val_recall']\n",
        "\n",
        "df_metrics_2 = pd.DataFrame(precision_recall)\n",
        "df_metrics_2.plot(figsize=(8,5))\n",
        "plt.grid(True)\n",
        "plt.gca().set_ylim(0.8,1)\n",
        "plt.show()"
      ]
    },
    {
      "cell_type": "code",
      "execution_count": null,
      "metadata": {
        "colab": {
          "base_uri": "https://localhost:8080/"
        },
        "id": "LARND22Ch913",
        "outputId": "07cec099-b27b-4e5c-a182-f99b38a6e3b3"
      },
      "outputs": [
        {
          "name": "stdout",
          "output_type": "stream",
          "text": [
            "306/306 [==============================] - 14s 31ms/step - loss: 0.0589 - accuracy: 0.9865 - auc: 0.9960 - precision: 0.9876 - recall: 0.9853\n"
          ]
        },
        {
          "data": {
            "text/plain": [
              "[0.058868732303380966,\n",
              " 0.9864685535430908,\n",
              " 0.9959835410118103,\n",
              " 0.9875948429107666,\n",
              " 0.9852715730667114]"
            ]
          },
          "execution_count": 18,
          "metadata": {},
          "output_type": "execute_result"
        }
      ],
      "source": [
        "#evaluate\n",
        "model_txt_1.evaluate(ds_testing)"
      ]
    },
    {
      "cell_type": "code",
      "execution_count": null,
      "metadata": {
        "colab": {
          "base_uri": "https://localhost:8080/"
        },
        "id": "sx6bV3vnh913",
        "outputId": "069ad9a2-ae68-438f-9483-92777df818ba"
      },
      "outputs": [
        {
          "name": "stdout",
          "output_type": "stream",
          "text": [
            "Copying file:///content/hybrid_model_txt_v1_acc.h5 [Content-Type=application/x-hdf5]...\n",
            "/ [0 files][    0.0 B/640.4 MiB]                                                \r==> NOTE: You are uploading one or more large file(s), which would run\n",
            "significantly faster if you enable parallel composite uploads. This\n",
            "feature can be enabled by editing the\n",
            "\"parallel_composite_upload_threshold\" value in your .boto\n",
            "configuration file. However, note that if you do this large files will\n",
            "be uploaded as `composite objects\n",
            "<https://cloud.google.com/storage/docs/composite-objects>`_,which\n",
            "means that any user who downloads such objects will need to have a\n",
            "compiled crcmod installed (see \"gsutil help crcmod\"). This is because\n",
            "without a compiled crcmod, computing checksums on composite objects is\n",
            "so slow that gsutil disables downloads of composite objects.\n",
            "\n",
            "/\n",
            "Operation completed over 1 objects/640.4 MiB.                                    \n",
            "Copying file:///content/hybrid_model_txt_v1_loss.h5 [Content-Type=application/x-hdf5]...\n",
            "==> NOTE: You are uploading one or more large file(s), which would run\n",
            "significantly faster if you enable parallel composite uploads. This\n",
            "feature can be enabled by editing the\n",
            "\"parallel_composite_upload_threshold\" value in your .boto\n",
            "configuration file. However, note that if you do this large files will\n",
            "be uploaded as `composite objects\n",
            "<https://cloud.google.com/storage/docs/composite-objects>`_,which\n",
            "means that any user who downloads such objects will need to have a\n",
            "compiled crcmod installed (see \"gsutil help crcmod\"). This is because\n",
            "without a compiled crcmod, computing checksums on composite objects is\n",
            "so slow that gsutil disables downloads of composite objects.\n",
            "\n",
            "- [1 files][640.4 MiB/640.4 MiB]                                                \n",
            "Operation completed over 1 objects/640.4 MiB.                                    \n"
          ]
        }
      ],
      "source": [
        "models_folder = 'models_checkpoints'\n",
        "!gsutil cp /content/hybrid_model_txt_v1_acc.h5 {BUCKET_URI}/{models_folder}\n",
        "!gsutil cp /content/hybrid_model_txt_v1_loss.h5 {BUCKET_URI}/{models_folder}"
      ]
    }
  ],
  "metadata": {
    "accelerator": "TPU",
    "colab": {
      "collapsed_sections": [
        "V7b4nYysXhwP",
        "_CckDXxNZt3v",
        "1TvEQ0gWeTbq",
        "apA66sTLeTbr",
        "-jvRsjJ_26ru",
        "1WYft30Xh91q",
        "XNQEVSxbh910",
        "bbLbK-gXh911"
      ],
      "provenance": [],
      "toc_visible": true
    },
    "kernelspec": {
      "display_name": "Python 3",
      "name": "python3"
    },
    "language_info": {
      "name": "python"
    },
    "widgets": {
      "application/vnd.jupyter.widget-state+json": {
        "0bc79789208946a7821dbc16e59b241a": {
          "model_module": "@jupyter-widgets/base",
          "model_module_version": "1.2.0",
          "model_name": "LayoutModel",
          "state": {
            "_model_module": "@jupyter-widgets/base",
            "_model_module_version": "1.2.0",
            "_model_name": "LayoutModel",
            "_view_count": null,
            "_view_module": "@jupyter-widgets/base",
            "_view_module_version": "1.2.0",
            "_view_name": "LayoutView",
            "align_content": null,
            "align_items": null,
            "align_self": null,
            "border": null,
            "bottom": null,
            "display": null,
            "flex": null,
            "flex_flow": null,
            "grid_area": null,
            "grid_auto_columns": null,
            "grid_auto_flow": null,
            "grid_auto_rows": null,
            "grid_column": null,
            "grid_gap": null,
            "grid_row": null,
            "grid_template_areas": null,
            "grid_template_columns": null,
            "grid_template_rows": null,
            "height": null,
            "justify_content": null,
            "justify_items": null,
            "left": null,
            "margin": null,
            "max_height": null,
            "max_width": null,
            "min_height": null,
            "min_width": null,
            "object_fit": null,
            "object_position": null,
            "order": null,
            "overflow": null,
            "overflow_x": null,
            "overflow_y": null,
            "padding": null,
            "right": null,
            "top": null,
            "visibility": null,
            "width": null
          }
        },
        "0dd22d21431143898daec05c735396e6": {
          "model_module": "@jupyter-widgets/controls",
          "model_module_version": "1.5.0",
          "model_name": "FloatProgressModel",
          "state": {
            "_dom_classes": [],
            "_model_module": "@jupyter-widgets/controls",
            "_model_module_version": "1.5.0",
            "_model_name": "FloatProgressModel",
            "_view_count": null,
            "_view_module": "@jupyter-widgets/controls",
            "_view_module_version": "1.5.0",
            "_view_name": "ProgressView",
            "bar_style": "success",
            "description": "",
            "description_tooltip": null,
            "layout": "IPY_MODEL_43fb417c42b3476e8ab5a0bc07c94926",
            "max": 672247920,
            "min": 0,
            "orientation": "horizontal",
            "style": "IPY_MODEL_1d1d9211d1c64c7aade0a0d89fe5b742",
            "value": 672247920
          }
        },
        "16b80538857a4b84b5176787f0aaa2d7": {
          "model_module": "@jupyter-widgets/base",
          "model_module_version": "1.2.0",
          "model_name": "LayoutModel",
          "state": {
            "_model_module": "@jupyter-widgets/base",
            "_model_module_version": "1.2.0",
            "_model_name": "LayoutModel",
            "_view_count": null,
            "_view_module": "@jupyter-widgets/base",
            "_view_module_version": "1.2.0",
            "_view_name": "LayoutView",
            "align_content": null,
            "align_items": null,
            "align_self": null,
            "border": null,
            "bottom": null,
            "display": null,
            "flex": null,
            "flex_flow": null,
            "grid_area": null,
            "grid_auto_columns": null,
            "grid_auto_flow": null,
            "grid_auto_rows": null,
            "grid_column": null,
            "grid_gap": null,
            "grid_row": null,
            "grid_template_areas": null,
            "grid_template_columns": null,
            "grid_template_rows": null,
            "height": null,
            "justify_content": null,
            "justify_items": null,
            "left": null,
            "margin": null,
            "max_height": null,
            "max_width": null,
            "min_height": null,
            "min_width": null,
            "object_fit": null,
            "object_position": null,
            "order": null,
            "overflow": null,
            "overflow_x": null,
            "overflow_y": null,
            "padding": null,
            "right": null,
            "top": null,
            "visibility": null,
            "width": null
          }
        },
        "1d1d9211d1c64c7aade0a0d89fe5b742": {
          "model_module": "@jupyter-widgets/controls",
          "model_module_version": "1.5.0",
          "model_name": "ProgressStyleModel",
          "state": {
            "_model_module": "@jupyter-widgets/controls",
            "_model_module_version": "1.5.0",
            "_model_name": "ProgressStyleModel",
            "_view_count": null,
            "_view_module": "@jupyter-widgets/base",
            "_view_module_version": "1.2.0",
            "_view_name": "StyleView",
            "bar_color": null,
            "description_width": ""
          }
        },
        "2da9627247e54e2ebb84ef60eae92b5c": {
          "model_module": "@jupyter-widgets/controls",
          "model_module_version": "1.5.0",
          "model_name": "HTMLModel",
          "state": {
            "_dom_classes": [],
            "_model_module": "@jupyter-widgets/controls",
            "_model_module_version": "1.5.0",
            "_model_name": "HTMLModel",
            "_view_count": null,
            "_view_module": "@jupyter-widgets/controls",
            "_view_module_version": "1.5.0",
            "_view_name": "HTMLView",
            "description": "",
            "description_tooltip": null,
            "layout": "IPY_MODEL_16b80538857a4b84b5176787f0aaa2d7",
            "placeholder": "​",
            "style": "IPY_MODEL_64ff4db9370948c98656241a52643c4c",
            "value": " 672M/672M [00:14&lt;00:00, 87.1MB/s]"
          }
        },
        "43fb417c42b3476e8ab5a0bc07c94926": {
          "model_module": "@jupyter-widgets/base",
          "model_module_version": "1.2.0",
          "model_name": "LayoutModel",
          "state": {
            "_model_module": "@jupyter-widgets/base",
            "_model_module_version": "1.2.0",
            "_model_name": "LayoutModel",
            "_view_count": null,
            "_view_module": "@jupyter-widgets/base",
            "_view_module_version": "1.2.0",
            "_view_name": "LayoutView",
            "align_content": null,
            "align_items": null,
            "align_self": null,
            "border": null,
            "bottom": null,
            "display": null,
            "flex": null,
            "flex_flow": null,
            "grid_area": null,
            "grid_auto_columns": null,
            "grid_auto_flow": null,
            "grid_auto_rows": null,
            "grid_column": null,
            "grid_gap": null,
            "grid_row": null,
            "grid_template_areas": null,
            "grid_template_columns": null,
            "grid_template_rows": null,
            "height": null,
            "justify_content": null,
            "justify_items": null,
            "left": null,
            "margin": null,
            "max_height": null,
            "max_width": null,
            "min_height": null,
            "min_width": null,
            "object_fit": null,
            "object_position": null,
            "order": null,
            "overflow": null,
            "overflow_x": null,
            "overflow_y": null,
            "padding": null,
            "right": null,
            "top": null,
            "visibility": null,
            "width": null
          }
        },
        "64ff4db9370948c98656241a52643c4c": {
          "model_module": "@jupyter-widgets/controls",
          "model_module_version": "1.5.0",
          "model_name": "DescriptionStyleModel",
          "state": {
            "_model_module": "@jupyter-widgets/controls",
            "_model_module_version": "1.5.0",
            "_model_name": "DescriptionStyleModel",
            "_view_count": null,
            "_view_module": "@jupyter-widgets/base",
            "_view_module_version": "1.2.0",
            "_view_name": "StyleView",
            "description_width": ""
          }
        },
        "708f890a828249a0b08a67d0d85c5df9": {
          "model_module": "@jupyter-widgets/base",
          "model_module_version": "1.2.0",
          "model_name": "LayoutModel",
          "state": {
            "_model_module": "@jupyter-widgets/base",
            "_model_module_version": "1.2.0",
            "_model_name": "LayoutModel",
            "_view_count": null,
            "_view_module": "@jupyter-widgets/base",
            "_view_module_version": "1.2.0",
            "_view_name": "LayoutView",
            "align_content": null,
            "align_items": null,
            "align_self": null,
            "border": null,
            "bottom": null,
            "display": null,
            "flex": null,
            "flex_flow": null,
            "grid_area": null,
            "grid_auto_columns": null,
            "grid_auto_flow": null,
            "grid_auto_rows": null,
            "grid_column": null,
            "grid_gap": null,
            "grid_row": null,
            "grid_template_areas": null,
            "grid_template_columns": null,
            "grid_template_rows": null,
            "height": null,
            "justify_content": null,
            "justify_items": null,
            "left": null,
            "margin": null,
            "max_height": null,
            "max_width": null,
            "min_height": null,
            "min_width": null,
            "object_fit": null,
            "object_position": null,
            "order": null,
            "overflow": null,
            "overflow_x": null,
            "overflow_y": null,
            "padding": null,
            "right": null,
            "top": null,
            "visibility": null,
            "width": null
          }
        },
        "bea9625f633044d3b90003d3d2fdf3bd": {
          "model_module": "@jupyter-widgets/controls",
          "model_module_version": "1.5.0",
          "model_name": "DescriptionStyleModel",
          "state": {
            "_model_module": "@jupyter-widgets/controls",
            "_model_module_version": "1.5.0",
            "_model_name": "DescriptionStyleModel",
            "_view_count": null,
            "_view_module": "@jupyter-widgets/base",
            "_view_module_version": "1.2.0",
            "_view_name": "StyleView",
            "description_width": ""
          }
        },
        "bf6c3d657f534e1885c613d5ee99ff51": {
          "model_module": "@jupyter-widgets/controls",
          "model_module_version": "1.5.0",
          "model_name": "HBoxModel",
          "state": {
            "_dom_classes": [],
            "_model_module": "@jupyter-widgets/controls",
            "_model_module_version": "1.5.0",
            "_model_name": "HBoxModel",
            "_view_count": null,
            "_view_module": "@jupyter-widgets/controls",
            "_view_module_version": "1.5.0",
            "_view_name": "HBoxView",
            "box_style": "",
            "children": [
              "IPY_MODEL_cc85e4becec048bf824db17370b46e56",
              "IPY_MODEL_0dd22d21431143898daec05c735396e6",
              "IPY_MODEL_2da9627247e54e2ebb84ef60eae92b5c"
            ],
            "layout": "IPY_MODEL_0bc79789208946a7821dbc16e59b241a"
          }
        },
        "cc85e4becec048bf824db17370b46e56": {
          "model_module": "@jupyter-widgets/controls",
          "model_module_version": "1.5.0",
          "model_name": "HTMLModel",
          "state": {
            "_dom_classes": [],
            "_model_module": "@jupyter-widgets/controls",
            "_model_module_version": "1.5.0",
            "_model_name": "HTMLModel",
            "_view_count": null,
            "_view_module": "@jupyter-widgets/controls",
            "_view_module_version": "1.5.0",
            "_view_name": "HTMLView",
            "description": "",
            "description_tooltip": null,
            "layout": "IPY_MODEL_708f890a828249a0b08a67d0d85c5df9",
            "placeholder": "​",
            "style": "IPY_MODEL_bea9625f633044d3b90003d3d2fdf3bd",
            "value": "model.safetensors: 100%"
          }
        },
        "d56531c2d86945f1be0dbe8f8c5cc305": {
          "model_module": "@jupyter-widgets/controls",
          "model_name": "HBoxModel",
          "model_module_version": "1.5.0",
          "state": {
            "_dom_classes": [],
            "_model_module": "@jupyter-widgets/controls",
            "_model_module_version": "1.5.0",
            "_model_name": "HBoxModel",
            "_view_count": null,
            "_view_module": "@jupyter-widgets/controls",
            "_view_module_version": "1.5.0",
            "_view_name": "HBoxView",
            "box_style": "",
            "children": [
              "IPY_MODEL_63975d86e9d64376909c120e1c5ceca0",
              "IPY_MODEL_98b0154211d341dd982b6b48f99f7fc8",
              "IPY_MODEL_ab681f59359f4a22b7d2111aad82aa69"
            ],
            "layout": "IPY_MODEL_db3bb35f322c43a0ab1e027a121e23fe"
          }
        },
        "63975d86e9d64376909c120e1c5ceca0": {
          "model_module": "@jupyter-widgets/controls",
          "model_name": "HTMLModel",
          "model_module_version": "1.5.0",
          "state": {
            "_dom_classes": [],
            "_model_module": "@jupyter-widgets/controls",
            "_model_module_version": "1.5.0",
            "_model_name": "HTMLModel",
            "_view_count": null,
            "_view_module": "@jupyter-widgets/controls",
            "_view_module_version": "1.5.0",
            "_view_name": "HTMLView",
            "description": "",
            "description_tooltip": null,
            "layout": "IPY_MODEL_0ed85c30dc3d4fd3a0aef9ac896dca4c",
            "placeholder": "​",
            "style": "IPY_MODEL_abbac906165a44ba8a3e7eed68ae20fd",
            "value": "tokenizer_config.json: 100%"
          }
        },
        "98b0154211d341dd982b6b48f99f7fc8": {
          "model_module": "@jupyter-widgets/controls",
          "model_name": "FloatProgressModel",
          "model_module_version": "1.5.0",
          "state": {
            "_dom_classes": [],
            "_model_module": "@jupyter-widgets/controls",
            "_model_module_version": "1.5.0",
            "_model_name": "FloatProgressModel",
            "_view_count": null,
            "_view_module": "@jupyter-widgets/controls",
            "_view_module_version": "1.5.0",
            "_view_name": "ProgressView",
            "bar_style": "success",
            "description": "",
            "description_tooltip": null,
            "layout": "IPY_MODEL_86b70b6a336a4344b46ab5400f5085d5",
            "max": 48,
            "min": 0,
            "orientation": "horizontal",
            "style": "IPY_MODEL_f6300580ae7a4346b6e8554fa0ce040a",
            "value": 48
          }
        },
        "ab681f59359f4a22b7d2111aad82aa69": {
          "model_module": "@jupyter-widgets/controls",
          "model_name": "HTMLModel",
          "model_module_version": "1.5.0",
          "state": {
            "_dom_classes": [],
            "_model_module": "@jupyter-widgets/controls",
            "_model_module_version": "1.5.0",
            "_model_name": "HTMLModel",
            "_view_count": null,
            "_view_module": "@jupyter-widgets/controls",
            "_view_module_version": "1.5.0",
            "_view_name": "HTMLView",
            "description": "",
            "description_tooltip": null,
            "layout": "IPY_MODEL_4a190773562e443ea41641db70addd11",
            "placeholder": "​",
            "style": "IPY_MODEL_03e20518fe694edfaa95df76a71fb989",
            "value": " 48.0/48.0 [00:00&lt;00:00, 2.60kB/s]"
          }
        },
        "db3bb35f322c43a0ab1e027a121e23fe": {
          "model_module": "@jupyter-widgets/base",
          "model_name": "LayoutModel",
          "model_module_version": "1.2.0",
          "state": {
            "_model_module": "@jupyter-widgets/base",
            "_model_module_version": "1.2.0",
            "_model_name": "LayoutModel",
            "_view_count": null,
            "_view_module": "@jupyter-widgets/base",
            "_view_module_version": "1.2.0",
            "_view_name": "LayoutView",
            "align_content": null,
            "align_items": null,
            "align_self": null,
            "border": null,
            "bottom": null,
            "display": null,
            "flex": null,
            "flex_flow": null,
            "grid_area": null,
            "grid_auto_columns": null,
            "grid_auto_flow": null,
            "grid_auto_rows": null,
            "grid_column": null,
            "grid_gap": null,
            "grid_row": null,
            "grid_template_areas": null,
            "grid_template_columns": null,
            "grid_template_rows": null,
            "height": null,
            "justify_content": null,
            "justify_items": null,
            "left": null,
            "margin": null,
            "max_height": null,
            "max_width": null,
            "min_height": null,
            "min_width": null,
            "object_fit": null,
            "object_position": null,
            "order": null,
            "overflow": null,
            "overflow_x": null,
            "overflow_y": null,
            "padding": null,
            "right": null,
            "top": null,
            "visibility": null,
            "width": null
          }
        },
        "0ed85c30dc3d4fd3a0aef9ac896dca4c": {
          "model_module": "@jupyter-widgets/base",
          "model_name": "LayoutModel",
          "model_module_version": "1.2.0",
          "state": {
            "_model_module": "@jupyter-widgets/base",
            "_model_module_version": "1.2.0",
            "_model_name": "LayoutModel",
            "_view_count": null,
            "_view_module": "@jupyter-widgets/base",
            "_view_module_version": "1.2.0",
            "_view_name": "LayoutView",
            "align_content": null,
            "align_items": null,
            "align_self": null,
            "border": null,
            "bottom": null,
            "display": null,
            "flex": null,
            "flex_flow": null,
            "grid_area": null,
            "grid_auto_columns": null,
            "grid_auto_flow": null,
            "grid_auto_rows": null,
            "grid_column": null,
            "grid_gap": null,
            "grid_row": null,
            "grid_template_areas": null,
            "grid_template_columns": null,
            "grid_template_rows": null,
            "height": null,
            "justify_content": null,
            "justify_items": null,
            "left": null,
            "margin": null,
            "max_height": null,
            "max_width": null,
            "min_height": null,
            "min_width": null,
            "object_fit": null,
            "object_position": null,
            "order": null,
            "overflow": null,
            "overflow_x": null,
            "overflow_y": null,
            "padding": null,
            "right": null,
            "top": null,
            "visibility": null,
            "width": null
          }
        },
        "abbac906165a44ba8a3e7eed68ae20fd": {
          "model_module": "@jupyter-widgets/controls",
          "model_name": "DescriptionStyleModel",
          "model_module_version": "1.5.0",
          "state": {
            "_model_module": "@jupyter-widgets/controls",
            "_model_module_version": "1.5.0",
            "_model_name": "DescriptionStyleModel",
            "_view_count": null,
            "_view_module": "@jupyter-widgets/base",
            "_view_module_version": "1.2.0",
            "_view_name": "StyleView",
            "description_width": ""
          }
        },
        "86b70b6a336a4344b46ab5400f5085d5": {
          "model_module": "@jupyter-widgets/base",
          "model_name": "LayoutModel",
          "model_module_version": "1.2.0",
          "state": {
            "_model_module": "@jupyter-widgets/base",
            "_model_module_version": "1.2.0",
            "_model_name": "LayoutModel",
            "_view_count": null,
            "_view_module": "@jupyter-widgets/base",
            "_view_module_version": "1.2.0",
            "_view_name": "LayoutView",
            "align_content": null,
            "align_items": null,
            "align_self": null,
            "border": null,
            "bottom": null,
            "display": null,
            "flex": null,
            "flex_flow": null,
            "grid_area": null,
            "grid_auto_columns": null,
            "grid_auto_flow": null,
            "grid_auto_rows": null,
            "grid_column": null,
            "grid_gap": null,
            "grid_row": null,
            "grid_template_areas": null,
            "grid_template_columns": null,
            "grid_template_rows": null,
            "height": null,
            "justify_content": null,
            "justify_items": null,
            "left": null,
            "margin": null,
            "max_height": null,
            "max_width": null,
            "min_height": null,
            "min_width": null,
            "object_fit": null,
            "object_position": null,
            "order": null,
            "overflow": null,
            "overflow_x": null,
            "overflow_y": null,
            "padding": null,
            "right": null,
            "top": null,
            "visibility": null,
            "width": null
          }
        },
        "f6300580ae7a4346b6e8554fa0ce040a": {
          "model_module": "@jupyter-widgets/controls",
          "model_name": "ProgressStyleModel",
          "model_module_version": "1.5.0",
          "state": {
            "_model_module": "@jupyter-widgets/controls",
            "_model_module_version": "1.5.0",
            "_model_name": "ProgressStyleModel",
            "_view_count": null,
            "_view_module": "@jupyter-widgets/base",
            "_view_module_version": "1.2.0",
            "_view_name": "StyleView",
            "bar_color": null,
            "description_width": ""
          }
        },
        "4a190773562e443ea41641db70addd11": {
          "model_module": "@jupyter-widgets/base",
          "model_name": "LayoutModel",
          "model_module_version": "1.2.0",
          "state": {
            "_model_module": "@jupyter-widgets/base",
            "_model_module_version": "1.2.0",
            "_model_name": "LayoutModel",
            "_view_count": null,
            "_view_module": "@jupyter-widgets/base",
            "_view_module_version": "1.2.0",
            "_view_name": "LayoutView",
            "align_content": null,
            "align_items": null,
            "align_self": null,
            "border": null,
            "bottom": null,
            "display": null,
            "flex": null,
            "flex_flow": null,
            "grid_area": null,
            "grid_auto_columns": null,
            "grid_auto_flow": null,
            "grid_auto_rows": null,
            "grid_column": null,
            "grid_gap": null,
            "grid_row": null,
            "grid_template_areas": null,
            "grid_template_columns": null,
            "grid_template_rows": null,
            "height": null,
            "justify_content": null,
            "justify_items": null,
            "left": null,
            "margin": null,
            "max_height": null,
            "max_width": null,
            "min_height": null,
            "min_width": null,
            "object_fit": null,
            "object_position": null,
            "order": null,
            "overflow": null,
            "overflow_x": null,
            "overflow_y": null,
            "padding": null,
            "right": null,
            "top": null,
            "visibility": null,
            "width": null
          }
        },
        "03e20518fe694edfaa95df76a71fb989": {
          "model_module": "@jupyter-widgets/controls",
          "model_name": "DescriptionStyleModel",
          "model_module_version": "1.5.0",
          "state": {
            "_model_module": "@jupyter-widgets/controls",
            "_model_module_version": "1.5.0",
            "_model_name": "DescriptionStyleModel",
            "_view_count": null,
            "_view_module": "@jupyter-widgets/base",
            "_view_module_version": "1.2.0",
            "_view_name": "StyleView",
            "description_width": ""
          }
        },
        "6bb9c6477541415b9749519bc9bd321b": {
          "model_module": "@jupyter-widgets/controls",
          "model_name": "HBoxModel",
          "model_module_version": "1.5.0",
          "state": {
            "_dom_classes": [],
            "_model_module": "@jupyter-widgets/controls",
            "_model_module_version": "1.5.0",
            "_model_name": "HBoxModel",
            "_view_count": null,
            "_view_module": "@jupyter-widgets/controls",
            "_view_module_version": "1.5.0",
            "_view_name": "HBoxView",
            "box_style": "",
            "children": [
              "IPY_MODEL_e404d7b51b9549f9b70caccc66bdeb2d",
              "IPY_MODEL_1f0f031bfb8449dd825dc5b2397749ed",
              "IPY_MODEL_7f0441f614b545fc876d7d4f785488ea"
            ],
            "layout": "IPY_MODEL_a903ff401dd14057aded788d49da2084"
          }
        },
        "e404d7b51b9549f9b70caccc66bdeb2d": {
          "model_module": "@jupyter-widgets/controls",
          "model_name": "HTMLModel",
          "model_module_version": "1.5.0",
          "state": {
            "_dom_classes": [],
            "_model_module": "@jupyter-widgets/controls",
            "_model_module_version": "1.5.0",
            "_model_name": "HTMLModel",
            "_view_count": null,
            "_view_module": "@jupyter-widgets/controls",
            "_view_module_version": "1.5.0",
            "_view_name": "HTMLView",
            "description": "",
            "description_tooltip": null,
            "layout": "IPY_MODEL_9ef12f96ec054a28976ea72ce839799a",
            "placeholder": "​",
            "style": "IPY_MODEL_167ca51c1c5f46e8932a15c86699a8a3",
            "value": "vocab.txt: 100%"
          }
        },
        "1f0f031bfb8449dd825dc5b2397749ed": {
          "model_module": "@jupyter-widgets/controls",
          "model_name": "FloatProgressModel",
          "model_module_version": "1.5.0",
          "state": {
            "_dom_classes": [],
            "_model_module": "@jupyter-widgets/controls",
            "_model_module_version": "1.5.0",
            "_model_name": "FloatProgressModel",
            "_view_count": null,
            "_view_module": "@jupyter-widgets/controls",
            "_view_module_version": "1.5.0",
            "_view_name": "ProgressView",
            "bar_style": "success",
            "description": "",
            "description_tooltip": null,
            "layout": "IPY_MODEL_25e04ec39bab4831bd1dfda64604d422",
            "max": 871891,
            "min": 0,
            "orientation": "horizontal",
            "style": "IPY_MODEL_4d859c2b89ab41599caa37ee190724e2",
            "value": 871891
          }
        },
        "7f0441f614b545fc876d7d4f785488ea": {
          "model_module": "@jupyter-widgets/controls",
          "model_name": "HTMLModel",
          "model_module_version": "1.5.0",
          "state": {
            "_dom_classes": [],
            "_model_module": "@jupyter-widgets/controls",
            "_model_module_version": "1.5.0",
            "_model_name": "HTMLModel",
            "_view_count": null,
            "_view_module": "@jupyter-widgets/controls",
            "_view_module_version": "1.5.0",
            "_view_name": "HTMLView",
            "description": "",
            "description_tooltip": null,
            "layout": "IPY_MODEL_5c0fb10b7ebe44508876881881a502a3",
            "placeholder": "​",
            "style": "IPY_MODEL_eba8e4b47d644c0f9164b8b3f2dd7b66",
            "value": " 872k/872k [00:00&lt;00:00, 11.7MB/s]"
          }
        },
        "a903ff401dd14057aded788d49da2084": {
          "model_module": "@jupyter-widgets/base",
          "model_name": "LayoutModel",
          "model_module_version": "1.2.0",
          "state": {
            "_model_module": "@jupyter-widgets/base",
            "_model_module_version": "1.2.0",
            "_model_name": "LayoutModel",
            "_view_count": null,
            "_view_module": "@jupyter-widgets/base",
            "_view_module_version": "1.2.0",
            "_view_name": "LayoutView",
            "align_content": null,
            "align_items": null,
            "align_self": null,
            "border": null,
            "bottom": null,
            "display": null,
            "flex": null,
            "flex_flow": null,
            "grid_area": null,
            "grid_auto_columns": null,
            "grid_auto_flow": null,
            "grid_auto_rows": null,
            "grid_column": null,
            "grid_gap": null,
            "grid_row": null,
            "grid_template_areas": null,
            "grid_template_columns": null,
            "grid_template_rows": null,
            "height": null,
            "justify_content": null,
            "justify_items": null,
            "left": null,
            "margin": null,
            "max_height": null,
            "max_width": null,
            "min_height": null,
            "min_width": null,
            "object_fit": null,
            "object_position": null,
            "order": null,
            "overflow": null,
            "overflow_x": null,
            "overflow_y": null,
            "padding": null,
            "right": null,
            "top": null,
            "visibility": null,
            "width": null
          }
        },
        "9ef12f96ec054a28976ea72ce839799a": {
          "model_module": "@jupyter-widgets/base",
          "model_name": "LayoutModel",
          "model_module_version": "1.2.0",
          "state": {
            "_model_module": "@jupyter-widgets/base",
            "_model_module_version": "1.2.0",
            "_model_name": "LayoutModel",
            "_view_count": null,
            "_view_module": "@jupyter-widgets/base",
            "_view_module_version": "1.2.0",
            "_view_name": "LayoutView",
            "align_content": null,
            "align_items": null,
            "align_self": null,
            "border": null,
            "bottom": null,
            "display": null,
            "flex": null,
            "flex_flow": null,
            "grid_area": null,
            "grid_auto_columns": null,
            "grid_auto_flow": null,
            "grid_auto_rows": null,
            "grid_column": null,
            "grid_gap": null,
            "grid_row": null,
            "grid_template_areas": null,
            "grid_template_columns": null,
            "grid_template_rows": null,
            "height": null,
            "justify_content": null,
            "justify_items": null,
            "left": null,
            "margin": null,
            "max_height": null,
            "max_width": null,
            "min_height": null,
            "min_width": null,
            "object_fit": null,
            "object_position": null,
            "order": null,
            "overflow": null,
            "overflow_x": null,
            "overflow_y": null,
            "padding": null,
            "right": null,
            "top": null,
            "visibility": null,
            "width": null
          }
        },
        "167ca51c1c5f46e8932a15c86699a8a3": {
          "model_module": "@jupyter-widgets/controls",
          "model_name": "DescriptionStyleModel",
          "model_module_version": "1.5.0",
          "state": {
            "_model_module": "@jupyter-widgets/controls",
            "_model_module_version": "1.5.0",
            "_model_name": "DescriptionStyleModel",
            "_view_count": null,
            "_view_module": "@jupyter-widgets/base",
            "_view_module_version": "1.2.0",
            "_view_name": "StyleView",
            "description_width": ""
          }
        },
        "25e04ec39bab4831bd1dfda64604d422": {
          "model_module": "@jupyter-widgets/base",
          "model_name": "LayoutModel",
          "model_module_version": "1.2.0",
          "state": {
            "_model_module": "@jupyter-widgets/base",
            "_model_module_version": "1.2.0",
            "_model_name": "LayoutModel",
            "_view_count": null,
            "_view_module": "@jupyter-widgets/base",
            "_view_module_version": "1.2.0",
            "_view_name": "LayoutView",
            "align_content": null,
            "align_items": null,
            "align_self": null,
            "border": null,
            "bottom": null,
            "display": null,
            "flex": null,
            "flex_flow": null,
            "grid_area": null,
            "grid_auto_columns": null,
            "grid_auto_flow": null,
            "grid_auto_rows": null,
            "grid_column": null,
            "grid_gap": null,
            "grid_row": null,
            "grid_template_areas": null,
            "grid_template_columns": null,
            "grid_template_rows": null,
            "height": null,
            "justify_content": null,
            "justify_items": null,
            "left": null,
            "margin": null,
            "max_height": null,
            "max_width": null,
            "min_height": null,
            "min_width": null,
            "object_fit": null,
            "object_position": null,
            "order": null,
            "overflow": null,
            "overflow_x": null,
            "overflow_y": null,
            "padding": null,
            "right": null,
            "top": null,
            "visibility": null,
            "width": null
          }
        },
        "4d859c2b89ab41599caa37ee190724e2": {
          "model_module": "@jupyter-widgets/controls",
          "model_name": "ProgressStyleModel",
          "model_module_version": "1.5.0",
          "state": {
            "_model_module": "@jupyter-widgets/controls",
            "_model_module_version": "1.5.0",
            "_model_name": "ProgressStyleModel",
            "_view_count": null,
            "_view_module": "@jupyter-widgets/base",
            "_view_module_version": "1.2.0",
            "_view_name": "StyleView",
            "bar_color": null,
            "description_width": ""
          }
        },
        "5c0fb10b7ebe44508876881881a502a3": {
          "model_module": "@jupyter-widgets/base",
          "model_name": "LayoutModel",
          "model_module_version": "1.2.0",
          "state": {
            "_model_module": "@jupyter-widgets/base",
            "_model_module_version": "1.2.0",
            "_model_name": "LayoutModel",
            "_view_count": null,
            "_view_module": "@jupyter-widgets/base",
            "_view_module_version": "1.2.0",
            "_view_name": "LayoutView",
            "align_content": null,
            "align_items": null,
            "align_self": null,
            "border": null,
            "bottom": null,
            "display": null,
            "flex": null,
            "flex_flow": null,
            "grid_area": null,
            "grid_auto_columns": null,
            "grid_auto_flow": null,
            "grid_auto_rows": null,
            "grid_column": null,
            "grid_gap": null,
            "grid_row": null,
            "grid_template_areas": null,
            "grid_template_columns": null,
            "grid_template_rows": null,
            "height": null,
            "justify_content": null,
            "justify_items": null,
            "left": null,
            "margin": null,
            "max_height": null,
            "max_width": null,
            "min_height": null,
            "min_width": null,
            "object_fit": null,
            "object_position": null,
            "order": null,
            "overflow": null,
            "overflow_x": null,
            "overflow_y": null,
            "padding": null,
            "right": null,
            "top": null,
            "visibility": null,
            "width": null
          }
        },
        "eba8e4b47d644c0f9164b8b3f2dd7b66": {
          "model_module": "@jupyter-widgets/controls",
          "model_name": "DescriptionStyleModel",
          "model_module_version": "1.5.0",
          "state": {
            "_model_module": "@jupyter-widgets/controls",
            "_model_module_version": "1.5.0",
            "_model_name": "DescriptionStyleModel",
            "_view_count": null,
            "_view_module": "@jupyter-widgets/base",
            "_view_module_version": "1.2.0",
            "_view_name": "StyleView",
            "description_width": ""
          }
        },
        "68323feed46a4013aadd53e099a2df9e": {
          "model_module": "@jupyter-widgets/controls",
          "model_name": "HBoxModel",
          "model_module_version": "1.5.0",
          "state": {
            "_dom_classes": [],
            "_model_module": "@jupyter-widgets/controls",
            "_model_module_version": "1.5.0",
            "_model_name": "HBoxModel",
            "_view_count": null,
            "_view_module": "@jupyter-widgets/controls",
            "_view_module_version": "1.5.0",
            "_view_name": "HBoxView",
            "box_style": "",
            "children": [
              "IPY_MODEL_45dcca72cfcd4185ad510067acab2abc",
              "IPY_MODEL_2a10bbbecbd040fa9d2626437bf5b16a",
              "IPY_MODEL_5e0bec58f62342ff87a4a4685e050951"
            ],
            "layout": "IPY_MODEL_a0f45a3b1b974364a9304cf3b22a8ee0"
          }
        },
        "45dcca72cfcd4185ad510067acab2abc": {
          "model_module": "@jupyter-widgets/controls",
          "model_name": "HTMLModel",
          "model_module_version": "1.5.0",
          "state": {
            "_dom_classes": [],
            "_model_module": "@jupyter-widgets/controls",
            "_model_module_version": "1.5.0",
            "_model_name": "HTMLModel",
            "_view_count": null,
            "_view_module": "@jupyter-widgets/controls",
            "_view_module_version": "1.5.0",
            "_view_name": "HTMLView",
            "description": "",
            "description_tooltip": null,
            "layout": "IPY_MODEL_4c16e723e6aa44158064fd84e1044a4f",
            "placeholder": "​",
            "style": "IPY_MODEL_cd776c57869e49a4b546fbd32c249504",
            "value": "tokenizer.json: 100%"
          }
        },
        "2a10bbbecbd040fa9d2626437bf5b16a": {
          "model_module": "@jupyter-widgets/controls",
          "model_name": "FloatProgressModel",
          "model_module_version": "1.5.0",
          "state": {
            "_dom_classes": [],
            "_model_module": "@jupyter-widgets/controls",
            "_model_module_version": "1.5.0",
            "_model_name": "FloatProgressModel",
            "_view_count": null,
            "_view_module": "@jupyter-widgets/controls",
            "_view_module_version": "1.5.0",
            "_view_name": "ProgressView",
            "bar_style": "success",
            "description": "",
            "description_tooltip": null,
            "layout": "IPY_MODEL_9c9d534ff4f6497594854ef3f4e71d1e",
            "max": 1715180,
            "min": 0,
            "orientation": "horizontal",
            "style": "IPY_MODEL_34deafa2271f49478254f15c9a303a87",
            "value": 1715180
          }
        },
        "5e0bec58f62342ff87a4a4685e050951": {
          "model_module": "@jupyter-widgets/controls",
          "model_name": "HTMLModel",
          "model_module_version": "1.5.0",
          "state": {
            "_dom_classes": [],
            "_model_module": "@jupyter-widgets/controls",
            "_model_module_version": "1.5.0",
            "_model_name": "HTMLModel",
            "_view_count": null,
            "_view_module": "@jupyter-widgets/controls",
            "_view_module_version": "1.5.0",
            "_view_name": "HTMLView",
            "description": "",
            "description_tooltip": null,
            "layout": "IPY_MODEL_b877296807564e4f990e04a86729fd34",
            "placeholder": "​",
            "style": "IPY_MODEL_fde7300f8072475f8fa2407e719d2f75",
            "value": " 1.72M/1.72M [00:00&lt;00:00, 26.2MB/s]"
          }
        },
        "a0f45a3b1b974364a9304cf3b22a8ee0": {
          "model_module": "@jupyter-widgets/base",
          "model_name": "LayoutModel",
          "model_module_version": "1.2.0",
          "state": {
            "_model_module": "@jupyter-widgets/base",
            "_model_module_version": "1.2.0",
            "_model_name": "LayoutModel",
            "_view_count": null,
            "_view_module": "@jupyter-widgets/base",
            "_view_module_version": "1.2.0",
            "_view_name": "LayoutView",
            "align_content": null,
            "align_items": null,
            "align_self": null,
            "border": null,
            "bottom": null,
            "display": null,
            "flex": null,
            "flex_flow": null,
            "grid_area": null,
            "grid_auto_columns": null,
            "grid_auto_flow": null,
            "grid_auto_rows": null,
            "grid_column": null,
            "grid_gap": null,
            "grid_row": null,
            "grid_template_areas": null,
            "grid_template_columns": null,
            "grid_template_rows": null,
            "height": null,
            "justify_content": null,
            "justify_items": null,
            "left": null,
            "margin": null,
            "max_height": null,
            "max_width": null,
            "min_height": null,
            "min_width": null,
            "object_fit": null,
            "object_position": null,
            "order": null,
            "overflow": null,
            "overflow_x": null,
            "overflow_y": null,
            "padding": null,
            "right": null,
            "top": null,
            "visibility": null,
            "width": null
          }
        },
        "4c16e723e6aa44158064fd84e1044a4f": {
          "model_module": "@jupyter-widgets/base",
          "model_name": "LayoutModel",
          "model_module_version": "1.2.0",
          "state": {
            "_model_module": "@jupyter-widgets/base",
            "_model_module_version": "1.2.0",
            "_model_name": "LayoutModel",
            "_view_count": null,
            "_view_module": "@jupyter-widgets/base",
            "_view_module_version": "1.2.0",
            "_view_name": "LayoutView",
            "align_content": null,
            "align_items": null,
            "align_self": null,
            "border": null,
            "bottom": null,
            "display": null,
            "flex": null,
            "flex_flow": null,
            "grid_area": null,
            "grid_auto_columns": null,
            "grid_auto_flow": null,
            "grid_auto_rows": null,
            "grid_column": null,
            "grid_gap": null,
            "grid_row": null,
            "grid_template_areas": null,
            "grid_template_columns": null,
            "grid_template_rows": null,
            "height": null,
            "justify_content": null,
            "justify_items": null,
            "left": null,
            "margin": null,
            "max_height": null,
            "max_width": null,
            "min_height": null,
            "min_width": null,
            "object_fit": null,
            "object_position": null,
            "order": null,
            "overflow": null,
            "overflow_x": null,
            "overflow_y": null,
            "padding": null,
            "right": null,
            "top": null,
            "visibility": null,
            "width": null
          }
        },
        "cd776c57869e49a4b546fbd32c249504": {
          "model_module": "@jupyter-widgets/controls",
          "model_name": "DescriptionStyleModel",
          "model_module_version": "1.5.0",
          "state": {
            "_model_module": "@jupyter-widgets/controls",
            "_model_module_version": "1.5.0",
            "_model_name": "DescriptionStyleModel",
            "_view_count": null,
            "_view_module": "@jupyter-widgets/base",
            "_view_module_version": "1.2.0",
            "_view_name": "StyleView",
            "description_width": ""
          }
        },
        "9c9d534ff4f6497594854ef3f4e71d1e": {
          "model_module": "@jupyter-widgets/base",
          "model_name": "LayoutModel",
          "model_module_version": "1.2.0",
          "state": {
            "_model_module": "@jupyter-widgets/base",
            "_model_module_version": "1.2.0",
            "_model_name": "LayoutModel",
            "_view_count": null,
            "_view_module": "@jupyter-widgets/base",
            "_view_module_version": "1.2.0",
            "_view_name": "LayoutView",
            "align_content": null,
            "align_items": null,
            "align_self": null,
            "border": null,
            "bottom": null,
            "display": null,
            "flex": null,
            "flex_flow": null,
            "grid_area": null,
            "grid_auto_columns": null,
            "grid_auto_flow": null,
            "grid_auto_rows": null,
            "grid_column": null,
            "grid_gap": null,
            "grid_row": null,
            "grid_template_areas": null,
            "grid_template_columns": null,
            "grid_template_rows": null,
            "height": null,
            "justify_content": null,
            "justify_items": null,
            "left": null,
            "margin": null,
            "max_height": null,
            "max_width": null,
            "min_height": null,
            "min_width": null,
            "object_fit": null,
            "object_position": null,
            "order": null,
            "overflow": null,
            "overflow_x": null,
            "overflow_y": null,
            "padding": null,
            "right": null,
            "top": null,
            "visibility": null,
            "width": null
          }
        },
        "34deafa2271f49478254f15c9a303a87": {
          "model_module": "@jupyter-widgets/controls",
          "model_name": "ProgressStyleModel",
          "model_module_version": "1.5.0",
          "state": {
            "_model_module": "@jupyter-widgets/controls",
            "_model_module_version": "1.5.0",
            "_model_name": "ProgressStyleModel",
            "_view_count": null,
            "_view_module": "@jupyter-widgets/base",
            "_view_module_version": "1.2.0",
            "_view_name": "StyleView",
            "bar_color": null,
            "description_width": ""
          }
        },
        "b877296807564e4f990e04a86729fd34": {
          "model_module": "@jupyter-widgets/base",
          "model_name": "LayoutModel",
          "model_module_version": "1.2.0",
          "state": {
            "_model_module": "@jupyter-widgets/base",
            "_model_module_version": "1.2.0",
            "_model_name": "LayoutModel",
            "_view_count": null,
            "_view_module": "@jupyter-widgets/base",
            "_view_module_version": "1.2.0",
            "_view_name": "LayoutView",
            "align_content": null,
            "align_items": null,
            "align_self": null,
            "border": null,
            "bottom": null,
            "display": null,
            "flex": null,
            "flex_flow": null,
            "grid_area": null,
            "grid_auto_columns": null,
            "grid_auto_flow": null,
            "grid_auto_rows": null,
            "grid_column": null,
            "grid_gap": null,
            "grid_row": null,
            "grid_template_areas": null,
            "grid_template_columns": null,
            "grid_template_rows": null,
            "height": null,
            "justify_content": null,
            "justify_items": null,
            "left": null,
            "margin": null,
            "max_height": null,
            "max_width": null,
            "min_height": null,
            "min_width": null,
            "object_fit": null,
            "object_position": null,
            "order": null,
            "overflow": null,
            "overflow_x": null,
            "overflow_y": null,
            "padding": null,
            "right": null,
            "top": null,
            "visibility": null,
            "width": null
          }
        },
        "fde7300f8072475f8fa2407e719d2f75": {
          "model_module": "@jupyter-widgets/controls",
          "model_name": "DescriptionStyleModel",
          "model_module_version": "1.5.0",
          "state": {
            "_model_module": "@jupyter-widgets/controls",
            "_model_module_version": "1.5.0",
            "_model_name": "DescriptionStyleModel",
            "_view_count": null,
            "_view_module": "@jupyter-widgets/base",
            "_view_module_version": "1.2.0",
            "_view_name": "StyleView",
            "description_width": ""
          }
        },
        "843455bd1a6b40d4ab6a22b49df6bd99": {
          "model_module": "@jupyter-widgets/controls",
          "model_name": "HBoxModel",
          "model_module_version": "1.5.0",
          "state": {
            "_dom_classes": [],
            "_model_module": "@jupyter-widgets/controls",
            "_model_module_version": "1.5.0",
            "_model_name": "HBoxModel",
            "_view_count": null,
            "_view_module": "@jupyter-widgets/controls",
            "_view_module_version": "1.5.0",
            "_view_name": "HBoxView",
            "box_style": "",
            "children": [
              "IPY_MODEL_9a1ad57ee76a412c8004fd70a0ad6832",
              "IPY_MODEL_7738f9b178064408a5eba32de78350f9",
              "IPY_MODEL_b8e95ee7106b4e7da3fd4f3113cec43a"
            ],
            "layout": "IPY_MODEL_77e9d6449e6c49f197c46282b58758e6"
          }
        },
        "9a1ad57ee76a412c8004fd70a0ad6832": {
          "model_module": "@jupyter-widgets/controls",
          "model_name": "HTMLModel",
          "model_module_version": "1.5.0",
          "state": {
            "_dom_classes": [],
            "_model_module": "@jupyter-widgets/controls",
            "_model_module_version": "1.5.0",
            "_model_name": "HTMLModel",
            "_view_count": null,
            "_view_module": "@jupyter-widgets/controls",
            "_view_module_version": "1.5.0",
            "_view_name": "HTMLView",
            "description": "",
            "description_tooltip": null,
            "layout": "IPY_MODEL_68124f56d06646e49024fdc2db57b9e5",
            "placeholder": "​",
            "style": "IPY_MODEL_a0a6b70dd422433c91b3b07799ff95f0",
            "value": "config.json: 100%"
          }
        },
        "7738f9b178064408a5eba32de78350f9": {
          "model_module": "@jupyter-widgets/controls",
          "model_name": "FloatProgressModel",
          "model_module_version": "1.5.0",
          "state": {
            "_dom_classes": [],
            "_model_module": "@jupyter-widgets/controls",
            "_model_module_version": "1.5.0",
            "_model_name": "FloatProgressModel",
            "_view_count": null,
            "_view_module": "@jupyter-widgets/controls",
            "_view_module_version": "1.5.0",
            "_view_name": "ProgressView",
            "bar_style": "success",
            "description": "",
            "description_tooltip": null,
            "layout": "IPY_MODEL_fbe828178f024d0e9f7b176840404586",
            "max": 625,
            "min": 0,
            "orientation": "horizontal",
            "style": "IPY_MODEL_0f91284ad4a1420b960846b7520a3a0f",
            "value": 625
          }
        },
        "b8e95ee7106b4e7da3fd4f3113cec43a": {
          "model_module": "@jupyter-widgets/controls",
          "model_name": "HTMLModel",
          "model_module_version": "1.5.0",
          "state": {
            "_dom_classes": [],
            "_model_module": "@jupyter-widgets/controls",
            "_model_module_version": "1.5.0",
            "_model_name": "HTMLModel",
            "_view_count": null,
            "_view_module": "@jupyter-widgets/controls",
            "_view_module_version": "1.5.0",
            "_view_name": "HTMLView",
            "description": "",
            "description_tooltip": null,
            "layout": "IPY_MODEL_51180903b6f64198a2c9cb6f08d216a7",
            "placeholder": "​",
            "style": "IPY_MODEL_8002137c6c424057bd9eb50359667d6f",
            "value": " 625/625 [00:00&lt;00:00, 33.0kB/s]"
          }
        },
        "77e9d6449e6c49f197c46282b58758e6": {
          "model_module": "@jupyter-widgets/base",
          "model_name": "LayoutModel",
          "model_module_version": "1.2.0",
          "state": {
            "_model_module": "@jupyter-widgets/base",
            "_model_module_version": "1.2.0",
            "_model_name": "LayoutModel",
            "_view_count": null,
            "_view_module": "@jupyter-widgets/base",
            "_view_module_version": "1.2.0",
            "_view_name": "LayoutView",
            "align_content": null,
            "align_items": null,
            "align_self": null,
            "border": null,
            "bottom": null,
            "display": null,
            "flex": null,
            "flex_flow": null,
            "grid_area": null,
            "grid_auto_columns": null,
            "grid_auto_flow": null,
            "grid_auto_rows": null,
            "grid_column": null,
            "grid_gap": null,
            "grid_row": null,
            "grid_template_areas": null,
            "grid_template_columns": null,
            "grid_template_rows": null,
            "height": null,
            "justify_content": null,
            "justify_items": null,
            "left": null,
            "margin": null,
            "max_height": null,
            "max_width": null,
            "min_height": null,
            "min_width": null,
            "object_fit": null,
            "object_position": null,
            "order": null,
            "overflow": null,
            "overflow_x": null,
            "overflow_y": null,
            "padding": null,
            "right": null,
            "top": null,
            "visibility": null,
            "width": null
          }
        },
        "68124f56d06646e49024fdc2db57b9e5": {
          "model_module": "@jupyter-widgets/base",
          "model_name": "LayoutModel",
          "model_module_version": "1.2.0",
          "state": {
            "_model_module": "@jupyter-widgets/base",
            "_model_module_version": "1.2.0",
            "_model_name": "LayoutModel",
            "_view_count": null,
            "_view_module": "@jupyter-widgets/base",
            "_view_module_version": "1.2.0",
            "_view_name": "LayoutView",
            "align_content": null,
            "align_items": null,
            "align_self": null,
            "border": null,
            "bottom": null,
            "display": null,
            "flex": null,
            "flex_flow": null,
            "grid_area": null,
            "grid_auto_columns": null,
            "grid_auto_flow": null,
            "grid_auto_rows": null,
            "grid_column": null,
            "grid_gap": null,
            "grid_row": null,
            "grid_template_areas": null,
            "grid_template_columns": null,
            "grid_template_rows": null,
            "height": null,
            "justify_content": null,
            "justify_items": null,
            "left": null,
            "margin": null,
            "max_height": null,
            "max_width": null,
            "min_height": null,
            "min_width": null,
            "object_fit": null,
            "object_position": null,
            "order": null,
            "overflow": null,
            "overflow_x": null,
            "overflow_y": null,
            "padding": null,
            "right": null,
            "top": null,
            "visibility": null,
            "width": null
          }
        },
        "a0a6b70dd422433c91b3b07799ff95f0": {
          "model_module": "@jupyter-widgets/controls",
          "model_name": "DescriptionStyleModel",
          "model_module_version": "1.5.0",
          "state": {
            "_model_module": "@jupyter-widgets/controls",
            "_model_module_version": "1.5.0",
            "_model_name": "DescriptionStyleModel",
            "_view_count": null,
            "_view_module": "@jupyter-widgets/base",
            "_view_module_version": "1.2.0",
            "_view_name": "StyleView",
            "description_width": ""
          }
        },
        "fbe828178f024d0e9f7b176840404586": {
          "model_module": "@jupyter-widgets/base",
          "model_name": "LayoutModel",
          "model_module_version": "1.2.0",
          "state": {
            "_model_module": "@jupyter-widgets/base",
            "_model_module_version": "1.2.0",
            "_model_name": "LayoutModel",
            "_view_count": null,
            "_view_module": "@jupyter-widgets/base",
            "_view_module_version": "1.2.0",
            "_view_name": "LayoutView",
            "align_content": null,
            "align_items": null,
            "align_self": null,
            "border": null,
            "bottom": null,
            "display": null,
            "flex": null,
            "flex_flow": null,
            "grid_area": null,
            "grid_auto_columns": null,
            "grid_auto_flow": null,
            "grid_auto_rows": null,
            "grid_column": null,
            "grid_gap": null,
            "grid_row": null,
            "grid_template_areas": null,
            "grid_template_columns": null,
            "grid_template_rows": null,
            "height": null,
            "justify_content": null,
            "justify_items": null,
            "left": null,
            "margin": null,
            "max_height": null,
            "max_width": null,
            "min_height": null,
            "min_width": null,
            "object_fit": null,
            "object_position": null,
            "order": null,
            "overflow": null,
            "overflow_x": null,
            "overflow_y": null,
            "padding": null,
            "right": null,
            "top": null,
            "visibility": null,
            "width": null
          }
        },
        "0f91284ad4a1420b960846b7520a3a0f": {
          "model_module": "@jupyter-widgets/controls",
          "model_name": "ProgressStyleModel",
          "model_module_version": "1.5.0",
          "state": {
            "_model_module": "@jupyter-widgets/controls",
            "_model_module_version": "1.5.0",
            "_model_name": "ProgressStyleModel",
            "_view_count": null,
            "_view_module": "@jupyter-widgets/base",
            "_view_module_version": "1.2.0",
            "_view_name": "StyleView",
            "bar_color": null,
            "description_width": ""
          }
        },
        "51180903b6f64198a2c9cb6f08d216a7": {
          "model_module": "@jupyter-widgets/base",
          "model_name": "LayoutModel",
          "model_module_version": "1.2.0",
          "state": {
            "_model_module": "@jupyter-widgets/base",
            "_model_module_version": "1.2.0",
            "_model_name": "LayoutModel",
            "_view_count": null,
            "_view_module": "@jupyter-widgets/base",
            "_view_module_version": "1.2.0",
            "_view_name": "LayoutView",
            "align_content": null,
            "align_items": null,
            "align_self": null,
            "border": null,
            "bottom": null,
            "display": null,
            "flex": null,
            "flex_flow": null,
            "grid_area": null,
            "grid_auto_columns": null,
            "grid_auto_flow": null,
            "grid_auto_rows": null,
            "grid_column": null,
            "grid_gap": null,
            "grid_row": null,
            "grid_template_areas": null,
            "grid_template_columns": null,
            "grid_template_rows": null,
            "height": null,
            "justify_content": null,
            "justify_items": null,
            "left": null,
            "margin": null,
            "max_height": null,
            "max_width": null,
            "min_height": null,
            "min_width": null,
            "object_fit": null,
            "object_position": null,
            "order": null,
            "overflow": null,
            "overflow_x": null,
            "overflow_y": null,
            "padding": null,
            "right": null,
            "top": null,
            "visibility": null,
            "width": null
          }
        },
        "8002137c6c424057bd9eb50359667d6f": {
          "model_module": "@jupyter-widgets/controls",
          "model_name": "DescriptionStyleModel",
          "model_module_version": "1.5.0",
          "state": {
            "_model_module": "@jupyter-widgets/controls",
            "_model_module_version": "1.5.0",
            "_model_name": "DescriptionStyleModel",
            "_view_count": null,
            "_view_module": "@jupyter-widgets/base",
            "_view_module_version": "1.2.0",
            "_view_name": "StyleView",
            "description_width": ""
          }
        },
        "cf9aaee75dfa4917b6799370886d0102": {
          "model_module": "@jupyter-widgets/controls",
          "model_name": "HBoxModel",
          "model_module_version": "1.5.0",
          "state": {
            "_dom_classes": [],
            "_model_module": "@jupyter-widgets/controls",
            "_model_module_version": "1.5.0",
            "_model_name": "HBoxModel",
            "_view_count": null,
            "_view_module": "@jupyter-widgets/controls",
            "_view_module_version": "1.5.0",
            "_view_name": "HBoxView",
            "box_style": "",
            "children": [
              "IPY_MODEL_4738850509c44405862cb5e09e4c3935",
              "IPY_MODEL_bb074b59a33646ecb0e59c27edfc72bb",
              "IPY_MODEL_aef0defb8b3346b79c51346dc87f664e"
            ],
            "layout": "IPY_MODEL_8d8464a65ed54ac6ad006b92363780ba"
          }
        },
        "4738850509c44405862cb5e09e4c3935": {
          "model_module": "@jupyter-widgets/controls",
          "model_name": "HTMLModel",
          "model_module_version": "1.5.0",
          "state": {
            "_dom_classes": [],
            "_model_module": "@jupyter-widgets/controls",
            "_model_module_version": "1.5.0",
            "_model_name": "HTMLModel",
            "_view_count": null,
            "_view_module": "@jupyter-widgets/controls",
            "_view_module_version": "1.5.0",
            "_view_name": "HTMLView",
            "description": "",
            "description_tooltip": null,
            "layout": "IPY_MODEL_b7f3c5399f8444a790534c59003f2115",
            "placeholder": "​",
            "style": "IPY_MODEL_4aa0f312a5f34f0098278b27eaa449e8",
            "value": "model.safetensors: 100%"
          }
        },
        "bb074b59a33646ecb0e59c27edfc72bb": {
          "model_module": "@jupyter-widgets/controls",
          "model_name": "FloatProgressModel",
          "model_module_version": "1.5.0",
          "state": {
            "_dom_classes": [],
            "_model_module": "@jupyter-widgets/controls",
            "_model_module_version": "1.5.0",
            "_model_name": "FloatProgressModel",
            "_view_count": null,
            "_view_module": "@jupyter-widgets/controls",
            "_view_module_version": "1.5.0",
            "_view_name": "ProgressView",
            "bar_style": "success",
            "description": "",
            "description_tooltip": null,
            "layout": "IPY_MODEL_7511a96a50114f9582104c504f877f7a",
            "max": 672247920,
            "min": 0,
            "orientation": "horizontal",
            "style": "IPY_MODEL_920d52f0a2e149db82f65506be46c787",
            "value": 672247920
          }
        },
        "aef0defb8b3346b79c51346dc87f664e": {
          "model_module": "@jupyter-widgets/controls",
          "model_name": "HTMLModel",
          "model_module_version": "1.5.0",
          "state": {
            "_dom_classes": [],
            "_model_module": "@jupyter-widgets/controls",
            "_model_module_version": "1.5.0",
            "_model_name": "HTMLModel",
            "_view_count": null,
            "_view_module": "@jupyter-widgets/controls",
            "_view_module_version": "1.5.0",
            "_view_name": "HTMLView",
            "description": "",
            "description_tooltip": null,
            "layout": "IPY_MODEL_f9a191935d6e4bcbb18d9b7711043b05",
            "placeholder": "​",
            "style": "IPY_MODEL_73e78969d34d4bb098af37c24fd3550b",
            "value": " 672M/672M [00:05&lt;00:00, 144MB/s]"
          }
        },
        "8d8464a65ed54ac6ad006b92363780ba": {
          "model_module": "@jupyter-widgets/base",
          "model_name": "LayoutModel",
          "model_module_version": "1.2.0",
          "state": {
            "_model_module": "@jupyter-widgets/base",
            "_model_module_version": "1.2.0",
            "_model_name": "LayoutModel",
            "_view_count": null,
            "_view_module": "@jupyter-widgets/base",
            "_view_module_version": "1.2.0",
            "_view_name": "LayoutView",
            "align_content": null,
            "align_items": null,
            "align_self": null,
            "border": null,
            "bottom": null,
            "display": null,
            "flex": null,
            "flex_flow": null,
            "grid_area": null,
            "grid_auto_columns": null,
            "grid_auto_flow": null,
            "grid_auto_rows": null,
            "grid_column": null,
            "grid_gap": null,
            "grid_row": null,
            "grid_template_areas": null,
            "grid_template_columns": null,
            "grid_template_rows": null,
            "height": null,
            "justify_content": null,
            "justify_items": null,
            "left": null,
            "margin": null,
            "max_height": null,
            "max_width": null,
            "min_height": null,
            "min_width": null,
            "object_fit": null,
            "object_position": null,
            "order": null,
            "overflow": null,
            "overflow_x": null,
            "overflow_y": null,
            "padding": null,
            "right": null,
            "top": null,
            "visibility": null,
            "width": null
          }
        },
        "b7f3c5399f8444a790534c59003f2115": {
          "model_module": "@jupyter-widgets/base",
          "model_name": "LayoutModel",
          "model_module_version": "1.2.0",
          "state": {
            "_model_module": "@jupyter-widgets/base",
            "_model_module_version": "1.2.0",
            "_model_name": "LayoutModel",
            "_view_count": null,
            "_view_module": "@jupyter-widgets/base",
            "_view_module_version": "1.2.0",
            "_view_name": "LayoutView",
            "align_content": null,
            "align_items": null,
            "align_self": null,
            "border": null,
            "bottom": null,
            "display": null,
            "flex": null,
            "flex_flow": null,
            "grid_area": null,
            "grid_auto_columns": null,
            "grid_auto_flow": null,
            "grid_auto_rows": null,
            "grid_column": null,
            "grid_gap": null,
            "grid_row": null,
            "grid_template_areas": null,
            "grid_template_columns": null,
            "grid_template_rows": null,
            "height": null,
            "justify_content": null,
            "justify_items": null,
            "left": null,
            "margin": null,
            "max_height": null,
            "max_width": null,
            "min_height": null,
            "min_width": null,
            "object_fit": null,
            "object_position": null,
            "order": null,
            "overflow": null,
            "overflow_x": null,
            "overflow_y": null,
            "padding": null,
            "right": null,
            "top": null,
            "visibility": null,
            "width": null
          }
        },
        "4aa0f312a5f34f0098278b27eaa449e8": {
          "model_module": "@jupyter-widgets/controls",
          "model_name": "DescriptionStyleModel",
          "model_module_version": "1.5.0",
          "state": {
            "_model_module": "@jupyter-widgets/controls",
            "_model_module_version": "1.5.0",
            "_model_name": "DescriptionStyleModel",
            "_view_count": null,
            "_view_module": "@jupyter-widgets/base",
            "_view_module_version": "1.2.0",
            "_view_name": "StyleView",
            "description_width": ""
          }
        },
        "7511a96a50114f9582104c504f877f7a": {
          "model_module": "@jupyter-widgets/base",
          "model_name": "LayoutModel",
          "model_module_version": "1.2.0",
          "state": {
            "_model_module": "@jupyter-widgets/base",
            "_model_module_version": "1.2.0",
            "_model_name": "LayoutModel",
            "_view_count": null,
            "_view_module": "@jupyter-widgets/base",
            "_view_module_version": "1.2.0",
            "_view_name": "LayoutView",
            "align_content": null,
            "align_items": null,
            "align_self": null,
            "border": null,
            "bottom": null,
            "display": null,
            "flex": null,
            "flex_flow": null,
            "grid_area": null,
            "grid_auto_columns": null,
            "grid_auto_flow": null,
            "grid_auto_rows": null,
            "grid_column": null,
            "grid_gap": null,
            "grid_row": null,
            "grid_template_areas": null,
            "grid_template_columns": null,
            "grid_template_rows": null,
            "height": null,
            "justify_content": null,
            "justify_items": null,
            "left": null,
            "margin": null,
            "max_height": null,
            "max_width": null,
            "min_height": null,
            "min_width": null,
            "object_fit": null,
            "object_position": null,
            "order": null,
            "overflow": null,
            "overflow_x": null,
            "overflow_y": null,
            "padding": null,
            "right": null,
            "top": null,
            "visibility": null,
            "width": null
          }
        },
        "920d52f0a2e149db82f65506be46c787": {
          "model_module": "@jupyter-widgets/controls",
          "model_name": "ProgressStyleModel",
          "model_module_version": "1.5.0",
          "state": {
            "_model_module": "@jupyter-widgets/controls",
            "_model_module_version": "1.5.0",
            "_model_name": "ProgressStyleModel",
            "_view_count": null,
            "_view_module": "@jupyter-widgets/base",
            "_view_module_version": "1.2.0",
            "_view_name": "StyleView",
            "bar_color": null,
            "description_width": ""
          }
        },
        "f9a191935d6e4bcbb18d9b7711043b05": {
          "model_module": "@jupyter-widgets/base",
          "model_name": "LayoutModel",
          "model_module_version": "1.2.0",
          "state": {
            "_model_module": "@jupyter-widgets/base",
            "_model_module_version": "1.2.0",
            "_model_name": "LayoutModel",
            "_view_count": null,
            "_view_module": "@jupyter-widgets/base",
            "_view_module_version": "1.2.0",
            "_view_name": "LayoutView",
            "align_content": null,
            "align_items": null,
            "align_self": null,
            "border": null,
            "bottom": null,
            "display": null,
            "flex": null,
            "flex_flow": null,
            "grid_area": null,
            "grid_auto_columns": null,
            "grid_auto_flow": null,
            "grid_auto_rows": null,
            "grid_column": null,
            "grid_gap": null,
            "grid_row": null,
            "grid_template_areas": null,
            "grid_template_columns": null,
            "grid_template_rows": null,
            "height": null,
            "justify_content": null,
            "justify_items": null,
            "left": null,
            "margin": null,
            "max_height": null,
            "max_width": null,
            "min_height": null,
            "min_width": null,
            "object_fit": null,
            "object_position": null,
            "order": null,
            "overflow": null,
            "overflow_x": null,
            "overflow_y": null,
            "padding": null,
            "right": null,
            "top": null,
            "visibility": null,
            "width": null
          }
        },
        "73e78969d34d4bb098af37c24fd3550b": {
          "model_module": "@jupyter-widgets/controls",
          "model_name": "DescriptionStyleModel",
          "model_module_version": "1.5.0",
          "state": {
            "_model_module": "@jupyter-widgets/controls",
            "_model_module_version": "1.5.0",
            "_model_name": "DescriptionStyleModel",
            "_view_count": null,
            "_view_module": "@jupyter-widgets/base",
            "_view_module_version": "1.2.0",
            "_view_name": "StyleView",
            "description_width": ""
          }
        }
      }
    }
  },
  "nbformat": 4,
  "nbformat_minor": 0
}