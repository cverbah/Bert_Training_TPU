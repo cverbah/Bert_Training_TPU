{
  "nbformat": 4,
  "nbformat_minor": 0,
  "metadata": {
    "colab": {
      "provenance": []
    },
    "kernelspec": {
      "name": "python3",
      "display_name": "Python 3"
    },
    "language_info": {
      "name": "python"
    },
    "accelerator": "TPU",
    "widgets": {
      "application/vnd.jupyter.widget-state+json": {
        "512a4ce13b4147759304c2e678bc243f": {
          "model_module": "@jupyter-widgets/controls",
          "model_name": "HBoxModel",
          "model_module_version": "1.5.0",
          "state": {
            "_dom_classes": [],
            "_model_module": "@jupyter-widgets/controls",
            "_model_module_version": "1.5.0",
            "_model_name": "HBoxModel",
            "_view_count": null,
            "_view_module": "@jupyter-widgets/controls",
            "_view_module_version": "1.5.0",
            "_view_name": "HBoxView",
            "box_style": "",
            "children": [
              "IPY_MODEL_d4ec75dd0f30439583c156218823e770",
              "IPY_MODEL_491ea262df3b483c82e134c82b0efdd8",
              "IPY_MODEL_378c5f76f0004d35a46fa0145049c5c7"
            ],
            "layout": "IPY_MODEL_061ee24f32b345cf8c9e98cd3f0da016"
          }
        },
        "d4ec75dd0f30439583c156218823e770": {
          "model_module": "@jupyter-widgets/controls",
          "model_name": "HTMLModel",
          "model_module_version": "1.5.0",
          "state": {
            "_dom_classes": [],
            "_model_module": "@jupyter-widgets/controls",
            "_model_module_version": "1.5.0",
            "_model_name": "HTMLModel",
            "_view_count": null,
            "_view_module": "@jupyter-widgets/controls",
            "_view_module_version": "1.5.0",
            "_view_name": "HTMLView",
            "description": "",
            "description_tooltip": null,
            "layout": "IPY_MODEL_264b5470c7a842a6a37d74142574abf1",
            "placeholder": "​",
            "style": "IPY_MODEL_9c62c811276a4e7987eb058e4c7adadd",
            "value": "vocab.txt: 100%"
          }
        },
        "491ea262df3b483c82e134c82b0efdd8": {
          "model_module": "@jupyter-widgets/controls",
          "model_name": "FloatProgressModel",
          "model_module_version": "1.5.0",
          "state": {
            "_dom_classes": [],
            "_model_module": "@jupyter-widgets/controls",
            "_model_module_version": "1.5.0",
            "_model_name": "FloatProgressModel",
            "_view_count": null,
            "_view_module": "@jupyter-widgets/controls",
            "_view_module_version": "1.5.0",
            "_view_name": "ProgressView",
            "bar_style": "success",
            "description": "",
            "description_tooltip": null,
            "layout": "IPY_MODEL_38609a4aae274ff3b9282488e9c74408",
            "max": 871891,
            "min": 0,
            "orientation": "horizontal",
            "style": "IPY_MODEL_ca9567ee7f64415b812dd35d3f6270bb",
            "value": 871891
          }
        },
        "378c5f76f0004d35a46fa0145049c5c7": {
          "model_module": "@jupyter-widgets/controls",
          "model_name": "HTMLModel",
          "model_module_version": "1.5.0",
          "state": {
            "_dom_classes": [],
            "_model_module": "@jupyter-widgets/controls",
            "_model_module_version": "1.5.0",
            "_model_name": "HTMLModel",
            "_view_count": null,
            "_view_module": "@jupyter-widgets/controls",
            "_view_module_version": "1.5.0",
            "_view_name": "HTMLView",
            "description": "",
            "description_tooltip": null,
            "layout": "IPY_MODEL_d4035451fc414c88a8640ef20f095d8e",
            "placeholder": "​",
            "style": "IPY_MODEL_13fe0400288648a99350947d0e26bc90",
            "value": " 872k/872k [00:00&lt;00:00, 4.62MB/s]"
          }
        },
        "061ee24f32b345cf8c9e98cd3f0da016": {
          "model_module": "@jupyter-widgets/base",
          "model_name": "LayoutModel",
          "model_module_version": "1.2.0",
          "state": {
            "_model_module": "@jupyter-widgets/base",
            "_model_module_version": "1.2.0",
            "_model_name": "LayoutModel",
            "_view_count": null,
            "_view_module": "@jupyter-widgets/base",
            "_view_module_version": "1.2.0",
            "_view_name": "LayoutView",
            "align_content": null,
            "align_items": null,
            "align_self": null,
            "border": null,
            "bottom": null,
            "display": null,
            "flex": null,
            "flex_flow": null,
            "grid_area": null,
            "grid_auto_columns": null,
            "grid_auto_flow": null,
            "grid_auto_rows": null,
            "grid_column": null,
            "grid_gap": null,
            "grid_row": null,
            "grid_template_areas": null,
            "grid_template_columns": null,
            "grid_template_rows": null,
            "height": null,
            "justify_content": null,
            "justify_items": null,
            "left": null,
            "margin": null,
            "max_height": null,
            "max_width": null,
            "min_height": null,
            "min_width": null,
            "object_fit": null,
            "object_position": null,
            "order": null,
            "overflow": null,
            "overflow_x": null,
            "overflow_y": null,
            "padding": null,
            "right": null,
            "top": null,
            "visibility": null,
            "width": null
          }
        },
        "264b5470c7a842a6a37d74142574abf1": {
          "model_module": "@jupyter-widgets/base",
          "model_name": "LayoutModel",
          "model_module_version": "1.2.0",
          "state": {
            "_model_module": "@jupyter-widgets/base",
            "_model_module_version": "1.2.0",
            "_model_name": "LayoutModel",
            "_view_count": null,
            "_view_module": "@jupyter-widgets/base",
            "_view_module_version": "1.2.0",
            "_view_name": "LayoutView",
            "align_content": null,
            "align_items": null,
            "align_self": null,
            "border": null,
            "bottom": null,
            "display": null,
            "flex": null,
            "flex_flow": null,
            "grid_area": null,
            "grid_auto_columns": null,
            "grid_auto_flow": null,
            "grid_auto_rows": null,
            "grid_column": null,
            "grid_gap": null,
            "grid_row": null,
            "grid_template_areas": null,
            "grid_template_columns": null,
            "grid_template_rows": null,
            "height": null,
            "justify_content": null,
            "justify_items": null,
            "left": null,
            "margin": null,
            "max_height": null,
            "max_width": null,
            "min_height": null,
            "min_width": null,
            "object_fit": null,
            "object_position": null,
            "order": null,
            "overflow": null,
            "overflow_x": null,
            "overflow_y": null,
            "padding": null,
            "right": null,
            "top": null,
            "visibility": null,
            "width": null
          }
        },
        "9c62c811276a4e7987eb058e4c7adadd": {
          "model_module": "@jupyter-widgets/controls",
          "model_name": "DescriptionStyleModel",
          "model_module_version": "1.5.0",
          "state": {
            "_model_module": "@jupyter-widgets/controls",
            "_model_module_version": "1.5.0",
            "_model_name": "DescriptionStyleModel",
            "_view_count": null,
            "_view_module": "@jupyter-widgets/base",
            "_view_module_version": "1.2.0",
            "_view_name": "StyleView",
            "description_width": ""
          }
        },
        "38609a4aae274ff3b9282488e9c74408": {
          "model_module": "@jupyter-widgets/base",
          "model_name": "LayoutModel",
          "model_module_version": "1.2.0",
          "state": {
            "_model_module": "@jupyter-widgets/base",
            "_model_module_version": "1.2.0",
            "_model_name": "LayoutModel",
            "_view_count": null,
            "_view_module": "@jupyter-widgets/base",
            "_view_module_version": "1.2.0",
            "_view_name": "LayoutView",
            "align_content": null,
            "align_items": null,
            "align_self": null,
            "border": null,
            "bottom": null,
            "display": null,
            "flex": null,
            "flex_flow": null,
            "grid_area": null,
            "grid_auto_columns": null,
            "grid_auto_flow": null,
            "grid_auto_rows": null,
            "grid_column": null,
            "grid_gap": null,
            "grid_row": null,
            "grid_template_areas": null,
            "grid_template_columns": null,
            "grid_template_rows": null,
            "height": null,
            "justify_content": null,
            "justify_items": null,
            "left": null,
            "margin": null,
            "max_height": null,
            "max_width": null,
            "min_height": null,
            "min_width": null,
            "object_fit": null,
            "object_position": null,
            "order": null,
            "overflow": null,
            "overflow_x": null,
            "overflow_y": null,
            "padding": null,
            "right": null,
            "top": null,
            "visibility": null,
            "width": null
          }
        },
        "ca9567ee7f64415b812dd35d3f6270bb": {
          "model_module": "@jupyter-widgets/controls",
          "model_name": "ProgressStyleModel",
          "model_module_version": "1.5.0",
          "state": {
            "_model_module": "@jupyter-widgets/controls",
            "_model_module_version": "1.5.0",
            "_model_name": "ProgressStyleModel",
            "_view_count": null,
            "_view_module": "@jupyter-widgets/base",
            "_view_module_version": "1.2.0",
            "_view_name": "StyleView",
            "bar_color": null,
            "description_width": ""
          }
        },
        "d4035451fc414c88a8640ef20f095d8e": {
          "model_module": "@jupyter-widgets/base",
          "model_name": "LayoutModel",
          "model_module_version": "1.2.0",
          "state": {
            "_model_module": "@jupyter-widgets/base",
            "_model_module_version": "1.2.0",
            "_model_name": "LayoutModel",
            "_view_count": null,
            "_view_module": "@jupyter-widgets/base",
            "_view_module_version": "1.2.0",
            "_view_name": "LayoutView",
            "align_content": null,
            "align_items": null,
            "align_self": null,
            "border": null,
            "bottom": null,
            "display": null,
            "flex": null,
            "flex_flow": null,
            "grid_area": null,
            "grid_auto_columns": null,
            "grid_auto_flow": null,
            "grid_auto_rows": null,
            "grid_column": null,
            "grid_gap": null,
            "grid_row": null,
            "grid_template_areas": null,
            "grid_template_columns": null,
            "grid_template_rows": null,
            "height": null,
            "justify_content": null,
            "justify_items": null,
            "left": null,
            "margin": null,
            "max_height": null,
            "max_width": null,
            "min_height": null,
            "min_width": null,
            "object_fit": null,
            "object_position": null,
            "order": null,
            "overflow": null,
            "overflow_x": null,
            "overflow_y": null,
            "padding": null,
            "right": null,
            "top": null,
            "visibility": null,
            "width": null
          }
        },
        "13fe0400288648a99350947d0e26bc90": {
          "model_module": "@jupyter-widgets/controls",
          "model_name": "DescriptionStyleModel",
          "model_module_version": "1.5.0",
          "state": {
            "_model_module": "@jupyter-widgets/controls",
            "_model_module_version": "1.5.0",
            "_model_name": "DescriptionStyleModel",
            "_view_count": null,
            "_view_module": "@jupyter-widgets/base",
            "_view_module_version": "1.2.0",
            "_view_name": "StyleView",
            "description_width": ""
          }
        },
        "33c58186429f40da8b28b740aafca005": {
          "model_module": "@jupyter-widgets/controls",
          "model_name": "HBoxModel",
          "model_module_version": "1.5.0",
          "state": {
            "_dom_classes": [],
            "_model_module": "@jupyter-widgets/controls",
            "_model_module_version": "1.5.0",
            "_model_name": "HBoxModel",
            "_view_count": null,
            "_view_module": "@jupyter-widgets/controls",
            "_view_module_version": "1.5.0",
            "_view_name": "HBoxView",
            "box_style": "",
            "children": [
              "IPY_MODEL_b8926a8e0ca742909be69777f877d6aa",
              "IPY_MODEL_064145a787b5485f8d640b92133aacb8",
              "IPY_MODEL_3829e537ebcc499faf53e366f94503c2"
            ],
            "layout": "IPY_MODEL_0289d3df3799460c9080eb6166984616"
          }
        },
        "b8926a8e0ca742909be69777f877d6aa": {
          "model_module": "@jupyter-widgets/controls",
          "model_name": "HTMLModel",
          "model_module_version": "1.5.0",
          "state": {
            "_dom_classes": [],
            "_model_module": "@jupyter-widgets/controls",
            "_model_module_version": "1.5.0",
            "_model_name": "HTMLModel",
            "_view_count": null,
            "_view_module": "@jupyter-widgets/controls",
            "_view_module_version": "1.5.0",
            "_view_name": "HTMLView",
            "description": "",
            "description_tooltip": null,
            "layout": "IPY_MODEL_79b068093c54406cae2c698ac90b023d",
            "placeholder": "​",
            "style": "IPY_MODEL_0adbdaceabe44e92bb67517e037d39da",
            "value": "tokenizer_config.json: 100%"
          }
        },
        "064145a787b5485f8d640b92133aacb8": {
          "model_module": "@jupyter-widgets/controls",
          "model_name": "FloatProgressModel",
          "model_module_version": "1.5.0",
          "state": {
            "_dom_classes": [],
            "_model_module": "@jupyter-widgets/controls",
            "_model_module_version": "1.5.0",
            "_model_name": "FloatProgressModel",
            "_view_count": null,
            "_view_module": "@jupyter-widgets/controls",
            "_view_module_version": "1.5.0",
            "_view_name": "ProgressView",
            "bar_style": "success",
            "description": "",
            "description_tooltip": null,
            "layout": "IPY_MODEL_07e279aa244e4c2e8026e447eb1f0a57",
            "max": 48,
            "min": 0,
            "orientation": "horizontal",
            "style": "IPY_MODEL_01288d82f933424e8f7722a9a237903e",
            "value": 48
          }
        },
        "3829e537ebcc499faf53e366f94503c2": {
          "model_module": "@jupyter-widgets/controls",
          "model_name": "HTMLModel",
          "model_module_version": "1.5.0",
          "state": {
            "_dom_classes": [],
            "_model_module": "@jupyter-widgets/controls",
            "_model_module_version": "1.5.0",
            "_model_name": "HTMLModel",
            "_view_count": null,
            "_view_module": "@jupyter-widgets/controls",
            "_view_module_version": "1.5.0",
            "_view_name": "HTMLView",
            "description": "",
            "description_tooltip": null,
            "layout": "IPY_MODEL_8f33ae41509443b7b903fbcb01d9e2ed",
            "placeholder": "​",
            "style": "IPY_MODEL_f37a09413b0f4ac390312fcfe23245a4",
            "value": " 48.0/48.0 [00:00&lt;00:00, 761B/s]"
          }
        },
        "0289d3df3799460c9080eb6166984616": {
          "model_module": "@jupyter-widgets/base",
          "model_name": "LayoutModel",
          "model_module_version": "1.2.0",
          "state": {
            "_model_module": "@jupyter-widgets/base",
            "_model_module_version": "1.2.0",
            "_model_name": "LayoutModel",
            "_view_count": null,
            "_view_module": "@jupyter-widgets/base",
            "_view_module_version": "1.2.0",
            "_view_name": "LayoutView",
            "align_content": null,
            "align_items": null,
            "align_self": null,
            "border": null,
            "bottom": null,
            "display": null,
            "flex": null,
            "flex_flow": null,
            "grid_area": null,
            "grid_auto_columns": null,
            "grid_auto_flow": null,
            "grid_auto_rows": null,
            "grid_column": null,
            "grid_gap": null,
            "grid_row": null,
            "grid_template_areas": null,
            "grid_template_columns": null,
            "grid_template_rows": null,
            "height": null,
            "justify_content": null,
            "justify_items": null,
            "left": null,
            "margin": null,
            "max_height": null,
            "max_width": null,
            "min_height": null,
            "min_width": null,
            "object_fit": null,
            "object_position": null,
            "order": null,
            "overflow": null,
            "overflow_x": null,
            "overflow_y": null,
            "padding": null,
            "right": null,
            "top": null,
            "visibility": null,
            "width": null
          }
        },
        "79b068093c54406cae2c698ac90b023d": {
          "model_module": "@jupyter-widgets/base",
          "model_name": "LayoutModel",
          "model_module_version": "1.2.0",
          "state": {
            "_model_module": "@jupyter-widgets/base",
            "_model_module_version": "1.2.0",
            "_model_name": "LayoutModel",
            "_view_count": null,
            "_view_module": "@jupyter-widgets/base",
            "_view_module_version": "1.2.0",
            "_view_name": "LayoutView",
            "align_content": null,
            "align_items": null,
            "align_self": null,
            "border": null,
            "bottom": null,
            "display": null,
            "flex": null,
            "flex_flow": null,
            "grid_area": null,
            "grid_auto_columns": null,
            "grid_auto_flow": null,
            "grid_auto_rows": null,
            "grid_column": null,
            "grid_gap": null,
            "grid_row": null,
            "grid_template_areas": null,
            "grid_template_columns": null,
            "grid_template_rows": null,
            "height": null,
            "justify_content": null,
            "justify_items": null,
            "left": null,
            "margin": null,
            "max_height": null,
            "max_width": null,
            "min_height": null,
            "min_width": null,
            "object_fit": null,
            "object_position": null,
            "order": null,
            "overflow": null,
            "overflow_x": null,
            "overflow_y": null,
            "padding": null,
            "right": null,
            "top": null,
            "visibility": null,
            "width": null
          }
        },
        "0adbdaceabe44e92bb67517e037d39da": {
          "model_module": "@jupyter-widgets/controls",
          "model_name": "DescriptionStyleModel",
          "model_module_version": "1.5.0",
          "state": {
            "_model_module": "@jupyter-widgets/controls",
            "_model_module_version": "1.5.0",
            "_model_name": "DescriptionStyleModel",
            "_view_count": null,
            "_view_module": "@jupyter-widgets/base",
            "_view_module_version": "1.2.0",
            "_view_name": "StyleView",
            "description_width": ""
          }
        },
        "07e279aa244e4c2e8026e447eb1f0a57": {
          "model_module": "@jupyter-widgets/base",
          "model_name": "LayoutModel",
          "model_module_version": "1.2.0",
          "state": {
            "_model_module": "@jupyter-widgets/base",
            "_model_module_version": "1.2.0",
            "_model_name": "LayoutModel",
            "_view_count": null,
            "_view_module": "@jupyter-widgets/base",
            "_view_module_version": "1.2.0",
            "_view_name": "LayoutView",
            "align_content": null,
            "align_items": null,
            "align_self": null,
            "border": null,
            "bottom": null,
            "display": null,
            "flex": null,
            "flex_flow": null,
            "grid_area": null,
            "grid_auto_columns": null,
            "grid_auto_flow": null,
            "grid_auto_rows": null,
            "grid_column": null,
            "grid_gap": null,
            "grid_row": null,
            "grid_template_areas": null,
            "grid_template_columns": null,
            "grid_template_rows": null,
            "height": null,
            "justify_content": null,
            "justify_items": null,
            "left": null,
            "margin": null,
            "max_height": null,
            "max_width": null,
            "min_height": null,
            "min_width": null,
            "object_fit": null,
            "object_position": null,
            "order": null,
            "overflow": null,
            "overflow_x": null,
            "overflow_y": null,
            "padding": null,
            "right": null,
            "top": null,
            "visibility": null,
            "width": null
          }
        },
        "01288d82f933424e8f7722a9a237903e": {
          "model_module": "@jupyter-widgets/controls",
          "model_name": "ProgressStyleModel",
          "model_module_version": "1.5.0",
          "state": {
            "_model_module": "@jupyter-widgets/controls",
            "_model_module_version": "1.5.0",
            "_model_name": "ProgressStyleModel",
            "_view_count": null,
            "_view_module": "@jupyter-widgets/base",
            "_view_module_version": "1.2.0",
            "_view_name": "StyleView",
            "bar_color": null,
            "description_width": ""
          }
        },
        "8f33ae41509443b7b903fbcb01d9e2ed": {
          "model_module": "@jupyter-widgets/base",
          "model_name": "LayoutModel",
          "model_module_version": "1.2.0",
          "state": {
            "_model_module": "@jupyter-widgets/base",
            "_model_module_version": "1.2.0",
            "_model_name": "LayoutModel",
            "_view_count": null,
            "_view_module": "@jupyter-widgets/base",
            "_view_module_version": "1.2.0",
            "_view_name": "LayoutView",
            "align_content": null,
            "align_items": null,
            "align_self": null,
            "border": null,
            "bottom": null,
            "display": null,
            "flex": null,
            "flex_flow": null,
            "grid_area": null,
            "grid_auto_columns": null,
            "grid_auto_flow": null,
            "grid_auto_rows": null,
            "grid_column": null,
            "grid_gap": null,
            "grid_row": null,
            "grid_template_areas": null,
            "grid_template_columns": null,
            "grid_template_rows": null,
            "height": null,
            "justify_content": null,
            "justify_items": null,
            "left": null,
            "margin": null,
            "max_height": null,
            "max_width": null,
            "min_height": null,
            "min_width": null,
            "object_fit": null,
            "object_position": null,
            "order": null,
            "overflow": null,
            "overflow_x": null,
            "overflow_y": null,
            "padding": null,
            "right": null,
            "top": null,
            "visibility": null,
            "width": null
          }
        },
        "f37a09413b0f4ac390312fcfe23245a4": {
          "model_module": "@jupyter-widgets/controls",
          "model_name": "DescriptionStyleModel",
          "model_module_version": "1.5.0",
          "state": {
            "_model_module": "@jupyter-widgets/controls",
            "_model_module_version": "1.5.0",
            "_model_name": "DescriptionStyleModel",
            "_view_count": null,
            "_view_module": "@jupyter-widgets/base",
            "_view_module_version": "1.2.0",
            "_view_name": "StyleView",
            "description_width": ""
          }
        },
        "0aaf66a81cf046aeb7cc9bee2b5f24a1": {
          "model_module": "@jupyter-widgets/controls",
          "model_name": "HBoxModel",
          "model_module_version": "1.5.0",
          "state": {
            "_dom_classes": [],
            "_model_module": "@jupyter-widgets/controls",
            "_model_module_version": "1.5.0",
            "_model_name": "HBoxModel",
            "_view_count": null,
            "_view_module": "@jupyter-widgets/controls",
            "_view_module_version": "1.5.0",
            "_view_name": "HBoxView",
            "box_style": "",
            "children": [
              "IPY_MODEL_cae5580777e24aa19b0f4a5e881a0e6e",
              "IPY_MODEL_c04dfb8957224c0387f7479f347bd495",
              "IPY_MODEL_4fbb84eb79a54820b2f84493e211ab37"
            ],
            "layout": "IPY_MODEL_ea16f18637b847b6872f2f1d81604ea4"
          }
        },
        "cae5580777e24aa19b0f4a5e881a0e6e": {
          "model_module": "@jupyter-widgets/controls",
          "model_name": "HTMLModel",
          "model_module_version": "1.5.0",
          "state": {
            "_dom_classes": [],
            "_model_module": "@jupyter-widgets/controls",
            "_model_module_version": "1.5.0",
            "_model_name": "HTMLModel",
            "_view_count": null,
            "_view_module": "@jupyter-widgets/controls",
            "_view_module_version": "1.5.0",
            "_view_name": "HTMLView",
            "description": "",
            "description_tooltip": null,
            "layout": "IPY_MODEL_36cb2625566d4ca8a0c9f7226a67ccda",
            "placeholder": "​",
            "style": "IPY_MODEL_6129185693e94179b16d8fc692c9701e",
            "value": "config.json: 100%"
          }
        },
        "c04dfb8957224c0387f7479f347bd495": {
          "model_module": "@jupyter-widgets/controls",
          "model_name": "FloatProgressModel",
          "model_module_version": "1.5.0",
          "state": {
            "_dom_classes": [],
            "_model_module": "@jupyter-widgets/controls",
            "_model_module_version": "1.5.0",
            "_model_name": "FloatProgressModel",
            "_view_count": null,
            "_view_module": "@jupyter-widgets/controls",
            "_view_module_version": "1.5.0",
            "_view_name": "ProgressView",
            "bar_style": "success",
            "description": "",
            "description_tooltip": null,
            "layout": "IPY_MODEL_9951a260efc6438388462f43cfdf0304",
            "max": 625,
            "min": 0,
            "orientation": "horizontal",
            "style": "IPY_MODEL_eb8526717ce9409e8906f4bd5318e70f",
            "value": 625
          }
        },
        "4fbb84eb79a54820b2f84493e211ab37": {
          "model_module": "@jupyter-widgets/controls",
          "model_name": "HTMLModel",
          "model_module_version": "1.5.0",
          "state": {
            "_dom_classes": [],
            "_model_module": "@jupyter-widgets/controls",
            "_model_module_version": "1.5.0",
            "_model_name": "HTMLModel",
            "_view_count": null,
            "_view_module": "@jupyter-widgets/controls",
            "_view_module_version": "1.5.0",
            "_view_name": "HTMLView",
            "description": "",
            "description_tooltip": null,
            "layout": "IPY_MODEL_ef1b07082e2246f494992c6a73691385",
            "placeholder": "​",
            "style": "IPY_MODEL_a9fd3e6ebc574715b6d8a6436c79d7cf",
            "value": " 625/625 [00:00&lt;00:00, 6.64kB/s]"
          }
        },
        "ea16f18637b847b6872f2f1d81604ea4": {
          "model_module": "@jupyter-widgets/base",
          "model_name": "LayoutModel",
          "model_module_version": "1.2.0",
          "state": {
            "_model_module": "@jupyter-widgets/base",
            "_model_module_version": "1.2.0",
            "_model_name": "LayoutModel",
            "_view_count": null,
            "_view_module": "@jupyter-widgets/base",
            "_view_module_version": "1.2.0",
            "_view_name": "LayoutView",
            "align_content": null,
            "align_items": null,
            "align_self": null,
            "border": null,
            "bottom": null,
            "display": null,
            "flex": null,
            "flex_flow": null,
            "grid_area": null,
            "grid_auto_columns": null,
            "grid_auto_flow": null,
            "grid_auto_rows": null,
            "grid_column": null,
            "grid_gap": null,
            "grid_row": null,
            "grid_template_areas": null,
            "grid_template_columns": null,
            "grid_template_rows": null,
            "height": null,
            "justify_content": null,
            "justify_items": null,
            "left": null,
            "margin": null,
            "max_height": null,
            "max_width": null,
            "min_height": null,
            "min_width": null,
            "object_fit": null,
            "object_position": null,
            "order": null,
            "overflow": null,
            "overflow_x": null,
            "overflow_y": null,
            "padding": null,
            "right": null,
            "top": null,
            "visibility": null,
            "width": null
          }
        },
        "36cb2625566d4ca8a0c9f7226a67ccda": {
          "model_module": "@jupyter-widgets/base",
          "model_name": "LayoutModel",
          "model_module_version": "1.2.0",
          "state": {
            "_model_module": "@jupyter-widgets/base",
            "_model_module_version": "1.2.0",
            "_model_name": "LayoutModel",
            "_view_count": null,
            "_view_module": "@jupyter-widgets/base",
            "_view_module_version": "1.2.0",
            "_view_name": "LayoutView",
            "align_content": null,
            "align_items": null,
            "align_self": null,
            "border": null,
            "bottom": null,
            "display": null,
            "flex": null,
            "flex_flow": null,
            "grid_area": null,
            "grid_auto_columns": null,
            "grid_auto_flow": null,
            "grid_auto_rows": null,
            "grid_column": null,
            "grid_gap": null,
            "grid_row": null,
            "grid_template_areas": null,
            "grid_template_columns": null,
            "grid_template_rows": null,
            "height": null,
            "justify_content": null,
            "justify_items": null,
            "left": null,
            "margin": null,
            "max_height": null,
            "max_width": null,
            "min_height": null,
            "min_width": null,
            "object_fit": null,
            "object_position": null,
            "order": null,
            "overflow": null,
            "overflow_x": null,
            "overflow_y": null,
            "padding": null,
            "right": null,
            "top": null,
            "visibility": null,
            "width": null
          }
        },
        "6129185693e94179b16d8fc692c9701e": {
          "model_module": "@jupyter-widgets/controls",
          "model_name": "DescriptionStyleModel",
          "model_module_version": "1.5.0",
          "state": {
            "_model_module": "@jupyter-widgets/controls",
            "_model_module_version": "1.5.0",
            "_model_name": "DescriptionStyleModel",
            "_view_count": null,
            "_view_module": "@jupyter-widgets/base",
            "_view_module_version": "1.2.0",
            "_view_name": "StyleView",
            "description_width": ""
          }
        },
        "9951a260efc6438388462f43cfdf0304": {
          "model_module": "@jupyter-widgets/base",
          "model_name": "LayoutModel",
          "model_module_version": "1.2.0",
          "state": {
            "_model_module": "@jupyter-widgets/base",
            "_model_module_version": "1.2.0",
            "_model_name": "LayoutModel",
            "_view_count": null,
            "_view_module": "@jupyter-widgets/base",
            "_view_module_version": "1.2.0",
            "_view_name": "LayoutView",
            "align_content": null,
            "align_items": null,
            "align_self": null,
            "border": null,
            "bottom": null,
            "display": null,
            "flex": null,
            "flex_flow": null,
            "grid_area": null,
            "grid_auto_columns": null,
            "grid_auto_flow": null,
            "grid_auto_rows": null,
            "grid_column": null,
            "grid_gap": null,
            "grid_row": null,
            "grid_template_areas": null,
            "grid_template_columns": null,
            "grid_template_rows": null,
            "height": null,
            "justify_content": null,
            "justify_items": null,
            "left": null,
            "margin": null,
            "max_height": null,
            "max_width": null,
            "min_height": null,
            "min_width": null,
            "object_fit": null,
            "object_position": null,
            "order": null,
            "overflow": null,
            "overflow_x": null,
            "overflow_y": null,
            "padding": null,
            "right": null,
            "top": null,
            "visibility": null,
            "width": null
          }
        },
        "eb8526717ce9409e8906f4bd5318e70f": {
          "model_module": "@jupyter-widgets/controls",
          "model_name": "ProgressStyleModel",
          "model_module_version": "1.5.0",
          "state": {
            "_model_module": "@jupyter-widgets/controls",
            "_model_module_version": "1.5.0",
            "_model_name": "ProgressStyleModel",
            "_view_count": null,
            "_view_module": "@jupyter-widgets/base",
            "_view_module_version": "1.2.0",
            "_view_name": "StyleView",
            "bar_color": null,
            "description_width": ""
          }
        },
        "ef1b07082e2246f494992c6a73691385": {
          "model_module": "@jupyter-widgets/base",
          "model_name": "LayoutModel",
          "model_module_version": "1.2.0",
          "state": {
            "_model_module": "@jupyter-widgets/base",
            "_model_module_version": "1.2.0",
            "_model_name": "LayoutModel",
            "_view_count": null,
            "_view_module": "@jupyter-widgets/base",
            "_view_module_version": "1.2.0",
            "_view_name": "LayoutView",
            "align_content": null,
            "align_items": null,
            "align_self": null,
            "border": null,
            "bottom": null,
            "display": null,
            "flex": null,
            "flex_flow": null,
            "grid_area": null,
            "grid_auto_columns": null,
            "grid_auto_flow": null,
            "grid_auto_rows": null,
            "grid_column": null,
            "grid_gap": null,
            "grid_row": null,
            "grid_template_areas": null,
            "grid_template_columns": null,
            "grid_template_rows": null,
            "height": null,
            "justify_content": null,
            "justify_items": null,
            "left": null,
            "margin": null,
            "max_height": null,
            "max_width": null,
            "min_height": null,
            "min_width": null,
            "object_fit": null,
            "object_position": null,
            "order": null,
            "overflow": null,
            "overflow_x": null,
            "overflow_y": null,
            "padding": null,
            "right": null,
            "top": null,
            "visibility": null,
            "width": null
          }
        },
        "a9fd3e6ebc574715b6d8a6436c79d7cf": {
          "model_module": "@jupyter-widgets/controls",
          "model_name": "DescriptionStyleModel",
          "model_module_version": "1.5.0",
          "state": {
            "_model_module": "@jupyter-widgets/controls",
            "_model_module_version": "1.5.0",
            "_model_name": "DescriptionStyleModel",
            "_view_count": null,
            "_view_module": "@jupyter-widgets/base",
            "_view_module_version": "1.2.0",
            "_view_name": "StyleView",
            "description_width": ""
          }
        },
        "bf6c3d657f534e1885c613d5ee99ff51": {
          "model_module": "@jupyter-widgets/controls",
          "model_name": "HBoxModel",
          "model_module_version": "1.5.0",
          "state": {
            "_dom_classes": [],
            "_model_module": "@jupyter-widgets/controls",
            "_model_module_version": "1.5.0",
            "_model_name": "HBoxModel",
            "_view_count": null,
            "_view_module": "@jupyter-widgets/controls",
            "_view_module_version": "1.5.0",
            "_view_name": "HBoxView",
            "box_style": "",
            "children": [
              "IPY_MODEL_cc85e4becec048bf824db17370b46e56",
              "IPY_MODEL_0dd22d21431143898daec05c735396e6",
              "IPY_MODEL_2da9627247e54e2ebb84ef60eae92b5c"
            ],
            "layout": "IPY_MODEL_0bc79789208946a7821dbc16e59b241a"
          }
        },
        "cc85e4becec048bf824db17370b46e56": {
          "model_module": "@jupyter-widgets/controls",
          "model_name": "HTMLModel",
          "model_module_version": "1.5.0",
          "state": {
            "_dom_classes": [],
            "_model_module": "@jupyter-widgets/controls",
            "_model_module_version": "1.5.0",
            "_model_name": "HTMLModel",
            "_view_count": null,
            "_view_module": "@jupyter-widgets/controls",
            "_view_module_version": "1.5.0",
            "_view_name": "HTMLView",
            "description": "",
            "description_tooltip": null,
            "layout": "IPY_MODEL_708f890a828249a0b08a67d0d85c5df9",
            "placeholder": "​",
            "style": "IPY_MODEL_bea9625f633044d3b90003d3d2fdf3bd",
            "value": "model.safetensors: 100%"
          }
        },
        "0dd22d21431143898daec05c735396e6": {
          "model_module": "@jupyter-widgets/controls",
          "model_name": "FloatProgressModel",
          "model_module_version": "1.5.0",
          "state": {
            "_dom_classes": [],
            "_model_module": "@jupyter-widgets/controls",
            "_model_module_version": "1.5.0",
            "_model_name": "FloatProgressModel",
            "_view_count": null,
            "_view_module": "@jupyter-widgets/controls",
            "_view_module_version": "1.5.0",
            "_view_name": "ProgressView",
            "bar_style": "success",
            "description": "",
            "description_tooltip": null,
            "layout": "IPY_MODEL_43fb417c42b3476e8ab5a0bc07c94926",
            "max": 672247920,
            "min": 0,
            "orientation": "horizontal",
            "style": "IPY_MODEL_1d1d9211d1c64c7aade0a0d89fe5b742",
            "value": 672247920
          }
        },
        "2da9627247e54e2ebb84ef60eae92b5c": {
          "model_module": "@jupyter-widgets/controls",
          "model_name": "HTMLModel",
          "model_module_version": "1.5.0",
          "state": {
            "_dom_classes": [],
            "_model_module": "@jupyter-widgets/controls",
            "_model_module_version": "1.5.0",
            "_model_name": "HTMLModel",
            "_view_count": null,
            "_view_module": "@jupyter-widgets/controls",
            "_view_module_version": "1.5.0",
            "_view_name": "HTMLView",
            "description": "",
            "description_tooltip": null,
            "layout": "IPY_MODEL_16b80538857a4b84b5176787f0aaa2d7",
            "placeholder": "​",
            "style": "IPY_MODEL_64ff4db9370948c98656241a52643c4c",
            "value": " 672M/672M [00:14&lt;00:00, 87.1MB/s]"
          }
        },
        "0bc79789208946a7821dbc16e59b241a": {
          "model_module": "@jupyter-widgets/base",
          "model_name": "LayoutModel",
          "model_module_version": "1.2.0",
          "state": {
            "_model_module": "@jupyter-widgets/base",
            "_model_module_version": "1.2.0",
            "_model_name": "LayoutModel",
            "_view_count": null,
            "_view_module": "@jupyter-widgets/base",
            "_view_module_version": "1.2.0",
            "_view_name": "LayoutView",
            "align_content": null,
            "align_items": null,
            "align_self": null,
            "border": null,
            "bottom": null,
            "display": null,
            "flex": null,
            "flex_flow": null,
            "grid_area": null,
            "grid_auto_columns": null,
            "grid_auto_flow": null,
            "grid_auto_rows": null,
            "grid_column": null,
            "grid_gap": null,
            "grid_row": null,
            "grid_template_areas": null,
            "grid_template_columns": null,
            "grid_template_rows": null,
            "height": null,
            "justify_content": null,
            "justify_items": null,
            "left": null,
            "margin": null,
            "max_height": null,
            "max_width": null,
            "min_height": null,
            "min_width": null,
            "object_fit": null,
            "object_position": null,
            "order": null,
            "overflow": null,
            "overflow_x": null,
            "overflow_y": null,
            "padding": null,
            "right": null,
            "top": null,
            "visibility": null,
            "width": null
          }
        },
        "708f890a828249a0b08a67d0d85c5df9": {
          "model_module": "@jupyter-widgets/base",
          "model_name": "LayoutModel",
          "model_module_version": "1.2.0",
          "state": {
            "_model_module": "@jupyter-widgets/base",
            "_model_module_version": "1.2.0",
            "_model_name": "LayoutModel",
            "_view_count": null,
            "_view_module": "@jupyter-widgets/base",
            "_view_module_version": "1.2.0",
            "_view_name": "LayoutView",
            "align_content": null,
            "align_items": null,
            "align_self": null,
            "border": null,
            "bottom": null,
            "display": null,
            "flex": null,
            "flex_flow": null,
            "grid_area": null,
            "grid_auto_columns": null,
            "grid_auto_flow": null,
            "grid_auto_rows": null,
            "grid_column": null,
            "grid_gap": null,
            "grid_row": null,
            "grid_template_areas": null,
            "grid_template_columns": null,
            "grid_template_rows": null,
            "height": null,
            "justify_content": null,
            "justify_items": null,
            "left": null,
            "margin": null,
            "max_height": null,
            "max_width": null,
            "min_height": null,
            "min_width": null,
            "object_fit": null,
            "object_position": null,
            "order": null,
            "overflow": null,
            "overflow_x": null,
            "overflow_y": null,
            "padding": null,
            "right": null,
            "top": null,
            "visibility": null,
            "width": null
          }
        },
        "bea9625f633044d3b90003d3d2fdf3bd": {
          "model_module": "@jupyter-widgets/controls",
          "model_name": "DescriptionStyleModel",
          "model_module_version": "1.5.0",
          "state": {
            "_model_module": "@jupyter-widgets/controls",
            "_model_module_version": "1.5.0",
            "_model_name": "DescriptionStyleModel",
            "_view_count": null,
            "_view_module": "@jupyter-widgets/base",
            "_view_module_version": "1.2.0",
            "_view_name": "StyleView",
            "description_width": ""
          }
        },
        "43fb417c42b3476e8ab5a0bc07c94926": {
          "model_module": "@jupyter-widgets/base",
          "model_name": "LayoutModel",
          "model_module_version": "1.2.0",
          "state": {
            "_model_module": "@jupyter-widgets/base",
            "_model_module_version": "1.2.0",
            "_model_name": "LayoutModel",
            "_view_count": null,
            "_view_module": "@jupyter-widgets/base",
            "_view_module_version": "1.2.0",
            "_view_name": "LayoutView",
            "align_content": null,
            "align_items": null,
            "align_self": null,
            "border": null,
            "bottom": null,
            "display": null,
            "flex": null,
            "flex_flow": null,
            "grid_area": null,
            "grid_auto_columns": null,
            "grid_auto_flow": null,
            "grid_auto_rows": null,
            "grid_column": null,
            "grid_gap": null,
            "grid_row": null,
            "grid_template_areas": null,
            "grid_template_columns": null,
            "grid_template_rows": null,
            "height": null,
            "justify_content": null,
            "justify_items": null,
            "left": null,
            "margin": null,
            "max_height": null,
            "max_width": null,
            "min_height": null,
            "min_width": null,
            "object_fit": null,
            "object_position": null,
            "order": null,
            "overflow": null,
            "overflow_x": null,
            "overflow_y": null,
            "padding": null,
            "right": null,
            "top": null,
            "visibility": null,
            "width": null
          }
        },
        "1d1d9211d1c64c7aade0a0d89fe5b742": {
          "model_module": "@jupyter-widgets/controls",
          "model_name": "ProgressStyleModel",
          "model_module_version": "1.5.0",
          "state": {
            "_model_module": "@jupyter-widgets/controls",
            "_model_module_version": "1.5.0",
            "_model_name": "ProgressStyleModel",
            "_view_count": null,
            "_view_module": "@jupyter-widgets/base",
            "_view_module_version": "1.2.0",
            "_view_name": "StyleView",
            "bar_color": null,
            "description_width": ""
          }
        },
        "16b80538857a4b84b5176787f0aaa2d7": {
          "model_module": "@jupyter-widgets/base",
          "model_name": "LayoutModel",
          "model_module_version": "1.2.0",
          "state": {
            "_model_module": "@jupyter-widgets/base",
            "_model_module_version": "1.2.0",
            "_model_name": "LayoutModel",
            "_view_count": null,
            "_view_module": "@jupyter-widgets/base",
            "_view_module_version": "1.2.0",
            "_view_name": "LayoutView",
            "align_content": null,
            "align_items": null,
            "align_self": null,
            "border": null,
            "bottom": null,
            "display": null,
            "flex": null,
            "flex_flow": null,
            "grid_area": null,
            "grid_auto_columns": null,
            "grid_auto_flow": null,
            "grid_auto_rows": null,
            "grid_column": null,
            "grid_gap": null,
            "grid_row": null,
            "grid_template_areas": null,
            "grid_template_columns": null,
            "grid_template_rows": null,
            "height": null,
            "justify_content": null,
            "justify_items": null,
            "left": null,
            "margin": null,
            "max_height": null,
            "max_width": null,
            "min_height": null,
            "min_width": null,
            "object_fit": null,
            "object_position": null,
            "order": null,
            "overflow": null,
            "overflow_x": null,
            "overflow_y": null,
            "padding": null,
            "right": null,
            "top": null,
            "visibility": null,
            "width": null
          }
        },
        "64ff4db9370948c98656241a52643c4c": {
          "model_module": "@jupyter-widgets/controls",
          "model_name": "DescriptionStyleModel",
          "model_module_version": "1.5.0",
          "state": {
            "_model_module": "@jupyter-widgets/controls",
            "_model_module_version": "1.5.0",
            "_model_name": "DescriptionStyleModel",
            "_view_count": null,
            "_view_module": "@jupyter-widgets/base",
            "_view_module_version": "1.2.0",
            "_view_name": "StyleView",
            "description_width": ""
          }
        }
      }
    }
  },
  "cells": [
    {
      "cell_type": "markdown",
      "source": [
        "# Training: Hybrid Model v1:\n",
        "- Pets + Supermarket skus\n",
        "- Bert Multi Model Base\n"
      ],
      "metadata": {
        "id": "4Gx4Z7jyKsYI"
      }
    },
    {
      "cell_type": "code",
      "execution_count": 1,
      "metadata": {
        "colab": {
          "base_uri": "https://localhost:8080/",
          "height": 1000
        },
        "id": "vTpzKUk7J6UY",
        "outputId": "cd301b86-246a-43a9-8db8-129e482df786"
      },
      "outputs": [
        {
          "output_type": "stream",
          "name": "stdout",
          "text": [
            "Collecting unidecode\n",
            "  Downloading Unidecode-1.3.8-py3-none-any.whl (235 kB)\n",
            "\u001b[2K     \u001b[90m━━━━━━━━━━━━━━━━━━━━━━━━━━━━━━━━━━━━━━━━\u001b[0m \u001b[32m235.5/235.5 kB\u001b[0m \u001b[31m1.6 MB/s\u001b[0m eta \u001b[36m0:00:00\u001b[0m\n",
            "\u001b[?25hCollecting python-dotenv\n",
            "  Downloading python_dotenv-1.0.1-py3-none-any.whl (19 kB)\n",
            "Collecting unidecode\n",
            "  Downloading Unidecode-1.3.6-py3-none-any.whl (235 kB)\n",
            "\u001b[2K     \u001b[90m━━━━━━━━━━━━━━━━━━━━━━━━━━━━━━━━━━━━━━━━\u001b[0m \u001b[32m235.9/235.9 kB\u001b[0m \u001b[31m12.0 MB/s\u001b[0m eta \u001b[36m0:00:00\u001b[0m\n",
            "\u001b[?25hRequirement already satisfied: google-cloud-aiplatform in /usr/local/lib/python3.10/dist-packages (1.51.0)\n",
            "Collecting transformers==4.27.4\n",
            "  Downloading transformers-4.27.4-py3-none-any.whl (6.8 MB)\n",
            "\u001b[2K     \u001b[90m━━━━━━━━━━━━━━━━━━━━━━━━━━━━━━━━━━━━━━━━\u001b[0m \u001b[32m6.8/6.8 MB\u001b[0m \u001b[31m30.1 MB/s\u001b[0m eta \u001b[36m0:00:00\u001b[0m\n",
            "\u001b[?25hCollecting tensorflow==2.8.4\n",
            "  Downloading tensorflow-2.8.4-cp310-cp310-manylinux2010_x86_64.whl (498.1 MB)\n",
            "\u001b[2K     \u001b[90m━━━━━━━━━━━━━━━━━━━━━━━━━━━━━━━━━━━━━━━━\u001b[0m \u001b[32m498.1/498.1 MB\u001b[0m \u001b[31m1.4 MB/s\u001b[0m eta \u001b[36m0:00:00\u001b[0m\n",
            "\u001b[?25hCollecting tensorflow-text==2.8.2\n",
            "  Downloading tensorflow_text-2.8.2-cp310-cp310-manylinux_2_12_x86_64.manylinux2010_x86_64.whl (4.9 MB)\n",
            "\u001b[2K     \u001b[90m━━━━━━━━━━━━━━━━━━━━━━━━━━━━━━━━━━━━━━━━\u001b[0m \u001b[32m4.9/4.9 MB\u001b[0m \u001b[31m36.9 MB/s\u001b[0m eta \u001b[36m0:00:00\u001b[0m\n",
            "\u001b[?25hRequirement already satisfied: filelock in /usr/local/lib/python3.10/dist-packages (from transformers==4.27.4) (3.14.0)\n",
            "Requirement already satisfied: huggingface-hub<1.0,>=0.11.0 in /usr/local/lib/python3.10/dist-packages (from transformers==4.27.4) (0.20.3)\n",
            "Requirement already satisfied: numpy>=1.17 in /usr/local/lib/python3.10/dist-packages (from transformers==4.27.4) (1.23.5)\n",
            "Requirement already satisfied: packaging>=20.0 in /usr/local/lib/python3.10/dist-packages (from transformers==4.27.4) (24.0)\n",
            "Requirement already satisfied: pyyaml>=5.1 in /usr/local/lib/python3.10/dist-packages (from transformers==4.27.4) (6.0.1)\n",
            "Requirement already satisfied: regex!=2019.12.17 in /usr/local/lib/python3.10/dist-packages (from transformers==4.27.4) (2023.12.25)\n",
            "Requirement already satisfied: requests in /usr/local/lib/python3.10/dist-packages (from transformers==4.27.4) (2.31.0)\n",
            "Collecting tokenizers!=0.11.3,<0.14,>=0.11.1 (from transformers==4.27.4)\n",
            "  Downloading tokenizers-0.13.3-cp310-cp310-manylinux_2_17_x86_64.manylinux2014_x86_64.whl (7.8 MB)\n",
            "\u001b[2K     \u001b[90m━━━━━━━━━━━━━━━━━━━━━━━━━━━━━━━━━━━━━━━━\u001b[0m \u001b[32m7.8/7.8 MB\u001b[0m \u001b[31m26.7 MB/s\u001b[0m eta \u001b[36m0:00:00\u001b[0m\n",
            "\u001b[?25hRequirement already satisfied: tqdm>=4.27 in /usr/local/lib/python3.10/dist-packages (from transformers==4.27.4) (4.66.4)\n",
            "Requirement already satisfied: absl-py>=0.4.0 in /usr/local/lib/python3.10/dist-packages (from tensorflow==2.8.4) (1.4.0)\n",
            "Requirement already satisfied: astunparse>=1.6.0 in /usr/local/lib/python3.10/dist-packages (from tensorflow==2.8.4) (1.6.3)\n",
            "Requirement already satisfied: flatbuffers>=1.12 in /usr/local/lib/python3.10/dist-packages (from tensorflow==2.8.4) (24.3.25)\n",
            "Requirement already satisfied: gast>=0.2.1 in /usr/local/lib/python3.10/dist-packages (from tensorflow==2.8.4) (0.4.0)\n",
            "Requirement already satisfied: google-pasta>=0.1.1 in /usr/local/lib/python3.10/dist-packages (from tensorflow==2.8.4) (0.2.0)\n",
            "Requirement already satisfied: h5py>=2.9.0 in /usr/local/lib/python3.10/dist-packages (from tensorflow==2.8.4) (3.9.0)\n",
            "Collecting keras-preprocessing>=1.1.1 (from tensorflow==2.8.4)\n",
            "  Downloading Keras_Preprocessing-1.1.2-py2.py3-none-any.whl (42 kB)\n",
            "\u001b[2K     \u001b[90m━━━━━━━━━━━━━━━━━━━━━━━━━━━━━━━━━━━━━━━━\u001b[0m \u001b[32m42.6/42.6 kB\u001b[0m \u001b[31m2.4 MB/s\u001b[0m eta \u001b[36m0:00:00\u001b[0m\n",
            "\u001b[?25hRequirement already satisfied: libclang>=9.0.1 in /usr/local/lib/python3.10/dist-packages (from tensorflow==2.8.4) (18.1.1)\n",
            "Requirement already satisfied: opt-einsum>=2.3.2 in /usr/local/lib/python3.10/dist-packages (from tensorflow==2.8.4) (3.3.0)\n",
            "Collecting protobuf<3.20,>=3.9.2 (from tensorflow==2.8.4)\n",
            "  Downloading protobuf-3.19.6-cp310-cp310-manylinux_2_17_x86_64.manylinux2014_x86_64.whl (1.1 MB)\n",
            "\u001b[2K     \u001b[90m━━━━━━━━━━━━━━━━━━━━━━━━━━━━━━━━━━━━━━━━\u001b[0m \u001b[32m1.1/1.1 MB\u001b[0m \u001b[31m46.9 MB/s\u001b[0m eta \u001b[36m0:00:00\u001b[0m\n",
            "\u001b[?25hRequirement already satisfied: setuptools in /usr/local/lib/python3.10/dist-packages (from tensorflow==2.8.4) (67.7.2)\n",
            "Requirement already satisfied: six>=1.12.0 in /usr/local/lib/python3.10/dist-packages (from tensorflow==2.8.4) (1.16.0)\n",
            "Requirement already satisfied: termcolor>=1.1.0 in /usr/local/lib/python3.10/dist-packages (from tensorflow==2.8.4) (2.4.0)\n",
            "Requirement already satisfied: typing-extensions>=3.6.6 in /usr/local/lib/python3.10/dist-packages (from tensorflow==2.8.4) (4.11.0)\n",
            "Requirement already satisfied: wrapt>=1.11.0 in /usr/local/lib/python3.10/dist-packages (from tensorflow==2.8.4) (1.14.1)\n",
            "Collecting tensorboard<2.9,>=2.8 (from tensorflow==2.8.4)\n",
            "  Downloading tensorboard-2.8.0-py3-none-any.whl (5.8 MB)\n",
            "\u001b[2K     \u001b[90m━━━━━━━━━━━━━━━━━━━━━━━━━━━━━━━━━━━━━━━━\u001b[0m \u001b[32m5.8/5.8 MB\u001b[0m \u001b[31m43.5 MB/s\u001b[0m eta \u001b[36m0:00:00\u001b[0m\n",
            "\u001b[?25hCollecting tensorflow-estimator<2.9,>=2.8 (from tensorflow==2.8.4)\n",
            "  Downloading tensorflow_estimator-2.8.0-py2.py3-none-any.whl (462 kB)\n",
            "\u001b[2K     \u001b[90m━━━━━━━━━━━━━━━━━━━━━━━━━━━━━━━━━━━━━━━━\u001b[0m \u001b[32m462.3/462.3 kB\u001b[0m \u001b[31m29.3 MB/s\u001b[0m eta \u001b[36m0:00:00\u001b[0m\n",
            "\u001b[?25hCollecting keras<2.9,>=2.8.0rc0 (from tensorflow==2.8.4)\n",
            "  Downloading keras-2.8.0-py2.py3-none-any.whl (1.4 MB)\n",
            "\u001b[2K     \u001b[90m━━━━━━━━━━━━━━━━━━━━━━━━━━━━━━━━━━━━━━━━\u001b[0m \u001b[32m1.4/1.4 MB\u001b[0m \u001b[31m43.7 MB/s\u001b[0m eta \u001b[36m0:00:00\u001b[0m\n",
            "\u001b[?25hRequirement already satisfied: tensorflow-io-gcs-filesystem>=0.23.1 in /usr/local/lib/python3.10/dist-packages (from tensorflow==2.8.4) (0.37.0)\n",
            "Requirement already satisfied: grpcio<2.0,>=1.24.3 in /usr/local/lib/python3.10/dist-packages (from tensorflow==2.8.4) (1.63.0)\n",
            "Requirement already satisfied: tensorflow-hub>=0.8.0 in /usr/local/lib/python3.10/dist-packages (from tensorflow-text==2.8.2) (0.16.1)\n",
            "Requirement already satisfied: google-api-core[grpc]!=2.0.*,!=2.1.*,!=2.2.*,!=2.3.*,!=2.4.*,!=2.5.*,!=2.6.*,!=2.7.*,<3.0.0dev,>=1.34.1 in /usr/local/lib/python3.10/dist-packages (from google-cloud-aiplatform) (2.11.1)\n",
            "Requirement already satisfied: google-auth<3.0.0dev,>=2.14.1 in /usr/local/lib/python3.10/dist-packages (from google-cloud-aiplatform) (2.27.0)\n",
            "Requirement already satisfied: proto-plus<2.0.0dev,>=1.22.0 in /usr/local/lib/python3.10/dist-packages (from google-cloud-aiplatform) (1.23.0)\n",
            "Requirement already satisfied: google-cloud-storage<3.0.0dev,>=1.32.0 in /usr/local/lib/python3.10/dist-packages (from google-cloud-aiplatform) (2.8.0)\n",
            "Requirement already satisfied: google-cloud-bigquery!=3.20.0,<4.0.0dev,>=1.15.0 in /usr/local/lib/python3.10/dist-packages (from google-cloud-aiplatform) (3.21.0)\n",
            "Requirement already satisfied: google-cloud-resource-manager<3.0.0dev,>=1.3.3 in /usr/local/lib/python3.10/dist-packages (from google-cloud-aiplatform) (1.12.3)\n",
            "Requirement already satisfied: shapely<3.0.0dev in /usr/local/lib/python3.10/dist-packages (from google-cloud-aiplatform) (2.0.4)\n",
            "Requirement already satisfied: pydantic<3 in /usr/local/lib/python3.10/dist-packages (from google-cloud-aiplatform) (2.7.1)\n",
            "Requirement already satisfied: docstring-parser<1 in /usr/local/lib/python3.10/dist-packages (from google-cloud-aiplatform) (0.16)\n",
            "Requirement already satisfied: wheel<1.0,>=0.23.0 in /usr/local/lib/python3.10/dist-packages (from astunparse>=1.6.0->tensorflow==2.8.4) (0.43.0)\n",
            "Requirement already satisfied: googleapis-common-protos<2.0.dev0,>=1.56.2 in /usr/local/lib/python3.10/dist-packages (from google-api-core[grpc]!=2.0.*,!=2.1.*,!=2.2.*,!=2.3.*,!=2.4.*,!=2.5.*,!=2.6.*,!=2.7.*,<3.0.0dev,>=1.34.1->google-cloud-aiplatform) (1.63.0)\n",
            "Requirement already satisfied: grpcio-status<2.0.dev0,>=1.33.2 in /usr/local/lib/python3.10/dist-packages (from google-api-core[grpc]!=2.0.*,!=2.1.*,!=2.2.*,!=2.3.*,!=2.4.*,!=2.5.*,!=2.6.*,!=2.7.*,<3.0.0dev,>=1.34.1->google-cloud-aiplatform) (1.48.2)\n",
            "Requirement already satisfied: cachetools<6.0,>=2.0.0 in /usr/local/lib/python3.10/dist-packages (from google-auth<3.0.0dev,>=2.14.1->google-cloud-aiplatform) (5.3.3)\n",
            "Requirement already satisfied: pyasn1-modules>=0.2.1 in /usr/local/lib/python3.10/dist-packages (from google-auth<3.0.0dev,>=2.14.1->google-cloud-aiplatform) (0.4.0)\n",
            "Requirement already satisfied: rsa<5,>=3.1.4 in /usr/local/lib/python3.10/dist-packages (from google-auth<3.0.0dev,>=2.14.1->google-cloud-aiplatform) (4.9)\n",
            "Requirement already satisfied: google-cloud-core<3.0.0dev,>=1.6.0 in /usr/local/lib/python3.10/dist-packages (from google-cloud-bigquery!=3.20.0,<4.0.0dev,>=1.15.0->google-cloud-aiplatform) (2.3.3)\n",
            "Requirement already satisfied: google-resumable-media<3.0dev,>=0.6.0 in /usr/local/lib/python3.10/dist-packages (from google-cloud-bigquery!=3.20.0,<4.0.0dev,>=1.15.0->google-cloud-aiplatform) (2.7.0)\n",
            "Requirement already satisfied: python-dateutil<3.0dev,>=2.7.2 in /usr/local/lib/python3.10/dist-packages (from google-cloud-bigquery!=3.20.0,<4.0.0dev,>=1.15.0->google-cloud-aiplatform) (2.8.2)\n",
            "Requirement already satisfied: grpc-google-iam-v1<1.0.0dev,>=0.12.4 in /usr/local/lib/python3.10/dist-packages (from google-cloud-resource-manager<3.0.0dev,>=1.3.3->google-cloud-aiplatform) (0.13.0)\n",
            "Requirement already satisfied: fsspec>=2023.5.0 in /usr/local/lib/python3.10/dist-packages (from huggingface-hub<1.0,>=0.11.0->transformers==4.27.4) (2023.6.0)\n",
            "Requirement already satisfied: annotated-types>=0.4.0 in /usr/local/lib/python3.10/dist-packages (from pydantic<3->google-cloud-aiplatform) (0.6.0)\n",
            "Requirement already satisfied: pydantic-core==2.18.2 in /usr/local/lib/python3.10/dist-packages (from pydantic<3->google-cloud-aiplatform) (2.18.2)\n",
            "Requirement already satisfied: charset-normalizer<4,>=2 in /usr/local/lib/python3.10/dist-packages (from requests->transformers==4.27.4) (3.3.2)\n",
            "Requirement already satisfied: idna<4,>=2.5 in /usr/local/lib/python3.10/dist-packages (from requests->transformers==4.27.4) (3.7)\n",
            "Requirement already satisfied: urllib3<3,>=1.21.1 in /usr/local/lib/python3.10/dist-packages (from requests->transformers==4.27.4) (2.0.7)\n",
            "Requirement already satisfied: certifi>=2017.4.17 in /usr/local/lib/python3.10/dist-packages (from requests->transformers==4.27.4) (2024.2.2)\n",
            "Requirement already satisfied: google-auth-oauthlib<0.5,>=0.4.1 in /usr/local/lib/python3.10/dist-packages (from tensorboard<2.9,>=2.8->tensorflow==2.8.4) (0.4.6)\n",
            "Requirement already satisfied: markdown>=2.6.8 in /usr/local/lib/python3.10/dist-packages (from tensorboard<2.9,>=2.8->tensorflow==2.8.4) (3.6)\n",
            "Collecting tensorboard-data-server<0.7.0,>=0.6.0 (from tensorboard<2.9,>=2.8->tensorflow==2.8.4)\n",
            "  Downloading tensorboard_data_server-0.6.1-py3-none-manylinux2010_x86_64.whl (4.9 MB)\n",
            "\u001b[2K     \u001b[90m━━━━━━━━━━━━━━━━━━━━━━━━━━━━━━━━━━━━━━━━\u001b[0m \u001b[32m4.9/4.9 MB\u001b[0m \u001b[31m47.2 MB/s\u001b[0m eta \u001b[36m0:00:00\u001b[0m\n",
            "\u001b[?25hRequirement already satisfied: tensorboard-plugin-wit>=1.6.0 in /usr/local/lib/python3.10/dist-packages (from tensorboard<2.9,>=2.8->tensorflow==2.8.4) (1.8.1)\n",
            "Requirement already satisfied: werkzeug>=0.11.15 in /usr/local/lib/python3.10/dist-packages (from tensorboard<2.9,>=2.8->tensorflow==2.8.4) (3.0.3)\n",
            "Requirement already satisfied: tf-keras>=2.14.1 in /usr/local/lib/python3.10/dist-packages (from tensorflow-hub>=0.8.0->tensorflow-text==2.8.2) (2.15.1)\n",
            "Requirement already satisfied: requests-oauthlib>=0.7.0 in /usr/local/lib/python3.10/dist-packages (from google-auth-oauthlib<0.5,>=0.4.1->tensorboard<2.9,>=2.8->tensorflow==2.8.4) (1.3.1)\n",
            "Requirement already satisfied: google-crc32c<2.0dev,>=1.0 in /usr/local/lib/python3.10/dist-packages (from google-resumable-media<3.0dev,>=0.6.0->google-cloud-bigquery!=3.20.0,<4.0.0dev,>=1.15.0->google-cloud-aiplatform) (1.5.0)\n",
            "Requirement already satisfied: pyasn1<0.7.0,>=0.4.6 in /usr/local/lib/python3.10/dist-packages (from pyasn1-modules>=0.2.1->google-auth<3.0.0dev,>=2.14.1->google-cloud-aiplatform) (0.6.0)\n",
            "INFO: pip is looking at multiple versions of tf-keras to determine which version is compatible with other requirements. This could take a while.\n",
            "Collecting tf-keras>=2.14.1 (from tensorflow-hub>=0.8.0->tensorflow-text==2.8.2)\n",
            "  Downloading tf_keras-2.16.0-py3-none-any.whl (1.7 MB)\n",
            "\u001b[2K     \u001b[90m━━━━━━━━━━━━━━━━━━━━━━━━━━━━━━━━━━━━━━━━\u001b[0m \u001b[32m1.7/1.7 MB\u001b[0m \u001b[31m51.1 MB/s\u001b[0m eta \u001b[36m0:00:00\u001b[0m\n",
            "\u001b[?25h  Downloading tf_keras-2.15.0-py3-none-any.whl (1.7 MB)\n",
            "\u001b[2K     \u001b[90m━━━━━━━━━━━━━━━━━━━━━━━━━━━━━━━━━━━━━━━━\u001b[0m \u001b[32m1.7/1.7 MB\u001b[0m \u001b[31m22.0 MB/s\u001b[0m eta \u001b[36m0:00:00\u001b[0m\n",
            "\u001b[?25hRequirement already satisfied: MarkupSafe>=2.1.1 in /usr/local/lib/python3.10/dist-packages (from werkzeug>=0.11.15->tensorboard<2.9,>=2.8->tensorflow==2.8.4) (2.1.5)\n",
            "Requirement already satisfied: oauthlib>=3.0.0 in /usr/local/lib/python3.10/dist-packages (from requests-oauthlib>=0.7.0->google-auth-oauthlib<0.5,>=0.4.1->tensorboard<2.9,>=2.8->tensorflow==2.8.4) (3.2.2)\n",
            "Installing collected packages: tokenizers, tensorflow-estimator, keras, unidecode, tf-keras, tensorboard-data-server, python-dotenv, protobuf, keras-preprocessing, transformers, tensorboard, tensorflow, tensorflow-text\n",
            "  Attempting uninstall: tokenizers\n",
            "    Found existing installation: tokenizers 0.19.1\n",
            "    Uninstalling tokenizers-0.19.1:\n",
            "      Successfully uninstalled tokenizers-0.19.1\n",
            "  Attempting uninstall: tensorflow-estimator\n",
            "    Found existing installation: tensorflow-estimator 2.12.0\n",
            "    Uninstalling tensorflow-estimator-2.12.0:\n",
            "      Successfully uninstalled tensorflow-estimator-2.12.0\n",
            "  Attempting uninstall: keras\n",
            "    Found existing installation: keras 2.12.0\n",
            "    Uninstalling keras-2.12.0:\n",
            "      Successfully uninstalled keras-2.12.0\n",
            "  Attempting uninstall: tf-keras\n",
            "    Found existing installation: tf_keras 2.15.1\n",
            "    Uninstalling tf_keras-2.15.1:\n",
            "      Successfully uninstalled tf_keras-2.15.1\n",
            "  Attempting uninstall: tensorboard-data-server\n",
            "    Found existing installation: tensorboard-data-server 0.7.2\n",
            "    Uninstalling tensorboard-data-server-0.7.2:\n",
            "      Successfully uninstalled tensorboard-data-server-0.7.2\n",
            "  Attempting uninstall: protobuf\n",
            "    Found existing installation: protobuf 3.20.3\n",
            "    Uninstalling protobuf-3.20.3:\n",
            "      Successfully uninstalled protobuf-3.20.3\n",
            "  Attempting uninstall: transformers\n",
            "    Found existing installation: transformers 4.40.2\n",
            "    Uninstalling transformers-4.40.2:\n",
            "      Successfully uninstalled transformers-4.40.2\n",
            "  Attempting uninstall: tensorboard\n",
            "    Found existing installation: tensorboard 2.12.0\n",
            "    Uninstalling tensorboard-2.12.0:\n",
            "      Successfully uninstalled tensorboard-2.12.0\n",
            "  Attempting uninstall: tensorflow\n",
            "    Found existing installation: tensorflow 2.12.0\n",
            "    Uninstalling tensorflow-2.12.0:\n",
            "      Successfully uninstalled tensorflow-2.12.0\n",
            "\u001b[31mERROR: pip's dependency resolver does not currently take into account all the packages that are installed. This behaviour is the source of the following dependency conflicts.\n",
            "cudf-cu12 24.4.1 requires pandas<2.2.2dev0,>=2.0, but you have pandas 1.5.3 which is incompatible.\n",
            "cudf-cu12 24.4.1 requires protobuf<5,>=3.20, but you have protobuf 3.19.6 which is incompatible.\n",
            "orbax-checkpoint 0.4.4 requires jax>=0.4.9, but you have jax 0.3.25 which is incompatible.\n",
            "pandas-gbq 0.19.2 requires google-auth-oauthlib>=0.7.0, but you have google-auth-oauthlib 0.4.6 which is incompatible.\n",
            "tensorflow-datasets 4.9.4 requires protobuf>=3.20, but you have protobuf 3.19.6 which is incompatible.\n",
            "tensorflow-metadata 1.15.0 requires protobuf<4.21,>=3.20.3; python_version < \"3.11\", but you have protobuf 3.19.6 which is incompatible.\u001b[0m\u001b[31m\n",
            "\u001b[0mSuccessfully installed keras-2.8.0 keras-preprocessing-1.1.2 protobuf-3.19.6 python-dotenv-1.0.1 tensorboard-2.8.0 tensorboard-data-server-0.6.1 tensorflow-2.8.4 tensorflow-estimator-2.8.0 tensorflow-text-2.8.2 tf-keras-2.15.0 tokenizers-0.13.3 transformers-4.27.4 unidecode-1.3.6\n"
          ]
        },
        {
          "output_type": "display_data",
          "data": {
            "application/vnd.colab-display-data+json": {
              "pip_warning": {
                "packages": [
                  "google"
                ]
              },
              "id": "9a4beddfd7934d10beeb7983c2c8ed39"
            }
          },
          "metadata": {}
        }
      ],
      "source": [
        "!pip install unidecode python-dotenv Unidecode==1.3.6 google-cloud-aiplatform transformers==4.27.4 tensorflow==2.8.4 tensorflow-text==2.8.2"
      ]
    },
    {
      "cell_type": "markdown",
      "source": [
        "## libs"
      ],
      "metadata": {
        "id": "KtNRTotlNfSD"
      }
    },
    {
      "cell_type": "code",
      "source": [
        "import os\n",
        "os.environ['TF_CPP_MIN_LOG_LEVEL'] = '3'\n",
        "import pandas as pd\n",
        "import numpy as np\n",
        "import requests\n",
        "from collections import Counter\n",
        "import re\n",
        "import unidecode\n",
        "import matplotlib.pyplot as plt\n",
        "import seaborn as sns\n",
        "import time\n",
        "\n",
        "import glob\n",
        "from ast import literal_eval\n",
        "\n",
        "import io\n",
        "import math\n",
        "\n",
        "import warnings\n",
        "warnings.filterwarnings(\"ignore\")\n",
        "\n",
        "from numpy.linalg import norm\n",
        "from matplotlib import colors\n",
        "\n",
        "import pickle\n",
        "from dotenv import load_dotenv\n",
        "import json\n",
        "\n",
        "\n",
        "from password import *\n",
        "\n",
        "from vertexai.preview.language_models import TextEmbeddingModel\n",
        "os.environ['GOOGLE_APPLICATION_CREDENTIALS'] = 'automatch-309218-5f83b019f742.json'\n",
        "\n",
        "import tensorflow as tf\n",
        "from tensorflow.keras import backend as K\n",
        "from tensorflow.keras.callbacks import EarlyStopping\n",
        "from tensorflow.keras.callbacks import ModelCheckpoint\n",
        "\n",
        "from transformers import BertTokenizer, TFBertModel\n",
        "import tensorflow_text as text\n",
        "\n",
        "import warnings\n",
        "warnings.filterwarnings(\"ignore\")"
      ],
      "metadata": {
        "id": "xUlYXr1PNcLE"
      },
      "execution_count": 1,
      "outputs": []
    },
    {
      "cell_type": "markdown",
      "source": [
        "## TPU"
      ],
      "metadata": {
        "id": "kXI7fkWNOOJD"
      }
    },
    {
      "cell_type": "code",
      "source": [
        "##para configuracion TPU\n",
        "\n",
        "if os.environ['COLAB_TPU_ADDR']:\n",
        "  cluster_resolver = tf.distribute.cluster_resolver.TPUClusterResolver(tpu='')\n",
        "  tf.config.experimental_connect_to_cluster(cluster_resolver)\n",
        "  tf.tpu.experimental.initialize_tpu_system(cluster_resolver)\n",
        "  strategy = tf.distribute.TPUStrategy(cluster_resolver)\n",
        "  print('Using TPU')\n",
        "#if tf.config.list_physical_devices('GPU'):\n",
        "#  strategy = tf.distribute.MirroredStrategy()\n",
        "#  print('Using GPU')\n",
        "else:\n",
        "  raise ValueError('Running on CPU is not recommended.')"
      ],
      "metadata": {
        "colab": {
          "base_uri": "https://localhost:8080/"
        },
        "id": "NTNHucopOPTM",
        "outputId": "9e7bb43f-c769-4885-ed74-19dabf43f8ed"
      },
      "execution_count": 2,
      "outputs": [
        {
          "output_type": "stream",
          "name": "stdout",
          "text": [
            "Using TPU\n"
          ]
        }
      ]
    },
    {
      "cell_type": "markdown",
      "source": [
        "## GCP Credentials"
      ],
      "metadata": {
        "id": "7Oe2dZ_2OVNy"
      }
    },
    {
      "cell_type": "code",
      "source": [
        "project_id = 'automatch-309218'\n",
        "!gcloud config set project {project_id}\n",
        "\n",
        "!gcloud auth login\n",
        "!gcloud auth application-default login\n",
        "\n",
        "REGION = \"us-central1\"\n",
        "BUCKET_URI = 'gs://pets-match-v2-21-12-23'"
      ],
      "metadata": {
        "colab": {
          "base_uri": "https://localhost:8080/"
        },
        "id": "TxgrFyoxOXLh",
        "outputId": "64d95edf-ba7a-4236-e8fa-66b5f69c7499"
      },
      "execution_count": 3,
      "outputs": [
        {
          "output_type": "stream",
          "name": "stdout",
          "text": [
            "Updated property [core/project].\n",
            "Go to the following link in your browser, and complete the sign-in prompts:\n",
            "\n",
            "    https://accounts.google.com/o/oauth2/auth?response_type=code&client_id=32555940559.apps.googleusercontent.com&redirect_uri=https%3A%2F%2Fsdk.cloud.google.com%2Fauthcode.html&scope=openid+https%3A%2F%2Fwww.googleapis.com%2Fauth%2Fuserinfo.email+https%3A%2F%2Fwww.googleapis.com%2Fauth%2Fcloud-platform+https%3A%2F%2Fwww.googleapis.com%2Fauth%2Fappengine.admin+https%3A%2F%2Fwww.googleapis.com%2Fauth%2Fsqlservice.login+https%3A%2F%2Fwww.googleapis.com%2Fauth%2Fcompute+https%3A%2F%2Fwww.googleapis.com%2Fauth%2Faccounts.reauth&state=6lgX8VDP0hyYJGjSv1hw1WNiHp9oAS&prompt=consent&token_usage=remote&access_type=offline&code_challenge=YPHrPzJ5DwNGCXVpT-3uYYnwwFDCKH2aPwtGmA5Xv9A&code_challenge_method=S256\n",
            "\n",
            "Once finished, enter the verification code provided in your browser: 4/0AdLIrYdUscEmNfkslZWa__FSSCQt2DqcJTIl63qEDOzuBkieZpms3lYe-oFWqSAh5CO4XA\n",
            "\n",
            "You are now logged in as [ia@geti.cl].\n",
            "Your current project is [automatch-309218].  You can change this setting by running:\n",
            "  $ gcloud config set project PROJECT_ID\n",
            "\n",
            "The environment variable [GOOGLE_APPLICATION_CREDENTIALS] is set to:\n",
            "  [automatch-309218-5f83b019f742.json]\n",
            "Credentials will still be generated to the default location:\n",
            "  [/content/.config/application_default_credentials.json]\n",
            "To use these credentials, unset this environment variable before\n",
            "running your application.\n",
            "\n",
            "Do you want to continue (Y/n)?  y\n",
            "\n",
            "Go to the following link in your browser, and complete the sign-in prompts:\n",
            "\n",
            "    https://accounts.google.com/o/oauth2/auth?response_type=code&client_id=764086051850-6qr4p6gpi6hn506pt8ejuq83di341hur.apps.googleusercontent.com&redirect_uri=https%3A%2F%2Fsdk.cloud.google.com%2Fapplicationdefaultauthcode.html&scope=openid+https%3A%2F%2Fwww.googleapis.com%2Fauth%2Fuserinfo.email+https%3A%2F%2Fwww.googleapis.com%2Fauth%2Fcloud-platform+https%3A%2F%2Fwww.googleapis.com%2Fauth%2Fsqlservice.login&state=MH0DuyxP1Ag4IVKKz1ke6SctximJ2u&prompt=consent&token_usage=remote&access_type=offline&code_challenge=jXQgmqEkmDFdRZkcBpdDGGLoQ8pFo6_kbtzh6aeZ84E&code_challenge_method=S256\n",
            "\n",
            "Once finished, enter the verification code provided in your browser: 4/0AdLIrYfg717G4mAyW-h5MqZD7GMDOQPejonWetVjYbdOdbk24sgHkkbCsytNUpJL7oF6fA\n",
            "\n",
            "Credentials saved to file: [/content/.config/application_default_credentials.json]\n",
            "\n",
            "These credentials will be used by any library that requests Application Default Credentials (ADC).\n",
            "\n",
            "Quota project \"automatch-309218\" was added to ADC which can be used by Google client libraries for billing and quota. Note that some services may still bill the project owning the resource.\n"
          ]
        }
      ]
    },
    {
      "cell_type": "code",
      "source": [],
      "metadata": {
        "id": "rEIU9L2vOXvN"
      },
      "execution_count": null,
      "outputs": []
    },
    {
      "cell_type": "markdown",
      "source": [
        "## GCP Txt embedding model"
      ],
      "metadata": {
        "id": "tUM2WyY9Oncv"
      }
    },
    {
      "cell_type": "code",
      "source": [
        "embedding_model_gcp = TextEmbeddingModel.from_pretrained(\"textembedding-gecko@001\")\n",
        "\n",
        "def get_embedding_txt_gcp(text, model=embedding_model_gcp):\n",
        "    \"\"\"returns the embedding for a string using gcp embedding model\"\"\"\n",
        "    text = text.replace(\"\\n\", \" \")\n",
        "    embedding = model.get_embeddings([text])\n",
        "    embedding = embedding[0].values\n",
        "    return embedding"
      ],
      "metadata": {
        "id": "nJ3HScMmOpht"
      },
      "execution_count": 4,
      "outputs": []
    },
    {
      "cell_type": "markdown",
      "source": [
        "## Bert Modal & tokenizer"
      ],
      "metadata": {
        "id": "I1KXZKAQU12P"
      }
    },
    {
      "cell_type": "code",
      "source": [
        "#BERT multi\n",
        "\n",
        "bert_multi = 'bert-base-multilingual-uncased'\n",
        "#Loading tokenizer\n",
        "tokenizer= BertTokenizer.from_pretrained(bert_multi)\n",
        "\n",
        "MAX_LENGTH = 35"
      ],
      "metadata": {
        "id": "O65IchjhU1ko",
        "colab": {
          "base_uri": "https://localhost:8080/",
          "height": 113,
          "referenced_widgets": [
            "512a4ce13b4147759304c2e678bc243f",
            "d4ec75dd0f30439583c156218823e770",
            "491ea262df3b483c82e134c82b0efdd8",
            "378c5f76f0004d35a46fa0145049c5c7",
            "061ee24f32b345cf8c9e98cd3f0da016",
            "264b5470c7a842a6a37d74142574abf1",
            "9c62c811276a4e7987eb058e4c7adadd",
            "38609a4aae274ff3b9282488e9c74408",
            "ca9567ee7f64415b812dd35d3f6270bb",
            "d4035451fc414c88a8640ef20f095d8e",
            "13fe0400288648a99350947d0e26bc90",
            "33c58186429f40da8b28b740aafca005",
            "b8926a8e0ca742909be69777f877d6aa",
            "064145a787b5485f8d640b92133aacb8",
            "3829e537ebcc499faf53e366f94503c2",
            "0289d3df3799460c9080eb6166984616",
            "79b068093c54406cae2c698ac90b023d",
            "0adbdaceabe44e92bb67517e037d39da",
            "07e279aa244e4c2e8026e447eb1f0a57",
            "01288d82f933424e8f7722a9a237903e",
            "8f33ae41509443b7b903fbcb01d9e2ed",
            "f37a09413b0f4ac390312fcfe23245a4",
            "0aaf66a81cf046aeb7cc9bee2b5f24a1",
            "cae5580777e24aa19b0f4a5e881a0e6e",
            "c04dfb8957224c0387f7479f347bd495",
            "4fbb84eb79a54820b2f84493e211ab37",
            "ea16f18637b847b6872f2f1d81604ea4",
            "36cb2625566d4ca8a0c9f7226a67ccda",
            "6129185693e94179b16d8fc692c9701e",
            "9951a260efc6438388462f43cfdf0304",
            "eb8526717ce9409e8906f4bd5318e70f",
            "ef1b07082e2246f494992c6a73691385",
            "a9fd3e6ebc574715b6d8a6436c79d7cf"
          ]
        },
        "outputId": "60b1be38-bb14-484f-f064-b842c8910459"
      },
      "execution_count": 5,
      "outputs": [
        {
          "output_type": "display_data",
          "data": {
            "text/plain": [
              "vocab.txt:   0%|          | 0.00/872k [00:00<?, ?B/s]"
            ],
            "application/vnd.jupyter.widget-view+json": {
              "version_major": 2,
              "version_minor": 0,
              "model_id": "512a4ce13b4147759304c2e678bc243f"
            }
          },
          "metadata": {}
        },
        {
          "output_type": "display_data",
          "data": {
            "text/plain": [
              "tokenizer_config.json:   0%|          | 0.00/48.0 [00:00<?, ?B/s]"
            ],
            "application/vnd.jupyter.widget-view+json": {
              "version_major": 2,
              "version_minor": 0,
              "model_id": "33c58186429f40da8b28b740aafca005"
            }
          },
          "metadata": {}
        },
        {
          "output_type": "display_data",
          "data": {
            "text/plain": [
              "config.json:   0%|          | 0.00/625 [00:00<?, ?B/s]"
            ],
            "application/vnd.jupyter.widget-view+json": {
              "version_major": 2,
              "version_minor": 0,
              "model_id": "0aaf66a81cf046aeb7cc9bee2b5f24a1"
            }
          },
          "metadata": {}
        }
      ]
    },
    {
      "cell_type": "code",
      "source": [
        "def join_products(product_1, product_2):\n",
        "  join = [f'{p1} [SEP] {p2}' for p1,p2 in zip(product_1,product_2)]\n",
        "  return join"
      ],
      "metadata": {
        "id": "Wrzpm5QrU7j8"
      },
      "execution_count": 6,
      "outputs": []
    },
    {
      "cell_type": "markdown",
      "source": [
        "## Dataset en TF Records"
      ],
      "metadata": {
        "id": "zZDgABNgPV-b"
      }
    },
    {
      "cell_type": "code",
      "source": [
        "!gsutil cp gs://pets-match-v2-21-12-23/ds_train_hybrid_10-05-24.csv .\n",
        "!gsutil cp gs://pets-match-v2-21-12-23/ds_eval_hybrid_10-05-24.csv .\n",
        "!gsutil cp gs://pets-match-v2-21-12-23/ds_test_hybrid_10-05-24.csv .\n"
      ],
      "metadata": {
        "colab": {
          "base_uri": "https://localhost:8080/"
        },
        "id": "iU2YxIAbOqGU",
        "outputId": "abafe964-030b-4040-9584-20bd5d6b378c"
      },
      "execution_count": 7,
      "outputs": [
        {
          "output_type": "stream",
          "name": "stdout",
          "text": [
            "Copying gs://pets-match-v2-21-12-23/ds_train_hybrid_10-05-24.csv...\n",
            "- [1 files][ 50.8 MiB/ 50.8 MiB]                                                \n",
            "Operation completed over 1 objects/50.8 MiB.                                     \n",
            "Copying gs://pets-match-v2-21-12-23/ds_eval_hybrid_10-05-24.csv...\n",
            "/ [1 files][  6.3 MiB/  6.3 MiB]                                                \n",
            "Operation completed over 1 objects/6.3 MiB.                                      \n",
            "Copying gs://pets-match-v2-21-12-23/ds_test_hybrid_10-05-24.csv...\n",
            "/ [1 files][  6.3 MiB/  6.3 MiB]                                                \n",
            "Operation completed over 1 objects/6.3 MiB.                                      \n"
          ]
        }
      ]
    },
    {
      "cell_type": "code",
      "source": [
        "ds_train = pd.read_csv('ds_train_hybrid_10-05-24.csv', index_col=0)\n",
        "ds_eval = pd.read_csv('ds_eval_hybrid_10-05-24.csv', index_col=0)\n",
        "ds_test = pd.read_csv('ds_test_hybrid_10-05-24.csv', index_col=0)"
      ],
      "metadata": {
        "id": "UrEmhADuPzUh"
      },
      "execution_count": 8,
      "outputs": []
    },
    {
      "cell_type": "code",
      "source": [
        "def decode_fn2(sample, max_length=MAX_LENGTH):\n",
        "    features = {\n",
        "        \"input_ids\": tf.io.FixedLenFeature((max_length,), dtype=tf.int64),\n",
        "        \"attention_mask\": tf.io.FixedLenFeature((max_length,), dtype=tf.int64),\n",
        "        #\"token_type_ids\": tf.io.FixedLenFeature((max_length,), dtype=tf.int64),\n",
        "    }\n",
        "    labels = {\n",
        "        \"labels\": tf.io.FixedLenFeature((1,), dtype=tf.int64)\n",
        "    }\n",
        "    x = tf.io.parse_example(sample, features)\n",
        "    y = tf.io.parse_example(sample, labels)\n",
        "\n",
        "    return ((x),y)\n",
        "\n",
        "def generate_tfrecords_data(chunk_ds, chunk_labels, file_name, max_length=MAX_LENGTH ):\n",
        "  #chunk:\n",
        "  tokenized_data = tokenizer(\n",
        "      list(chunk_ds),\n",
        "      padding=\"max_length\",\n",
        "      truncation=True,\n",
        "      max_length=max_length,\n",
        "      return_tensors=\"np\",\n",
        "  )\n",
        "\n",
        "  labels = chunk_labels #already in numpy array\n",
        "\n",
        "  with tf.io.TFRecordWriter(f\"{file_name}.tfrecords\") as file_writer:\n",
        "    for i in range(len(labels)):\n",
        "        features = {\n",
        "            \"input_ids\": tf.train.Feature(\n",
        "                int64_list=tf.train.Int64List(value=tokenized_data[\"input_ids\"][i])\n",
        "            ),\n",
        "            \"attention_mask\": tf.train.Feature(\n",
        "                int64_list=tf.train.Int64List(value=tokenized_data[\"attention_mask\"][i])\n",
        "            ),\n",
        "            #\"token_type_ids\": tf.train.Feature(\n",
        "            #    int64_list=tf.train.Int64List(value=tokenized_data[\"token_type_ids\"][i])\n",
        "            #),\n",
        "            \"labels\": tf.train.Feature(\n",
        "                int64_list=tf.train.Int64List(value=[labels[i]])\n",
        "            ),\n",
        "        }\n",
        "        features = tf.train.Features(feature=features)\n",
        "        example = tf.train.Example(features=features)\n",
        "        record_bytes = example.SerializeToString()\n",
        "        file_writer.write(record_bytes)"
      ],
      "metadata": {
        "id": "ByiN6B4WVCOc"
      },
      "execution_count": 9,
      "outputs": []
    },
    {
      "cell_type": "code",
      "source": [
        "len(ds_train), len(ds_eval), len(ds_test)"
      ],
      "metadata": {
        "colab": {
          "base_uri": "https://localhost:8080/"
        },
        "id": "BbZFg0yuVrCA",
        "outputId": "69649659-a973-4e34-be50-15be1f12ea72"
      },
      "execution_count": 10,
      "outputs": [
        {
          "output_type": "execute_result",
          "data": {
            "text/plain": [
              "(470416, 58802, 58800)"
            ]
          },
          "metadata": {},
          "execution_count": 10
        }
      ]
    },
    {
      "cell_type": "code",
      "source": [
        "#TFRecordDataset can handle gs:// paths!\n",
        "\n",
        "BATCH_SIZE = 64\n",
        "tf_records_folder = 'tf_records_ds/hybrid_model_ds'\n",
        "\n",
        "ds_training = tf.data.TFRecordDataset([f\"{BUCKET_URI}/{tf_records_folder}/ds_train_hybrid_p1.tfrecords\",\n",
        "                                       f\"{BUCKET_URI}/{tf_records_folder}/ds_train_hybrid_p2.tfrecords\",\n",
        "                                       f\"{BUCKET_URI}/{tf_records_folder}/ds_train_hybrid_p3.tfrecords\"])\n",
        "\n",
        "ds_training = ds_training.map(decode_fn2)\n",
        "ds_training = ds_training.batch(BATCH_SIZE, drop_remainder=True)\n",
        "ds_training = ds_training.apply(\n",
        "    tf.data.experimental.assert_cardinality(470416 // BATCH_SIZE) #len(y_train) = 470416 ..para no cargar el set de nuevo!\n",
        ")\n",
        "\n",
        "\n",
        "ds_validating = tf.data.TFRecordDataset([f\"{BUCKET_URI}/{tf_records_folder}/ds_eval_hybrid_p1.tfrecords\",\n",
        "                                       f\"{BUCKET_URI}/{tf_records_folder}/ds_eval_hybrid_p2.tfrecords\",\n",
        "                                       f\"{BUCKET_URI}/{tf_records_folder}/ds_eval_hybrid_p3.tfrecords\"])\n",
        "\n",
        "ds_validating = ds_validating.map(decode_fn2)\n",
        "ds_validating = ds_validating.batch(BATCH_SIZE, drop_remainder=True)\n",
        "ds_validating = ds_validating.apply(\n",
        "    tf.data.experimental.assert_cardinality(58802 // BATCH_SIZE) #len(y_valid) = 58802.\n",
        ")\n",
        "\n",
        "\n",
        "ds_testing = tf.data.TFRecordDataset([f\"{BUCKET_URI}/{tf_records_folder}/ds_test_hybrid_p1.tfrecords\",\n",
        "                                       f\"{BUCKET_URI}/{tf_records_folder}/ds_test_p2.tfrecords\",\n",
        "                                       f\"{BUCKET_URI}/{tf_records_folder}/ds_test_p3.tfrecords\"])\n",
        "\n",
        "ds_testing = ds_testing.map(decode_fn2)\n",
        "ds_testing = ds_testing.batch(BATCH_SIZE, drop_remainder=True)\n",
        "#ds_testing = ds_testing.apply(\n",
        "#    tf.data.experimental.assert_cardinality(58800 // BATCH_SIZE) #len(y_testing) = 58800.\n",
        "#)"
      ],
      "metadata": {
        "id": "PL6J3YYyQBDo"
      },
      "execution_count": 11,
      "outputs": []
    },
    {
      "cell_type": "markdown",
      "source": [
        "## Training"
      ],
      "metadata": {
        "id": "V7b4nYysXhwP"
      }
    },
    {
      "cell_type": "code",
      "source": [
        "#model architecture\n",
        "\n",
        "def model_v1(model, seq_length=MAX_LENGTH):\n",
        "\n",
        "    input_ids = tf.keras.layers.Input(shape=(seq_length,), dtype=tf.int64, name=\"input_ids\")\n",
        "    attention_mask = tf.keras.layers.Input(shape=(seq_length,), dtype=tf.int64, name=\"attention_mask\")\n",
        "\n",
        "    embedding_layer = model(input_ids=input_ids, attention_mask=attention_mask)[0]\n",
        "\n",
        "    max_pool_txt = tf.keras.layers.GlobalMaxPool1D(name = 'max_pooling_txt')(embedding_layer)\n",
        "    avg_pool_txt = tf.keras.layers.GlobalAveragePooling1D(name = 'avg_pooling_txt')(embedding_layer)\n",
        "    concat_txt = tf.keras.layers.concatenate([max_pool_txt, avg_pool_txt])\n",
        "\n",
        "    batch_norm_1_txt = tf.keras.layers.BatchNormalization(name='batch_norm1_txt')(concat_txt)\n",
        "    dense_1_txt = tf.keras.layers.Dense(256, activation='relu', name='dense_1_txt')(batch_norm_1_txt)\n",
        "    batch_norm_2_txt = tf.keras.layers.BatchNormalization(name='batch_norm2_txt')(dense_1_txt)\n",
        "    dropout_1_txt = tf.keras.layers.Dropout(0.25, name='dropout_1_txt')(batch_norm_2_txt) #changed from 0.4 to 0.25\n",
        "\n",
        "    #fully connected layer\n",
        "    dense_fc = tf.keras.layers.Dense(128, activation='relu', name='dense_fc')(dropout_1_txt)\n",
        "    batch_norm_fc = tf.keras.layers.BatchNormalization(name='batch_norm_fc')(dense_fc)\n",
        "    dropout_fc = tf.keras.layers.Dropout(0.3, name='dropout_fc')(batch_norm_fc)\n",
        "\n",
        "    output = tf.keras.layers.Dense(1, activation='sigmoid', name='labels')(dropout_fc) #sigmoid instead of softmax, classes=1 :{0..1}\n",
        "\n",
        "    classif_model = tf.keras.Model(inputs=[input_ids, attention_mask], outputs=output)\n",
        "\n",
        "    return classif_model"
      ],
      "metadata": {
        "id": "BL3cA3APWljm"
      },
      "execution_count": 12,
      "outputs": []
    },
    {
      "cell_type": "code",
      "source": [
        "with strategy.scope(): # creating the model in the TPU strategy scope\n",
        "    bert_multi_model = TFBertModel.from_pretrained(bert_multi)\n",
        "    model_txt_1 = model_v1(bert_multi_model, seq_length=MAX_LENGTH)\n",
        "\n",
        "    filepath1 = 'hybrid_model_txt_v1_loss.h5'\n",
        "    filepath2 = 'hybrid_model_txt_v1_acc.h5'\n",
        "\n",
        "    #chekpoints\n",
        "    checkpoint1 = ModelCheckpoint(filepath1, monitor='val_loss', verbose=1, \\\n",
        "                                  save_best_only=True, save_weights_only=True, \\\n",
        "                                  mode='auto', save_frequency=1)\n",
        "\n",
        "    checkpoint2 = ModelCheckpoint(filepath2, monitor='val_accuracy', verbose=1, \\\n",
        "                                  save_best_only=True, save_weights_only=True, \\\n",
        "                                  mode='auto', save_frequency=1)\n",
        "\n",
        "    #checkpoint3 = ModelCheckpoint(filepath3, monitor='val_recall', verbose=1, \\\n",
        "    #                              save_best_only=True, save_weights_only=True, \\\n",
        "    #                              mode='auto', save_frequency=1)\n",
        "\n",
        "    early_stop = EarlyStopping(monitor='val_loss', patience=15)\n",
        "\n",
        "\n",
        "    #initial learning rate & optimizer\n",
        "    lr = 2e-6\n",
        "    optimizer = tf.keras.optimizers.Adam(lr)\n",
        "\n",
        "    #learning rate schedule --> for exploring the plateu when stuck in locals minimals\n",
        "    reduce_lr = tf.keras.callbacks.ReduceLROnPlateau(\n",
        "        monitor='val_loss',\n",
        "        learning_rate=lr,\n",
        "        factor=0.1,\n",
        "        patience=5,\n",
        "        verbose=1,\n",
        "        min_delta=1e-4,\n",
        "        mode='auto'\n",
        "    )\n",
        "\n",
        "    #compile model\n",
        "    model_txt_1.compile(loss = 'binary_crossentropy', optimizer= optimizer ,\n",
        "                        metrics=[\"accuracy\",\n",
        "                                 tf.keras.metrics.AUC(),\n",
        "                                 tf.keras.metrics.Precision(),\n",
        "                                 tf.keras.metrics.Recall()])"
      ],
      "metadata": {
        "colab": {
          "base_uri": "https://localhost:8080/",
          "height": 158,
          "referenced_widgets": [
            "bf6c3d657f534e1885c613d5ee99ff51",
            "cc85e4becec048bf824db17370b46e56",
            "0dd22d21431143898daec05c735396e6",
            "2da9627247e54e2ebb84ef60eae92b5c",
            "0bc79789208946a7821dbc16e59b241a",
            "708f890a828249a0b08a67d0d85c5df9",
            "bea9625f633044d3b90003d3d2fdf3bd",
            "43fb417c42b3476e8ab5a0bc07c94926",
            "1d1d9211d1c64c7aade0a0d89fe5b742",
            "16b80538857a4b84b5176787f0aaa2d7",
            "64ff4db9370948c98656241a52643c4c"
          ]
        },
        "id": "cqH2KhGbXq2O",
        "outputId": "b53e7f44-ddfa-446e-e6c1-62c03cf23d77"
      },
      "execution_count": 13,
      "outputs": [
        {
          "output_type": "display_data",
          "data": {
            "text/plain": [
              "model.safetensors:   0%|          | 0.00/672M [00:00<?, ?B/s]"
            ],
            "application/vnd.jupyter.widget-view+json": {
              "version_major": 2,
              "version_minor": 0,
              "model_id": "bf6c3d657f534e1885c613d5ee99ff51"
            }
          },
          "metadata": {}
        },
        {
          "output_type": "stream",
          "name": "stderr",
          "text": [
            "Some weights of the PyTorch model were not used when initializing the TF 2.0 model TFBertModel: ['cls.predictions.transform.dense.weight', 'cls.seq_relationship.bias', 'cls.predictions.bias', 'cls.predictions.transform.LayerNorm.weight', 'cls.seq_relationship.weight', 'cls.predictions.transform.LayerNorm.bias', 'cls.predictions.transform.dense.bias']\n",
            "- This IS expected if you are initializing TFBertModel from a PyTorch model trained on another task or with another architecture (e.g. initializing a TFBertForSequenceClassification model from a BertForPreTraining model).\n",
            "- This IS NOT expected if you are initializing TFBertModel from a PyTorch model that you expect to be exactly identical (e.g. initializing a TFBertForSequenceClassification model from a BertForSequenceClassification model).\n",
            "All the weights of TFBertModel were initialized from the PyTorch model.\n",
            "If your task is similar to the task the model of the checkpoint was trained on, you can already use TFBertModel for predictions without further training.\n"
          ]
        }
      ]
    },
    {
      "cell_type": "code",
      "source": [
        "for index,layer in enumerate(model_txt_1.layers):\n",
        "\n",
        "  if index < 3: #freeze bert layer (dont want to tune the bert weights)\n",
        "    layer.trainable = False\n",
        "\n",
        "\n",
        "  print(index, layer, layer.trainable)"
      ],
      "metadata": {
        "colab": {
          "base_uri": "https://localhost:8080/"
        },
        "id": "WFfGxnxrXqzF",
        "outputId": "d9efdc42-8542-4d26-af2e-84f80cb058b3"
      },
      "execution_count": 14,
      "outputs": [
        {
          "output_type": "stream",
          "name": "stdout",
          "text": [
            "0 <keras.engine.input_layer.InputLayer object at 0x7e7c56d51d80> False\n",
            "1 <keras.engine.input_layer.InputLayer object at 0x7e7c165c3fd0> False\n",
            "2 <transformers.models.bert.modeling_tf_bert.TFBertModel object at 0x7e7da2067f10> False\n",
            "3 <keras.layers.pooling.GlobalMaxPooling1D object at 0x7e7c16a90e50> True\n",
            "4 <keras.layers.pooling.GlobalAveragePooling1D object at 0x7e7c16adbbe0> True\n",
            "5 <keras.layers.merge.Concatenate object at 0x7e7c166ff610> True\n",
            "6 <keras.layers.normalization.batch_normalization.BatchNormalization object at 0x7e7c13e71450> True\n",
            "7 <keras.layers.core.dense.Dense object at 0x7e7c13b64040> True\n",
            "8 <keras.layers.normalization.batch_normalization.BatchNormalization object at 0x7e7c16a82fe0> True\n",
            "9 <keras.layers.core.dropout.Dropout object at 0x7e7c13f69420> True\n",
            "10 <keras.layers.core.dense.Dense object at 0x7e7c13b67850> True\n",
            "11 <keras.layers.normalization.batch_normalization.BatchNormalization object at 0x7e7c13f6bf10> True\n",
            "12 <keras.layers.core.dropout.Dropout object at 0x7e7c13b81fc0> True\n",
            "13 <keras.layers.core.dense.Dense object at 0x7e7c13b83700> True\n"
          ]
        }
      ]
    },
    {
      "cell_type": "code",
      "source": [
        "start = time.time()\n",
        "epochs = 30\n",
        "\n",
        "\n",
        "history_1 = model_txt_1.fit(ds_training,validation_data=ds_validating, epochs=epochs, callbacks=[reduce_lr,checkpoint1, checkpoint2, early_stop])\n",
        "\n",
        "end = time.time()\n",
        "total_time = end-start\n",
        "print(f'time taken to train model ({epochs} epochs): {total_time} secs')"
      ],
      "metadata": {
        "colab": {
          "base_uri": "https://localhost:8080/"
        },
        "id": "dytkGQCmZNK2",
        "outputId": "7b5f5e5a-32f7-46d9-d289-888432cd8eca"
      },
      "execution_count": 15,
      "outputs": [
        {
          "metadata": {
            "tags": null
          },
          "name": "stdout",
          "output_type": "stream",
          "text": [
            "Epoch 1/30\n"
          ]
        },
        {
          "metadata": {
            "tags": null
          },
          "name": "stderr",
          "output_type": "stream",
          "text": [
            "WARNING:tensorflow:Gradients do not exist for variables ['tf_bert_model/bert/pooler/dense/kernel:0', 'tf_bert_model/bert/pooler/dense/bias:0'] when minimizing the loss. If you're using `model.compile()`, did you forget to provide a `loss`argument?\n",
            "WARNING:tensorflow:Gradients do not exist for variables ['tf_bert_model/bert/pooler/dense/kernel:0', 'tf_bert_model/bert/pooler/dense/bias:0'] when minimizing the loss. If you're using `model.compile()`, did you forget to provide a `loss`argument?\n"
          ]
        },
        {
          "output_type": "stream",
          "name": "stdout",
          "text": [
            "7350/7350 [==============================] - ETA: 0s - loss: 0.4956 - accuracy: 0.7889 - auc: 0.8692 - precision: 0.7894 - recall: 0.7880\n",
            "Epoch 1: val_loss improved from inf to 0.24322, saving model to hybrid_model_txt_v1_loss.h5\n",
            "\n",
            "Epoch 1: val_accuracy improved from -inf to 0.90734, saving model to hybrid_model_txt_v1_acc.h5\n",
            "7350/7350 [==============================] - 750s 92ms/step - loss: 0.4956 - accuracy: 0.7889 - auc: 0.8692 - precision: 0.7894 - recall: 0.7880 - val_loss: 0.2432 - val_accuracy: 0.9073 - val_auc: 0.9665 - val_precision: 0.9345 - val_recall: 0.8761 - lr: 2.0000e-06\n",
            "Epoch 2/30\n",
            "7350/7350 [==============================] - ETA: 0s - loss: 0.3040 - accuracy: 0.8879 - auc: 0.9468 - precision: 0.8885 - recall: 0.8870\n",
            "Epoch 2: val_loss improved from 0.24322 to 0.16976, saving model to hybrid_model_txt_v1_loss.h5\n",
            "\n",
            "Epoch 2: val_accuracy improved from 0.90734 to 0.93990, saving model to hybrid_model_txt_v1_acc.h5\n",
            "7350/7350 [==============================] - 685s 93ms/step - loss: 0.3040 - accuracy: 0.8879 - auc: 0.9468 - precision: 0.8885 - recall: 0.8870 - val_loss: 0.1698 - val_accuracy: 0.9399 - val_auc: 0.9828 - val_precision: 0.9508 - val_recall: 0.9278 - lr: 2.0000e-06\n",
            "Epoch 3/30\n",
            "7350/7350 [==============================] - ETA: 0s - loss: 0.2316 - accuracy: 0.9199 - auc: 0.9673 - precision: 0.9189 - recall: 0.9211\n",
            "Epoch 3: val_loss improved from 0.16976 to 0.13781, saving model to hybrid_model_txt_v1_loss.h5\n",
            "\n",
            "Epoch 3: val_accuracy improved from 0.93990 to 0.95411, saving model to hybrid_model_txt_v1_acc.h5\n",
            "7350/7350 [==============================] - 680s 92ms/step - loss: 0.2316 - accuracy: 0.9199 - auc: 0.9673 - precision: 0.9189 - recall: 0.9211 - val_loss: 0.1378 - val_accuracy: 0.9541 - val_auc: 0.9876 - val_precision: 0.9593 - val_recall: 0.9485 - lr: 2.0000e-06\n",
            "Epoch 4/30\n",
            "7350/7350 [==============================] - ETA: 0s - loss: 0.1940 - accuracy: 0.9350 - auc: 0.9761 - precision: 0.9334 - recall: 0.9369\n",
            "Epoch 4: val_loss improved from 0.13781 to 0.11989, saving model to hybrid_model_txt_v1_loss.h5\n",
            "\n",
            "Epoch 4: val_accuracy improved from 0.95411 to 0.96087, saving model to hybrid_model_txt_v1_acc.h5\n",
            "7350/7350 [==============================] - 688s 94ms/step - loss: 0.1940 - accuracy: 0.9350 - auc: 0.9761 - precision: 0.9334 - recall: 0.9369 - val_loss: 0.1199 - val_accuracy: 0.9609 - val_auc: 0.9900 - val_precision: 0.9638 - val_recall: 0.9578 - lr: 2.0000e-06\n",
            "Epoch 5/30\n",
            "7350/7350 [==============================] - ETA: 0s - loss: 0.1680 - accuracy: 0.9442 - auc: 0.9815 - precision: 0.9425 - recall: 0.9462\n",
            "Epoch 5: val_loss improved from 0.11989 to 0.11680, saving model to hybrid_model_txt_v1_loss.h5\n",
            "\n",
            "Epoch 5: val_accuracy improved from 0.96087 to 0.96213, saving model to hybrid_model_txt_v1_acc.h5\n",
            "7350/7350 [==============================] - 686s 93ms/step - loss: 0.1680 - accuracy: 0.9442 - auc: 0.9815 - precision: 0.9425 - recall: 0.9462 - val_loss: 0.1168 - val_accuracy: 0.9621 - val_auc: 0.9910 - val_precision: 0.9744 - val_recall: 0.9492 - lr: 2.0000e-06\n",
            "Epoch 6/30\n",
            "7350/7350 [==============================] - ETA: 0s - loss: 0.1479 - accuracy: 0.9515 - auc: 0.9852 - precision: 0.9496 - recall: 0.9537\n",
            "Epoch 6: val_loss improved from 0.11680 to 0.09556, saving model to hybrid_model_txt_v1_loss.h5\n",
            "\n",
            "Epoch 6: val_accuracy improved from 0.96213 to 0.96870, saving model to hybrid_model_txt_v1_acc.h5\n",
            "7350/7350 [==============================] - 688s 94ms/step - loss: 0.1479 - accuracy: 0.9515 - auc: 0.9852 - precision: 0.9496 - recall: 0.9537 - val_loss: 0.0956 - val_accuracy: 0.9687 - val_auc: 0.9933 - val_precision: 0.9697 - val_recall: 0.9676 - lr: 2.0000e-06\n",
            "Epoch 7/30\n",
            "7350/7350 [==============================] - ETA: 0s - loss: 0.1318 - accuracy: 0.9567 - auc: 0.9881 - precision: 0.9543 - recall: 0.9593\n",
            "Epoch 7: val_loss improved from 0.09556 to 0.08658, saving model to hybrid_model_txt_v1_loss.h5\n",
            "\n",
            "Epoch 7: val_accuracy improved from 0.96870 to 0.97178, saving model to hybrid_model_txt_v1_acc.h5\n",
            "7350/7350 [==============================] - 676s 92ms/step - loss: 0.1318 - accuracy: 0.9567 - auc: 0.9881 - precision: 0.9543 - recall: 0.9593 - val_loss: 0.0866 - val_accuracy: 0.9718 - val_auc: 0.9941 - val_precision: 0.9726 - val_recall: 0.9709 - lr: 2.0000e-06\n",
            "Epoch 8/30\n",
            "7350/7350 [==============================] - ETA: 0s - loss: 0.1183 - accuracy: 0.9608 - auc: 0.9902 - precision: 0.9581 - recall: 0.9637\n",
            "Epoch 8: val_loss improved from 0.08658 to 0.08077, saving model to hybrid_model_txt_v1_loss.h5\n",
            "\n",
            "Epoch 8: val_accuracy improved from 0.97178 to 0.97457, saving model to hybrid_model_txt_v1_acc.h5\n",
            "7350/7350 [==============================] - 688s 94ms/step - loss: 0.1183 - accuracy: 0.9608 - auc: 0.9902 - precision: 0.9581 - recall: 0.9637 - val_loss: 0.0808 - val_accuracy: 0.9746 - val_auc: 0.9945 - val_precision: 0.9758 - val_recall: 0.9733 - lr: 2.0000e-06\n",
            "Epoch 9/30\n",
            "7350/7350 [==============================] - ETA: 0s - loss: 0.1066 - accuracy: 0.9650 - auc: 0.9918 - precision: 0.9623 - recall: 0.9680\n",
            "Epoch 9: val_loss improved from 0.08077 to 0.07353, saving model to hybrid_model_txt_v1_loss.h5\n",
            "\n",
            "Epoch 9: val_accuracy improved from 0.97457 to 0.97656, saving model to hybrid_model_txt_v1_acc.h5\n",
            "7350/7350 [==============================] - 683s 93ms/step - loss: 0.1066 - accuracy: 0.9650 - auc: 0.9918 - precision: 0.9623 - recall: 0.9680 - val_loss: 0.0735 - val_accuracy: 0.9766 - val_auc: 0.9950 - val_precision: 0.9756 - val_recall: 0.9775 - lr: 2.0000e-06\n",
            "Epoch 10/30\n",
            "7350/7350 [==============================] - ETA: 0s - loss: 0.0981 - accuracy: 0.9676 - auc: 0.9929 - precision: 0.9648 - recall: 0.9706\n",
            "Epoch 10: val_loss improved from 0.07353 to 0.07053, saving model to hybrid_model_txt_v1_loss.h5\n",
            "\n",
            "Epoch 10: val_accuracy improved from 0.97656 to 0.97774, saving model to hybrid_model_txt_v1_acc.h5\n",
            "7350/7350 [==============================] - 734s 100ms/step - loss: 0.0981 - accuracy: 0.9676 - auc: 0.9929 - precision: 0.9648 - recall: 0.9706 - val_loss: 0.0705 - val_accuracy: 0.9777 - val_auc: 0.9953 - val_precision: 0.9733 - val_recall: 0.9824 - lr: 2.0000e-06\n",
            "Epoch 11/30\n",
            "7350/7350 [==============================] - ETA: 0s - loss: 0.0896 - accuracy: 0.9707 - auc: 0.9939 - precision: 0.9677 - recall: 0.9739\n",
            "Epoch 11: val_loss improved from 0.07053 to 0.06888, saving model to hybrid_model_txt_v1_loss.h5\n",
            "\n",
            "Epoch 11: val_accuracy improved from 0.97774 to 0.97821, saving model to hybrid_model_txt_v1_acc.h5\n",
            "7350/7350 [==============================] - 677s 92ms/step - loss: 0.0896 - accuracy: 0.9707 - auc: 0.9939 - precision: 0.9677 - recall: 0.9739 - val_loss: 0.0689 - val_accuracy: 0.9782 - val_auc: 0.9956 - val_precision: 0.9802 - val_recall: 0.9762 - lr: 2.0000e-06\n",
            "Epoch 12/30\n",
            "7350/7350 [==============================] - ETA: 0s - loss: 0.0832 - accuracy: 0.9728 - auc: 0.9947 - precision: 0.9699 - recall: 0.9760\n",
            "Epoch 12: val_loss improved from 0.06888 to 0.06352, saving model to hybrid_model_txt_v1_loss.h5\n",
            "\n",
            "Epoch 12: val_accuracy improved from 0.97821 to 0.98029, saving model to hybrid_model_txt_v1_acc.h5\n",
            "7350/7350 [==============================] - 705s 96ms/step - loss: 0.0832 - accuracy: 0.9728 - auc: 0.9947 - precision: 0.9699 - recall: 0.9760 - val_loss: 0.0635 - val_accuracy: 0.9803 - val_auc: 0.9959 - val_precision: 0.9800 - val_recall: 0.9806 - lr: 2.0000e-06\n",
            "Epoch 13/30\n",
            "7350/7350 [==============================] - ETA: 0s - loss: 0.0775 - accuracy: 0.9742 - auc: 0.9953 - precision: 0.9713 - recall: 0.9773\n",
            "Epoch 13: val_loss improved from 0.06352 to 0.06305, saving model to hybrid_model_txt_v1_loss.h5\n",
            "\n",
            "Epoch 13: val_accuracy improved from 0.98029 to 0.98060, saving model to hybrid_model_txt_v1_acc.h5\n",
            "7350/7350 [==============================] - 722s 98ms/step - loss: 0.0775 - accuracy: 0.9742 - auc: 0.9953 - precision: 0.9713 - recall: 0.9773 - val_loss: 0.0630 - val_accuracy: 0.9806 - val_auc: 0.9960 - val_precision: 0.9841 - val_recall: 0.9770 - lr: 2.0000e-06\n",
            "Epoch 14/30\n",
            "7350/7350 [==============================] - ETA: 0s - loss: 0.0719 - accuracy: 0.9764 - auc: 0.9958 - precision: 0.9736 - recall: 0.9793\n",
            "Epoch 14: val_loss improved from 0.06305 to 0.06256, saving model to hybrid_model_txt_v1_loss.h5\n",
            "\n",
            "Epoch 14: val_accuracy improved from 0.98060 to 0.98172, saving model to hybrid_model_txt_v1_acc.h5\n",
            "7350/7350 [==============================] - 704s 96ms/step - loss: 0.0719 - accuracy: 0.9764 - auc: 0.9958 - precision: 0.9736 - recall: 0.9793 - val_loss: 0.0626 - val_accuracy: 0.9817 - val_auc: 0.9958 - val_precision: 0.9781 - val_recall: 0.9855 - lr: 2.0000e-06\n",
            "Epoch 15/30\n",
            "7350/7350 [==============================] - ETA: 0s - loss: 0.0673 - accuracy: 0.9780 - auc: 0.9963 - precision: 0.9751 - recall: 0.9810\n",
            "Epoch 15: val_loss improved from 0.06256 to 0.05914, saving model to hybrid_model_txt_v1_loss.h5\n",
            "\n",
            "Epoch 15: val_accuracy improved from 0.98172 to 0.98289, saving model to hybrid_model_txt_v1_acc.h5\n",
            "7350/7350 [==============================] - 689s 94ms/step - loss: 0.0673 - accuracy: 0.9780 - auc: 0.9963 - precision: 0.9751 - recall: 0.9810 - val_loss: 0.0591 - val_accuracy: 0.9829 - val_auc: 0.9961 - val_precision: 0.9844 - val_recall: 0.9814 - lr: 2.0000e-06\n",
            "Epoch 16/30\n",
            "7350/7350 [==============================] - ETA: 0s - loss: 0.0633 - accuracy: 0.9793 - auc: 0.9967 - precision: 0.9767 - recall: 0.9821\n",
            "Epoch 16: val_loss improved from 0.05914 to 0.05480, saving model to hybrid_model_txt_v1_loss.h5\n",
            "\n",
            "Epoch 16: val_accuracy improved from 0.98289 to 0.98409, saving model to hybrid_model_txt_v1_acc.h5\n",
            "7350/7350 [==============================] - 692s 94ms/step - loss: 0.0633 - accuracy: 0.9793 - auc: 0.9967 - precision: 0.9767 - recall: 0.9821 - val_loss: 0.0548 - val_accuracy: 0.9841 - val_auc: 0.9966 - val_precision: 0.9837 - val_recall: 0.9845 - lr: 2.0000e-06\n",
            "Epoch 17/30\n",
            "7350/7350 [==============================] - ETA: 0s - loss: 0.0603 - accuracy: 0.9802 - auc: 0.9970 - precision: 0.9780 - recall: 0.9826\n",
            "Epoch 17: val_loss improved from 0.05480 to 0.05461, saving model to hybrid_model_txt_v1_loss.h5\n",
            "\n",
            "Epoch 17: val_accuracy improved from 0.98409 to 0.98489, saving model to hybrid_model_txt_v1_acc.h5\n",
            "7350/7350 [==============================] - 706s 96ms/step - loss: 0.0603 - accuracy: 0.9802 - auc: 0.9970 - precision: 0.9780 - recall: 0.9826 - val_loss: 0.0546 - val_accuracy: 0.9849 - val_auc: 0.9962 - val_precision: 0.9820 - val_recall: 0.9878 - lr: 2.0000e-06\n",
            "Epoch 18/30\n",
            "7350/7350 [==============================] - ETA: 0s - loss: 0.0565 - accuracy: 0.9816 - auc: 0.9973 - precision: 0.9793 - recall: 0.9840\n",
            "Epoch 18: val_loss improved from 0.05461 to 0.05194, saving model to hybrid_model_txt_v1_loss.h5\n",
            "\n",
            "Epoch 18: val_accuracy improved from 0.98489 to 0.98558, saving model to hybrid_model_txt_v1_acc.h5\n",
            "7350/7350 [==============================] - 680s 92ms/step - loss: 0.0565 - accuracy: 0.9816 - auc: 0.9973 - precision: 0.9793 - recall: 0.9840 - val_loss: 0.0519 - val_accuracy: 0.9856 - val_auc: 0.9967 - val_precision: 0.9814 - val_recall: 0.9900 - lr: 2.0000e-06\n",
            "Epoch 19/30\n",
            "7350/7350 [==============================] - ETA: 0s - loss: 0.0543 - accuracy: 0.9822 - auc: 0.9974 - precision: 0.9801 - recall: 0.9845\n",
            "Epoch 19: val_loss improved from 0.05194 to 0.04899, saving model to hybrid_model_txt_v1_loss.h5\n",
            "\n",
            "Epoch 19: val_accuracy improved from 0.98558 to 0.98572, saving model to hybrid_model_txt_v1_acc.h5\n",
            "7350/7350 [==============================] - 698s 95ms/step - loss: 0.0543 - accuracy: 0.9822 - auc: 0.9974 - precision: 0.9801 - recall: 0.9845 - val_loss: 0.0490 - val_accuracy: 0.9857 - val_auc: 0.9970 - val_precision: 0.9825 - val_recall: 0.9891 - lr: 2.0000e-06\n",
            "Epoch 20/30\n",
            "7350/7350 [==============================] - ETA: 0s - loss: 0.0510 - accuracy: 0.9831 - auc: 0.9977 - precision: 0.9809 - recall: 0.9855\n",
            "Epoch 20: val_loss did not improve from 0.04899\n",
            "\n",
            "Epoch 20: val_accuracy improved from 0.98572 to 0.98623, saving model to hybrid_model_txt_v1_acc.h5\n",
            "7350/7350 [==============================] - 684s 93ms/step - loss: 0.0510 - accuracy: 0.9831 - auc: 0.9977 - precision: 0.9809 - recall: 0.9855 - val_loss: 0.0520 - val_accuracy: 0.9862 - val_auc: 0.9966 - val_precision: 0.9859 - val_recall: 0.9866 - lr: 2.0000e-06\n",
            "Epoch 21/30\n",
            "7350/7350 [==============================] - ETA: 0s - loss: 0.0487 - accuracy: 0.9839 - auc: 0.9979 - precision: 0.9818 - recall: 0.9862\n",
            "Epoch 21: val_loss did not improve from 0.04899\n",
            "\n",
            "Epoch 21: val_accuracy did not improve from 0.98623\n",
            "7350/7350 [==============================] - 666s 91ms/step - loss: 0.0487 - accuracy: 0.9839 - auc: 0.9979 - precision: 0.9818 - recall: 0.9862 - val_loss: 0.0546 - val_accuracy: 0.9850 - val_auc: 0.9968 - val_precision: 0.9846 - val_recall: 0.9854 - lr: 2.0000e-06\n",
            "Epoch 22/30\n",
            "7350/7350 [==============================] - ETA: 0s - loss: 0.0469 - accuracy: 0.9845 - auc: 0.9980 - precision: 0.9825 - recall: 0.9866\n",
            "Epoch 22: val_loss did not improve from 0.04899\n",
            "\n",
            "Epoch 22: val_accuracy did not improve from 0.98623\n",
            "7350/7350 [==============================] - 661s 90ms/step - loss: 0.0469 - accuracy: 0.9845 - auc: 0.9980 - precision: 0.9825 - recall: 0.9866 - val_loss: 0.0495 - val_accuracy: 0.9861 - val_auc: 0.9968 - val_precision: 0.9834 - val_recall: 0.9888 - lr: 2.0000e-06\n",
            "Epoch 23/30\n",
            "7350/7350 [==============================] - ETA: 0s - loss: 0.0448 - accuracy: 0.9850 - auc: 0.9981 - precision: 0.9831 - recall: 0.9871\n",
            "Epoch 23: val_loss improved from 0.04899 to 0.04768, saving model to hybrid_model_txt_v1_loss.h5\n",
            "\n",
            "Epoch 23: val_accuracy improved from 0.98623 to 0.98730, saving model to hybrid_model_txt_v1_acc.h5\n",
            "7350/7350 [==============================] - 706s 96ms/step - loss: 0.0448 - accuracy: 0.9850 - auc: 0.9981 - precision: 0.9831 - recall: 0.9871 - val_loss: 0.0477 - val_accuracy: 0.9873 - val_auc: 0.9968 - val_precision: 0.9854 - val_recall: 0.9893 - lr: 2.0000e-06\n",
            "Epoch 24/30\n",
            "7350/7350 [==============================] - ETA: 0s - loss: 0.0429 - accuracy: 0.9857 - auc: 0.9983 - precision: 0.9842 - recall: 0.9872\n",
            "Epoch 24: val_loss did not improve from 0.04768\n",
            "\n",
            "Epoch 24: val_accuracy did not improve from 0.98730\n",
            "7350/7350 [==============================] - 667s 91ms/step - loss: 0.0429 - accuracy: 0.9857 - auc: 0.9983 - precision: 0.9842 - recall: 0.9872 - val_loss: 0.0480 - val_accuracy: 0.9871 - val_auc: 0.9970 - val_precision: 0.9859 - val_recall: 0.9884 - lr: 2.0000e-06\n",
            "Epoch 25/30\n",
            "7350/7350 [==============================] - ETA: 0s - loss: 0.0423 - accuracy: 0.9857 - auc: 0.9983 - precision: 0.9842 - recall: 0.9874\n",
            "Epoch 25: val_loss improved from 0.04768 to 0.04686, saving model to hybrid_model_txt_v1_loss.h5\n",
            "\n",
            "Epoch 25: val_accuracy did not improve from 0.98730\n",
            "7350/7350 [==============================] - 677s 92ms/step - loss: 0.0423 - accuracy: 0.9857 - auc: 0.9983 - precision: 0.9842 - recall: 0.9874 - val_loss: 0.0469 - val_accuracy: 0.9864 - val_auc: 0.9974 - val_precision: 0.9863 - val_recall: 0.9864 - lr: 2.0000e-06\n",
            "Epoch 26/30\n",
            "7350/7350 [==============================] - ETA: 0s - loss: 0.0404 - accuracy: 0.9865 - auc: 0.9985 - precision: 0.9851 - recall: 0.9879\n",
            "Epoch 26: val_loss improved from 0.04686 to 0.04530, saving model to hybrid_model_txt_v1_loss.h5\n",
            "\n",
            "Epoch 26: val_accuracy improved from 0.98730 to 0.98744, saving model to hybrid_model_txt_v1_acc.h5\n",
            "7350/7350 [==============================] - 691s 94ms/step - loss: 0.0404 - accuracy: 0.9865 - auc: 0.9985 - precision: 0.9851 - recall: 0.9879 - val_loss: 0.0453 - val_accuracy: 0.9874 - val_auc: 0.9972 - val_precision: 0.9869 - val_recall: 0.9880 - lr: 2.0000e-06\n",
            "Epoch 27/30\n",
            "7350/7350 [==============================] - ETA: 0s - loss: 0.0388 - accuracy: 0.9868 - auc: 0.9986 - precision: 0.9854 - recall: 0.9882\n",
            "Epoch 27: val_loss did not improve from 0.04530\n",
            "\n",
            "Epoch 27: val_accuracy did not improve from 0.98744\n",
            "7350/7350 [==============================] - 671s 91ms/step - loss: 0.0388 - accuracy: 0.9868 - auc: 0.9986 - precision: 0.9854 - recall: 0.9882 - val_loss: 0.0470 - val_accuracy: 0.9863 - val_auc: 0.9971 - val_precision: 0.9867 - val_recall: 0.9859 - lr: 2.0000e-06\n",
            "Epoch 28/30\n",
            "7350/7350 [==============================] - ETA: 0s - loss: 0.0378 - accuracy: 0.9870 - auc: 0.9987 - precision: 0.9857 - recall: 0.9884\n",
            "Epoch 28: val_loss did not improve from 0.04530\n",
            "\n",
            "Epoch 28: val_accuracy improved from 0.98744 to 0.98849, saving model to hybrid_model_txt_v1_acc.h5\n",
            "7350/7350 [==============================] - 703s 96ms/step - loss: 0.0378 - accuracy: 0.9870 - auc: 0.9987 - precision: 0.9857 - recall: 0.9884 - val_loss: 0.0465 - val_accuracy: 0.9885 - val_auc: 0.9971 - val_precision: 0.9853 - val_recall: 0.9918 - lr: 2.0000e-06\n",
            "Epoch 29/30\n",
            "7350/7350 [==============================] - ETA: 0s - loss: 0.0364 - accuracy: 0.9875 - auc: 0.9987 - precision: 0.9861 - recall: 0.9888\n",
            "Epoch 29: val_loss improved from 0.04530 to 0.04508, saving model to hybrid_model_txt_v1_loss.h5\n",
            "\n",
            "Epoch 29: val_accuracy did not improve from 0.98849\n",
            "7350/7350 [==============================] - 689s 94ms/step - loss: 0.0364 - accuracy: 0.9875 - auc: 0.9987 - precision: 0.9861 - recall: 0.9888 - val_loss: 0.0451 - val_accuracy: 0.9876 - val_auc: 0.9972 - val_precision: 0.9862 - val_recall: 0.9890 - lr: 2.0000e-06\n",
            "Epoch 30/30\n",
            "7350/7350 [==============================] - ETA: 0s - loss: 0.0350 - accuracy: 0.9879 - auc: 0.9988 - precision: 0.9867 - recall: 0.9891\n",
            "Epoch 30: val_loss did not improve from 0.04508\n",
            "\n",
            "Epoch 30: val_accuracy did not improve from 0.98849\n",
            "7350/7350 [==============================] - 669s 91ms/step - loss: 0.0350 - accuracy: 0.9879 - auc: 0.9988 - precision: 0.9867 - recall: 0.9891 - val_loss: 0.0532 - val_accuracy: 0.9869 - val_auc: 0.9966 - val_precision: 0.9882 - val_recall: 0.9855 - lr: 2.0000e-06\n",
            "time taken to train model (30 epochs): 20743.582286834717 secs\n"
          ]
        }
      ]
    },
    {
      "cell_type": "code",
      "source": [
        "20743.58/3600"
      ],
      "metadata": {
        "colab": {
          "base_uri": "https://localhost:8080/"
        },
        "id": "2N-amzkda_T5",
        "outputId": "be52eeae-d48d-4923-d0f2-a2fd7fcbf955"
      },
      "execution_count": 20,
      "outputs": [
        {
          "output_type": "execute_result",
          "data": {
            "text/plain": [
              "5.762105555555556"
            ]
          },
          "metadata": {},
          "execution_count": 20
        }
      ]
    },
    {
      "cell_type": "markdown",
      "source": [
        "## Evaluating"
      ],
      "metadata": {
        "id": "_CckDXxNZt3v"
      }
    },
    {
      "cell_type": "code",
      "source": [
        "loss_and_acc = {}\n",
        "loss_and_acc['loss'] = history_1.history['loss']\n",
        "loss_and_acc['val_loss'] = history_1.history['val_loss']\n",
        "loss_and_acc['accuracy'] = history_1.history['accuracy']\n",
        "loss_and_acc['val_accuracy'] = history_1.history['val_accuracy']\n",
        "\n",
        "df_metrics_1 = pd.DataFrame(loss_and_acc)\n",
        "df_metrics_1.plot(figsize=(8,5))\n",
        "plt.grid(True)\n",
        "plt.gca().set_ylim(0,1)\n",
        "plt.show()"
      ],
      "metadata": {
        "id": "xckqMLPEZqGV",
        "colab": {
          "base_uri": "https://localhost:8080/",
          "height": 451
        },
        "outputId": "4a5b1e9d-9235-4abf-c2c5-337f35609a31"
      },
      "execution_count": 16,
      "outputs": [
        {
          "output_type": "display_data",
          "data": {
            "text/plain": [
              "<Figure size 800x500 with 1 Axes>"
            ],
            "image/png": "[encoded data removed]"
          },
          "metadata": {}
        }
      ]
    },
    {
      "cell_type": "code",
      "source": [
        "precision_recall = {}\n",
        "precision_recall['auc'] = history_1.history['auc']\n",
        "precision_recall['val_auc'] = history_1.history['val_auc']\n",
        "precision_recall['precision'] = history_1.history['precision']\n",
        "precision_recall['val_precision'] = history_1.history['val_precision']\n",
        "precision_recall['recall'] = history_1.history['recall']\n",
        "precision_recall['val_recall'] = history_1.history['val_recall']\n",
        "\n",
        "df_metrics_2 = pd.DataFrame(precision_recall)\n",
        "df_metrics_2.plot(figsize=(8,5))\n",
        "plt.grid(True)\n",
        "plt.gca().set_ylim(0.8,1)\n",
        "plt.show()"
      ],
      "metadata": {
        "id": "MCguQj5AZ0Nf",
        "colab": {
          "base_uri": "https://localhost:8080/",
          "height": 451
        },
        "outputId": "970b092b-f856-4c3c-ea9e-e4dbf6a6090d"
      },
      "execution_count": 17,
      "outputs": [
        {
          "output_type": "display_data",
          "data": {
            "text/plain": [
              "<Figure size 800x500 with 1 Axes>"
            ],
            "image/png": "[encoded data removed]"
          },
          "metadata": {}
        }
      ]
    },
    {
      "cell_type": "code",
      "source": [
        "#evaluate\n",
        "model_txt_1.evaluate(ds_testing)"
      ],
      "metadata": {
        "id": "zWADX3awaFnc",
        "colab": {
          "base_uri": "https://localhost:8080/"
        },
        "outputId": "07cec099-b27b-4e5c-a182-f99b38a6e3b3"
      },
      "execution_count": 18,
      "outputs": [
        {
          "output_type": "stream",
          "name": "stdout",
          "text": [
            "306/306 [==============================] - 14s 31ms/step - loss: 0.0589 - accuracy: 0.9865 - auc: 0.9960 - precision: 0.9876 - recall: 0.9853\n"
          ]
        },
        {
          "output_type": "execute_result",
          "data": {
            "text/plain": [
              "[0.058868732303380966,\n",
              " 0.9864685535430908,\n",
              " 0.9959835410118103,\n",
              " 0.9875948429107666,\n",
              " 0.9852715730667114]"
            ]
          },
          "metadata": {},
          "execution_count": 18
        }
      ]
    },
    {
      "cell_type": "code",
      "source": [
        "models_folder = 'models_checkpoints'\n",
        "!gsutil cp /content/hybrid_model_txt_v1_acc.h5 {BUCKET_URI}/{models_folder}\n",
        "!gsutil cp /content/hybrid_model_txt_v1_loss.h5 {BUCKET_URI}/{models_folder}"
      ],
      "metadata": {
        "id": "v-ZHMJvUaH_k",
        "colab": {
          "base_uri": "https://localhost:8080/"
        },
        "outputId": "069ad9a2-ae68-438f-9483-92777df818ba"
      },
      "execution_count": 19,
      "outputs": [
        {
          "output_type": "stream",
          "name": "stdout",
          "text": [
            "Copying file:///content/hybrid_model_txt_v1_acc.h5 [Content-Type=application/x-hdf5]...\n",
            "/ [0 files][    0.0 B/640.4 MiB]                                                \r==> NOTE: You are uploading one or more large file(s), which would run\n",
            "significantly faster if you enable parallel composite uploads. This\n",
            "feature can be enabled by editing the\n",
            "\"parallel_composite_upload_threshold\" value in your .boto\n",
            "configuration file. However, note that if you do this large files will\n",
            "be uploaded as `composite objects\n",
            "<https://cloud.google.com/storage/docs/composite-objects>`_,which\n",
            "means that any user who downloads such objects will need to have a\n",
            "compiled crcmod installed (see \"gsutil help crcmod\"). This is because\n",
            "without a compiled crcmod, computing checksums on composite objects is\n",
            "so slow that gsutil disables downloads of composite objects.\n",
            "\n",
            "/\n",
            "Operation completed over 1 objects/640.4 MiB.                                    \n",
            "Copying file:///content/hybrid_model_txt_v1_loss.h5 [Content-Type=application/x-hdf5]...\n",
            "==> NOTE: You are uploading one or more large file(s), which would run\n",
            "significantly faster if you enable parallel composite uploads. This\n",
            "feature can be enabled by editing the\n",
            "\"parallel_composite_upload_threshold\" value in your .boto\n",
            "configuration file. However, note that if you do this large files will\n",
            "be uploaded as `composite objects\n",
            "<https://cloud.google.com/storage/docs/composite-objects>`_,which\n",
            "means that any user who downloads such objects will need to have a\n",
            "compiled crcmod installed (see \"gsutil help crcmod\"). This is because\n",
            "without a compiled crcmod, computing checksums on composite objects is\n",
            "so slow that gsutil disables downloads of composite objects.\n",
            "\n",
            "- [1 files][640.4 MiB/640.4 MiB]                                                \n",
            "Operation completed over 1 objects/640.4 MiB.                                    \n"
          ]
        }
      ]
    },
    {
      "cell_type": "code",
      "source": [],
      "metadata": {
        "id": "_CiLeZmtaicI"
      },
      "execution_count": null,
      "outputs": []
    }
  ]
}